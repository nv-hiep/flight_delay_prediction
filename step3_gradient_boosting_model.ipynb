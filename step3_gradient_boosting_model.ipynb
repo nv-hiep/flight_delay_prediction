{
  "nbformat": 4,
  "nbformat_minor": 0,
  "metadata": {
    "colab": {
      "name": "step3_gradient_boosting_model.ipynb",
      "provenance": [],
      "collapsed_sections": [],
      "authorship_tag": "ABX9TyPYgmMKYl49EMLXZdDHlrQX",
      "include_colab_link": true
    },
    "kernelspec": {
      "name": "python3",
      "display_name": "Python 3"
    },
    "accelerator": "TPU"
  },
  "cells": [
    {
      "cell_type": "markdown",
      "metadata": {
        "id": "view-in-github",
        "colab_type": "text"
      },
      "source": [
        "<a href=\"https://colab.research.google.com/github/nv-hiep/flight_delay_prediction/blob/master/step3_gradient_boosting_model.ipynb\" target=\"_parent\"><img src=\"https://colab.research.google.com/assets/colab-badge.svg\" alt=\"Open In Colab\"/></a>"
      ]
    },
    {
      "cell_type": "markdown",
      "metadata": {
        "id": "XNptZpGaux2I"
      },
      "source": [
        "**Step 3: Gradient Boosting Model**"
      ]
    },
    {
      "cell_type": "markdown",
      "metadata": {
        "id": "sj3eAw1OXOnB"
      },
      "source": [
        "**Connect and authorize google drive with google colab:**"
      ]
    },
    {
      "cell_type": "code",
      "metadata": {
        "id": "PjjcQSpya_FR",
        "colab": {
          "base_uri": "https://localhost:8080/"
        },
        "outputId": "4a6c5918-e3c5-4d06-9110-6334cbe607ef"
      },
      "source": [
        "from google.colab import drive\n",
        "drive.mount('/content/gdrive')\n",
        "# !ls"
      ],
      "execution_count": null,
      "outputs": [
        {
          "output_type": "stream",
          "text": [
            "Drive already mounted at /content/gdrive; to attempt to forcibly remount, call drive.mount(\"/content/gdrive\", force_remount=True).\n"
          ],
          "name": "stdout"
        }
      ]
    },
    {
      "cell_type": "markdown",
      "metadata": {
        "id": "BDJptlLBvSlN"
      },
      "source": [
        "# 1. Import Libraries\n",
        "\n"
      ]
    },
    {
      "cell_type": "code",
      "metadata": {
        "id": "M3cWo7hhc-qO"
      },
      "source": [
        "import os\n",
        "import numpy   as np\n",
        "import pandas  as pd\n",
        "import seaborn as sns\n",
        "\n",
        "import matplotlib.pyplot as plt\n",
        "plt.style.use('fivethirtyeight')\n",
        "\n",
        "%matplotlib inline  "
      ],
      "execution_count": null,
      "outputs": []
    },
    {
      "cell_type": "code",
      "metadata": {
        "id": "9z2_TJyNuAxA"
      },
      "source": [
        "from sklearn.compose import make_column_transformer, ColumnTransformer\n",
        "from sklearn.preprocessing import OneHotEncoder, StandardScaler, PolynomialFeatures, PowerTransformer\n",
        "from sklearn.linear_model import LogisticRegression\n",
        "from sklearn.pipeline import make_pipeline\n",
        "from sklearn.model_selection import cross_val_score\n",
        "from sklearn.feature_selection import RFE, RFECV\n",
        "from sklearn.ensemble import GradientBoostingClassifier\n",
        "from sklearn.preprocessing import StandardScaler\n",
        "from sklearn.pipeline import Pipeline\n",
        "\n",
        "from sklearn.model_selection import train_test_split, GridSearchCV, StratifiedKFold, KFold\n",
        "\n",
        "from sklearn.metrics import precision_score, recall_score, f1_score, accuracy_score, roc_auc_score, mean_squared_error, r2_score\n",
        "from sklearn.metrics import confusion_matrix, roc_curve, classification_report\n",
        "\n",
        "from sklearn.neighbors import KNeighborsClassifier\n",
        "from collections import defaultdict\n",
        "\n",
        "from sklearn.naive_bayes import GaussianNB\n",
        "from sklearn.tree import DecisionTreeClassifier\n",
        "from sklearn.ensemble import RandomForestClassifier, RandomForestRegressor"
      ],
      "execution_count": null,
      "outputs": []
    },
    {
      "cell_type": "code",
      "metadata": {
        "id": "KOo5yJuugwee"
      },
      "source": [
        "from hyperopt import fmin, hp, tpe, Trials, space_eval\n",
        "from hyperopt.pyll import scope as ho_scope\n",
        "from hyperopt.pyll.stochastic import sample as ho_sample\n",
        "\n",
        "from hyperopt import fmin, hp, tpe, Trials, space_eval, STATUS_OK\n",
        "from functools import partial\n",
        "\n",
        "from sklearn.svm import SVC\n",
        "\n",
        "from sklearn import datasets\n",
        "from sklearn.utils import shuffle"
      ],
      "execution_count": null,
      "outputs": []
    },
    {
      "cell_type": "markdown",
      "metadata": {
        "id": "FgfeZe4ivlpb"
      },
      "source": [
        "# 2. Data directory"
      ]
    },
    {
      "cell_type": "code",
      "metadata": {
        "id": "Z9d185J9_xQZ",
        "colab": {
          "base_uri": "https://localhost:8080/"
        },
        "outputId": "fb77cd75-2ef7-414b-c8a6-f6b865800c3f"
      },
      "source": [
        "data_dir = '/content/gdrive/My Drive/data'\n",
        "%cd '/content/gdrive/My Drive/data'\n",
        "\n",
        "current_dir = os.getcwd()\n",
        "print(current_dir)\n",
        "data_path = os.path.join(data_dir, 'flights', '')\n",
        "print(data_path)"
      ],
      "execution_count": null,
      "outputs": [
        {
          "output_type": "stream",
          "text": [
            "/content/gdrive/My Drive/data\n",
            "/content/gdrive/My Drive/data\n",
            "/content/gdrive/My Drive/data/flights/\n"
          ],
          "name": "stdout"
        }
      ]
    },
    {
      "cell_type": "markdown",
      "metadata": {
        "id": "qQWESb2L2DXG"
      },
      "source": [
        "# 3. Read data"
      ]
    },
    {
      "cell_type": "code",
      "metadata": {
        "id": "4NHnKMOvZtFZ",
        "colab": {
          "base_uri": "https://localhost:8080/",
          "height": 224
        },
        "outputId": "5652b01a-bdb6-46cf-93e7-3578941c2017"
      },
      "source": [
        "# Read clean sub-data from csv\n",
        "df_sub = pd.read_csv( os.path.join(data_path, 'cleaned_data_jan_20klines.csv') )\n",
        "df_sub.tail()"
      ],
      "execution_count": null,
      "outputs": [
        {
          "output_type": "execute_result",
          "data": {
            "text/html": [
              "<div>\n",
              "<style scoped>\n",
              "    .dataframe tbody tr th:only-of-type {\n",
              "        vertical-align: middle;\n",
              "    }\n",
              "\n",
              "    .dataframe tbody tr th {\n",
              "        vertical-align: top;\n",
              "    }\n",
              "\n",
              "    .dataframe thead th {\n",
              "        text-align: right;\n",
              "    }\n",
              "</style>\n",
              "<table border=\"1\" class=\"dataframe\">\n",
              "  <thead>\n",
              "    <tr style=\"text-align: right;\">\n",
              "      <th></th>\n",
              "      <th>DAY_OF_MONTH</th>\n",
              "      <th>DAY_OF_WEEK</th>\n",
              "      <th>OP_UNIQUE_CARRIER</th>\n",
              "      <th>TAIL_NUM</th>\n",
              "      <th>OP_CARRIER_FL_NUM</th>\n",
              "      <th>ORIGIN</th>\n",
              "      <th>DEST</th>\n",
              "      <th>DEP_TIME</th>\n",
              "      <th>TAXI_OUT</th>\n",
              "      <th>TAXI_IN</th>\n",
              "      <th>DISTANCE</th>\n",
              "      <th>CARRIER_DELAY</th>\n",
              "      <th>WEATHER_DELAY</th>\n",
              "      <th>NAS_DELAY</th>\n",
              "      <th>SECURITY_DELAY</th>\n",
              "      <th>LATE_AIRCRAFT_DELAY</th>\n",
              "      <th>DELAYED</th>\n",
              "    </tr>\n",
              "  </thead>\n",
              "  <tbody>\n",
              "    <tr>\n",
              "      <th>19995</th>\n",
              "      <td>8</td>\n",
              "      <td>7</td>\n",
              "      <td>11</td>\n",
              "      <td>695</td>\n",
              "      <td>5175</td>\n",
              "      <td>261</td>\n",
              "      <td>180</td>\n",
              "      <td>16.73</td>\n",
              "      <td>17.0</td>\n",
              "      <td>5.0</td>\n",
              "      <td>1855.0</td>\n",
              "      <td>11.0</td>\n",
              "      <td>0.0</td>\n",
              "      <td>0.0</td>\n",
              "      <td>0.0</td>\n",
              "      <td>84.0</td>\n",
              "      <td>3</td>\n",
              "    </tr>\n",
              "    <tr>\n",
              "      <th>19996</th>\n",
              "      <td>8</td>\n",
              "      <td>7</td>\n",
              "      <td>11</td>\n",
              "      <td>3050</td>\n",
              "      <td>4738</td>\n",
              "      <td>261</td>\n",
              "      <td>188</td>\n",
              "      <td>9.48</td>\n",
              "      <td>31.0</td>\n",
              "      <td>5.0</td>\n",
              "      <td>1845.0</td>\n",
              "      <td>0.0</td>\n",
              "      <td>0.0</td>\n",
              "      <td>0.0</td>\n",
              "      <td>0.0</td>\n",
              "      <td>0.0</td>\n",
              "      <td>1</td>\n",
              "    </tr>\n",
              "    <tr>\n",
              "      <th>19997</th>\n",
              "      <td>8</td>\n",
              "      <td>7</td>\n",
              "      <td>11</td>\n",
              "      <td>4131</td>\n",
              "      <td>2498</td>\n",
              "      <td>261</td>\n",
              "      <td>223</td>\n",
              "      <td>13.98</td>\n",
              "      <td>16.0</td>\n",
              "      <td>4.0</td>\n",
              "      <td>651.0</td>\n",
              "      <td>0.0</td>\n",
              "      <td>0.0</td>\n",
              "      <td>0.0</td>\n",
              "      <td>0.0</td>\n",
              "      <td>38.0</td>\n",
              "      <td>2</td>\n",
              "    </tr>\n",
              "    <tr>\n",
              "      <th>19998</th>\n",
              "      <td>8</td>\n",
              "      <td>7</td>\n",
              "      <td>11</td>\n",
              "      <td>3754</td>\n",
              "      <td>3226</td>\n",
              "      <td>261</td>\n",
              "      <td>223</td>\n",
              "      <td>20.70</td>\n",
              "      <td>14.0</td>\n",
              "      <td>4.0</td>\n",
              "      <td>651.0</td>\n",
              "      <td>0.0</td>\n",
              "      <td>0.0</td>\n",
              "      <td>0.0</td>\n",
              "      <td>0.0</td>\n",
              "      <td>136.0</td>\n",
              "      <td>4</td>\n",
              "    </tr>\n",
              "    <tr>\n",
              "      <th>19999</th>\n",
              "      <td>8</td>\n",
              "      <td>7</td>\n",
              "      <td>11</td>\n",
              "      <td>743</td>\n",
              "      <td>4798</td>\n",
              "      <td>261</td>\n",
              "      <td>223</td>\n",
              "      <td>8.35</td>\n",
              "      <td>17.0</td>\n",
              "      <td>4.0</td>\n",
              "      <td>651.0</td>\n",
              "      <td>0.0</td>\n",
              "      <td>0.0</td>\n",
              "      <td>0.0</td>\n",
              "      <td>0.0</td>\n",
              "      <td>0.0</td>\n",
              "      <td>0</td>\n",
              "    </tr>\n",
              "  </tbody>\n",
              "</table>\n",
              "</div>"
            ],
            "text/plain": [
              "       DAY_OF_MONTH  DAY_OF_WEEK  ...  LATE_AIRCRAFT_DELAY  DELAYED\n",
              "19995             8            7  ...                 84.0        3\n",
              "19996             8            7  ...                  0.0        1\n",
              "19997             8            7  ...                 38.0        2\n",
              "19998             8            7  ...                136.0        4\n",
              "19999             8            7  ...                  0.0        0\n",
              "\n",
              "[5 rows x 17 columns]"
            ]
          },
          "metadata": {
            "tags": []
          },
          "execution_count": 6
        }
      ]
    },
    {
      "cell_type": "code",
      "metadata": {
        "id": "N8L784JI2OEe",
        "colab": {
          "base_uri": "https://localhost:8080/"
        },
        "outputId": "332dc30a-9960-4115-c575-6b9a17379e80"
      },
      "source": [
        "# Checking the null values\n",
        "df_sub.isnull().sum()"
      ],
      "execution_count": null,
      "outputs": [
        {
          "output_type": "execute_result",
          "data": {
            "text/plain": [
              "DAY_OF_MONTH           0\n",
              "DAY_OF_WEEK            0\n",
              "OP_UNIQUE_CARRIER      0\n",
              "TAIL_NUM               0\n",
              "OP_CARRIER_FL_NUM      0\n",
              "ORIGIN                 0\n",
              "DEST                   0\n",
              "DEP_TIME               0\n",
              "TAXI_OUT               0\n",
              "TAXI_IN                0\n",
              "DISTANCE               0\n",
              "CARRIER_DELAY          0\n",
              "WEATHER_DELAY          0\n",
              "NAS_DELAY              0\n",
              "SECURITY_DELAY         0\n",
              "LATE_AIRCRAFT_DELAY    0\n",
              "DELAYED                0\n",
              "dtype: int64"
            ]
          },
          "metadata": {
            "tags": []
          },
          "execution_count": 7
        }
      ]
    },
    {
      "cell_type": "code",
      "metadata": {
        "id": "F5Lthnuh_nrk",
        "colab": {
          "base_uri": "https://localhost:8080/"
        },
        "outputId": "96fb76b5-069d-4763-a043-be9c5a96f542"
      },
      "source": [
        "df_sub.dtypes"
      ],
      "execution_count": null,
      "outputs": [
        {
          "output_type": "execute_result",
          "data": {
            "text/plain": [
              "DAY_OF_MONTH             int64\n",
              "DAY_OF_WEEK              int64\n",
              "OP_UNIQUE_CARRIER        int64\n",
              "TAIL_NUM                 int64\n",
              "OP_CARRIER_FL_NUM        int64\n",
              "ORIGIN                   int64\n",
              "DEST                     int64\n",
              "DEP_TIME               float64\n",
              "TAXI_OUT               float64\n",
              "TAXI_IN                float64\n",
              "DISTANCE               float64\n",
              "CARRIER_DELAY          float64\n",
              "WEATHER_DELAY          float64\n",
              "NAS_DELAY              float64\n",
              "SECURITY_DELAY         float64\n",
              "LATE_AIRCRAFT_DELAY    float64\n",
              "DELAYED                  int64\n",
              "dtype: object"
            ]
          },
          "metadata": {
            "tags": []
          },
          "execution_count": 8
        }
      ]
    },
    {
      "cell_type": "code",
      "metadata": {
        "id": "lvGpIfLc2c7m",
        "colab": {
          "base_uri": "https://localhost:8080/"
        },
        "outputId": "57a0b20e-652d-4164-c5d4-3667913833f4"
      },
      "source": [
        "df_sub.columns"
      ],
      "execution_count": null,
      "outputs": [
        {
          "output_type": "execute_result",
          "data": {
            "text/plain": [
              "Index(['DAY_OF_MONTH', 'DAY_OF_WEEK', 'OP_UNIQUE_CARRIER', 'TAIL_NUM',\n",
              "       'OP_CARRIER_FL_NUM', 'ORIGIN', 'DEST', 'DEP_TIME', 'TAXI_OUT',\n",
              "       'TAXI_IN', 'DISTANCE', 'CARRIER_DELAY', 'WEATHER_DELAY', 'NAS_DELAY',\n",
              "       'SECURITY_DELAY', 'LATE_AIRCRAFT_DELAY', 'DELAYED'],\n",
              "      dtype='object')"
            ]
          },
          "metadata": {
            "tags": []
          },
          "execution_count": 9
        }
      ]
    },
    {
      "cell_type": "code",
      "metadata": {
        "id": "7T16wSrJy_Hb",
        "colab": {
          "base_uri": "https://localhost:8080/",
          "height": 224
        },
        "outputId": "c7b3cf44-171e-413a-cc61-830914954519"
      },
      "source": [
        "df_sub.head()"
      ],
      "execution_count": null,
      "outputs": [
        {
          "output_type": "execute_result",
          "data": {
            "text/html": [
              "<div>\n",
              "<style scoped>\n",
              "    .dataframe tbody tr th:only-of-type {\n",
              "        vertical-align: middle;\n",
              "    }\n",
              "\n",
              "    .dataframe tbody tr th {\n",
              "        vertical-align: top;\n",
              "    }\n",
              "\n",
              "    .dataframe thead th {\n",
              "        text-align: right;\n",
              "    }\n",
              "</style>\n",
              "<table border=\"1\" class=\"dataframe\">\n",
              "  <thead>\n",
              "    <tr style=\"text-align: right;\">\n",
              "      <th></th>\n",
              "      <th>DAY_OF_MONTH</th>\n",
              "      <th>DAY_OF_WEEK</th>\n",
              "      <th>OP_UNIQUE_CARRIER</th>\n",
              "      <th>TAIL_NUM</th>\n",
              "      <th>OP_CARRIER_FL_NUM</th>\n",
              "      <th>ORIGIN</th>\n",
              "      <th>DEST</th>\n",
              "      <th>DEP_TIME</th>\n",
              "      <th>TAXI_OUT</th>\n",
              "      <th>TAXI_IN</th>\n",
              "      <th>DISTANCE</th>\n",
              "      <th>CARRIER_DELAY</th>\n",
              "      <th>WEATHER_DELAY</th>\n",
              "      <th>NAS_DELAY</th>\n",
              "      <th>SECURITY_DELAY</th>\n",
              "      <th>LATE_AIRCRAFT_DELAY</th>\n",
              "      <th>DELAYED</th>\n",
              "    </tr>\n",
              "  </thead>\n",
              "  <tbody>\n",
              "    <tr>\n",
              "      <th>0</th>\n",
              "      <td>16</td>\n",
              "      <td>1</td>\n",
              "      <td>0</td>\n",
              "      <td>1373</td>\n",
              "      <td>2186</td>\n",
              "      <td>76</td>\n",
              "      <td>234</td>\n",
              "      <td>9.22</td>\n",
              "      <td>26.0</td>\n",
              "      <td>5.0</td>\n",
              "      <td>1126.0</td>\n",
              "      <td>0.0</td>\n",
              "      <td>0.0</td>\n",
              "      <td>0.0</td>\n",
              "      <td>0.0</td>\n",
              "      <td>0.0</td>\n",
              "      <td>1</td>\n",
              "    </tr>\n",
              "    <tr>\n",
              "      <th>1</th>\n",
              "      <td>17</td>\n",
              "      <td>2</td>\n",
              "      <td>0</td>\n",
              "      <td>1258</td>\n",
              "      <td>2186</td>\n",
              "      <td>76</td>\n",
              "      <td>234</td>\n",
              "      <td>9.07</td>\n",
              "      <td>31.0</td>\n",
              "      <td>4.0</td>\n",
              "      <td>1126.0</td>\n",
              "      <td>0.0</td>\n",
              "      <td>0.0</td>\n",
              "      <td>0.0</td>\n",
              "      <td>0.0</td>\n",
              "      <td>0.0</td>\n",
              "      <td>0</td>\n",
              "    </tr>\n",
              "    <tr>\n",
              "      <th>2</th>\n",
              "      <td>18</td>\n",
              "      <td>3</td>\n",
              "      <td>0</td>\n",
              "      <td>1252</td>\n",
              "      <td>2186</td>\n",
              "      <td>76</td>\n",
              "      <td>234</td>\n",
              "      <td>9.13</td>\n",
              "      <td>44.0</td>\n",
              "      <td>5.0</td>\n",
              "      <td>1126.0</td>\n",
              "      <td>0.0</td>\n",
              "      <td>0.0</td>\n",
              "      <td>0.0</td>\n",
              "      <td>0.0</td>\n",
              "      <td>0.0</td>\n",
              "      <td>1</td>\n",
              "    </tr>\n",
              "    <tr>\n",
              "      <th>3</th>\n",
              "      <td>19</td>\n",
              "      <td>4</td>\n",
              "      <td>0</td>\n",
              "      <td>1477</td>\n",
              "      <td>2186</td>\n",
              "      <td>76</td>\n",
              "      <td>234</td>\n",
              "      <td>9.08</td>\n",
              "      <td>41.0</td>\n",
              "      <td>8.0</td>\n",
              "      <td>1126.0</td>\n",
              "      <td>0.0</td>\n",
              "      <td>0.0</td>\n",
              "      <td>29.0</td>\n",
              "      <td>0.0</td>\n",
              "      <td>0.0</td>\n",
              "      <td>1</td>\n",
              "    </tr>\n",
              "    <tr>\n",
              "      <th>4</th>\n",
              "      <td>20</td>\n",
              "      <td>5</td>\n",
              "      <td>0</td>\n",
              "      <td>1505</td>\n",
              "      <td>2186</td>\n",
              "      <td>76</td>\n",
              "      <td>234</td>\n",
              "      <td>9.05</td>\n",
              "      <td>20.0</td>\n",
              "      <td>6.0</td>\n",
              "      <td>1126.0</td>\n",
              "      <td>0.0</td>\n",
              "      <td>0.0</td>\n",
              "      <td>0.0</td>\n",
              "      <td>0.0</td>\n",
              "      <td>0.0</td>\n",
              "      <td>0</td>\n",
              "    </tr>\n",
              "  </tbody>\n",
              "</table>\n",
              "</div>"
            ],
            "text/plain": [
              "   DAY_OF_MONTH  DAY_OF_WEEK  ...  LATE_AIRCRAFT_DELAY  DELAYED\n",
              "0            16            1  ...                  0.0        1\n",
              "1            17            2  ...                  0.0        0\n",
              "2            18            3  ...                  0.0        1\n",
              "3            19            4  ...                  0.0        1\n",
              "4            20            5  ...                  0.0        0\n",
              "\n",
              "[5 rows x 17 columns]"
            ]
          },
          "metadata": {
            "tags": []
          },
          "execution_count": 10
        }
      ]
    },
    {
      "cell_type": "code",
      "metadata": {
        "id": "33MQJXD0I-VV"
      },
      "source": [
        "# Create data and label sets\n",
        "y = df_sub['DELAYED'][:3000]\n",
        "X = df_sub.drop(['DELAYED'], axis=1, inplace=False)[:3000]"
      ],
      "execution_count": null,
      "outputs": []
    },
    {
      "cell_type": "code",
      "metadata": {
        "id": "cOFHQTvJplNN",
        "colab": {
          "base_uri": "https://localhost:8080/"
        },
        "outputId": "71bc5347-c096-4da4-da18-fc8bb2213400"
      },
      "source": [
        "print(X.shape)\n",
        "print(y.shape)"
      ],
      "execution_count": null,
      "outputs": [
        {
          "output_type": "stream",
          "text": [
            "(3000, 16)\n",
            "(3000,)\n"
          ],
          "name": "stdout"
        }
      ]
    },
    {
      "cell_type": "code",
      "metadata": {
        "id": "F-c6wmtSMpX7"
      },
      "source": [
        "# Training and test datasets\n",
        "X_train, X_test, y_train, y_test = train_test_split(X, y, test_size=0.2, random_state=42)\n"
      ],
      "execution_count": null,
      "outputs": []
    },
    {
      "cell_type": "markdown",
      "metadata": {
        "id": "oQ41rI43xFNc"
      },
      "source": [
        "# 4. Gradien Boosting model"
      ]
    },
    {
      "cell_type": "code",
      "metadata": {
        "id": "b3_9BsDrvXz5"
      },
      "source": [
        "# Get score of the GradientBoostingClassifier on the test data\n",
        "def get_score_gradient_boosting(X_train, X_test, y_train, y_test):\n",
        "    # Train the model\n",
        "    clf = GradientBoostingClassifier(n_estimators=100, random_state=0)\n",
        "    clf.fit(X_train, y_train)\n",
        "\n",
        "    # Predict and get score on test data\n",
        "    y_pred = clf.predict(X_test)\n",
        "    score  = accuracy_score(y_test, y_pred)\n",
        "    print('Accuracy: ', score)\n",
        "\n",
        "    return score"
      ],
      "execution_count": null,
      "outputs": []
    },
    {
      "cell_type": "markdown",
      "metadata": {
        "id": "9n2by7Q-1gzS"
      },
      "source": [
        "## 4.1 Gradient Boosting model and Recursive Feature Elimination (RFE) "
      ]
    },
    {
      "cell_type": "code",
      "metadata": {
        "colab": {
          "base_uri": "https://localhost:8080/"
        },
        "id": "-oOYGosLA8Bq",
        "outputId": "e6bd7755-b529-4900-d07e-af8b6c2f3daf"
      },
      "source": [
        "# Number of features in X_train\n",
        "nfeatures = len( X_train.columns )\n",
        "print('Number of features in X_train: ', nfeatures)"
      ],
      "execution_count": null,
      "outputs": [
        {
          "output_type": "stream",
          "text": [
            "Number of features in X_train:  16\n"
          ],
          "name": "stdout"
        }
      ]
    },
    {
      "cell_type": "code",
      "metadata": {
        "id": "JXR_gGzOwjiY",
        "colab": {
          "base_uri": "https://localhost:8080/"
        },
        "outputId": "a01dae0c-9820-4b69-b5d3-1ae1e2ed84f2"
      },
      "source": [
        "estimator = GradientBoostingClassifier(n_estimators=100, random_state=0)\n",
        "selector = RFECV(estimator, step=1, cv=5)\n",
        "selector = selector.fit(X, y)\n",
        "print( 'Supports/features selected [True/False]: ', selector.support_ )\n",
        "print( 'Ranking of the features: ', selector.ranking_ )"
      ],
      "execution_count": null,
      "outputs": [
        {
          "output_type": "stream",
          "text": [
            "Supports/features selected [True/False]:  [False False False False False False False False False False False  True\n",
            " False  True False  True]\n",
            "Ranking of the features:  [10 12 14  8  6 11  9  3  2  7  5  1  4  1 13  1]\n"
          ],
          "name": "stdout"
        }
      ]
    },
    {
      "cell_type": "code",
      "metadata": {
        "id": "SP7Je1K0ztFh",
        "colab": {
          "base_uri": "https://localhost:8080/"
        },
        "outputId": "f4a304f1-b156-4851-a7b1-bdcdfdc574eb"
      },
      "source": [
        "print('Number of selected features: ', selector.n_features_)\n",
        "print()\n",
        "print('Grid scores: ', selector.grid_scores_)\n",
        "print()\n",
        "print('Feature importances: ', selector.estimator_.feature_importances_ )"
      ],
      "execution_count": null,
      "outputs": [
        {
          "output_type": "stream",
          "text": [
            "Number of selected features:  3\n",
            "\n",
            "Grid scores:  [0.645      0.72333333 0.769      0.65666667 0.69633333 0.671\n",
            " 0.67533333 0.68433333 0.69233333 0.69533333 0.703      0.70466667\n",
            " 0.69533333 0.697      0.70233333 0.702     ]\n",
            "\n",
            "Feature importances:  [0.19216551 0.47159158 0.33624291]\n"
          ],
          "name": "stdout"
        }
      ]
    },
    {
      "cell_type": "code",
      "metadata": {
        "id": "SoqtAs-843Ob"
      },
      "source": [
        "# Selected features\n",
        "features = X_train.columns[selector.get_support()]\n",
        "print( features )\n",
        "print( len(features) )\n",
        "\n",
        "# Transform the training and test data after the RFE\n",
        "X_train_rfe = selector.transform(X_train)\n",
        "X_test_rfe = selector.transform(X_test)"
      ],
      "execution_count": null,
      "outputs": []
    },
    {
      "cell_type": "code",
      "metadata": {
        "id": "9HMCWypp5yTC"
      },
      "source": [
        "# Get the score of Gradient Boosting Model after the RFE\n",
        "get_score_gradient_boosting(X_train_rfe, X_test_rfe, y_train, y_test)"
      ],
      "execution_count": null,
      "outputs": []
    },
    {
      "cell_type": "markdown",
      "metadata": {
        "id": "lXTni8jO3PNF"
      },
      "source": [
        "## 4.2 Get best parameters of Gradien Boosting model with GridSearch and Cross-validation (GridSearchCV)"
      ]
    },
    {
      "cell_type": "markdown",
      "metadata": {
        "id": "G1mE1szq5zz7"
      },
      "source": [
        "### Parameter space"
      ]
    },
    {
      "cell_type": "code",
      "metadata": {
        "id": "F6_9_eWl-WmJ"
      },
      "source": [
        "# Parameter space\n",
        "param_grid = {\n",
        "    \"max_depth\":[3,5],\n",
        "    \"max_features\":[\"log2\",\"sqrt\"],\n",
        "    \"criterion\": [\"friedman_mse\",  \"mae\"],\n",
        "    \"n_estimators\":[10, 100]\n",
        "    }"
      ],
      "execution_count": null,
      "outputs": []
    },
    {
      "cell_type": "markdown",
      "metadata": {
        "id": "EtB3_29C5-47"
      },
      "source": [
        "### GridSearchCV"
      ]
    },
    {
      "cell_type": "code",
      "metadata": {
        "id": "un-NidaT5-Su"
      },
      "source": [
        "# GridsearchCV\n",
        "clf = GridSearchCV(GradientBoostingClassifier(), param_grid=param_grid, cv=3, n_jobs=-1)\n",
        "clf.fit(X_train_rfe, y_train)\n",
        "\n",
        "# Get best params\n",
        "print(clf.score(X_train_rfe, y_train))\n",
        "print(clf.best_params_)"
      ],
      "execution_count": null,
      "outputs": []
    },
    {
      "cell_type": "code",
      "metadata": {
        "id": "qPF67NJJ-nhR"
      },
      "source": [
        "# Re-train the model with best parameter from GridSearchCV\n",
        "best_params = clf.best_params_\n",
        "gbc = GradientBoostingClassifier(max_features=best_params['max_features'], n_estimators=best_params['n_estimators'],\n",
        "                                 max_depth=best_params['max_depth'], criterion=best_params['criterion'], random_state=42)\n",
        "gbc.fit(X_train_rfe, y_train)"
      ],
      "execution_count": null,
      "outputs": []
    },
    {
      "cell_type": "code",
      "metadata": {
        "id": "x6ACdysc-u8P"
      },
      "source": [
        "# Predict using test data\n",
        "pred = gbc.predict(X_test_rfe)\n",
        "# Get the score\n",
        "print(\"Accuracy on test data: \", accuracy_score(y_test, pred))"
      ],
      "execution_count": null,
      "outputs": []
    },
    {
      "cell_type": "code",
      "metadata": {
        "id": "GYgiRjnA7UZO"
      },
      "source": [
        "X_new = df_sub.drop(['DELAYED'], axis=1, inplace=False)[8000:8010]\n",
        "X_new"
      ],
      "execution_count": null,
      "outputs": []
    },
    {
      "cell_type": "code",
      "metadata": {
        "id": "ontwyEuyFkrj"
      },
      "source": [
        "df_sub['DELAYED'][8000:8010]"
      ],
      "execution_count": null,
      "outputs": []
    },
    {
      "cell_type": "code",
      "metadata": {
        "id": "VSTnCMCpPnpn"
      },
      "source": [
        "X_new_rfe = selector.transform(X_new)\n",
        "\n",
        "print(X_new_rfe.shape)\n",
        "X_new_rfe"
      ],
      "execution_count": null,
      "outputs": []
    },
    {
      "cell_type": "code",
      "metadata": {
        "id": "jqHdAxy27xS5"
      },
      "source": [
        "print('Prediction: ', gbc.predict(X_new_rfe).tolist())\n",
        "print('True labels: ', df_sub['DELAYED'][8000:8010].tolist())"
      ],
      "execution_count": null,
      "outputs": []
    },
    {
      "cell_type": "markdown",
      "metadata": {
        "id": "zAAwGm8w5JIg"
      },
      "source": [
        "## 4.3 Get best parameters of Gradien Boosting model with Hyperopt"
      ]
    },
    {
      "cell_type": "markdown",
      "metadata": {
        "id": "K9SoWNjJgOCq"
      },
      "source": [
        "### Parameter space"
      ]
    },
    {
      "cell_type": "code",
      "metadata": {
        "id": "7TzQ46VUYFPI"
      },
      "source": [
        "# param_space = {\n",
        "#     'max_depth': hp.choice('max_depth', range(1,20)),\n",
        "#     'max_features': hp.choice('max_features', range(1,150)),\n",
        "#     'n_estimators': hp.choice('n_estimators', range(100,500)),\n",
        "#     'criterion': hp.choice('criterion', [\"gini\", \"entropy\"])\n",
        "#     }\n",
        "# 'n_estimators': ho_scope.int(hp.quniform('n_estimators', low=100, high=300, q=25)), \n",
        "#             'criterion': hp.choice('criterion', ['gini', 'entropy']), \n",
        "#             'max_features': hp.uniform('max_features', low=0.25, high=0.75)    \n",
        "\n",
        "# param_grid = {\n",
        "#     \"max_depth\":[3,5],\n",
        "#     \"max_features\":[\"log2\",\"sqrt\"],\n",
        "#     \"criterion\": [\"friedman_mse\",  \"mae\"],\n",
        "#     \"n_estimators\":[10, 100]\n",
        "#     }\n",
        "\n",
        "# hp_space_clf1 = {\n",
        "#     'poly': {\n",
        "#         'degree': 1 + hp.randint('degree', 1 + 1)\n",
        "#     }, \n",
        "#     'clf': {\n",
        "#         'n_estimators': ho_scope.int(hp.quniform('n_estimators', low=100, high=300, q=25)), \n",
        "#         'criterion': hp.choice('criterion', ['gini', 'entropy']),\n",
        "#         'max_features': hp.choice('max_features', range(1,150)),\n",
        "#         'max_depth': hp.choice('max_depth', range(1,20))\n",
        "#     }\n",
        "# }"
      ],
      "execution_count": null,
      "outputs": []
    },
    {
      "cell_type": "code",
      "metadata": {
        "id": "QcJBJBnyxIO7"
      },
      "source": [
        "# Number of features in X_train\n",
        "nfeatures = len( X_train.columns )\n",
        "print('Number of features in X_train: ', nfeatures)"
      ],
      "execution_count": null,
      "outputs": []
    },
    {
      "cell_type": "code",
      "metadata": {
        "id": "_6bWASM4gOCq"
      },
      "source": [
        "# Params space\n",
        "hp_space_clf = {\n",
        "    'clf': {\n",
        "        'n_estimators': ho_scope.int(hp.quniform('n_estimators', low=100, high=300, q=25)), \n",
        "        'criterion': hp.choice('criterion', ['friedman_mse', 'mse', 'mae']),\n",
        "        'max_features': hp.choice('max_features', range(1,nfeatures)),\n",
        "        'max_depth': hp.choice('max_depth', range(1,20))\n",
        "    }\n",
        "}\n",
        "\n",
        "# Draw random sample to see if hyperspace is correctly defined\n",
        "ho_sample(hp_space_clf)"
      ],
      "execution_count": null,
      "outputs": []
    },
    {
      "cell_type": "markdown",
      "metadata": {
        "id": "eUj_mqjygOCr"
      },
      "source": [
        "### Defining model"
      ]
    },
    {
      "cell_type": "code",
      "metadata": {
        "id": "1SYZyQH6gOCr"
      },
      "source": [
        "def f_clf(hps):\n",
        "    \"\"\"\n",
        "    Constructs estimator\n",
        "    \n",
        "    Parameters:\n",
        "    ----------------\n",
        "    hps : sample point from search space\n",
        "    \n",
        "    Returns:\n",
        "    ----------------\n",
        "    model : sklearn.Pipeline.pipeline with hyperparameters set up as per hps\n",
        "    \"\"\"\n",
        "    \n",
        "    # Assembing pipeline if needed\n",
        "    # model = Pipeline([\n",
        "    #     ('clf', GradientBoostingClassifier(**hps['clf'], random_state=42))\n",
        "    # ])\n",
        "    \n",
        "    model = GradientBoostingClassifier(**hps['clf'], random_state=42)\n",
        "    \n",
        "    return model"
      ],
      "execution_count": null,
      "outputs": []
    },
    {
      "cell_type": "markdown",
      "metadata": {
        "id": "uL4g1i3STghQ"
      },
      "source": [
        "### Defining objective function"
      ]
    },
    {
      "cell_type": "markdown",
      "metadata": {
        "id": "0mtS1gjjTghQ"
      },
      "source": [
        "Define function to minimize. I'll use cross-validation score on train set."
      ]
    },
    {
      "cell_type": "code",
      "metadata": {
        "id": "cVaGGDTlTghQ"
      },
      "source": [
        "def fcn_to_minimize(hps, X, y, ncv=5):\n",
        "    \"\"\"\n",
        "    Target function for optimization\n",
        "    \n",
        "    Parameters:\n",
        "    ----------------\n",
        "    hps : sample point from search space\n",
        "    X : feature matrix\n",
        "    y : target array\n",
        "    ncv : number of folds for cross-validation\n",
        "    \n",
        "    Returns:\n",
        "    ----------------\n",
        "    : target function value (negative mean cross-val score)\n",
        "    \"\"\"\n",
        "    \n",
        "    model = f_clf(hps)\n",
        "\n",
        "    # cv_res = cross_val_score(model, X, y, cv=StratifiedKFold(ncv, shuffle=True, random_state=SEED), \n",
        "    #                          scoring='roc_auc', n_jobs=-1)\n",
        "    \n",
        "    cv_res = cross_val_score(model, X, y, cv=StratifiedKFold(ncv, shuffle=True, random_state=31), scoring='f1_micro', n_jobs=-1)\n",
        "    # cv_res = cross_val_score(model, X, y, cv=5, n_jobs=-1)\n",
        "    # cv_res = cross_val_score(model, X, y, cv=StratifiedKFold(ncv, shuffle=True, random_state=42), n_jobs=-1)\n",
        "    acc = cv_res.mean()\n",
        "    \n",
        "    print(cv_res)\n",
        "    print(\"Accuracy: %0.2f (+/- %0.2f)\" % (cv_res.mean(), cv_res.std() * 2))\n",
        "    return {'loss': -acc, 'status': STATUS_OK}"
      ],
      "execution_count": null,
      "outputs": []
    },
    {
      "cell_type": "markdown",
      "metadata": {
        "id": "ylVUCDpQiAFt"
      },
      "source": [
        "### Running optimization"
      ]
    },
    {
      "cell_type": "markdown",
      "metadata": {
        "id": "5qgI0R9BiAFt"
      },
      "source": [
        "Run optimization for 100 rounds using TPE algorithm (the Tree-structured Parzen Estimator), meaning that we use TPE to suggest next sample values based on previous function evaluations. We'll use `Trials` class objects to keep track of optimization history.\n",
        "\n",
        "**Note**: We're binding `X` and `y` arguments of target function to `X1_train` and `y1_train` respectively, using `functools.partial`, since target function of `fmin` may accept only a search space point."
      ]
    },
    {
      "cell_type": "code",
      "metadata": {
        "id": "ZOqc9I5KiAFt"
      },
      "source": [
        "trials_clf = Trials()\n",
        "best_clf = fmin(partial(fcn_to_minimize, X=X_train_rfe, y=y_train), \n",
        "                 hp_space_clf, algo=tpe.suggest, max_evals=50, \n",
        "                 trials=trials_clf)"
      ],
      "execution_count": null,
      "outputs": []
    },
    {
      "cell_type": "code",
      "metadata": {
        "id": "wDTMnBjKiAFt"
      },
      "source": [
        "# Best parameters from Hyperopt\n",
        "print(space_eval(hp_space_clf, best_clf))\n",
        "\n",
        "print('Best parameters from Hyperopt: \\n')\n",
        "best_clf\n",
        "\n",
        "# {'clf': {'criterion': 'mae', 'max_depth': 11, 'max_features': 7, 'n_estimators': 225}, 'poly': {'degree': 1}}\n",
        "# {'criterion': 2,\n",
        "#  'degree': 0,\n",
        "#  'max_depth': 10,\n",
        "#  'max_features': 6,\n",
        "#  'n_estimators': 225.0}"
      ],
      "execution_count": null,
      "outputs": []
    },
    {
      "cell_type": "markdown",
      "metadata": {
        "id": "MZRRJwB-iRhZ"
      },
      "source": [
        "### Model performance on test set"
      ]
    },
    {
      "cell_type": "code",
      "metadata": {
        "id": "BteFmknTiRhZ"
      },
      "source": [
        "# Building and fitting classifier with best parameters\n",
        "clf = f_clf( space_eval(hp_space_clf, best_clf) ).fit(X_train_rfe, y_train)\n",
        "\n",
        "# Calculating performance on test set\n",
        "predictions = clf.predict(X_test_rfe)\n",
        "\n",
        "print(\"Confusion Matrix:\")\n",
        "print(confusion_matrix(y_test, predictions))\n",
        "\n",
        "print(\"Classification Report:\")\n",
        "print(classification_report(y_test, predictions))\n",
        "\n",
        "print('Best parameters:')\n",
        "print(space_eval(hp_space_clf, best_clf))"
      ],
      "execution_count": null,
      "outputs": []
    },
    {
      "cell_type": "code",
      "metadata": {
        "id": "WSBH_LrH9iKl"
      },
      "source": [
        "# Best trial\n",
        "print('Score from Best trial: ', -trials_clf.best_trial['result']['loss'] )"
      ],
      "execution_count": null,
      "outputs": []
    },
    {
      "cell_type": "code",
      "metadata": {
        "id": "gYk6hdijDGa3"
      },
      "source": [
        "# Accuracy score\n",
        "print('Accuracy score of the model on test set: ', accuracy_score(y_test, predictions)"
      ],
      "execution_count": null,
      "outputs": []
    },
    {
      "cell_type": "code",
      "metadata": {
        "id": "12YQfi5XDfpI"
      },
      "source": [
        "# Accuracy score using predict_proba\n",
        "pred_prob_y_test = clf.predict_proba(X_test_rfe)\n",
        "preds = np.argmax(pred_prob_y_test, axis=1)\n",
        "accuracy_score(y_test, preds)"
      ],
      "execution_count": null,
      "outputs": []
    },
    {
      "cell_type": "markdown",
      "metadata": {
        "id": "Zcdrwv4AiRhi"
      },
      "source": [
        "Test set accuracy and cross-validation scores are consistent."
      ]
    }
  ]
}