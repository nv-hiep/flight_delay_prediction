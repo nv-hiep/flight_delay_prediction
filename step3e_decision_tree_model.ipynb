{
  "nbformat": 4,
  "nbformat_minor": 0,
  "metadata": {
    "colab": {
      "name": "step3e_decision_tree_model.ipynb",
      "provenance": [],
      "collapsed_sections": [],
      "authorship_tag": "ABX9TyOvv7AYWIqbuhrUNl4bpy8T",
      "include_colab_link": true
    },
    "kernelspec": {
      "name": "python3",
      "display_name": "Python 3"
    },
    "accelerator": "TPU"
  },
  "cells": [
    {
      "cell_type": "markdown",
      "metadata": {
        "id": "view-in-github",
        "colab_type": "text"
      },
      "source": [
        "<a href=\"https://colab.research.google.com/github/nv-hiep/flight_delay_prediction/blob/master/step3e_decision_tree_model.ipynb\" target=\"_parent\"><img src=\"https://colab.research.google.com/assets/colab-badge.svg\" alt=\"Open In Colab\"/></a>"
      ]
    },
    {
      "cell_type": "markdown",
      "metadata": {
        "id": "XNptZpGaux2I"
      },
      "source": [
        "**Step 3: Decision Tree Model**"
      ]
    },
    {
      "cell_type": "markdown",
      "metadata": {
        "id": "4DtfHtMLNB8n"
      },
      "source": [
        "**NOTE: Instead of predicting the delay time in minutes, I'll predict in delay intervals:**\n",
        "\n",
        "**0: ARR_DELAY <= 0 for no delay**\n",
        "\n",
        "**1: 0 < ARR_DELAY <= 30 (minutes)**\n",
        "\n",
        "**2: 30 < ARR_DELAY <= 60 (minutes)**\n",
        "\n",
        "**3: 60 < ARR_DELAY <= 120 (minutes)**\n",
        "\n",
        "**43: 120 < ARR_DELAY**"
      ]
    },
    {
      "cell_type": "markdown",
      "metadata": {
        "id": "sj3eAw1OXOnB"
      },
      "source": [
        "**Connect and authorize google drive with google colab:**"
      ]
    },
    {
      "cell_type": "code",
      "metadata": {
        "id": "PjjcQSpya_FR",
        "colab": {
          "base_uri": "https://localhost:8080/"
        },
        "outputId": "24376224-2e76-491b-a773-a90d51c21e7a"
      },
      "source": [
        "from google.colab import drive\n",
        "drive.mount('/content/gdrive')\n",
        "# !ls"
      ],
      "execution_count": 1,
      "outputs": [
        {
          "output_type": "stream",
          "text": [
            "Mounted at /content/gdrive\n"
          ],
          "name": "stdout"
        }
      ]
    },
    {
      "cell_type": "markdown",
      "metadata": {
        "id": "BDJptlLBvSlN"
      },
      "source": [
        "# 1. Import Libraries\n",
        "\n"
      ]
    },
    {
      "cell_type": "code",
      "metadata": {
        "id": "M3cWo7hhc-qO"
      },
      "source": [
        "import os\n",
        "import numpy   as np\n",
        "import pandas  as pd\n",
        "import seaborn as sns\n",
        "\n",
        "import matplotlib.pyplot as plt\n",
        "plt.style.use('fivethirtyeight')\n",
        "\n",
        "%matplotlib inline  "
      ],
      "execution_count": 2,
      "outputs": []
    },
    {
      "cell_type": "code",
      "metadata": {
        "id": "9z2_TJyNuAxA"
      },
      "source": [
        "from sklearn.compose import make_column_transformer, ColumnTransformer\n",
        "from sklearn.preprocessing import OneHotEncoder, StandardScaler, PolynomialFeatures, PowerTransformer\n",
        "from sklearn.linear_model import LogisticRegression\n",
        "from sklearn.pipeline import make_pipeline\n",
        "from sklearn.model_selection import cross_val_score\n",
        "from sklearn.feature_selection import RFECV\n",
        "from sklearn.ensemble import GradientBoostingClassifier\n",
        "from sklearn.preprocessing import StandardScaler\n",
        "from sklearn.pipeline import Pipeline\n",
        "\n",
        "from sklearn.model_selection import train_test_split, GridSearchCV, StratifiedKFold, KFold\n",
        "\n",
        "from sklearn.metrics import precision_score, recall_score, f1_score, accuracy_score, roc_auc_score, mean_squared_error, r2_score\n",
        "from sklearn.metrics import confusion_matrix, roc_curve, classification_report\n",
        "\n",
        "from sklearn.neighbors import KNeighborsClassifier\n",
        "from collections import defaultdict\n",
        "\n",
        "from sklearn.naive_bayes import GaussianNB\n",
        "from sklearn.tree import DecisionTreeClassifier\n",
        "from sklearn.ensemble import RandomForestClassifier, RandomForestRegressor"
      ],
      "execution_count": 3,
      "outputs": []
    },
    {
      "cell_type": "code",
      "metadata": {
        "id": "KOo5yJuugwee"
      },
      "source": [
        "from hyperopt import fmin, hp, tpe, Trials, space_eval\n",
        "from hyperopt.pyll import scope as ho_scope\n",
        "from hyperopt.pyll.stochastic import sample as ho_sample\n",
        "\n",
        "from hyperopt import fmin, hp, tpe, Trials, space_eval, STATUS_OK\n",
        "from functools import partial\n",
        "\n",
        "from sklearn.svm import SVC\n",
        "\n",
        "from sklearn import datasets\n",
        "from sklearn.utils import shuffle"
      ],
      "execution_count": 4,
      "outputs": []
    },
    {
      "cell_type": "markdown",
      "metadata": {
        "id": "FgfeZe4ivlpb"
      },
      "source": [
        "# 2. Data directory"
      ]
    },
    {
      "cell_type": "code",
      "metadata": {
        "id": "Z9d185J9_xQZ",
        "colab": {
          "base_uri": "https://localhost:8080/"
        },
        "outputId": "917a748a-a981-4652-d4d2-e340bd23348c"
      },
      "source": [
        "data_dir = '/content/gdrive/My Drive/data'\n",
        "%cd '/content/gdrive/My Drive/data'\n",
        "\n",
        "current_dir = os.getcwd()\n",
        "print(current_dir)\n",
        "data_path = os.path.join(data_dir, 'flights', '')\n",
        "print(data_path)"
      ],
      "execution_count": 5,
      "outputs": [
        {
          "output_type": "stream",
          "text": [
            "/content/gdrive/My Drive/data\n",
            "/content/gdrive/My Drive/data\n",
            "/content/gdrive/My Drive/data/flights/\n"
          ],
          "name": "stdout"
        }
      ]
    },
    {
      "cell_type": "markdown",
      "metadata": {
        "id": "qQWESb2L2DXG"
      },
      "source": [
        "# 3. Read data"
      ]
    },
    {
      "cell_type": "code",
      "metadata": {
        "id": "4NHnKMOvZtFZ",
        "colab": {
          "base_uri": "https://localhost:8080/",
          "height": 221
        },
        "outputId": "258e0ddd-132d-42d6-a841-4b361c9f131a"
      },
      "source": [
        "# Read clean sub-data from csv\n",
        "df_sub = pd.read_csv( os.path.join(data_path, 'cleaned_data_jan_20klines.csv') )\n",
        "print('Number of columns: ', len(df_sub.columns))\n",
        "df_sub.tail()"
      ],
      "execution_count": 6,
      "outputs": [
        {
          "output_type": "stream",
          "text": [
            "Number of columns:  15\n"
          ],
          "name": "stdout"
        },
        {
          "output_type": "execute_result",
          "data": {
            "text/html": [
              "<div>\n",
              "<style scoped>\n",
              "    .dataframe tbody tr th:only-of-type {\n",
              "        vertical-align: middle;\n",
              "    }\n",
              "\n",
              "    .dataframe tbody tr th {\n",
              "        vertical-align: top;\n",
              "    }\n",
              "\n",
              "    .dataframe thead th {\n",
              "        text-align: right;\n",
              "    }\n",
              "</style>\n",
              "<table border=\"1\" class=\"dataframe\">\n",
              "  <thead>\n",
              "    <tr style=\"text-align: right;\">\n",
              "      <th></th>\n",
              "      <th>ARR_TIME</th>\n",
              "      <th>CRS_ARR_TIME</th>\n",
              "      <th>TAIL_NUM</th>\n",
              "      <th>DISTANCE</th>\n",
              "      <th>OP_CARRIER_FL_NUM</th>\n",
              "      <th>DEP_TIME</th>\n",
              "      <th>TAXI_OUT</th>\n",
              "      <th>DEST</th>\n",
              "      <th>ORIGIN</th>\n",
              "      <th>TAXI_IN</th>\n",
              "      <th>DAY_OF_MONTH</th>\n",
              "      <th>CARRIER_DELAY</th>\n",
              "      <th>NAS_DELAY</th>\n",
              "      <th>LATE_AIRCRAFT_DELAY</th>\n",
              "      <th>DELAYED</th>\n",
              "    </tr>\n",
              "  </thead>\n",
              "  <tbody>\n",
              "    <tr>\n",
              "      <th>19995</th>\n",
              "      <td>22.42</td>\n",
              "      <td>20.83</td>\n",
              "      <td>695</td>\n",
              "      <td>1855.0</td>\n",
              "      <td>5175</td>\n",
              "      <td>16.73</td>\n",
              "      <td>17.0</td>\n",
              "      <td>180</td>\n",
              "      <td>261</td>\n",
              "      <td>5.0</td>\n",
              "      <td>8</td>\n",
              "      <td>11.0</td>\n",
              "      <td>0.0</td>\n",
              "      <td>84.0</td>\n",
              "      <td>3</td>\n",
              "    </tr>\n",
              "    <tr>\n",
              "      <th>19996</th>\n",
              "      <td>15.53</td>\n",
              "      <td>15.42</td>\n",
              "      <td>3050</td>\n",
              "      <td>1845.0</td>\n",
              "      <td>4738</td>\n",
              "      <td>9.48</td>\n",
              "      <td>31.0</td>\n",
              "      <td>188</td>\n",
              "      <td>261</td>\n",
              "      <td>5.0</td>\n",
              "      <td>8</td>\n",
              "      <td>0.0</td>\n",
              "      <td>0.0</td>\n",
              "      <td>0.0</td>\n",
              "      <td>1</td>\n",
              "    </tr>\n",
              "    <tr>\n",
              "      <th>19997</th>\n",
              "      <td>16.72</td>\n",
              "      <td>16.08</td>\n",
              "      <td>4131</td>\n",
              "      <td>651.0</td>\n",
              "      <td>2498</td>\n",
              "      <td>13.98</td>\n",
              "      <td>16.0</td>\n",
              "      <td>223</td>\n",
              "      <td>261</td>\n",
              "      <td>4.0</td>\n",
              "      <td>8</td>\n",
              "      <td>0.0</td>\n",
              "      <td>0.0</td>\n",
              "      <td>38.0</td>\n",
              "      <td>2</td>\n",
              "    </tr>\n",
              "    <tr>\n",
              "      <th>19998</th>\n",
              "      <td>23.43</td>\n",
              "      <td>21.17</td>\n",
              "      <td>3754</td>\n",
              "      <td>651.0</td>\n",
              "      <td>3226</td>\n",
              "      <td>20.70</td>\n",
              "      <td>14.0</td>\n",
              "      <td>223</td>\n",
              "      <td>261</td>\n",
              "      <td>4.0</td>\n",
              "      <td>8</td>\n",
              "      <td>0.0</td>\n",
              "      <td>0.0</td>\n",
              "      <td>136.0</td>\n",
              "      <td>4</td>\n",
              "    </tr>\n",
              "    <tr>\n",
              "      <th>19999</th>\n",
              "      <td>11.08</td>\n",
              "      <td>11.25</td>\n",
              "      <td>743</td>\n",
              "      <td>651.0</td>\n",
              "      <td>4798</td>\n",
              "      <td>8.35</td>\n",
              "      <td>17.0</td>\n",
              "      <td>223</td>\n",
              "      <td>261</td>\n",
              "      <td>4.0</td>\n",
              "      <td>8</td>\n",
              "      <td>0.0</td>\n",
              "      <td>0.0</td>\n",
              "      <td>0.0</td>\n",
              "      <td>0</td>\n",
              "    </tr>\n",
              "  </tbody>\n",
              "</table>\n",
              "</div>"
            ],
            "text/plain": [
              "       ARR_TIME  CRS_ARR_TIME  ...  LATE_AIRCRAFT_DELAY  DELAYED\n",
              "19995     22.42         20.83  ...                 84.0        3\n",
              "19996     15.53         15.42  ...                  0.0        1\n",
              "19997     16.72         16.08  ...                 38.0        2\n",
              "19998     23.43         21.17  ...                136.0        4\n",
              "19999     11.08         11.25  ...                  0.0        0\n",
              "\n",
              "[5 rows x 15 columns]"
            ]
          },
          "metadata": {
            "tags": []
          },
          "execution_count": 6
        }
      ]
    },
    {
      "cell_type": "code",
      "metadata": {
        "id": "N8L784JI2OEe",
        "colab": {
          "base_uri": "https://localhost:8080/"
        },
        "outputId": "651d2032-030e-4016-f38c-01c2da272a62"
      },
      "source": [
        "# Checking the null values\n",
        "df_sub.isnull().sum()"
      ],
      "execution_count": 7,
      "outputs": [
        {
          "output_type": "execute_result",
          "data": {
            "text/plain": [
              "ARR_TIME               0\n",
              "CRS_ARR_TIME           0\n",
              "TAIL_NUM               0\n",
              "DISTANCE               0\n",
              "OP_CARRIER_FL_NUM      0\n",
              "DEP_TIME               0\n",
              "TAXI_OUT               0\n",
              "DEST                   0\n",
              "ORIGIN                 0\n",
              "TAXI_IN                0\n",
              "DAY_OF_MONTH           0\n",
              "CARRIER_DELAY          0\n",
              "NAS_DELAY              0\n",
              "LATE_AIRCRAFT_DELAY    0\n",
              "DELAYED                0\n",
              "dtype: int64"
            ]
          },
          "metadata": {
            "tags": []
          },
          "execution_count": 7
        }
      ]
    },
    {
      "cell_type": "code",
      "metadata": {
        "id": "F5Lthnuh_nrk",
        "colab": {
          "base_uri": "https://localhost:8080/"
        },
        "outputId": "27bb957d-4e6f-4a91-b27e-03c63be0a990"
      },
      "source": [
        "df_sub.dtypes"
      ],
      "execution_count": 8,
      "outputs": [
        {
          "output_type": "execute_result",
          "data": {
            "text/plain": [
              "ARR_TIME               float64\n",
              "CRS_ARR_TIME           float64\n",
              "TAIL_NUM                 int64\n",
              "DISTANCE               float64\n",
              "OP_CARRIER_FL_NUM        int64\n",
              "DEP_TIME               float64\n",
              "TAXI_OUT               float64\n",
              "DEST                     int64\n",
              "ORIGIN                   int64\n",
              "TAXI_IN                float64\n",
              "DAY_OF_MONTH             int64\n",
              "CARRIER_DELAY          float64\n",
              "NAS_DELAY              float64\n",
              "LATE_AIRCRAFT_DELAY    float64\n",
              "DELAYED                  int64\n",
              "dtype: object"
            ]
          },
          "metadata": {
            "tags": []
          },
          "execution_count": 8
        }
      ]
    },
    {
      "cell_type": "code",
      "metadata": {
        "id": "7T16wSrJy_Hb",
        "colab": {
          "base_uri": "https://localhost:8080/",
          "height": 204
        },
        "outputId": "c6484837-9e2d-4ec5-cbf1-242e82a49ed1"
      },
      "source": [
        "df_sub.head()"
      ],
      "execution_count": 9,
      "outputs": [
        {
          "output_type": "execute_result",
          "data": {
            "text/html": [
              "<div>\n",
              "<style scoped>\n",
              "    .dataframe tbody tr th:only-of-type {\n",
              "        vertical-align: middle;\n",
              "    }\n",
              "\n",
              "    .dataframe tbody tr th {\n",
              "        vertical-align: top;\n",
              "    }\n",
              "\n",
              "    .dataframe thead th {\n",
              "        text-align: right;\n",
              "    }\n",
              "</style>\n",
              "<table border=\"1\" class=\"dataframe\">\n",
              "  <thead>\n",
              "    <tr style=\"text-align: right;\">\n",
              "      <th></th>\n",
              "      <th>ARR_TIME</th>\n",
              "      <th>CRS_ARR_TIME</th>\n",
              "      <th>TAIL_NUM</th>\n",
              "      <th>DISTANCE</th>\n",
              "      <th>OP_CARRIER_FL_NUM</th>\n",
              "      <th>DEP_TIME</th>\n",
              "      <th>TAXI_OUT</th>\n",
              "      <th>DEST</th>\n",
              "      <th>ORIGIN</th>\n",
              "      <th>TAXI_IN</th>\n",
              "      <th>DAY_OF_MONTH</th>\n",
              "      <th>CARRIER_DELAY</th>\n",
              "      <th>NAS_DELAY</th>\n",
              "      <th>LATE_AIRCRAFT_DELAY</th>\n",
              "      <th>DELAYED</th>\n",
              "    </tr>\n",
              "  </thead>\n",
              "  <tbody>\n",
              "    <tr>\n",
              "      <th>0</th>\n",
              "      <td>10.40</td>\n",
              "      <td>10.3</td>\n",
              "      <td>1373</td>\n",
              "      <td>1126.0</td>\n",
              "      <td>2186</td>\n",
              "      <td>9.22</td>\n",
              "      <td>26.0</td>\n",
              "      <td>234</td>\n",
              "      <td>76</td>\n",
              "      <td>5.0</td>\n",
              "      <td>16</td>\n",
              "      <td>0.0</td>\n",
              "      <td>0.0</td>\n",
              "      <td>0.0</td>\n",
              "      <td>1</td>\n",
              "    </tr>\n",
              "    <tr>\n",
              "      <th>1</th>\n",
              "      <td>10.18</td>\n",
              "      <td>10.3</td>\n",
              "      <td>1258</td>\n",
              "      <td>1126.0</td>\n",
              "      <td>2186</td>\n",
              "      <td>9.07</td>\n",
              "      <td>31.0</td>\n",
              "      <td>234</td>\n",
              "      <td>76</td>\n",
              "      <td>4.0</td>\n",
              "      <td>17</td>\n",
              "      <td>0.0</td>\n",
              "      <td>0.0</td>\n",
              "      <td>0.0</td>\n",
              "      <td>0</td>\n",
              "    </tr>\n",
              "    <tr>\n",
              "      <th>2</th>\n",
              "      <td>10.47</td>\n",
              "      <td>10.3</td>\n",
              "      <td>1252</td>\n",
              "      <td>1126.0</td>\n",
              "      <td>2186</td>\n",
              "      <td>9.13</td>\n",
              "      <td>44.0</td>\n",
              "      <td>234</td>\n",
              "      <td>76</td>\n",
              "      <td>5.0</td>\n",
              "      <td>18</td>\n",
              "      <td>0.0</td>\n",
              "      <td>0.0</td>\n",
              "      <td>0.0</td>\n",
              "      <td>1</td>\n",
              "    </tr>\n",
              "    <tr>\n",
              "      <th>3</th>\n",
              "      <td>10.78</td>\n",
              "      <td>10.3</td>\n",
              "      <td>1477</td>\n",
              "      <td>1126.0</td>\n",
              "      <td>2186</td>\n",
              "      <td>9.08</td>\n",
              "      <td>41.0</td>\n",
              "      <td>234</td>\n",
              "      <td>76</td>\n",
              "      <td>8.0</td>\n",
              "      <td>19</td>\n",
              "      <td>0.0</td>\n",
              "      <td>29.0</td>\n",
              "      <td>0.0</td>\n",
              "      <td>1</td>\n",
              "    </tr>\n",
              "    <tr>\n",
              "      <th>4</th>\n",
              "      <td>10.18</td>\n",
              "      <td>10.3</td>\n",
              "      <td>1505</td>\n",
              "      <td>1126.0</td>\n",
              "      <td>2186</td>\n",
              "      <td>9.05</td>\n",
              "      <td>20.0</td>\n",
              "      <td>234</td>\n",
              "      <td>76</td>\n",
              "      <td>6.0</td>\n",
              "      <td>20</td>\n",
              "      <td>0.0</td>\n",
              "      <td>0.0</td>\n",
              "      <td>0.0</td>\n",
              "      <td>0</td>\n",
              "    </tr>\n",
              "  </tbody>\n",
              "</table>\n",
              "</div>"
            ],
            "text/plain": [
              "   ARR_TIME  CRS_ARR_TIME  TAIL_NUM  ...  NAS_DELAY  LATE_AIRCRAFT_DELAY  DELAYED\n",
              "0     10.40          10.3      1373  ...        0.0                  0.0        1\n",
              "1     10.18          10.3      1258  ...        0.0                  0.0        0\n",
              "2     10.47          10.3      1252  ...        0.0                  0.0        1\n",
              "3     10.78          10.3      1477  ...       29.0                  0.0        1\n",
              "4     10.18          10.3      1505  ...        0.0                  0.0        0\n",
              "\n",
              "[5 rows x 15 columns]"
            ]
          },
          "metadata": {
            "tags": []
          },
          "execution_count": 9
        }
      ]
    },
    {
      "cell_type": "code",
      "metadata": {
        "id": "33MQJXD0I-VV"
      },
      "source": [
        "# Create data and label sets\n",
        "y = df_sub['DELAYED'][:1000]\n",
        "X = df_sub.drop(['DELAYED'], axis=1, inplace=False)[:1000]"
      ],
      "execution_count": 10,
      "outputs": []
    },
    {
      "cell_type": "code",
      "metadata": {
        "id": "cOFHQTvJplNN",
        "colab": {
          "base_uri": "https://localhost:8080/"
        },
        "outputId": "be4524fc-e61a-4e0d-b4fa-1f0d0d01777c"
      },
      "source": [
        "print(X.shape)\n",
        "print(y.shape)"
      ],
      "execution_count": 11,
      "outputs": [
        {
          "output_type": "stream",
          "text": [
            "(1000, 14)\n",
            "(1000,)\n"
          ],
          "name": "stdout"
        }
      ]
    },
    {
      "cell_type": "code",
      "metadata": {
        "id": "F-c6wmtSMpX7"
      },
      "source": [
        "# Training and test datasets\n",
        "X_train, X_test, y_train, y_test = train_test_split(X, y, test_size=0.2, random_state=42)\n"
      ],
      "execution_count": 12,
      "outputs": []
    },
    {
      "cell_type": "markdown",
      "metadata": {
        "id": "oQ41rI43xFNc"
      },
      "source": [
        "# 4. Decision Tree model"
      ]
    },
    {
      "cell_type": "code",
      "metadata": {
        "id": "b3_9BsDrvXz5"
      },
      "source": [
        "# Get score of the SVC on the test data\n",
        "def get_score_decision_tree(X_train, X_test, y_train, y_test):\n",
        "    # Train the model\n",
        "    clf = DecisionTreeClassifier(random_state=0)\n",
        "    clf.fit(X_train, y_train)\n",
        "\n",
        "    # Predict and get score on test data\n",
        "    y_pred = clf.predict(X_test)\n",
        "    score  = accuracy_score(y_test, y_pred)\n",
        "    print('Accuracy: ', score)\n",
        "\n",
        "    return score"
      ],
      "execution_count": 13,
      "outputs": []
    },
    {
      "cell_type": "markdown",
      "metadata": {
        "id": "tfZDZu7G0Y_f"
      },
      "source": [
        "**Get score of the Decision Tree on the test data**"
      ]
    },
    {
      "cell_type": "code",
      "metadata": {
        "colab": {
          "base_uri": "https://localhost:8080/"
        },
        "id": "qM3VUUT20LBU",
        "outputId": "edbae696-a5ec-43ab-c858-9d2a72562771"
      },
      "source": [
        "# Get the score of Decision Tree Model after the SelectKBest\n",
        "get_score_decision_tree(X_train, X_test, y_train, y_test)"
      ],
      "execution_count": 14,
      "outputs": [
        {
          "output_type": "stream",
          "text": [
            "Accuracy:  0.735\n"
          ],
          "name": "stdout"
        },
        {
          "output_type": "execute_result",
          "data": {
            "text/plain": [
              "0.735"
            ]
          },
          "metadata": {
            "tags": []
          },
          "execution_count": 14
        }
      ]
    },
    {
      "cell_type": "markdown",
      "metadata": {
        "id": "gjyHRuiIHMHg"
      },
      "source": [
        "## 4.1 Decision Tree model and SelectKBest for Feature Selection"
      ]
    },
    {
      "cell_type": "code",
      "metadata": {
        "colab": {
          "base_uri": "https://localhost:8080/"
        },
        "id": "ZmPRCC5oHYbK",
        "outputId": "df434dc2-7e77-4d1c-bab7-6c0342022809"
      },
      "source": [
        "# Number of features in X_train\n",
        "nfeatures = len( X_train.columns )\n",
        "print('Number of features in X_train: ', nfeatures)"
      ],
      "execution_count": 15,
      "outputs": [
        {
          "output_type": "stream",
          "text": [
            "Number of features in X_train:  14\n"
          ],
          "name": "stdout"
        }
      ]
    },
    {
      "cell_type": "code",
      "metadata": {
        "colab": {
          "base_uri": "https://localhost:8080/"
        },
        "id": "ccJKamp2JPlh",
        "outputId": "fa6d1af6-ec3d-409a-f388-f0736278e843"
      },
      "source": [
        "# SelectKBest for classification\n",
        "from sklearn.feature_selection import SelectKBest, f_classif, chi2, mutual_info_classif\n",
        "\n",
        "# Select 10 features and fit\n",
        "selector    = SelectKBest(f_classif, k = 10)\n",
        "X_train_skb = selector.fit_transform(X_train, y_train)\n",
        "X_test_skb  = selector.transform(X_test)\n",
        "\n",
        "names  = X.columns.values[selector.get_support()]\n",
        "scores = selector.scores_[selector.get_support()]\n",
        "\n",
        "names_scores = list(zip(names, scores))\n",
        "ns_df        = pd.DataFrame(data = names_scores, columns=['Feature_names', 'F_Scores'])\n",
        "\n",
        "# Sort the dataframe\n",
        "ns_df_sorted = ns_df.sort_values(['F_Scores', 'Feature_names'], ascending = [False, True])\n",
        "print('Features selected: ', len(ns_df))\n",
        "print(ns_df_sorted)"
      ],
      "execution_count": 16,
      "outputs": [
        {
          "output_type": "stream",
          "text": [
            "Features selected:  10\n",
            "         Feature_names    F_Scores\n",
            "9  LATE_AIRCRAFT_DELAY  175.953820\n",
            "7        CARRIER_DELAY  104.718385\n",
            "8            NAS_DELAY   75.252374\n",
            "4             TAXI_OUT   30.338138\n",
            "6         DAY_OF_MONTH   11.954327\n",
            "5              TAXI_IN    5.133920\n",
            "3             DEP_TIME    4.156151\n",
            "2             DISTANCE    3.032514\n",
            "0             ARR_TIME    2.534617\n",
            "1         CRS_ARR_TIME    2.091812\n"
          ],
          "name": "stdout"
        }
      ]
    },
    {
      "cell_type": "code",
      "metadata": {
        "colab": {
          "base_uri": "https://localhost:8080/"
        },
        "id": "mhN9fO6TPglU",
        "outputId": "6ec70b5c-499f-4c1d-858b-ded1706bfe9e"
      },
      "source": [
        "print( 'Shape of transformed X_train: ', X_train_skb.shape )\n",
        "print( 'Shape of transformed X_test: ', X_test_skb.shape )"
      ],
      "execution_count": 17,
      "outputs": [
        {
          "output_type": "stream",
          "text": [
            "Shape of transformed X_train:  (800, 10)\n",
            "Shape of transformed X_test:  (200, 10)\n"
          ],
          "name": "stdout"
        }
      ]
    },
    {
      "cell_type": "code",
      "metadata": {
        "colab": {
          "base_uri": "https://localhost:8080/"
        },
        "id": "4RuyQ6wlPvvL",
        "outputId": "3f8072b7-b35a-4c8d-8d1e-7b4d37e81a9d"
      },
      "source": [
        "# Get the score of SVM Model after the SelectKBest\n",
        "get_score_decision_tree(X_train_skb, X_test_skb, y_train, y_test)"
      ],
      "execution_count": 18,
      "outputs": [
        {
          "output_type": "stream",
          "text": [
            "Accuracy:  0.745\n"
          ],
          "name": "stdout"
        },
        {
          "output_type": "execute_result",
          "data": {
            "text/plain": [
              "0.745"
            ]
          },
          "metadata": {
            "tags": []
          },
          "execution_count": 18
        }
      ]
    },
    {
      "cell_type": "markdown",
      "metadata": {
        "id": "TvlQS7WAcUi0"
      },
      "source": [
        "**With SelectKBest feauture selection, the accuracy score of the Decision Tree Classifier has improved slightly from 0.735 to 0.745.**"
      ]
    },
    {
      "cell_type": "markdown",
      "metadata": {
        "id": "x8AXyv_iQjCV"
      },
      "source": [
        "## 4.2 Decision Tree model and PCA for Feature Selection"
      ]
    },
    {
      "cell_type": "code",
      "metadata": {
        "colab": {
          "base_uri": "https://localhost:8080/"
        },
        "id": "BjCFEbhKQjCV",
        "outputId": "032644e0-e73b-43df-fb5f-b0b97e67704b"
      },
      "source": [
        "# Number of features in X_train\n",
        "nfeatures = len( X_train.columns )\n",
        "print('Number of features in X_train: ', nfeatures)"
      ],
      "execution_count": 19,
      "outputs": [
        {
          "output_type": "stream",
          "text": [
            "Number of features in X_train:  14\n"
          ],
          "name": "stdout"
        }
      ]
    },
    {
      "cell_type": "code",
      "metadata": {
        "colab": {
          "base_uri": "https://localhost:8080/"
        },
        "id": "K1ZGBc6AUNMh",
        "outputId": "ae9279ad-700d-48d8-8bd0-d6ef31539134"
      },
      "source": [
        "from sklearn.decomposition import PCA\n",
        "\n",
        "pca = PCA(n_components = 10)\n",
        "X_train_pca = pca.fit_transform(X_train)\n",
        "X_test_pca  = pca.transform(X_test)\n",
        "\n",
        "print('Explained variation per principal component (PC):\\n {}'.format(np.round( pca.explained_variance_ratio_, 4) ))"
      ],
      "execution_count": 20,
      "outputs": [
        {
          "output_type": "stream",
          "text": [
            "Explained variation per principal component (PC):\n",
            " [7.215e-01 2.649e-01 7.100e-03 5.500e-03 3.000e-04 2.000e-04 1.000e-04\n",
            " 1.000e-04 1.000e-04 1.000e-04]\n"
          ],
          "name": "stdout"
        }
      ]
    },
    {
      "cell_type": "markdown",
      "metadata": {
        "id": "hA71wK-qW-XG"
      },
      "source": [
        "PC1 explains 72% and PC2 26%. Together, if we keep PC1 and PC2 only, they explain 98% of the total amount of variance in the training dataset."
      ]
    },
    {
      "cell_type": "code",
      "metadata": {
        "colab": {
          "base_uri": "https://localhost:8080/",
          "height": 359
        },
        "id": "8kWqaqCrXDgh",
        "outputId": "e1d3fb83-e99b-4511-ac38-6de200450602"
      },
      "source": [
        "pd.DataFrame(pca.components_, columns=X.columns, index = ['PC-' + str(x) for x in range(1, 11)])"
      ],
      "execution_count": 21,
      "outputs": [
        {
          "output_type": "execute_result",
          "data": {
            "text/html": [
              "<div>\n",
              "<style scoped>\n",
              "    .dataframe tbody tr th:only-of-type {\n",
              "        vertical-align: middle;\n",
              "    }\n",
              "\n",
              "    .dataframe tbody tr th {\n",
              "        vertical-align: top;\n",
              "    }\n",
              "\n",
              "    .dataframe thead th {\n",
              "        text-align: right;\n",
              "    }\n",
              "</style>\n",
              "<table border=\"1\" class=\"dataframe\">\n",
              "  <thead>\n",
              "    <tr style=\"text-align: right;\">\n",
              "      <th></th>\n",
              "      <th>ARR_TIME</th>\n",
              "      <th>CRS_ARR_TIME</th>\n",
              "      <th>TAIL_NUM</th>\n",
              "      <th>DISTANCE</th>\n",
              "      <th>OP_CARRIER_FL_NUM</th>\n",
              "      <th>DEP_TIME</th>\n",
              "      <th>TAXI_OUT</th>\n",
              "      <th>DEST</th>\n",
              "      <th>ORIGIN</th>\n",
              "      <th>TAXI_IN</th>\n",
              "      <th>DAY_OF_MONTH</th>\n",
              "      <th>CARRIER_DELAY</th>\n",
              "      <th>NAS_DELAY</th>\n",
              "      <th>LATE_AIRCRAFT_DELAY</th>\n",
              "    </tr>\n",
              "  </thead>\n",
              "  <tbody>\n",
              "    <tr>\n",
              "      <th>PC-1</th>\n",
              "      <td>0.000090</td>\n",
              "      <td>-0.000049</td>\n",
              "      <td>0.999239</td>\n",
              "      <td>0.037215</td>\n",
              "      <td>0.001617</td>\n",
              "      <td>-0.000005</td>\n",
              "      <td>0.001539</td>\n",
              "      <td>0.004220</td>\n",
              "      <td>0.010370</td>\n",
              "      <td>7.300183e-04</td>\n",
              "      <td>-0.000465</td>\n",
              "      <td>-0.000603</td>\n",
              "      <td>0.001177</td>\n",
              "      <td>0.001715</td>\n",
              "    </tr>\n",
              "    <tr>\n",
              "      <th>PC-2</th>\n",
              "      <td>-0.000406</td>\n",
              "      <td>0.000668</td>\n",
              "      <td>-0.037630</td>\n",
              "      <td>0.998261</td>\n",
              "      <td>0.000423</td>\n",
              "      <td>-0.000951</td>\n",
              "      <td>0.001400</td>\n",
              "      <td>0.034814</td>\n",
              "      <td>0.028593</td>\n",
              "      <td>6.905549e-07</td>\n",
              "      <td>-0.001160</td>\n",
              "      <td>0.000864</td>\n",
              "      <td>0.004730</td>\n",
              "      <td>-0.000673</td>\n",
              "    </tr>\n",
              "    <tr>\n",
              "      <th>PC-3</th>\n",
              "      <td>0.001865</td>\n",
              "      <td>0.005391</td>\n",
              "      <td>0.001178</td>\n",
              "      <td>-0.019970</td>\n",
              "      <td>0.003382</td>\n",
              "      <td>0.010959</td>\n",
              "      <td>0.005970</td>\n",
              "      <td>0.910596</td>\n",
              "      <td>-0.412048</td>\n",
              "      <td>-1.487201e-02</td>\n",
              "      <td>0.000286</td>\n",
              "      <td>0.006791</td>\n",
              "      <td>0.009815</td>\n",
              "      <td>-0.008289</td>\n",
              "    </tr>\n",
              "    <tr>\n",
              "      <th>PC-4</th>\n",
              "      <td>-0.009755</td>\n",
              "      <td>-0.013450</td>\n",
              "      <td>0.009648</td>\n",
              "      <td>0.040746</td>\n",
              "      <td>0.013493</td>\n",
              "      <td>-0.010644</td>\n",
              "      <td>0.016411</td>\n",
              "      <td>-0.410970</td>\n",
              "      <td>-0.910046</td>\n",
              "      <td>-3.451492e-03</td>\n",
              "      <td>0.006692</td>\n",
              "      <td>-0.005409</td>\n",
              "      <td>-0.003140</td>\n",
              "      <td>-0.015178</td>\n",
              "    </tr>\n",
              "    <tr>\n",
              "      <th>PC-5</th>\n",
              "      <td>0.004484</td>\n",
              "      <td>0.020985</td>\n",
              "      <td>-0.001704</td>\n",
              "      <td>0.000133</td>\n",
              "      <td>-0.029813</td>\n",
              "      <td>0.039151</td>\n",
              "      <td>0.076776</td>\n",
              "      <td>-0.002377</td>\n",
              "      <td>-0.017135</td>\n",
              "      <td>7.797558e-03</td>\n",
              "      <td>-0.113850</td>\n",
              "      <td>0.132291</td>\n",
              "      <td>0.150486</td>\n",
              "      <td>0.968376</td>\n",
              "    </tr>\n",
              "    <tr>\n",
              "      <th>PC-6</th>\n",
              "      <td>-0.052519</td>\n",
              "      <td>-0.023743</td>\n",
              "      <td>-0.000996</td>\n",
              "      <td>-0.005000</td>\n",
              "      <td>-0.002010</td>\n",
              "      <td>0.004026</td>\n",
              "      <td>0.394545</td>\n",
              "      <td>-0.010286</td>\n",
              "      <td>0.010564</td>\n",
              "      <td>3.160462e-02</td>\n",
              "      <td>-0.077306</td>\n",
              "      <td>0.287733</td>\n",
              "      <td>0.840789</td>\n",
              "      <td>-0.209897</td>\n",
              "    </tr>\n",
              "    <tr>\n",
              "      <th>PC-7</th>\n",
              "      <td>-0.010169</td>\n",
              "      <td>-0.018451</td>\n",
              "      <td>0.001111</td>\n",
              "      <td>0.000774</td>\n",
              "      <td>0.114447</td>\n",
              "      <td>-0.003635</td>\n",
              "      <td>-0.193672</td>\n",
              "      <td>-0.005650</td>\n",
              "      <td>-0.002761</td>\n",
              "      <td>-3.567262e-02</td>\n",
              "      <td>-0.113429</td>\n",
              "      <td>0.928562</td>\n",
              "      <td>-0.256981</td>\n",
              "      <td>-0.080554</td>\n",
              "    </tr>\n",
              "    <tr>\n",
              "      <th>PC-8</th>\n",
              "      <td>-0.331306</td>\n",
              "      <td>-0.318029</td>\n",
              "      <td>-0.001391</td>\n",
              "      <td>-0.001656</td>\n",
              "      <td>0.761242</td>\n",
              "      <td>-0.309936</td>\n",
              "      <td>-0.187463</td>\n",
              "      <td>0.010437</td>\n",
              "      <td>0.013418</td>\n",
              "      <td>-4.067497e-02</td>\n",
              "      <td>-0.212403</td>\n",
              "      <td>-0.140188</td>\n",
              "      <td>0.101084</td>\n",
              "      <td>0.038315</td>\n",
              "    </tr>\n",
              "    <tr>\n",
              "      <th>PC-9</th>\n",
              "      <td>-0.114970</td>\n",
              "      <td>-0.095271</td>\n",
              "      <td>-0.000613</td>\n",
              "      <td>0.000150</td>\n",
              "      <td>0.229652</td>\n",
              "      <td>-0.098125</td>\n",
              "      <td>0.353636</td>\n",
              "      <td>0.005978</td>\n",
              "      <td>0.015596</td>\n",
              "      <td>-4.506747e-02</td>\n",
              "      <td>0.867287</td>\n",
              "      <td>0.122607</td>\n",
              "      <td>-0.113211</td>\n",
              "      <td>0.089058</td>\n",
              "    </tr>\n",
              "    <tr>\n",
              "      <th>PC-10</th>\n",
              "      <td>0.012151</td>\n",
              "      <td>0.097855</td>\n",
              "      <td>0.001018</td>\n",
              "      <td>0.000355</td>\n",
              "      <td>-0.038931</td>\n",
              "      <td>0.104713</td>\n",
              "      <td>-0.790639</td>\n",
              "      <td>-0.005656</td>\n",
              "      <td>-0.014562</td>\n",
              "      <td>1.106660e-01</td>\n",
              "      <td>0.411031</td>\n",
              "      <td>0.013931</td>\n",
              "      <td>0.411988</td>\n",
              "      <td>0.036313</td>\n",
              "    </tr>\n",
              "  </tbody>\n",
              "</table>\n",
              "</div>"
            ],
            "text/plain": [
              "       ARR_TIME  CRS_ARR_TIME  ...  NAS_DELAY  LATE_AIRCRAFT_DELAY\n",
              "PC-1   0.000090     -0.000049  ...   0.001177             0.001715\n",
              "PC-2  -0.000406      0.000668  ...   0.004730            -0.000673\n",
              "PC-3   0.001865      0.005391  ...   0.009815            -0.008289\n",
              "PC-4  -0.009755     -0.013450  ...  -0.003140            -0.015178\n",
              "PC-5   0.004484      0.020985  ...   0.150486             0.968376\n",
              "PC-6  -0.052519     -0.023743  ...   0.840789            -0.209897\n",
              "PC-7  -0.010169     -0.018451  ...  -0.256981            -0.080554\n",
              "PC-8  -0.331306     -0.318029  ...   0.101084             0.038315\n",
              "PC-9  -0.114970     -0.095271  ...  -0.113211             0.089058\n",
              "PC-10  0.012151      0.097855  ...   0.411988             0.036313\n",
              "\n",
              "[10 rows x 14 columns]"
            ]
          },
          "metadata": {
            "tags": []
          },
          "execution_count": 21
        }
      ]
    },
    {
      "cell_type": "markdown",
      "metadata": {
        "id": "cpFpSawrXEz6"
      },
      "source": [
        "Here, **pca.components_** has shape **[n_components, n_features]**. Looking at the PC1 (First Principal Component) which is the first row: **[0.000090\t-0.000049\t0.999239\t0.037215\t0.001617\t-0.000005\t0.001539\t0.004220\t0.010370\t7.300183e-04\t-0.000465\t-0.000603\t0.001177\t0.001715]** we can conclude that feature TAIL_NUM, DISTANCE are the most important."
      ]
    },
    {
      "cell_type": "code",
      "metadata": {
        "colab": {
          "base_uri": "https://localhost:8080/"
        },
        "id": "Z2tX0dccdcEt",
        "outputId": "59c75cde-60e6-4f94-8e11-a0461ce8b402"
      },
      "source": [
        "print( 'Shape of transformed X_train: ', X_train_pca.shape )\n",
        "print( 'Shape of transformed X_test: ', X_test_pca.shape )"
      ],
      "execution_count": 22,
      "outputs": [
        {
          "output_type": "stream",
          "text": [
            "Shape of transformed X_train:  (800, 10)\n",
            "Shape of transformed X_test:  (200, 10)\n"
          ],
          "name": "stdout"
        }
      ]
    },
    {
      "cell_type": "code",
      "metadata": {
        "colab": {
          "base_uri": "https://localhost:8080/"
        },
        "id": "RDzj7zV1dcEu",
        "outputId": "5cd025a0-5f68-4d2e-d042-d66f2b1d7804"
      },
      "source": [
        "# Get the score of Gradient Boosting Model after the SelectKBest\n",
        "get_score_decision_tree(X_train_pca, X_test_pca, y_train, y_test)"
      ],
      "execution_count": 23,
      "outputs": [
        {
          "output_type": "stream",
          "text": [
            "Accuracy:  0.73\n"
          ],
          "name": "stdout"
        },
        {
          "output_type": "execute_result",
          "data": {
            "text/plain": [
              "0.73"
            ]
          },
          "metadata": {
            "tags": []
          },
          "execution_count": 23
        }
      ]
    },
    {
      "cell_type": "markdown",
      "metadata": {
        "id": "JQKI9fr13XfM"
      },
      "source": [
        "**The accuracy scores from PCA is lower than that from SelectKBest (0.73 vs 0.745).**"
      ]
    },
    {
      "cell_type": "markdown",
      "metadata": {
        "id": "9n2by7Q-1gzS"
      },
      "source": [
        "## 4.3 Decision Tree model and Recursive Feature Elimination (RFE) "
      ]
    },
    {
      "cell_type": "code",
      "metadata": {
        "colab": {
          "base_uri": "https://localhost:8080/"
        },
        "id": "-oOYGosLA8Bq",
        "outputId": "74d6e127-d285-4164-f241-898aaa01c011"
      },
      "source": [
        "# Number of features in X_train\n",
        "nfeatures = len( X_train.columns )\n",
        "print('Number of features in X_train: ', nfeatures)"
      ],
      "execution_count": 24,
      "outputs": [
        {
          "output_type": "stream",
          "text": [
            "Number of features in X_train:  14\n"
          ],
          "name": "stdout"
        }
      ]
    },
    {
      "cell_type": "code",
      "metadata": {
        "id": "JXR_gGzOwjiY",
        "colab": {
          "base_uri": "https://localhost:8080/"
        },
        "outputId": "111d49b8-b220-4483-9f3e-4d00990b2c8e"
      },
      "source": [
        "# RFECV using GradientBoostingClassifier as estimator\n",
        "estimator = GradientBoostingClassifier(n_estimators=100, random_state=0)\n",
        "selector = RFECV(estimator, step=1, cv=5)\n",
        "X_train_rfe = selector.fit_transform(X_train, y_train)\n",
        "X_test_rfe  = selector.transform(X_test)\n",
        "\n",
        "print( 'Supports/features selected [1/0]: ', selector.support_ )\n",
        "print( 'Ranking of the features: ', selector.ranking_ )"
      ],
      "execution_count": 25,
      "outputs": [
        {
          "output_type": "stream",
          "text": [
            "Supports/features selected [1/0]:  [ True False False False False  True False False False False False  True\n",
            "  True  True]\n",
            "Ranking of the features:  [ 1 10  3  7  9  1  2  6  8  4  5  1  1  1]\n"
          ],
          "name": "stdout"
        }
      ]
    },
    {
      "cell_type": "code",
      "metadata": {
        "id": "SP7Je1K0ztFh",
        "colab": {
          "base_uri": "https://localhost:8080/"
        },
        "outputId": "689641b4-e9c6-4648-b699-1f0dc3d12dc8"
      },
      "source": [
        "print('Number of selected features: ', selector.n_features_)\n",
        "print()\n",
        "print('Grid scores: ', selector.grid_scores_)\n",
        "print()\n",
        "print('Feature importances: ', selector.estimator_.feature_importances_ )"
      ],
      "execution_count": 26,
      "outputs": [
        {
          "output_type": "stream",
          "text": [
            "Number of selected features:  5\n",
            "\n",
            "Grid scores:  [0.65625 0.72625 0.76    0.79875 0.8275  0.82125 0.8125  0.8075  0.79875\n",
            " 0.785   0.79875 0.8025  0.805   0.80375]\n",
            "\n",
            "Feature importances:  [0.29400883 0.12719981 0.13949715 0.26579259 0.17350163]\n"
          ],
          "name": "stdout"
        }
      ]
    },
    {
      "cell_type": "code",
      "metadata": {
        "id": "SoqtAs-843Ob",
        "colab": {
          "base_uri": "https://localhost:8080/"
        },
        "outputId": "bebdc0ac-060b-4f12-c5a5-92555408870c"
      },
      "source": [
        "# Selected features\n",
        "features = X_train.columns[selector.get_support()]\n",
        "print( features )\n",
        "print( len(features) )"
      ],
      "execution_count": 27,
      "outputs": [
        {
          "output_type": "stream",
          "text": [
            "Index(['ARR_TIME', 'DEP_TIME', 'CARRIER_DELAY', 'NAS_DELAY',\n",
            "       'LATE_AIRCRAFT_DELAY'],\n",
            "      dtype='object')\n",
            "5\n"
          ],
          "name": "stdout"
        }
      ]
    },
    {
      "cell_type": "code",
      "metadata": {
        "id": "9HMCWypp5yTC",
        "colab": {
          "base_uri": "https://localhost:8080/"
        },
        "outputId": "3ef687bd-899e-47de-95bc-8879cea3518a"
      },
      "source": [
        "# Get the score of Gradient Boosting Model after the RFE\n",
        "get_score_decision_tree(X_train_rfe, X_test_rfe, y_train, y_test)"
      ],
      "execution_count": 28,
      "outputs": [
        {
          "output_type": "stream",
          "text": [
            "Accuracy:  0.875\n"
          ],
          "name": "stdout"
        },
        {
          "output_type": "execute_result",
          "data": {
            "text/plain": [
              "0.875"
            ]
          },
          "metadata": {
            "tags": []
          },
          "execution_count": 28
        }
      ]
    },
    {
      "cell_type": "markdown",
      "metadata": {
        "id": "wJQRkMAk4g1N"
      },
      "source": [
        "**The accuracy score (on test set) of the Random Forest model with the RFECV (using GradientBoostingClassifier as estimator) has been improved significantly (0.745 vs 0.875).**"
      ]
    },
    {
      "cell_type": "markdown",
      "metadata": {
        "id": "lXTni8jO3PNF"
      },
      "source": [
        "## 4.4 Get best parameters of Random Forest model with GridSearch and Cross-validation (GridSearchCV)"
      ]
    },
    {
      "cell_type": "markdown",
      "metadata": {
        "id": "H2opDjJGee7s"
      },
      "source": [
        "**Because the score of Random Forest classifier on the test set with the use of RFE is the best (RFE: 0.875, PCA: 0.73, SelectKBest: 0.745). I'll use RFE for the next steps.**"
      ]
    },
    {
      "cell_type": "markdown",
      "metadata": {
        "id": "G1mE1szq5zz7"
      },
      "source": [
        "### Parameter space"
      ]
    },
    {
      "cell_type": "code",
      "metadata": {
        "id": "F6_9_eWl-WmJ"
      },
      "source": [
        "# Parameter space\n",
        "param_grid = {\n",
        "    'criterion': ['gini', 'entropy'],\n",
        "    'max_features':['log2', 'sqrt', None],\n",
        "    'max_depth': [1, 2, 4, 5, None]\n",
        "    }"
      ],
      "execution_count": 44,
      "outputs": []
    },
    {
      "cell_type": "markdown",
      "metadata": {
        "id": "EtB3_29C5-47"
      },
      "source": [
        "### GridSearchCV"
      ]
    },
    {
      "cell_type": "code",
      "metadata": {
        "id": "un-NidaT5-Su",
        "colab": {
          "base_uri": "https://localhost:8080/"
        },
        "outputId": "f3999083-1cdb-4404-add5-91d0a6c0d7f9"
      },
      "source": [
        "# GridsearchCV\n",
        "clf = GridSearchCV(DecisionTreeClassifier(random_state=42), param_grid=param_grid, cv=3, n_jobs=-1)\n",
        "clf.fit(X_train_rfe, y_train)\n",
        "\n",
        "# Get best params\n",
        "print(clf.score(X_train_rfe, y_train))\n",
        "print(clf.best_params_)"
      ],
      "execution_count": 45,
      "outputs": [
        {
          "output_type": "stream",
          "text": [
            "0.99875\n",
            "{'criterion': 'gini', 'max_depth': None, 'max_features': None}\n"
          ],
          "name": "stdout"
        }
      ]
    },
    {
      "cell_type": "code",
      "metadata": {
        "id": "qPF67NJJ-nhR",
        "colab": {
          "base_uri": "https://localhost:8080/"
        },
        "outputId": "b6ead838-271e-435d-cf3a-16f9a6ac1f6c"
      },
      "source": [
        "# Re-train the model with best parameter from GridSearchCV\n",
        "best_params = clf.best_params_\n",
        "gbc = DecisionTreeClassifier(criterion=best_params['criterion'], max_depth=best_params['max_depth'],\n",
        "                                 max_features=best_params['max_features'], random_state=0)\n",
        "gbc.fit(X_train_rfe, y_train)"
      ],
      "execution_count": 46,
      "outputs": [
        {
          "output_type": "execute_result",
          "data": {
            "text/plain": [
              "DecisionTreeClassifier(ccp_alpha=0.0, class_weight=None, criterion='gini',\n",
              "                       max_depth=None, max_features=None, max_leaf_nodes=None,\n",
              "                       min_impurity_decrease=0.0, min_impurity_split=None,\n",
              "                       min_samples_leaf=1, min_samples_split=2,\n",
              "                       min_weight_fraction_leaf=0.0, presort='deprecated',\n",
              "                       random_state=0, splitter='best')"
            ]
          },
          "metadata": {
            "tags": []
          },
          "execution_count": 46
        }
      ]
    },
    {
      "cell_type": "code",
      "metadata": {
        "id": "x6ACdysc-u8P",
        "colab": {
          "base_uri": "https://localhost:8080/"
        },
        "outputId": "4e20c335-6d1d-4e1d-901f-a56558ee95ce"
      },
      "source": [
        "# Predict and get score using test data\n",
        "pred = gbc.predict(X_test_rfe)\n",
        "# Get the score\n",
        "print(\"Accuracy on test data: \", accuracy_score(y_test, pred))"
      ],
      "execution_count": 47,
      "outputs": [
        {
          "output_type": "stream",
          "text": [
            "Accuracy on test data:  0.875\n"
          ],
          "name": "stdout"
        }
      ]
    },
    {
      "cell_type": "markdown",
      "metadata": {
        "id": "9x3shxO2gIG8"
      },
      "source": [
        "**NOTE: The accuracy did not change (0.875) because the best parameters are identical to what have used.**"
      ]
    },
    {
      "cell_type": "markdown",
      "metadata": {
        "id": "gkSVgbKbiFJ8"
      },
      "source": [
        "### Prediction"
      ]
    },
    {
      "cell_type": "code",
      "metadata": {
        "id": "GYgiRjnA7UZO",
        "colab": {
          "base_uri": "https://localhost:8080/",
          "height": 359
        },
        "outputId": "82a5634a-54a6-46d1-9f2c-6f02713e7280"
      },
      "source": [
        "X_new = df_sub.drop(['DELAYED'], axis=1, inplace=False)[8000:8010]\n",
        "X_new"
      ],
      "execution_count": 48,
      "outputs": [
        {
          "output_type": "execute_result",
          "data": {
            "text/html": [
              "<div>\n",
              "<style scoped>\n",
              "    .dataframe tbody tr th:only-of-type {\n",
              "        vertical-align: middle;\n",
              "    }\n",
              "\n",
              "    .dataframe tbody tr th {\n",
              "        vertical-align: top;\n",
              "    }\n",
              "\n",
              "    .dataframe thead th {\n",
              "        text-align: right;\n",
              "    }\n",
              "</style>\n",
              "<table border=\"1\" class=\"dataframe\">\n",
              "  <thead>\n",
              "    <tr style=\"text-align: right;\">\n",
              "      <th></th>\n",
              "      <th>ARR_TIME</th>\n",
              "      <th>CRS_ARR_TIME</th>\n",
              "      <th>TAIL_NUM</th>\n",
              "      <th>DISTANCE</th>\n",
              "      <th>OP_CARRIER_FL_NUM</th>\n",
              "      <th>DEP_TIME</th>\n",
              "      <th>TAXI_OUT</th>\n",
              "      <th>DEST</th>\n",
              "      <th>ORIGIN</th>\n",
              "      <th>TAXI_IN</th>\n",
              "      <th>DAY_OF_MONTH</th>\n",
              "      <th>CARRIER_DELAY</th>\n",
              "      <th>NAS_DELAY</th>\n",
              "      <th>LATE_AIRCRAFT_DELAY</th>\n",
              "    </tr>\n",
              "  </thead>\n",
              "  <tbody>\n",
              "    <tr>\n",
              "      <th>8000</th>\n",
              "      <td>11.67</td>\n",
              "      <td>11.92</td>\n",
              "      <td>4239</td>\n",
              "      <td>545.0</td>\n",
              "      <td>2271</td>\n",
              "      <td>9.93</td>\n",
              "      <td>17.0</td>\n",
              "      <td>17</td>\n",
              "      <td>218</td>\n",
              "      <td>7.0</td>\n",
              "      <td>10</td>\n",
              "      <td>0.0</td>\n",
              "      <td>0.0</td>\n",
              "      <td>0.0</td>\n",
              "    </tr>\n",
              "    <tr>\n",
              "      <th>8001</th>\n",
              "      <td>21.60</td>\n",
              "      <td>21.93</td>\n",
              "      <td>862</td>\n",
              "      <td>502.0</td>\n",
              "      <td>2272</td>\n",
              "      <td>19.90</td>\n",
              "      <td>17.0</td>\n",
              "      <td>167</td>\n",
              "      <td>81</td>\n",
              "      <td>10.0</td>\n",
              "      <td>10</td>\n",
              "      <td>0.0</td>\n",
              "      <td>0.0</td>\n",
              "      <td>0.0</td>\n",
              "    </tr>\n",
              "    <tr>\n",
              "      <th>8002</th>\n",
              "      <td>8.12</td>\n",
              "      <td>8.30</td>\n",
              "      <td>4280</td>\n",
              "      <td>306.0</td>\n",
              "      <td>2273</td>\n",
              "      <td>6.82</td>\n",
              "      <td>13.0</td>\n",
              "      <td>17</td>\n",
              "      <td>119</td>\n",
              "      <td>4.0</td>\n",
              "      <td>10</td>\n",
              "      <td>0.0</td>\n",
              "      <td>0.0</td>\n",
              "      <td>0.0</td>\n",
              "    </tr>\n",
              "    <tr>\n",
              "      <th>8003</th>\n",
              "      <td>23.50</td>\n",
              "      <td>23.73</td>\n",
              "      <td>4294</td>\n",
              "      <td>143.0</td>\n",
              "      <td>2275</td>\n",
              "      <td>22.77</td>\n",
              "      <td>13.0</td>\n",
              "      <td>11</td>\n",
              "      <td>17</td>\n",
              "      <td>5.0</td>\n",
              "      <td>10</td>\n",
              "      <td>0.0</td>\n",
              "      <td>0.0</td>\n",
              "      <td>0.0</td>\n",
              "    </tr>\n",
              "    <tr>\n",
              "      <th>8004</th>\n",
              "      <td>9.45</td>\n",
              "      <td>9.63</td>\n",
              "      <td>4473</td>\n",
              "      <td>950.0</td>\n",
              "      <td>2276</td>\n",
              "      <td>6.85</td>\n",
              "      <td>13.0</td>\n",
              "      <td>167</td>\n",
              "      <td>178</td>\n",
              "      <td>14.0</td>\n",
              "      <td>10</td>\n",
              "      <td>0.0</td>\n",
              "      <td>0.0</td>\n",
              "      <td>0.0</td>\n",
              "    </tr>\n",
              "    <tr>\n",
              "      <th>8005</th>\n",
              "      <td>13.77</td>\n",
              "      <td>13.83</td>\n",
              "      <td>4388</td>\n",
              "      <td>534.0</td>\n",
              "      <td>2277</td>\n",
              "      <td>12.18</td>\n",
              "      <td>13.0</td>\n",
              "      <td>135</td>\n",
              "      <td>17</td>\n",
              "      <td>6.0</td>\n",
              "      <td>10</td>\n",
              "      <td>0.0</td>\n",
              "      <td>0.0</td>\n",
              "      <td>0.0</td>\n",
              "    </tr>\n",
              "    <tr>\n",
              "      <th>8006</th>\n",
              "      <td>16.15</td>\n",
              "      <td>16.53</td>\n",
              "      <td>4388</td>\n",
              "      <td>534.0</td>\n",
              "      <td>2277</td>\n",
              "      <td>14.45</td>\n",
              "      <td>11.0</td>\n",
              "      <td>17</td>\n",
              "      <td>135</td>\n",
              "      <td>6.0</td>\n",
              "      <td>10</td>\n",
              "      <td>0.0</td>\n",
              "      <td>0.0</td>\n",
              "      <td>0.0</td>\n",
              "    </tr>\n",
              "    <tr>\n",
              "      <th>8007</th>\n",
              "      <td>14.63</td>\n",
              "      <td>13.37</td>\n",
              "      <td>4073</td>\n",
              "      <td>297.0</td>\n",
              "      <td>2278</td>\n",
              "      <td>12.40</td>\n",
              "      <td>70.0</td>\n",
              "      <td>200</td>\n",
              "      <td>188</td>\n",
              "      <td>3.0</td>\n",
              "      <td>10</td>\n",
              "      <td>0.0</td>\n",
              "      <td>52.0</td>\n",
              "      <td>24.0</td>\n",
              "    </tr>\n",
              "    <tr>\n",
              "      <th>8008</th>\n",
              "      <td>11.93</td>\n",
              "      <td>11.30</td>\n",
              "      <td>4073</td>\n",
              "      <td>297.0</td>\n",
              "      <td>2278</td>\n",
              "      <td>9.97</td>\n",
              "      <td>61.0</td>\n",
              "      <td>188</td>\n",
              "      <td>200</td>\n",
              "      <td>4.0</td>\n",
              "      <td>10</td>\n",
              "      <td>0.0</td>\n",
              "      <td>38.0</td>\n",
              "      <td>0.0</td>\n",
              "    </tr>\n",
              "    <tr>\n",
              "      <th>8009</th>\n",
              "      <td>20.48</td>\n",
              "      <td>21.00</td>\n",
              "      <td>4460</td>\n",
              "      <td>746.0</td>\n",
              "      <td>2280</td>\n",
              "      <td>18.18</td>\n",
              "      <td>14.0</td>\n",
              "      <td>17</td>\n",
              "      <td>94</td>\n",
              "      <td>9.0</td>\n",
              "      <td>10</td>\n",
              "      <td>0.0</td>\n",
              "      <td>0.0</td>\n",
              "      <td>0.0</td>\n",
              "    </tr>\n",
              "  </tbody>\n",
              "</table>\n",
              "</div>"
            ],
            "text/plain": [
              "      ARR_TIME  CRS_ARR_TIME  ...  NAS_DELAY  LATE_AIRCRAFT_DELAY\n",
              "8000     11.67         11.92  ...        0.0                  0.0\n",
              "8001     21.60         21.93  ...        0.0                  0.0\n",
              "8002      8.12          8.30  ...        0.0                  0.0\n",
              "8003     23.50         23.73  ...        0.0                  0.0\n",
              "8004      9.45          9.63  ...        0.0                  0.0\n",
              "8005     13.77         13.83  ...        0.0                  0.0\n",
              "8006     16.15         16.53  ...        0.0                  0.0\n",
              "8007     14.63         13.37  ...       52.0                 24.0\n",
              "8008     11.93         11.30  ...       38.0                  0.0\n",
              "8009     20.48         21.00  ...        0.0                  0.0\n",
              "\n",
              "[10 rows x 14 columns]"
            ]
          },
          "metadata": {
            "tags": []
          },
          "execution_count": 48
        }
      ]
    },
    {
      "cell_type": "code",
      "metadata": {
        "id": "ontwyEuyFkrj",
        "colab": {
          "base_uri": "https://localhost:8080/"
        },
        "outputId": "d8c181f9-e668-4666-a018-378efcd67df0"
      },
      "source": [
        "df_sub['DELAYED'][8000:8010]"
      ],
      "execution_count": 49,
      "outputs": [
        {
          "output_type": "execute_result",
          "data": {
            "text/plain": [
              "8000    0\n",
              "8001    0\n",
              "8002    0\n",
              "8003    0\n",
              "8004    0\n",
              "8005    0\n",
              "8006    0\n",
              "8007    3\n",
              "8008    2\n",
              "8009    0\n",
              "Name: DELAYED, dtype: int64"
            ]
          },
          "metadata": {
            "tags": []
          },
          "execution_count": 49
        }
      ]
    },
    {
      "cell_type": "code",
      "metadata": {
        "id": "VSTnCMCpPnpn",
        "colab": {
          "base_uri": "https://localhost:8080/"
        },
        "outputId": "79947ef5-ed84-44df-8099-9ae4c3e292fb"
      },
      "source": [
        "X_new_rfe = selector.transform(X_new)\n",
        "\n",
        "print(X_new_rfe.shape)\n",
        "X_new_rfe"
      ],
      "execution_count": 50,
      "outputs": [
        {
          "output_type": "stream",
          "text": [
            "(10, 5)\n"
          ],
          "name": "stdout"
        },
        {
          "output_type": "execute_result",
          "data": {
            "text/plain": [
              "array([[11.67,  9.93,  0.  ,  0.  ,  0.  ],\n",
              "       [21.6 , 19.9 ,  0.  ,  0.  ,  0.  ],\n",
              "       [ 8.12,  6.82,  0.  ,  0.  ,  0.  ],\n",
              "       [23.5 , 22.77,  0.  ,  0.  ,  0.  ],\n",
              "       [ 9.45,  6.85,  0.  ,  0.  ,  0.  ],\n",
              "       [13.77, 12.18,  0.  ,  0.  ,  0.  ],\n",
              "       [16.15, 14.45,  0.  ,  0.  ,  0.  ],\n",
              "       [14.63, 12.4 ,  0.  , 52.  , 24.  ],\n",
              "       [11.93,  9.97,  0.  , 38.  ,  0.  ],\n",
              "       [20.48, 18.18,  0.  ,  0.  ,  0.  ]])"
            ]
          },
          "metadata": {
            "tags": []
          },
          "execution_count": 50
        }
      ]
    },
    {
      "cell_type": "code",
      "metadata": {
        "id": "jqHdAxy27xS5",
        "colab": {
          "base_uri": "https://localhost:8080/"
        },
        "outputId": "228c6850-ede3-46bc-9706-b066442eedee"
      },
      "source": [
        "print('Prediction: ', gbc.predict(X_new_rfe).tolist())\n",
        "print('True labels: ', df_sub['DELAYED'][8000:8010].tolist())"
      ],
      "execution_count": 51,
      "outputs": [
        {
          "output_type": "stream",
          "text": [
            "Prediction:  [0, 0, 1, 1, 0, 0, 0, 2, 2, 0]\n",
            "True labels:  [0, 0, 0, 0, 0, 0, 0, 3, 2, 0]\n"
          ],
          "name": "stdout"
        }
      ]
    },
    {
      "cell_type": "markdown",
      "metadata": {
        "id": "zAAwGm8w5JIg"
      },
      "source": [
        "## 4.5 Get best parameters of Decision Tree model with Hyperopt"
      ]
    },
    {
      "cell_type": "markdown",
      "metadata": {
        "id": "K9SoWNjJgOCq"
      },
      "source": [
        "### Parameter space"
      ]
    },
    {
      "cell_type": "code",
      "metadata": {
        "id": "QcJBJBnyxIO7",
        "colab": {
          "base_uri": "https://localhost:8080/"
        },
        "outputId": "5ab74b60-e5b4-49a5-f39d-172e77e8633c"
      },
      "source": [
        "# Number of features in X_train\n",
        "nfeatures = len( X_train.columns )\n",
        "print('Number of features in X_train: ', nfeatures)"
      ],
      "execution_count": 52,
      "outputs": [
        {
          "output_type": "stream",
          "text": [
            "Number of features in X_train:  14\n"
          ],
          "name": "stdout"
        }
      ]
    },
    {
      "cell_type": "code",
      "metadata": {
        "id": "_6bWASM4gOCq",
        "colab": {
          "base_uri": "https://localhost:8080/"
        },
        "outputId": "b46d7614-7fda-4288-8482-84105065bb18"
      },
      "source": [
        "# Params space\n",
        "hp_space_clf = {\n",
        "    'clf': {\n",
        "        'criterion': hp.choice('criterion', ['gini', 'entropy']),\n",
        "        'max_features': hp.choice('max_features', ['log2', 'sqrt', None] ),\n",
        "        'max_depth': hp.choice('max_depth', list(range(1,20))+ [None] )\n",
        "    }\n",
        "}\n",
        "\n",
        "# Draw random sample to see if hyperspace is correctly defined\n",
        "ho_sample(hp_space_clf)"
      ],
      "execution_count": 65,
      "outputs": [
        {
          "output_type": "execute_result",
          "data": {
            "text/plain": [
              "{'clf': {'criterion': 'entropy', 'max_depth': 9, 'max_features': 'log2'}}"
            ]
          },
          "metadata": {
            "tags": []
          },
          "execution_count": 65
        }
      ]
    },
    {
      "cell_type": "markdown",
      "metadata": {
        "id": "eUj_mqjygOCr"
      },
      "source": [
        "### Defining model"
      ]
    },
    {
      "cell_type": "code",
      "metadata": {
        "id": "1SYZyQH6gOCr"
      },
      "source": [
        "def f_clf(hps):\n",
        "    \"\"\"\n",
        "    Constructs estimator\n",
        "    \n",
        "    Parameters:\n",
        "    ----------------\n",
        "    hps : sample point from search space\n",
        "    \n",
        "    Returns:\n",
        "    ----------------\n",
        "    model : sklearn.Pipeline.pipeline with hyperparameters set up as per hps\n",
        "    \"\"\"\n",
        "    \n",
        "    # Assembing pipeline if needed\n",
        "    # model = Pipeline([\n",
        "    #     ('clf', GradientBoostingClassifier(**hps['clf'], random_state=42))\n",
        "    # ])\n",
        "    \n",
        "    model = DecisionTreeClassifier(**hps['clf'], random_state=0)\n",
        "    \n",
        "    return model"
      ],
      "execution_count": 66,
      "outputs": []
    },
    {
      "cell_type": "markdown",
      "metadata": {
        "id": "uL4g1i3STghQ"
      },
      "source": [
        "### Defining objective function"
      ]
    },
    {
      "cell_type": "markdown",
      "metadata": {
        "id": "0mtS1gjjTghQ"
      },
      "source": [
        "Define function to minimize. I'll use cross-validation score on train set."
      ]
    },
    {
      "cell_type": "code",
      "metadata": {
        "id": "cVaGGDTlTghQ"
      },
      "source": [
        "def fcn_to_minimize(hps, X, y, ncv=4):\n",
        "    \"\"\"\n",
        "    Target function for optimization\n",
        "    \n",
        "    Parameters:\n",
        "    ----------------\n",
        "    hps : sample point from search space\n",
        "    X : feature matrix\n",
        "    y : target array\n",
        "    ncv : number of folds for cross-validation\n",
        "    \n",
        "    Returns:\n",
        "    ----------------\n",
        "    : target function value (negative mean cross-val score)\n",
        "    \"\"\"\n",
        "    \n",
        "    model = f_clf(hps)\n",
        "\n",
        "    # cv_res = cross_val_score(model, X, y, cv=StratifiedKFold(ncv, shuffle=True, random_state=SEED), \n",
        "    #                          scoring='roc_auc', n_jobs=-1)\n",
        "    \n",
        "    # cv_res = cross_val_score(model, X, y, cv=StratifiedKFold(ncv, shuffle=True, random_state=31), scoring='f1_micro', n_jobs=-1)\n",
        "    # cv_res = cross_val_score(model, X, y, cv=5, n_jobs=-1)\n",
        "    cv_res = cross_val_score(model, X, y, cv=StratifiedKFold(ncv, shuffle=True, random_state=42), n_jobs=-1)\n",
        "    \n",
        "    if np.any( np.isnan(cv_res) ):\n",
        "      cv_res = np.array( [0.]*ncv )\n",
        "\n",
        "    acc = cv_res.mean()\n",
        "    \n",
        "    print(cv_res)\n",
        "    print(\"Accuracy: %0.2f (+/- %0.2f)\" % (cv_res.mean(), cv_res.std() * 2))\n",
        "    return {'loss': -acc, 'status': STATUS_OK}"
      ],
      "execution_count": 67,
      "outputs": []
    },
    {
      "cell_type": "markdown",
      "metadata": {
        "id": "ylVUCDpQiAFt"
      },
      "source": [
        "### Running optimization"
      ]
    },
    {
      "cell_type": "markdown",
      "metadata": {
        "id": "5qgI0R9BiAFt"
      },
      "source": [
        "Run optimization for 100 rounds using TPE algorithm (the Tree-structured Parzen Estimator), meaning that we use TPE to suggest next sample values based on previous function evaluations. We'll use `Trials` class objects to keep track of optimization history.\n",
        "\n",
        "**Note**: We're binding `X` and `y` arguments of target function to `X1_train` and `y1_train` respectively, using `functools.partial`, since target function of `fmin` may accept only a search space point."
      ]
    },
    {
      "cell_type": "code",
      "metadata": {
        "id": "ZOqc9I5KiAFt",
        "colab": {
          "base_uri": "https://localhost:8080/"
        },
        "outputId": "3eb99cf8-e853-45c9-d16d-bf60dff35658"
      },
      "source": [
        "trials_clf = Trials()\n",
        "best_clf = fmin(partial(fcn_to_minimize, X=X_train_rfe, y=y_train), \n",
        "                 hp_space_clf, algo=tpe.suggest, max_evals=100, \n",
        "                 trials=trials_clf)"
      ],
      "execution_count": 68,
      "outputs": [
        {
          "output_type": "stream",
          "text": [
            "[0.8   0.775 0.79  0.865]\n",
            "Accuracy: 0.81 (+/- 0.07)\n",
            "[0.765 0.74  0.82  0.77 ]\n",
            "Accuracy: 0.77 (+/- 0.06)\n",
            "[0.77  0.775 0.745 0.745]\n",
            "Accuracy: 0.76 (+/- 0.03)\n",
            "[0.745 0.72  0.73  0.68 ]\n",
            "Accuracy: 0.72 (+/- 0.05)\n",
            "[0.635 0.67  0.67  0.655]\n",
            "Accuracy: 0.66 (+/- 0.03)\n",
            "[0.795 0.785 0.785 0.77 ]\n",
            "Accuracy: 0.78 (+/- 0.02)\n",
            "[0.825 0.76  0.805 0.8  ]\n",
            "Accuracy: 0.80 (+/- 0.05)\n",
            "[0.74  0.735 0.76  0.76 ]\n",
            "Accuracy: 0.75 (+/- 0.02)\n",
            "[0.825 0.81  0.815 0.825]\n",
            "Accuracy: 0.82 (+/- 0.01)\n",
            "[0.77  0.775 0.745 0.745]\n",
            "Accuracy: 0.76 (+/- 0.03)\n",
            "[0.765 0.73  0.735 0.74 ]\n",
            "Accuracy: 0.74 (+/- 0.03)\n",
            "[0.78 0.7  0.7  0.73]\n",
            "Accuracy: 0.73 (+/- 0.07)\n",
            "[0.69  0.745 0.75  0.755]\n",
            "Accuracy: 0.73 (+/- 0.05)\n",
            "[0.805 0.75  0.815 0.785]\n",
            "Accuracy: 0.79 (+/- 0.05)\n",
            "[0.83  0.81  0.835 0.815]\n",
            "Accuracy: 0.82 (+/- 0.02)\n",
            "[0.705 0.7   0.705 0.71 ]\n",
            "Accuracy: 0.70 (+/- 0.01)\n",
            "[0.75  0.775 0.805 0.77 ]\n",
            "Accuracy: 0.78 (+/- 0.04)\n",
            "[0.83 0.76 0.8  0.77]\n",
            "Accuracy: 0.79 (+/- 0.05)\n",
            "[0.665 0.7   0.705 0.7  ]\n",
            "Accuracy: 0.69 (+/- 0.03)\n",
            "[0.82  0.815 0.82  0.82 ]\n",
            "Accuracy: 0.82 (+/- 0.00)\n",
            "[0.73  0.755 0.71  0.7  ]\n",
            "Accuracy: 0.72 (+/- 0.04)\n",
            "[0.795 0.78  0.78  0.785]\n",
            "Accuracy: 0.79 (+/- 0.01)\n",
            "[0.67  0.705 0.685 0.675]\n",
            "Accuracy: 0.68 (+/- 0.03)\n",
            "[0.83  0.805 0.825 0.815]\n",
            "Accuracy: 0.82 (+/- 0.02)\n",
            "[0.825 0.81  0.825 0.82 ]\n",
            "Accuracy: 0.82 (+/- 0.01)\n",
            "[0.825 0.81  0.825 0.82 ]\n",
            "Accuracy: 0.82 (+/- 0.01)\n",
            "[0.81  0.815 0.81  0.825]\n",
            "Accuracy: 0.81 (+/- 0.01)\n",
            "[0.83  0.775 0.82  0.785]\n",
            "Accuracy: 0.80 (+/- 0.05)\n",
            "[0.83  0.81  0.835 0.815]\n",
            "Accuracy: 0.82 (+/- 0.02)\n",
            "[0.785 0.73  0.815 0.77 ]\n",
            "Accuracy: 0.78 (+/- 0.06)\n",
            "[0.83  0.81  0.835 0.815]\n",
            "Accuracy: 0.82 (+/- 0.02)\n",
            "[0.84 0.81 0.84 0.91]\n",
            "Accuracy: 0.85 (+/- 0.07)\n",
            "[0.82  0.745 0.815 0.81 ]\n",
            "Accuracy: 0.80 (+/- 0.06)\n",
            "[0.84 0.81 0.84 0.91]\n",
            "Accuracy: 0.85 (+/- 0.07)\n",
            "[0.84 0.81 0.84 0.91]\n",
            "Accuracy: 0.85 (+/- 0.07)\n",
            "[0.84 0.81 0.84 0.91]\n",
            "Accuracy: 0.85 (+/- 0.07)\n",
            "[0.82  0.745 0.815 0.81 ]\n",
            "Accuracy: 0.80 (+/- 0.06)\n",
            "[0.625 0.63  0.605 0.62 ]\n",
            "Accuracy: 0.62 (+/- 0.02)\n",
            "[0.75  0.755 0.765 0.78 ]\n",
            "Accuracy: 0.76 (+/- 0.02)\n",
            "[0.815 0.78  0.805 0.81 ]\n",
            "Accuracy: 0.80 (+/- 0.03)\n",
            "[0.8   0.775 0.79  0.865]\n",
            "Accuracy: 0.81 (+/- 0.07)\n",
            "[0.825 0.78  0.815 0.77 ]\n",
            "Accuracy: 0.80 (+/- 0.05)\n",
            "[0.765 0.74  0.82  0.77 ]\n",
            "Accuracy: 0.77 (+/- 0.06)\n",
            "[0.785 0.755 0.74  0.76 ]\n",
            "Accuracy: 0.76 (+/- 0.03)\n",
            "[0.835 0.735 0.815 0.795]\n",
            "Accuracy: 0.79 (+/- 0.07)\n",
            "[0.83  0.715 0.8   0.805]\n",
            "Accuracy: 0.79 (+/- 0.09)\n",
            "[0.79  0.73  0.7   0.745]\n",
            "Accuracy: 0.74 (+/- 0.06)\n",
            "[0.665 0.69  0.7   0.675]\n",
            "Accuracy: 0.68 (+/- 0.03)\n",
            "[0.79  0.75  0.765 0.78 ]\n",
            "Accuracy: 0.77 (+/- 0.03)\n",
            "[0.785 0.785 0.805 0.78 ]\n",
            "Accuracy: 0.79 (+/- 0.02)\n",
            "[0.755 0.7   0.735 0.725]\n",
            "Accuracy: 0.73 (+/- 0.04)\n",
            "[0.73  0.755 0.71  0.7  ]\n",
            "Accuracy: 0.72 (+/- 0.04)\n",
            "[0.795 0.785 0.785 0.77 ]\n",
            "Accuracy: 0.78 (+/- 0.02)\n",
            "[0.84  0.735 0.81  0.805]\n",
            "Accuracy: 0.80 (+/- 0.08)\n",
            "[0.82  0.745 0.815 0.81 ]\n",
            "Accuracy: 0.80 (+/- 0.06)\n",
            "[0.745 0.735 0.725 0.685]\n",
            "Accuracy: 0.72 (+/- 0.05)\n",
            "[0.77  0.74  0.745 0.75 ]\n",
            "Accuracy: 0.75 (+/- 0.02)\n",
            "[0.635 0.67  0.67  0.655]\n",
            "Accuracy: 0.66 (+/- 0.03)\n",
            "[0.825 0.81  0.815 0.825]\n",
            "Accuracy: 0.82 (+/- 0.01)\n",
            "[0.815 0.78  0.805 0.81 ]\n",
            "Accuracy: 0.80 (+/- 0.03)\n",
            "[0.765 0.73  0.735 0.74 ]\n",
            "Accuracy: 0.74 (+/- 0.03)\n",
            "[0.8   0.775 0.79  0.865]\n",
            "Accuracy: 0.81 (+/- 0.07)\n",
            "[0.83  0.715 0.8   0.805]\n",
            "Accuracy: 0.79 (+/- 0.09)\n",
            "[0.815 0.78  0.795 0.775]\n",
            "Accuracy: 0.79 (+/- 0.03)\n",
            "[0.835 0.735 0.815 0.795]\n",
            "Accuracy: 0.79 (+/- 0.07)\n",
            "[0.84 0.81 0.84 0.91]\n",
            "Accuracy: 0.85 (+/- 0.07)\n",
            "[0.84 0.81 0.84 0.91]\n",
            "Accuracy: 0.85 (+/- 0.07)\n",
            "[0.84 0.81 0.84 0.91]\n",
            "Accuracy: 0.85 (+/- 0.07)\n",
            "[0.84 0.81 0.84 0.91]\n",
            "Accuracy: 0.85 (+/- 0.07)\n",
            "[0.83 0.76 0.8  0.77]\n",
            "Accuracy: 0.79 (+/- 0.05)\n",
            "[0.73  0.755 0.71  0.7  ]\n",
            "Accuracy: 0.72 (+/- 0.04)\n",
            "[0.785 0.79  0.785 0.78 ]\n",
            "Accuracy: 0.79 (+/- 0.01)\n",
            "[0.795 0.785 0.785 0.77 ]\n",
            "Accuracy: 0.78 (+/- 0.02)\n",
            "[0.84 0.81 0.84 0.91]\n",
            "Accuracy: 0.85 (+/- 0.07)\n",
            "[0.79  0.75  0.765 0.78 ]\n",
            "Accuracy: 0.77 (+/- 0.03)\n",
            "[0.795 0.78  0.78  0.785]\n",
            "Accuracy: 0.79 (+/- 0.01)\n",
            "[0.67  0.705 0.685 0.675]\n",
            "Accuracy: 0.68 (+/- 0.03)\n",
            "[0.815 0.78  0.745 0.76 ]\n",
            "Accuracy: 0.77 (+/- 0.05)\n",
            "[0.835 0.815 0.82  0.9  ]\n",
            "Accuracy: 0.84 (+/- 0.07)\n",
            "[0.825 0.81  0.825 0.82 ]\n",
            "Accuracy: 0.82 (+/- 0.01)\n",
            "[0.705 0.7   0.705 0.71 ]\n",
            "Accuracy: 0.70 (+/- 0.01)\n",
            "[0.84 0.81 0.84 0.91]\n",
            "Accuracy: 0.85 (+/- 0.07)\n",
            "[0.625 0.63  0.605 0.62 ]\n",
            "Accuracy: 0.62 (+/- 0.02)\n",
            "[0.815 0.78  0.805 0.81 ]\n",
            "Accuracy: 0.80 (+/- 0.03)\n",
            "[0.785 0.77  0.765 0.775]\n",
            "Accuracy: 0.77 (+/- 0.01)\n",
            "[0.765 0.73  0.735 0.74 ]\n",
            "Accuracy: 0.74 (+/- 0.03)\n",
            "[0.835 0.79  0.815 0.805]\n",
            "Accuracy: 0.81 (+/- 0.03)\n",
            "[0.84 0.81 0.84 0.91]\n",
            "Accuracy: 0.85 (+/- 0.07)\n",
            "[0.78  0.745 0.77  0.815]\n",
            "Accuracy: 0.78 (+/- 0.05)\n",
            "[0.815 0.78  0.795 0.775]\n",
            "Accuracy: 0.79 (+/- 0.03)\n",
            "[0.83  0.715 0.8   0.805]\n",
            "Accuracy: 0.79 (+/- 0.09)\n",
            "[0.82  0.745 0.815 0.81 ]\n",
            "Accuracy: 0.80 (+/- 0.06)\n",
            "[0.82  0.815 0.82  0.82 ]\n",
            "Accuracy: 0.82 (+/- 0.00)\n",
            "[0.79  0.73  0.7   0.745]\n",
            "Accuracy: 0.74 (+/- 0.06)\n",
            "[0.67  0.705 0.685 0.675]\n",
            "Accuracy: 0.68 (+/- 0.03)\n",
            "[0.795 0.78  0.78  0.785]\n",
            "Accuracy: 0.79 (+/- 0.01)\n",
            "[0.7   0.735 0.715 0.715]\n",
            "Accuracy: 0.72 (+/- 0.02)\n",
            "[0.69  0.745 0.75  0.755]\n",
            "Accuracy: 0.73 (+/- 0.05)\n",
            "[0.81  0.815 0.81  0.825]\n",
            "Accuracy: 0.81 (+/- 0.01)\n",
            "[0.735 0.725 0.735 0.715]\n",
            "Accuracy: 0.73 (+/- 0.02)\n",
            "100%|██████████| 100/100 [00:04<00:00, 21.23it/s, best loss: -0.85]\n"
          ],
          "name": "stdout"
        }
      ]
    },
    {
      "cell_type": "code",
      "metadata": {
        "id": "wDTMnBjKiAFt",
        "colab": {
          "base_uri": "https://localhost:8080/"
        },
        "outputId": "5c989800-b170-40d7-b470-cdd32b42e46c"
      },
      "source": [
        "# Best parameters from Hyperopt\n",
        "print('Best parameters from Hyperopt:')\n",
        "print(space_eval(hp_space_clf, best_clf))\n",
        "\n",
        "# NOTE: the hp.choice gives the index of the choice, so for example: max_feature: 1 -> This means the index = 1 in the list of  choices."
      ],
      "execution_count": 69,
      "outputs": [
        {
          "output_type": "stream",
          "text": [
            "Best parameters from Hyperopt:\n",
            "{'clf': {'criterion': 'gini', 'max_depth': None, 'max_features': None}}\n"
          ],
          "name": "stdout"
        }
      ]
    },
    {
      "cell_type": "markdown",
      "metadata": {
        "id": "MZRRJwB-iRhZ"
      },
      "source": [
        "### Model performance on test set"
      ]
    },
    {
      "cell_type": "code",
      "metadata": {
        "id": "BteFmknTiRhZ",
        "colab": {
          "base_uri": "https://localhost:8080/"
        },
        "outputId": "3494211f-f3b2-40b0-fe3f-c649b962c8c9"
      },
      "source": [
        "# Building and fitting classifier with best parameters\n",
        "clf = f_clf( space_eval(hp_space_clf, best_clf) ).fit(X_train_rfe, y_train)\n",
        "\n",
        "# Calculating performance on test set\n",
        "predictions = clf.predict(X_test_rfe)\n",
        "\n",
        "print(\"Confusion Matrix:\")\n",
        "print(confusion_matrix(y_test, predictions))\n",
        "\n",
        "print(\"Classification Report:\")\n",
        "print(classification_report(y_test, predictions))\n",
        "\n",
        "print('Best parameters:')\n",
        "print(space_eval(hp_space_clf, best_clf))"
      ],
      "execution_count": 70,
      "outputs": [
        {
          "output_type": "stream",
          "text": [
            "Confusion Matrix:\n",
            "[[115   9   0   0   0]\n",
            " [ 11  38   1   0   0]\n",
            " [  0   1  14   1   0]\n",
            " [  0   0   2   6   0]\n",
            " [  0   0   0   0   2]]\n",
            "Classification Report:\n",
            "              precision    recall  f1-score   support\n",
            "\n",
            "           0       0.91      0.93      0.92       124\n",
            "           1       0.79      0.76      0.78        50\n",
            "           2       0.82      0.88      0.85        16\n",
            "           3       0.86      0.75      0.80         8\n",
            "           4       1.00      1.00      1.00         2\n",
            "\n",
            "    accuracy                           0.88       200\n",
            "   macro avg       0.88      0.86      0.87       200\n",
            "weighted avg       0.87      0.88      0.87       200\n",
            "\n",
            "Best parameters:\n",
            "{'clf': {'criterion': 'gini', 'max_depth': None, 'max_features': None}}\n"
          ],
          "name": "stdout"
        }
      ]
    },
    {
      "cell_type": "code",
      "metadata": {
        "id": "WSBH_LrH9iKl",
        "colab": {
          "base_uri": "https://localhost:8080/"
        },
        "outputId": "67a16e0c-5cb1-4e20-f9b6-fe11204ddbf3"
      },
      "source": [
        "# Best trial\n",
        "print('Score from Best trial: ', -trials_clf.best_trial['result']['loss'] )"
      ],
      "execution_count": 71,
      "outputs": [
        {
          "output_type": "stream",
          "text": [
            "Score from Best trial:  0.85\n"
          ],
          "name": "stdout"
        }
      ]
    },
    {
      "cell_type": "code",
      "metadata": {
        "id": "gYk6hdijDGa3",
        "colab": {
          "base_uri": "https://localhost:8080/"
        },
        "outputId": "059f26f4-498e-40a5-e55e-d01f236845c5"
      },
      "source": [
        "# Accuracy score\n",
        "print('Accuracy score of the model on test set (using predict() ): ', accuracy_score(y_test, predictions) )"
      ],
      "execution_count": 72,
      "outputs": [
        {
          "output_type": "stream",
          "text": [
            "Accuracy score of the model on test set (using predict() ):  0.875\n"
          ],
          "name": "stdout"
        }
      ]
    },
    {
      "cell_type": "code",
      "metadata": {
        "id": "12YQfi5XDfpI",
        "colab": {
          "base_uri": "https://localhost:8080/"
        },
        "outputId": "5fe345ad-4cc2-4d0f-961c-29445bb77e57"
      },
      "source": [
        "# Accuracy score using predict_proba\n",
        "pred_prob_y_test = clf.predict_proba(X_test_rfe)\n",
        "preds = np.argmax(pred_prob_y_test, axis=1)\n",
        "\n",
        "print('Accuracy score on test set (using predict_proba() ): ')\n",
        "accuracy_score(y_test, preds)"
      ],
      "execution_count": 73,
      "outputs": [
        {
          "output_type": "stream",
          "text": [
            "Accuracy score on test set (using predict_proba() ): \n"
          ],
          "name": "stdout"
        },
        {
          "output_type": "execute_result",
          "data": {
            "text/plain": [
              "0.875"
            ]
          },
          "metadata": {
            "tags": []
          },
          "execution_count": 73
        }
      ]
    },
    {
      "cell_type": "markdown",
      "metadata": {
        "id": "Zcdrwv4AiRhi"
      },
      "source": [
        "Test set accuracy and cross-validation scores are consistent."
      ]
    },
    {
      "cell_type": "markdown",
      "metadata": {
        "id": "EeWTyH43jX-I"
      },
      "source": [
        "**NOTE: The accuracy score from the use of Hyperopt is equal to that of GridSearchCV (0.875).**"
      ]
    }
  ]
}