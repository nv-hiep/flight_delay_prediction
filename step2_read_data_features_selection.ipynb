{
  "nbformat": 4,
  "nbformat_minor": 0,
  "metadata": {
    "colab": {
      "name": "step2_read_data_features_selection.ipynb",
      "provenance": [],
      "collapsed_sections": [],
      "authorship_tag": "ABX9TyOHrk9nWkZy9FOu7xwCJfC9",
      "include_colab_link": true
    },
    "kernelspec": {
      "name": "python3",
      "display_name": "Python 3"
    }
  },
  "cells": [
    {
      "cell_type": "markdown",
      "metadata": {
        "id": "view-in-github",
        "colab_type": "text"
      },
      "source": [
        "<a href=\"https://colab.research.google.com/github/nv-hiep/flight_delay_prediction/blob/master/step2_read_data_features_selection.ipynb\" target=\"_parent\"><img src=\"https://colab.research.google.com/assets/colab-badge.svg\" alt=\"Open In Colab\"/></a>"
      ]
    },
    {
      "cell_type": "markdown",
      "metadata": {
        "id": "s4Boi4l8ldjJ"
      },
      "source": [
        "**Step 2: FEATURES SELECTION**"
      ]
    },
    {
      "cell_type": "markdown",
      "metadata": {
        "id": "twluDsqOaqRW"
      },
      "source": [
        "**Open this notebook from google drive**<br>\n",
        "**Go to \"Edit\" -> \"Notebook settings\" and enable GPU.**\n"
      ]
    },
    {
      "cell_type": "markdown",
      "metadata": {
        "id": "sj3eAw1OXOnB"
      },
      "source": [
        "**Connect and authorize google drive with google colab:**"
      ]
    },
    {
      "cell_type": "code",
      "metadata": {
        "id": "PjjcQSpya_FR",
        "colab": {
          "base_uri": "https://localhost:8080/"
        },
        "outputId": "309cfcc7-39bb-4be8-a410-3ac2f93a3ef2"
      },
      "source": [
        "from google.colab import drive\n",
        "drive.mount('/content/gdrive')\n",
        "# !ls"
      ],
      "execution_count": null,
      "outputs": [
        {
          "output_type": "stream",
          "text": [
            "Mounted at /content/gdrive\n"
          ],
          "name": "stdout"
        }
      ]
    },
    {
      "cell_type": "markdown",
      "metadata": {
        "id": "BDJptlLBvSlN"
      },
      "source": [
        "# 1. Import Libraries\n",
        "\n"
      ]
    },
    {
      "cell_type": "code",
      "metadata": {
        "id": "M3cWo7hhc-qO"
      },
      "source": [
        "import os\n",
        "import numpy   as np\n",
        "import pandas  as pd\n",
        "import seaborn as sns\n",
        "\n",
        "import matplotlib.pyplot as plt\n",
        "plt.style.use('fivethirtyeight')\n",
        "\n",
        "%matplotlib inline  "
      ],
      "execution_count": null,
      "outputs": []
    },
    {
      "cell_type": "markdown",
      "metadata": {
        "id": "FgfeZe4ivlpb"
      },
      "source": [
        "# 2. Data directory"
      ]
    },
    {
      "cell_type": "code",
      "metadata": {
        "id": "Z9d185J9_xQZ",
        "colab": {
          "base_uri": "https://localhost:8080/"
        },
        "outputId": "3fa4da21-b8c4-4272-f0a6-8726cc48696e"
      },
      "source": [
        "data_dir    = '/content/gdrive/My Drive/data'\n",
        "%cd '/content/gdrive/My Drive/data'\n",
        "\n",
        "current_dir = os.getcwd()\n",
        "print(current_dir)\n",
        "data_path = os.path.join(data_dir, 'flights', '')\n",
        "print(data_path)"
      ],
      "execution_count": null,
      "outputs": [
        {
          "output_type": "stream",
          "text": [
            "/content/gdrive/My Drive/data\n",
            "/content/gdrive/My Drive/data\n",
            "/content/gdrive/My Drive/data/flights/\n"
          ],
          "name": "stdout"
        }
      ]
    },
    {
      "cell_type": "markdown",
      "metadata": {
        "id": "85WkcDEhv-XY"
      },
      "source": [
        "# 3. Read flight data"
      ]
    },
    {
      "cell_type": "code",
      "metadata": {
        "id": "RGskTmcXbLIv",
        "colab": {
          "base_uri": "https://localhost:8080/",
          "height": 309
        },
        "outputId": "2b9f3d5b-bae4-4753-c13e-1ac9da915e17"
      },
      "source": [
        "df = pd.read_csv(os.path.join(data_path, 'merged_data_janfeb.csv') )\n",
        "df.head()"
      ],
      "execution_count": null,
      "outputs": [
        {
          "output_type": "execute_result",
          "data": {
            "text/html": [
              "<div>\n",
              "<style scoped>\n",
              "    .dataframe tbody tr th:only-of-type {\n",
              "        vertical-align: middle;\n",
              "    }\n",
              "\n",
              "    .dataframe tbody tr th {\n",
              "        vertical-align: top;\n",
              "    }\n",
              "\n",
              "    .dataframe thead th {\n",
              "        text-align: right;\n",
              "    }\n",
              "</style>\n",
              "<table border=\"1\" class=\"dataframe\">\n",
              "  <thead>\n",
              "    <tr style=\"text-align: right;\">\n",
              "      <th></th>\n",
              "      <th>YEAR</th>\n",
              "      <th>QUARTER</th>\n",
              "      <th>MONTH</th>\n",
              "      <th>DAY_OF_MONTH</th>\n",
              "      <th>DAY_OF_WEEK</th>\n",
              "      <th>OP_UNIQUE_CARRIER</th>\n",
              "      <th>TAIL_NUM</th>\n",
              "      <th>OP_CARRIER_FL_NUM</th>\n",
              "      <th>ORIGIN</th>\n",
              "      <th>DEST</th>\n",
              "      <th>CRS_DEP_TIME</th>\n",
              "      <th>DEP_TIME</th>\n",
              "      <th>DEP_DELAY</th>\n",
              "      <th>TAXI_OUT</th>\n",
              "      <th>TAXI_IN</th>\n",
              "      <th>CRS_ARR_TIME</th>\n",
              "      <th>ARR_TIME</th>\n",
              "      <th>ARR_DELAY</th>\n",
              "      <th>CRS_ELAPSED_TIME</th>\n",
              "      <th>ACTUAL_ELAPSED_TIME</th>\n",
              "      <th>AIR_TIME</th>\n",
              "      <th>DISTANCE</th>\n",
              "      <th>CARRIER_DELAY</th>\n",
              "      <th>WEATHER_DELAY</th>\n",
              "      <th>NAS_DELAY</th>\n",
              "      <th>SECURITY_DELAY</th>\n",
              "      <th>LATE_AIRCRAFT_DELAY</th>\n",
              "      <th>AIRLINE_NAME</th>\n",
              "    </tr>\n",
              "  </thead>\n",
              "  <tbody>\n",
              "    <tr>\n",
              "      <th>0</th>\n",
              "      <td>2017</td>\n",
              "      <td>1</td>\n",
              "      <td>1</td>\n",
              "      <td>16</td>\n",
              "      <td>1</td>\n",
              "      <td>AA</td>\n",
              "      <td>N3FYAA</td>\n",
              "      <td>2186</td>\n",
              "      <td>DFW</td>\n",
              "      <td>PSP</td>\n",
              "      <td>910</td>\n",
              "      <td>913.0</td>\n",
              "      <td>3.0</td>\n",
              "      <td>26.0</td>\n",
              "      <td>5.0</td>\n",
              "      <td>1018</td>\n",
              "      <td>1024.0</td>\n",
              "      <td>6.0</td>\n",
              "      <td>188.0</td>\n",
              "      <td>191.0</td>\n",
              "      <td>160.0</td>\n",
              "      <td>1126.0</td>\n",
              "      <td>0.0</td>\n",
              "      <td>0.0</td>\n",
              "      <td>0.0</td>\n",
              "      <td>0.0</td>\n",
              "      <td>0.0</td>\n",
              "      <td>American Airlines Inc.</td>\n",
              "    </tr>\n",
              "    <tr>\n",
              "      <th>1</th>\n",
              "      <td>2017</td>\n",
              "      <td>1</td>\n",
              "      <td>1</td>\n",
              "      <td>17</td>\n",
              "      <td>2</td>\n",
              "      <td>AA</td>\n",
              "      <td>N3ASAA</td>\n",
              "      <td>2186</td>\n",
              "      <td>DFW</td>\n",
              "      <td>PSP</td>\n",
              "      <td>910</td>\n",
              "      <td>904.0</td>\n",
              "      <td>-6.0</td>\n",
              "      <td>31.0</td>\n",
              "      <td>4.0</td>\n",
              "      <td>1018</td>\n",
              "      <td>1011.0</td>\n",
              "      <td>-7.0</td>\n",
              "      <td>188.0</td>\n",
              "      <td>187.0</td>\n",
              "      <td>152.0</td>\n",
              "      <td>1126.0</td>\n",
              "      <td>0.0</td>\n",
              "      <td>0.0</td>\n",
              "      <td>0.0</td>\n",
              "      <td>0.0</td>\n",
              "      <td>0.0</td>\n",
              "      <td>American Airlines Inc.</td>\n",
              "    </tr>\n",
              "    <tr>\n",
              "      <th>2</th>\n",
              "      <td>2017</td>\n",
              "      <td>1</td>\n",
              "      <td>1</td>\n",
              "      <td>18</td>\n",
              "      <td>3</td>\n",
              "      <td>AA</td>\n",
              "      <td>N3AKAA</td>\n",
              "      <td>2186</td>\n",
              "      <td>DFW</td>\n",
              "      <td>PSP</td>\n",
              "      <td>910</td>\n",
              "      <td>908.0</td>\n",
              "      <td>-2.0</td>\n",
              "      <td>44.0</td>\n",
              "      <td>5.0</td>\n",
              "      <td>1018</td>\n",
              "      <td>1028.0</td>\n",
              "      <td>10.0</td>\n",
              "      <td>188.0</td>\n",
              "      <td>200.0</td>\n",
              "      <td>151.0</td>\n",
              "      <td>1126.0</td>\n",
              "      <td>0.0</td>\n",
              "      <td>0.0</td>\n",
              "      <td>0.0</td>\n",
              "      <td>0.0</td>\n",
              "      <td>0.0</td>\n",
              "      <td>American Airlines Inc.</td>\n",
              "    </tr>\n",
              "    <tr>\n",
              "      <th>3</th>\n",
              "      <td>2017</td>\n",
              "      <td>1</td>\n",
              "      <td>1</td>\n",
              "      <td>19</td>\n",
              "      <td>4</td>\n",
              "      <td>AA</td>\n",
              "      <td>N3LSAA</td>\n",
              "      <td>2186</td>\n",
              "      <td>DFW</td>\n",
              "      <td>PSP</td>\n",
              "      <td>910</td>\n",
              "      <td>905.0</td>\n",
              "      <td>-5.0</td>\n",
              "      <td>41.0</td>\n",
              "      <td>8.0</td>\n",
              "      <td>1018</td>\n",
              "      <td>1047.0</td>\n",
              "      <td>29.0</td>\n",
              "      <td>188.0</td>\n",
              "      <td>222.0</td>\n",
              "      <td>173.0</td>\n",
              "      <td>1126.0</td>\n",
              "      <td>0.0</td>\n",
              "      <td>0.0</td>\n",
              "      <td>29.0</td>\n",
              "      <td>0.0</td>\n",
              "      <td>0.0</td>\n",
              "      <td>American Airlines Inc.</td>\n",
              "    </tr>\n",
              "    <tr>\n",
              "      <th>4</th>\n",
              "      <td>2017</td>\n",
              "      <td>1</td>\n",
              "      <td>1</td>\n",
              "      <td>20</td>\n",
              "      <td>5</td>\n",
              "      <td>AA</td>\n",
              "      <td>N3NBAA</td>\n",
              "      <td>2186</td>\n",
              "      <td>DFW</td>\n",
              "      <td>PSP</td>\n",
              "      <td>910</td>\n",
              "      <td>903.0</td>\n",
              "      <td>-7.0</td>\n",
              "      <td>20.0</td>\n",
              "      <td>6.0</td>\n",
              "      <td>1018</td>\n",
              "      <td>1011.0</td>\n",
              "      <td>-7.0</td>\n",
              "      <td>188.0</td>\n",
              "      <td>188.0</td>\n",
              "      <td>162.0</td>\n",
              "      <td>1126.0</td>\n",
              "      <td>0.0</td>\n",
              "      <td>0.0</td>\n",
              "      <td>0.0</td>\n",
              "      <td>0.0</td>\n",
              "      <td>0.0</td>\n",
              "      <td>American Airlines Inc.</td>\n",
              "    </tr>\n",
              "  </tbody>\n",
              "</table>\n",
              "</div>"
            ],
            "text/plain": [
              "   YEAR  QUARTER  ...  LATE_AIRCRAFT_DELAY            AIRLINE_NAME\n",
              "0  2017        1  ...                  0.0  American Airlines Inc.\n",
              "1  2017        1  ...                  0.0  American Airlines Inc.\n",
              "2  2017        1  ...                  0.0  American Airlines Inc.\n",
              "3  2017        1  ...                  0.0  American Airlines Inc.\n",
              "4  2017        1  ...                  0.0  American Airlines Inc.\n",
              "\n",
              "[5 rows x 28 columns]"
            ]
          },
          "metadata": {
            "tags": []
          },
          "execution_count": 4
        }
      ]
    },
    {
      "cell_type": "code",
      "metadata": {
        "id": "XX6d6lOTbf0Q",
        "colab": {
          "base_uri": "https://localhost:8080/"
        },
        "outputId": "0819e5db-95cc-4099-e5b9-81636e3498b9"
      },
      "source": [
        "print(df.shape)\n",
        "print(len(df.columns))\n",
        "print(df.columns)"
      ],
      "execution_count": null,
      "outputs": [
        {
          "output_type": "stream",
          "text": [
            "(842870, 28)\n",
            "28\n",
            "Index(['YEAR', 'QUARTER', 'MONTH', 'DAY_OF_MONTH', 'DAY_OF_WEEK',\n",
            "       'OP_UNIQUE_CARRIER', 'TAIL_NUM', 'OP_CARRIER_FL_NUM', 'ORIGIN', 'DEST',\n",
            "       'CRS_DEP_TIME', 'DEP_TIME', 'DEP_DELAY', 'TAXI_OUT', 'TAXI_IN',\n",
            "       'CRS_ARR_TIME', 'ARR_TIME', 'ARR_DELAY', 'CRS_ELAPSED_TIME',\n",
            "       'ACTUAL_ELAPSED_TIME', 'AIR_TIME', 'DISTANCE', 'CARRIER_DELAY',\n",
            "       'WEATHER_DELAY', 'NAS_DELAY', 'SECURITY_DELAY', 'LATE_AIRCRAFT_DELAY',\n",
            "       'AIRLINE_NAME'],\n",
            "      dtype='object')\n"
          ],
          "name": "stdout"
        }
      ]
    },
    {
      "cell_type": "code",
      "metadata": {
        "id": "XQ3tktjdp7-C",
        "colab": {
          "base_uri": "https://localhost:8080/"
        },
        "outputId": "a561d0c5-0769-4502-c4cc-79183790d032"
      },
      "source": [
        "# Check null values\n",
        "df.isnull().sum()"
      ],
      "execution_count": null,
      "outputs": [
        {
          "output_type": "execute_result",
          "data": {
            "text/plain": [
              "YEAR                   0\n",
              "QUARTER                0\n",
              "MONTH                  0\n",
              "DAY_OF_MONTH           0\n",
              "DAY_OF_WEEK            0\n",
              "OP_UNIQUE_CARRIER      0\n",
              "TAIL_NUM               0\n",
              "OP_CARRIER_FL_NUM      0\n",
              "ORIGIN                 0\n",
              "DEST                   0\n",
              "CRS_DEP_TIME           0\n",
              "DEP_TIME               0\n",
              "DEP_DELAY              0\n",
              "TAXI_OUT               0\n",
              "TAXI_IN                0\n",
              "CRS_ARR_TIME           0\n",
              "ARR_TIME               0\n",
              "ARR_DELAY              0\n",
              "CRS_ELAPSED_TIME       0\n",
              "ACTUAL_ELAPSED_TIME    0\n",
              "AIR_TIME               0\n",
              "DISTANCE               0\n",
              "CARRIER_DELAY          0\n",
              "WEATHER_DELAY          0\n",
              "NAS_DELAY              0\n",
              "SECURITY_DELAY         0\n",
              "LATE_AIRCRAFT_DELAY    0\n",
              "AIRLINE_NAME           0\n",
              "dtype: int64"
            ]
          },
          "metadata": {
            "tags": []
          },
          "execution_count": 6
        }
      ]
    },
    {
      "cell_type": "code",
      "metadata": {
        "id": "S3BTwigy_anm",
        "colab": {
          "base_uri": "https://localhost:8080/"
        },
        "outputId": "424013d6-d0ac-4ccf-8247-3a163d3990c1"
      },
      "source": [
        "# OK! No more null/nan values\n",
        "# Check the datatypes\n",
        "df.info()"
      ],
      "execution_count": null,
      "outputs": [
        {
          "output_type": "stream",
          "text": [
            "<class 'pandas.core.frame.DataFrame'>\n",
            "RangeIndex: 842870 entries, 0 to 842869\n",
            "Data columns (total 28 columns):\n",
            " #   Column               Non-Null Count   Dtype  \n",
            "---  ------               --------------   -----  \n",
            " 0   YEAR                 842870 non-null  int64  \n",
            " 1   QUARTER              842870 non-null  int64  \n",
            " 2   MONTH                842870 non-null  int64  \n",
            " 3   DAY_OF_MONTH         842870 non-null  int64  \n",
            " 4   DAY_OF_WEEK          842870 non-null  int64  \n",
            " 5   OP_UNIQUE_CARRIER    842870 non-null  object \n",
            " 6   TAIL_NUM             842870 non-null  object \n",
            " 7   OP_CARRIER_FL_NUM    842870 non-null  int64  \n",
            " 8   ORIGIN               842870 non-null  object \n",
            " 9   DEST                 842870 non-null  object \n",
            " 10  CRS_DEP_TIME         842870 non-null  int64  \n",
            " 11  DEP_TIME             842870 non-null  float64\n",
            " 12  DEP_DELAY            842870 non-null  float64\n",
            " 13  TAXI_OUT             842870 non-null  float64\n",
            " 14  TAXI_IN              842870 non-null  float64\n",
            " 15  CRS_ARR_TIME         842870 non-null  int64  \n",
            " 16  ARR_TIME             842870 non-null  float64\n",
            " 17  ARR_DELAY            842870 non-null  float64\n",
            " 18  CRS_ELAPSED_TIME     842870 non-null  float64\n",
            " 19  ACTUAL_ELAPSED_TIME  842870 non-null  float64\n",
            " 20  AIR_TIME             842870 non-null  float64\n",
            " 21  DISTANCE             842870 non-null  float64\n",
            " 22  CARRIER_DELAY        842870 non-null  float64\n",
            " 23  WEATHER_DELAY        842870 non-null  float64\n",
            " 24  NAS_DELAY            842870 non-null  float64\n",
            " 25  SECURITY_DELAY       842870 non-null  float64\n",
            " 26  LATE_AIRCRAFT_DELAY  842870 non-null  float64\n",
            " 27  AIRLINE_NAME         842870 non-null  object \n",
            "dtypes: float64(15), int64(8), object(5)\n",
            "memory usage: 180.1+ MB\n"
          ],
          "name": "stdout"
        }
      ]
    },
    {
      "cell_type": "code",
      "metadata": {
        "id": "Y_BleyrbDQqH",
        "colab": {
          "base_uri": "https://localhost:8080/"
        },
        "outputId": "b14856e0-a9ae-4394-88f5-e08a1a05b350"
      },
      "source": [
        "df.columns"
      ],
      "execution_count": null,
      "outputs": [
        {
          "output_type": "execute_result",
          "data": {
            "text/plain": [
              "Index(['YEAR', 'QUARTER', 'MONTH', 'DAY_OF_MONTH', 'DAY_OF_WEEK',\n",
              "       'OP_UNIQUE_CARRIER', 'TAIL_NUM', 'OP_CARRIER_FL_NUM', 'ORIGIN', 'DEST',\n",
              "       'CRS_DEP_TIME', 'DEP_TIME', 'DEP_DELAY', 'TAXI_OUT', 'TAXI_IN',\n",
              "       'CRS_ARR_TIME', 'ARR_TIME', 'ARR_DELAY', 'CRS_ELAPSED_TIME',\n",
              "       'ACTUAL_ELAPSED_TIME', 'AIR_TIME', 'DISTANCE', 'CARRIER_DELAY',\n",
              "       'WEATHER_DELAY', 'NAS_DELAY', 'SECURITY_DELAY', 'LATE_AIRCRAFT_DELAY',\n",
              "       'AIRLINE_NAME'],\n",
              "      dtype='object')"
            ]
          },
          "metadata": {
            "tags": []
          },
          "execution_count": 8
        }
      ]
    },
    {
      "cell_type": "markdown",
      "metadata": {
        "id": "1BsJo-KMYHh9"
      },
      "source": [
        "# 4. Drop unnecessary columns "
      ]
    },
    {
      "cell_type": "markdown",
      "metadata": {
        "id": "ullwhs-xXBAe"
      },
      "source": [
        "**Drop the columns 'AIRLINE_NAME', 'YEAR', 'QUARTER' because they are not necessary. I only consider data in January and February 2017. And AIRLINE was coded as OP_UNIQUE_CARRIER**"
      ]
    },
    {
      "cell_type": "code",
      "metadata": {
        "id": "uPOb2JKW6CCR"
      },
      "source": [
        "df.drop(['AIRLINE_NAME', 'YEAR', 'QUARTER'], axis=1, inplace=True)"
      ],
      "execution_count": null,
      "outputs": []
    },
    {
      "cell_type": "markdown",
      "metadata": {
        "id": "dWgGJvB5fjaj"
      },
      "source": [
        "# 5. Create TARGETS as CLASSES"
      ]
    },
    {
      "cell_type": "markdown",
      "metadata": {
        "id": "cOcMS9UNfy60"
      },
      "source": [
        "**Instead of predicting the delay time in minutes, I'll predict in delay intervals:**\n",
        "\n",
        "**0: ARR_DELAY <= 0 for no delay**\n",
        "\n",
        "**1: 0 < ARR_DELAY <= 30 (minutes)**\n",
        "\n",
        "**2: 30 < ARR_DELAY <= 60 (minutes)**\n",
        "\n",
        "**3: 60 < ARR_DELAY <= 120 (minutes)**\n",
        "\n",
        "**43: 120 < ARR_DELAY**"
      ]
    },
    {
      "cell_type": "code",
      "metadata": {
        "id": "2RuCfjs3khq7"
      },
      "source": [
        "# Create delayed labels, if the flights are delayed more than 30 minutes (delay_thresh)\n",
        "df['DELAYED'] = df['ARR_DELAY'].apply(lambda x: 0 if x <= 0 else 1 if (x > 0 and x <= 30) else 2 if (x > 30 and x <= 60) else 3 if (x > 60 and x <= 120) else 4)"
      ],
      "execution_count": null,
      "outputs": []
    },
    {
      "cell_type": "code",
      "metadata": {
        "id": "Qn3_owJ9Vi7G",
        "colab": {
          "base_uri": "https://localhost:8080/",
          "height": 224
        },
        "outputId": "dd80d137-3708-434a-cf57-b131b5487227"
      },
      "source": [
        "df.head()"
      ],
      "execution_count": null,
      "outputs": [
        {
          "output_type": "execute_result",
          "data": {
            "text/html": [
              "<div>\n",
              "<style scoped>\n",
              "    .dataframe tbody tr th:only-of-type {\n",
              "        vertical-align: middle;\n",
              "    }\n",
              "\n",
              "    .dataframe tbody tr th {\n",
              "        vertical-align: top;\n",
              "    }\n",
              "\n",
              "    .dataframe thead th {\n",
              "        text-align: right;\n",
              "    }\n",
              "</style>\n",
              "<table border=\"1\" class=\"dataframe\">\n",
              "  <thead>\n",
              "    <tr style=\"text-align: right;\">\n",
              "      <th></th>\n",
              "      <th>MONTH</th>\n",
              "      <th>DAY_OF_MONTH</th>\n",
              "      <th>DAY_OF_WEEK</th>\n",
              "      <th>OP_UNIQUE_CARRIER</th>\n",
              "      <th>TAIL_NUM</th>\n",
              "      <th>OP_CARRIER_FL_NUM</th>\n",
              "      <th>ORIGIN</th>\n",
              "      <th>DEST</th>\n",
              "      <th>CRS_DEP_TIME</th>\n",
              "      <th>DEP_TIME</th>\n",
              "      <th>DEP_DELAY</th>\n",
              "      <th>TAXI_OUT</th>\n",
              "      <th>TAXI_IN</th>\n",
              "      <th>CRS_ARR_TIME</th>\n",
              "      <th>ARR_TIME</th>\n",
              "      <th>ARR_DELAY</th>\n",
              "      <th>CRS_ELAPSED_TIME</th>\n",
              "      <th>ACTUAL_ELAPSED_TIME</th>\n",
              "      <th>AIR_TIME</th>\n",
              "      <th>DISTANCE</th>\n",
              "      <th>CARRIER_DELAY</th>\n",
              "      <th>WEATHER_DELAY</th>\n",
              "      <th>NAS_DELAY</th>\n",
              "      <th>SECURITY_DELAY</th>\n",
              "      <th>LATE_AIRCRAFT_DELAY</th>\n",
              "      <th>DELAYED</th>\n",
              "    </tr>\n",
              "  </thead>\n",
              "  <tbody>\n",
              "    <tr>\n",
              "      <th>0</th>\n",
              "      <td>1</td>\n",
              "      <td>16</td>\n",
              "      <td>1</td>\n",
              "      <td>AA</td>\n",
              "      <td>N3FYAA</td>\n",
              "      <td>2186</td>\n",
              "      <td>DFW</td>\n",
              "      <td>PSP</td>\n",
              "      <td>910</td>\n",
              "      <td>913.0</td>\n",
              "      <td>3.0</td>\n",
              "      <td>26.0</td>\n",
              "      <td>5.0</td>\n",
              "      <td>1018</td>\n",
              "      <td>1024.0</td>\n",
              "      <td>6.0</td>\n",
              "      <td>188.0</td>\n",
              "      <td>191.0</td>\n",
              "      <td>160.0</td>\n",
              "      <td>1126.0</td>\n",
              "      <td>0.0</td>\n",
              "      <td>0.0</td>\n",
              "      <td>0.0</td>\n",
              "      <td>0.0</td>\n",
              "      <td>0.0</td>\n",
              "      <td>1</td>\n",
              "    </tr>\n",
              "    <tr>\n",
              "      <th>1</th>\n",
              "      <td>1</td>\n",
              "      <td>17</td>\n",
              "      <td>2</td>\n",
              "      <td>AA</td>\n",
              "      <td>N3ASAA</td>\n",
              "      <td>2186</td>\n",
              "      <td>DFW</td>\n",
              "      <td>PSP</td>\n",
              "      <td>910</td>\n",
              "      <td>904.0</td>\n",
              "      <td>-6.0</td>\n",
              "      <td>31.0</td>\n",
              "      <td>4.0</td>\n",
              "      <td>1018</td>\n",
              "      <td>1011.0</td>\n",
              "      <td>-7.0</td>\n",
              "      <td>188.0</td>\n",
              "      <td>187.0</td>\n",
              "      <td>152.0</td>\n",
              "      <td>1126.0</td>\n",
              "      <td>0.0</td>\n",
              "      <td>0.0</td>\n",
              "      <td>0.0</td>\n",
              "      <td>0.0</td>\n",
              "      <td>0.0</td>\n",
              "      <td>0</td>\n",
              "    </tr>\n",
              "    <tr>\n",
              "      <th>2</th>\n",
              "      <td>1</td>\n",
              "      <td>18</td>\n",
              "      <td>3</td>\n",
              "      <td>AA</td>\n",
              "      <td>N3AKAA</td>\n",
              "      <td>2186</td>\n",
              "      <td>DFW</td>\n",
              "      <td>PSP</td>\n",
              "      <td>910</td>\n",
              "      <td>908.0</td>\n",
              "      <td>-2.0</td>\n",
              "      <td>44.0</td>\n",
              "      <td>5.0</td>\n",
              "      <td>1018</td>\n",
              "      <td>1028.0</td>\n",
              "      <td>10.0</td>\n",
              "      <td>188.0</td>\n",
              "      <td>200.0</td>\n",
              "      <td>151.0</td>\n",
              "      <td>1126.0</td>\n",
              "      <td>0.0</td>\n",
              "      <td>0.0</td>\n",
              "      <td>0.0</td>\n",
              "      <td>0.0</td>\n",
              "      <td>0.0</td>\n",
              "      <td>1</td>\n",
              "    </tr>\n",
              "    <tr>\n",
              "      <th>3</th>\n",
              "      <td>1</td>\n",
              "      <td>19</td>\n",
              "      <td>4</td>\n",
              "      <td>AA</td>\n",
              "      <td>N3LSAA</td>\n",
              "      <td>2186</td>\n",
              "      <td>DFW</td>\n",
              "      <td>PSP</td>\n",
              "      <td>910</td>\n",
              "      <td>905.0</td>\n",
              "      <td>-5.0</td>\n",
              "      <td>41.0</td>\n",
              "      <td>8.0</td>\n",
              "      <td>1018</td>\n",
              "      <td>1047.0</td>\n",
              "      <td>29.0</td>\n",
              "      <td>188.0</td>\n",
              "      <td>222.0</td>\n",
              "      <td>173.0</td>\n",
              "      <td>1126.0</td>\n",
              "      <td>0.0</td>\n",
              "      <td>0.0</td>\n",
              "      <td>29.0</td>\n",
              "      <td>0.0</td>\n",
              "      <td>0.0</td>\n",
              "      <td>1</td>\n",
              "    </tr>\n",
              "    <tr>\n",
              "      <th>4</th>\n",
              "      <td>1</td>\n",
              "      <td>20</td>\n",
              "      <td>5</td>\n",
              "      <td>AA</td>\n",
              "      <td>N3NBAA</td>\n",
              "      <td>2186</td>\n",
              "      <td>DFW</td>\n",
              "      <td>PSP</td>\n",
              "      <td>910</td>\n",
              "      <td>903.0</td>\n",
              "      <td>-7.0</td>\n",
              "      <td>20.0</td>\n",
              "      <td>6.0</td>\n",
              "      <td>1018</td>\n",
              "      <td>1011.0</td>\n",
              "      <td>-7.0</td>\n",
              "      <td>188.0</td>\n",
              "      <td>188.0</td>\n",
              "      <td>162.0</td>\n",
              "      <td>1126.0</td>\n",
              "      <td>0.0</td>\n",
              "      <td>0.0</td>\n",
              "      <td>0.0</td>\n",
              "      <td>0.0</td>\n",
              "      <td>0.0</td>\n",
              "      <td>0</td>\n",
              "    </tr>\n",
              "  </tbody>\n",
              "</table>\n",
              "</div>"
            ],
            "text/plain": [
              "   MONTH  DAY_OF_MONTH  ...  LATE_AIRCRAFT_DELAY DELAYED\n",
              "0      1            16  ...                  0.0       1\n",
              "1      1            17  ...                  0.0       0\n",
              "2      1            18  ...                  0.0       1\n",
              "3      1            19  ...                  0.0       1\n",
              "4      1            20  ...                  0.0       0\n",
              "\n",
              "[5 rows x 26 columns]"
            ]
          },
          "metadata": {
            "tags": []
          },
          "execution_count": 11
        }
      ]
    },
    {
      "cell_type": "code",
      "metadata": {
        "id": "Z4DLpYqMlJXl",
        "colab": {
          "base_uri": "https://localhost:8080/"
        },
        "outputId": "c4d1d6fd-11ff-4b23-bbce-b71b93c8c048"
      },
      "source": [
        "df.columns"
      ],
      "execution_count": null,
      "outputs": [
        {
          "output_type": "execute_result",
          "data": {
            "text/plain": [
              "Index(['MONTH', 'DAY_OF_MONTH', 'DAY_OF_WEEK', 'OP_UNIQUE_CARRIER', 'TAIL_NUM',\n",
              "       'OP_CARRIER_FL_NUM', 'ORIGIN', 'DEST', 'CRS_DEP_TIME', 'DEP_TIME',\n",
              "       'DEP_DELAY', 'TAXI_OUT', 'TAXI_IN', 'CRS_ARR_TIME', 'ARR_TIME',\n",
              "       'ARR_DELAY', 'CRS_ELAPSED_TIME', 'ACTUAL_ELAPSED_TIME', 'AIR_TIME',\n",
              "       'DISTANCE', 'CARRIER_DELAY', 'WEATHER_DELAY', 'NAS_DELAY',\n",
              "       'SECURITY_DELAY', 'LATE_AIRCRAFT_DELAY', 'DELAYED'],\n",
              "      dtype='object')"
            ]
          },
          "metadata": {
            "tags": []
          },
          "execution_count": 12
        }
      ]
    },
    {
      "cell_type": "markdown",
      "metadata": {
        "id": "W4I_0q-lk5YV"
      },
      "source": [
        "# 6. Convert time of Departure and arrival"
      ]
    },
    {
      "cell_type": "code",
      "metadata": {
        "id": "Uat0WekJwHjo"
      },
      "source": [
        "def convert_time(x):\n",
        "  x = x/100.\n",
        "  return round( int(x) + (x - int(x))*100/60, 2)"
      ],
      "execution_count": null,
      "outputs": []
    },
    {
      "cell_type": "code",
      "metadata": {
        "id": "NRrLbpMUDbH0"
      },
      "source": [
        "# The actual departure time\n",
        "df['CRS_DEP_TIME'] = df['CRS_DEP_TIME'].apply(convert_time)\n",
        "df['CRS_DEP_TIME'] = df['CRS_DEP_TIME'].apply(lambda x:0 if x==24 else x)\n",
        "\n",
        "df['DEP_TIME'] = df['DEP_TIME'].apply(convert_time)\n",
        "df['DEP_TIME'] = df['DEP_TIME'].apply(lambda x:0 if x==24 else x)\n",
        "\n",
        "# The actual arrival time\n",
        "df['CRS_ARR_TIME'] = df['CRS_ARR_TIME'].apply(convert_time)\n",
        "df['CRS_ARR_TIME'] = df['CRS_ARR_TIME'].apply(lambda x:0 if x==24 else x)\n",
        "\n",
        "df['ARR_TIME'] = df['ARR_TIME'].apply(convert_time)\n",
        "df['ARR_TIME'] = df['ARR_TIME'].apply(lambda x:0 if x==24 else x)"
      ],
      "execution_count": null,
      "outputs": []
    },
    {
      "cell_type": "markdown",
      "metadata": {
        "id": "EKpgOL-YYV-V"
      },
      "source": [
        "# 7. Label - Encoding the categorical feautures"
      ]
    },
    {
      "cell_type": "markdown",
      "metadata": {
        "id": "4I57AewJYfQY"
      },
      "source": [
        "Here I should use One-hot-coding method, however this method will produce many more columns, so it would take a long time to train.\n",
        "\n",
        "I will use the Label-encoder."
      ]
    },
    {
      "cell_type": "code",
      "metadata": {
        "id": "txdGc5ko28sF"
      },
      "source": [
        "from sklearn.preprocessing import LabelEncoder\n",
        "\n",
        "lb_make = LabelEncoder()\n",
        "df['ORIGIN'] = lb_make.fit_transform(df['ORIGIN'])\n",
        "df['DEST'] = lb_make.transform(df['DEST'])\n",
        "\n",
        "df['OP_UNIQUE_CARRIER'] = lb_make.fit_transform(df['OP_UNIQUE_CARRIER'])\n",
        "df['TAIL_NUM'] = lb_make.fit_transform(df['TAIL_NUM'])"
      ],
      "execution_count": null,
      "outputs": []
    },
    {
      "cell_type": "code",
      "metadata": {
        "id": "6VzCXskahXCV"
      },
      "source": [
        "# dummy_fields = ['DAY_OF_WEEK', 'OP_UNIQUE_CARRIER', 'TAIL_NUM', 'ORIGIN', 'DEST']\n",
        "# for x in dummy_fields:\n",
        "#   dummy = pd.get_dummies(df[x], drop_first=False, prefix=x)\n",
        "#   df = pd.concat( [df, dummy], axis=1)\n",
        "# df_sub.drop(dummy_fields, axis=1, inplace=True)"
      ],
      "execution_count": null,
      "outputs": []
    },
    {
      "cell_type": "markdown",
      "metadata": {
        "id": "RcZvuJ9SfUiV"
      },
      "source": [
        "# 8. Remove Missing Values"
      ]
    },
    {
      "cell_type": "code",
      "metadata": {
        "id": "o86EpaVPfUiV",
        "colab": {
          "base_uri": "https://localhost:8080/"
        },
        "outputId": "a45fa1e2-20ec-458b-a09b-55a8e5efd361"
      },
      "source": [
        "# Missing values (in percent)\n",
        "df_missing = (df.isnull().sum() / len(df)).sort_values(ascending = False)\n",
        "df_missing"
      ],
      "execution_count": null,
      "outputs": [
        {
          "output_type": "execute_result",
          "data": {
            "text/plain": [
              "DELAYED                0.0\n",
              "LATE_AIRCRAFT_DELAY    0.0\n",
              "DAY_OF_MONTH           0.0\n",
              "DAY_OF_WEEK            0.0\n",
              "OP_UNIQUE_CARRIER      0.0\n",
              "TAIL_NUM               0.0\n",
              "OP_CARRIER_FL_NUM      0.0\n",
              "ORIGIN                 0.0\n",
              "DEST                   0.0\n",
              "CRS_DEP_TIME           0.0\n",
              "DEP_TIME               0.0\n",
              "DEP_DELAY              0.0\n",
              "TAXI_OUT               0.0\n",
              "TAXI_IN                0.0\n",
              "CRS_ARR_TIME           0.0\n",
              "ARR_TIME               0.0\n",
              "ARR_DELAY              0.0\n",
              "CRS_ELAPSED_TIME       0.0\n",
              "ACTUAL_ELAPSED_TIME    0.0\n",
              "AIR_TIME               0.0\n",
              "DISTANCE               0.0\n",
              "CARRIER_DELAY          0.0\n",
              "WEATHER_DELAY          0.0\n",
              "NAS_DELAY              0.0\n",
              "SECURITY_DELAY         0.0\n",
              "MONTH                  0.0\n",
              "dtype: float64"
            ]
          },
          "metadata": {
            "tags": []
          },
          "execution_count": 17
        }
      ]
    },
    {
      "cell_type": "code",
      "metadata": {
        "id": "zliXI1PufUiV"
      },
      "source": [
        "# Identify missing values above threshold\n",
        "df_missing = df_missing.index[df_missing > 0.75]"
      ],
      "execution_count": null,
      "outputs": []
    },
    {
      "cell_type": "code",
      "metadata": {
        "id": "t0GE5V-bfUiV",
        "colab": {
          "base_uri": "https://localhost:8080/"
        },
        "outputId": "e4cdbc9d-1d7b-4bd3-9068-925d543a7b1a"
      },
      "source": [
        "print('There are %d columns with more than 75%% missing values' % len(df_missing))"
      ],
      "execution_count": null,
      "outputs": [
        {
          "output_type": "stream",
          "text": [
            "There are 0 columns with more than 75% missing values\n"
          ],
          "name": "stdout"
        }
      ]
    },
    {
      "cell_type": "code",
      "metadata": {
        "id": "ANLfJYJ0fUiW"
      },
      "source": [
        "# Let's drop the columns, one-hot encode the dataframes, and then align the columns of the dataframes.\n",
        "df.drop(df_missing, axis=1, inplace=True)"
      ],
      "execution_count": null,
      "outputs": []
    },
    {
      "cell_type": "markdown",
      "metadata": {
        "id": "xSDqLoVRZQmb"
      },
      "source": [
        "# 9. Drop Correlated Variables"
      ]
    },
    {
      "cell_type": "markdown",
      "metadata": {
        "id": "SBnzZvzCz2K0"
      },
      "source": [
        "Collinear variables are those which are highly correlated with one another. These can decrease the model's availablility to learn, decrease model interpretability, and decrease generalization performance on the test set. Clearly, these are three things we want to increase, so removing collinear variables is a useful step. We will establish an admittedly arbitrary threshold for removing collinear variables, and then remove one out of any pair of variables that is above that threshold."
      ]
    },
    {
      "cell_type": "code",
      "metadata": {
        "id": "ag51-gimzlgE",
        "colab": {
          "base_uri": "https://localhost:8080/",
          "height": 224
        },
        "outputId": "f243b4e5-c8aa-42f2-885d-f37153d4b381"
      },
      "source": [
        "# Threshold for removing correlated variables\n",
        "threshold = 0.9\n",
        "\n",
        "# Correlation matrix with absolute values\n",
        "corr_matrix = df.corr().abs()\n",
        "corr_matrix.head()"
      ],
      "execution_count": null,
      "outputs": [
        {
          "output_type": "execute_result",
          "data": {
            "text/html": [
              "<div>\n",
              "<style scoped>\n",
              "    .dataframe tbody tr th:only-of-type {\n",
              "        vertical-align: middle;\n",
              "    }\n",
              "\n",
              "    .dataframe tbody tr th {\n",
              "        vertical-align: top;\n",
              "    }\n",
              "\n",
              "    .dataframe thead th {\n",
              "        text-align: right;\n",
              "    }\n",
              "</style>\n",
              "<table border=\"1\" class=\"dataframe\">\n",
              "  <thead>\n",
              "    <tr style=\"text-align: right;\">\n",
              "      <th></th>\n",
              "      <th>MONTH</th>\n",
              "      <th>DAY_OF_MONTH</th>\n",
              "      <th>DAY_OF_WEEK</th>\n",
              "      <th>OP_UNIQUE_CARRIER</th>\n",
              "      <th>TAIL_NUM</th>\n",
              "      <th>OP_CARRIER_FL_NUM</th>\n",
              "      <th>ORIGIN</th>\n",
              "      <th>DEST</th>\n",
              "      <th>CRS_DEP_TIME</th>\n",
              "      <th>DEP_TIME</th>\n",
              "      <th>DEP_DELAY</th>\n",
              "      <th>TAXI_OUT</th>\n",
              "      <th>TAXI_IN</th>\n",
              "      <th>CRS_ARR_TIME</th>\n",
              "      <th>ARR_TIME</th>\n",
              "      <th>ARR_DELAY</th>\n",
              "      <th>CRS_ELAPSED_TIME</th>\n",
              "      <th>ACTUAL_ELAPSED_TIME</th>\n",
              "      <th>AIR_TIME</th>\n",
              "      <th>DISTANCE</th>\n",
              "      <th>CARRIER_DELAY</th>\n",
              "      <th>WEATHER_DELAY</th>\n",
              "      <th>NAS_DELAY</th>\n",
              "      <th>SECURITY_DELAY</th>\n",
              "      <th>LATE_AIRCRAFT_DELAY</th>\n",
              "      <th>DELAYED</th>\n",
              "    </tr>\n",
              "  </thead>\n",
              "  <tbody>\n",
              "    <tr>\n",
              "      <th>MONTH</th>\n",
              "      <td>1.000000</td>\n",
              "      <td>0.078433</td>\n",
              "      <td>0.018242</td>\n",
              "      <td>0.001875</td>\n",
              "      <td>0.001192</td>\n",
              "      <td>0.002646</td>\n",
              "      <td>0.001214</td>\n",
              "      <td>0.001315</td>\n",
              "      <td>0.000338</td>\n",
              "      <td>0.003748</td>\n",
              "      <td>0.057832</td>\n",
              "      <td>0.039504</td>\n",
              "      <td>0.025841</td>\n",
              "      <td>0.000558</td>\n",
              "      <td>0.004430</td>\n",
              "      <td>0.068219</td>\n",
              "      <td>0.005027</td>\n",
              "      <td>0.013362</td>\n",
              "      <td>0.006666</td>\n",
              "      <td>0.005915</td>\n",
              "      <td>0.027113</td>\n",
              "      <td>0.014750</td>\n",
              "      <td>0.030923</td>\n",
              "      <td>0.004976</td>\n",
              "      <td>0.042593</td>\n",
              "      <td>0.084126</td>\n",
              "    </tr>\n",
              "    <tr>\n",
              "      <th>DAY_OF_MONTH</th>\n",
              "      <td>0.078433</td>\n",
              "      <td>1.000000</td>\n",
              "      <td>0.030003</td>\n",
              "      <td>0.002480</td>\n",
              "      <td>0.001832</td>\n",
              "      <td>0.001202</td>\n",
              "      <td>0.001319</td>\n",
              "      <td>0.000873</td>\n",
              "      <td>0.000059</td>\n",
              "      <td>0.006274</td>\n",
              "      <td>0.057448</td>\n",
              "      <td>0.019278</td>\n",
              "      <td>0.015777</td>\n",
              "      <td>0.003898</td>\n",
              "      <td>0.002422</td>\n",
              "      <td>0.069892</td>\n",
              "      <td>0.005366</td>\n",
              "      <td>0.014922</td>\n",
              "      <td>0.011642</td>\n",
              "      <td>0.007146</td>\n",
              "      <td>0.014812</td>\n",
              "      <td>0.016190</td>\n",
              "      <td>0.040952</td>\n",
              "      <td>0.004939</td>\n",
              "      <td>0.047201</td>\n",
              "      <td>0.089201</td>\n",
              "    </tr>\n",
              "    <tr>\n",
              "      <th>DAY_OF_WEEK</th>\n",
              "      <td>0.018242</td>\n",
              "      <td>0.030003</td>\n",
              "      <td>1.000000</td>\n",
              "      <td>0.007219</td>\n",
              "      <td>0.005703</td>\n",
              "      <td>0.057089</td>\n",
              "      <td>0.008290</td>\n",
              "      <td>0.008225</td>\n",
              "      <td>0.012253</td>\n",
              "      <td>0.009011</td>\n",
              "      <td>0.008678</td>\n",
              "      <td>0.011043</td>\n",
              "      <td>0.018624</td>\n",
              "      <td>0.012866</td>\n",
              "      <td>0.004564</td>\n",
              "      <td>0.004743</td>\n",
              "      <td>0.021225</td>\n",
              "      <td>0.019289</td>\n",
              "      <td>0.019746</td>\n",
              "      <td>0.024666</td>\n",
              "      <td>0.013545</td>\n",
              "      <td>0.011344</td>\n",
              "      <td>0.005023</td>\n",
              "      <td>0.001512</td>\n",
              "      <td>0.002629</td>\n",
              "      <td>0.003412</td>\n",
              "    </tr>\n",
              "    <tr>\n",
              "      <th>OP_UNIQUE_CARRIER</th>\n",
              "      <td>0.001875</td>\n",
              "      <td>0.002480</td>\n",
              "      <td>0.007219</td>\n",
              "      <td>1.000000</td>\n",
              "      <td>0.065549</td>\n",
              "      <td>0.190220</td>\n",
              "      <td>0.072460</td>\n",
              "      <td>0.072396</td>\n",
              "      <td>0.002148</td>\n",
              "      <td>0.011485</td>\n",
              "      <td>0.022798</td>\n",
              "      <td>0.173839</td>\n",
              "      <td>0.090488</td>\n",
              "      <td>0.002718</td>\n",
              "      <td>0.011233</td>\n",
              "      <td>0.029639</td>\n",
              "      <td>0.151074</td>\n",
              "      <td>0.146926</td>\n",
              "      <td>0.121870</td>\n",
              "      <td>0.116087</td>\n",
              "      <td>0.014053</td>\n",
              "      <td>0.001278</td>\n",
              "      <td>0.000873</td>\n",
              "      <td>0.005546</td>\n",
              "      <td>0.029655</td>\n",
              "      <td>0.036991</td>\n",
              "    </tr>\n",
              "    <tr>\n",
              "      <th>TAIL_NUM</th>\n",
              "      <td>0.001192</td>\n",
              "      <td>0.001832</td>\n",
              "      <td>0.005703</td>\n",
              "      <td>0.065549</td>\n",
              "      <td>1.000000</td>\n",
              "      <td>0.006398</td>\n",
              "      <td>0.066219</td>\n",
              "      <td>0.066214</td>\n",
              "      <td>0.010056</td>\n",
              "      <td>0.007352</td>\n",
              "      <td>0.007367</td>\n",
              "      <td>0.018755</td>\n",
              "      <td>0.042815</td>\n",
              "      <td>0.001683</td>\n",
              "      <td>0.000095</td>\n",
              "      <td>0.021229</td>\n",
              "      <td>0.049570</td>\n",
              "      <td>0.058395</td>\n",
              "      <td>0.054260</td>\n",
              "      <td>0.049344</td>\n",
              "      <td>0.002064</td>\n",
              "      <td>0.001743</td>\n",
              "      <td>0.019104</td>\n",
              "      <td>0.001334</td>\n",
              "      <td>0.007911</td>\n",
              "      <td>0.030405</td>\n",
              "    </tr>\n",
              "  </tbody>\n",
              "</table>\n",
              "</div>"
            ],
            "text/plain": [
              "                      MONTH  DAY_OF_MONTH  ...  LATE_AIRCRAFT_DELAY   DELAYED\n",
              "MONTH              1.000000      0.078433  ...             0.042593  0.084126\n",
              "DAY_OF_MONTH       0.078433      1.000000  ...             0.047201  0.089201\n",
              "DAY_OF_WEEK        0.018242      0.030003  ...             0.002629  0.003412\n",
              "OP_UNIQUE_CARRIER  0.001875      0.002480  ...             0.029655  0.036991\n",
              "TAIL_NUM           0.001192      0.001832  ...             0.007911  0.030405\n",
              "\n",
              "[5 rows x 26 columns]"
            ]
          },
          "metadata": {
            "tags": []
          },
          "execution_count": 21
        }
      ]
    },
    {
      "cell_type": "code",
      "metadata": {
        "id": "gNTF6NxHzWDJ",
        "colab": {
          "base_uri": "https://localhost:8080/",
          "height": 224
        },
        "outputId": "92d65c60-bb25-4a75-9648-094f3839e622"
      },
      "source": [
        "# Upper triangle of correlations\n",
        "# upper = corr_matrix.where(np.triu(np.ones(corr_matrix.shape), k=1).astype(np.bool))\n",
        "\n",
        "# Lower triangle of correlations\n",
        "lower_matrx = corr_matrix.where(np.tril(np.ones(corr_matrix.shape), k=-1).astype(np.bool))\n",
        "lower_matrx.head()"
      ],
      "execution_count": null,
      "outputs": [
        {
          "output_type": "execute_result",
          "data": {
            "text/html": [
              "<div>\n",
              "<style scoped>\n",
              "    .dataframe tbody tr th:only-of-type {\n",
              "        vertical-align: middle;\n",
              "    }\n",
              "\n",
              "    .dataframe tbody tr th {\n",
              "        vertical-align: top;\n",
              "    }\n",
              "\n",
              "    .dataframe thead th {\n",
              "        text-align: right;\n",
              "    }\n",
              "</style>\n",
              "<table border=\"1\" class=\"dataframe\">\n",
              "  <thead>\n",
              "    <tr style=\"text-align: right;\">\n",
              "      <th></th>\n",
              "      <th>MONTH</th>\n",
              "      <th>DAY_OF_MONTH</th>\n",
              "      <th>DAY_OF_WEEK</th>\n",
              "      <th>OP_UNIQUE_CARRIER</th>\n",
              "      <th>TAIL_NUM</th>\n",
              "      <th>OP_CARRIER_FL_NUM</th>\n",
              "      <th>ORIGIN</th>\n",
              "      <th>DEST</th>\n",
              "      <th>CRS_DEP_TIME</th>\n",
              "      <th>DEP_TIME</th>\n",
              "      <th>DEP_DELAY</th>\n",
              "      <th>TAXI_OUT</th>\n",
              "      <th>TAXI_IN</th>\n",
              "      <th>CRS_ARR_TIME</th>\n",
              "      <th>ARR_TIME</th>\n",
              "      <th>ARR_DELAY</th>\n",
              "      <th>CRS_ELAPSED_TIME</th>\n",
              "      <th>ACTUAL_ELAPSED_TIME</th>\n",
              "      <th>AIR_TIME</th>\n",
              "      <th>DISTANCE</th>\n",
              "      <th>CARRIER_DELAY</th>\n",
              "      <th>WEATHER_DELAY</th>\n",
              "      <th>NAS_DELAY</th>\n",
              "      <th>SECURITY_DELAY</th>\n",
              "      <th>LATE_AIRCRAFT_DELAY</th>\n",
              "      <th>DELAYED</th>\n",
              "    </tr>\n",
              "  </thead>\n",
              "  <tbody>\n",
              "    <tr>\n",
              "      <th>MONTH</th>\n",
              "      <td>NaN</td>\n",
              "      <td>NaN</td>\n",
              "      <td>NaN</td>\n",
              "      <td>NaN</td>\n",
              "      <td>NaN</td>\n",
              "      <td>NaN</td>\n",
              "      <td>NaN</td>\n",
              "      <td>NaN</td>\n",
              "      <td>NaN</td>\n",
              "      <td>NaN</td>\n",
              "      <td>NaN</td>\n",
              "      <td>NaN</td>\n",
              "      <td>NaN</td>\n",
              "      <td>NaN</td>\n",
              "      <td>NaN</td>\n",
              "      <td>NaN</td>\n",
              "      <td>NaN</td>\n",
              "      <td>NaN</td>\n",
              "      <td>NaN</td>\n",
              "      <td>NaN</td>\n",
              "      <td>NaN</td>\n",
              "      <td>NaN</td>\n",
              "      <td>NaN</td>\n",
              "      <td>NaN</td>\n",
              "      <td>NaN</td>\n",
              "      <td>NaN</td>\n",
              "    </tr>\n",
              "    <tr>\n",
              "      <th>DAY_OF_MONTH</th>\n",
              "      <td>0.078433</td>\n",
              "      <td>NaN</td>\n",
              "      <td>NaN</td>\n",
              "      <td>NaN</td>\n",
              "      <td>NaN</td>\n",
              "      <td>NaN</td>\n",
              "      <td>NaN</td>\n",
              "      <td>NaN</td>\n",
              "      <td>NaN</td>\n",
              "      <td>NaN</td>\n",
              "      <td>NaN</td>\n",
              "      <td>NaN</td>\n",
              "      <td>NaN</td>\n",
              "      <td>NaN</td>\n",
              "      <td>NaN</td>\n",
              "      <td>NaN</td>\n",
              "      <td>NaN</td>\n",
              "      <td>NaN</td>\n",
              "      <td>NaN</td>\n",
              "      <td>NaN</td>\n",
              "      <td>NaN</td>\n",
              "      <td>NaN</td>\n",
              "      <td>NaN</td>\n",
              "      <td>NaN</td>\n",
              "      <td>NaN</td>\n",
              "      <td>NaN</td>\n",
              "    </tr>\n",
              "    <tr>\n",
              "      <th>DAY_OF_WEEK</th>\n",
              "      <td>0.018242</td>\n",
              "      <td>0.030003</td>\n",
              "      <td>NaN</td>\n",
              "      <td>NaN</td>\n",
              "      <td>NaN</td>\n",
              "      <td>NaN</td>\n",
              "      <td>NaN</td>\n",
              "      <td>NaN</td>\n",
              "      <td>NaN</td>\n",
              "      <td>NaN</td>\n",
              "      <td>NaN</td>\n",
              "      <td>NaN</td>\n",
              "      <td>NaN</td>\n",
              "      <td>NaN</td>\n",
              "      <td>NaN</td>\n",
              "      <td>NaN</td>\n",
              "      <td>NaN</td>\n",
              "      <td>NaN</td>\n",
              "      <td>NaN</td>\n",
              "      <td>NaN</td>\n",
              "      <td>NaN</td>\n",
              "      <td>NaN</td>\n",
              "      <td>NaN</td>\n",
              "      <td>NaN</td>\n",
              "      <td>NaN</td>\n",
              "      <td>NaN</td>\n",
              "    </tr>\n",
              "    <tr>\n",
              "      <th>OP_UNIQUE_CARRIER</th>\n",
              "      <td>0.001875</td>\n",
              "      <td>0.002480</td>\n",
              "      <td>0.007219</td>\n",
              "      <td>NaN</td>\n",
              "      <td>NaN</td>\n",
              "      <td>NaN</td>\n",
              "      <td>NaN</td>\n",
              "      <td>NaN</td>\n",
              "      <td>NaN</td>\n",
              "      <td>NaN</td>\n",
              "      <td>NaN</td>\n",
              "      <td>NaN</td>\n",
              "      <td>NaN</td>\n",
              "      <td>NaN</td>\n",
              "      <td>NaN</td>\n",
              "      <td>NaN</td>\n",
              "      <td>NaN</td>\n",
              "      <td>NaN</td>\n",
              "      <td>NaN</td>\n",
              "      <td>NaN</td>\n",
              "      <td>NaN</td>\n",
              "      <td>NaN</td>\n",
              "      <td>NaN</td>\n",
              "      <td>NaN</td>\n",
              "      <td>NaN</td>\n",
              "      <td>NaN</td>\n",
              "    </tr>\n",
              "    <tr>\n",
              "      <th>TAIL_NUM</th>\n",
              "      <td>0.001192</td>\n",
              "      <td>0.001832</td>\n",
              "      <td>0.005703</td>\n",
              "      <td>0.065549</td>\n",
              "      <td>NaN</td>\n",
              "      <td>NaN</td>\n",
              "      <td>NaN</td>\n",
              "      <td>NaN</td>\n",
              "      <td>NaN</td>\n",
              "      <td>NaN</td>\n",
              "      <td>NaN</td>\n",
              "      <td>NaN</td>\n",
              "      <td>NaN</td>\n",
              "      <td>NaN</td>\n",
              "      <td>NaN</td>\n",
              "      <td>NaN</td>\n",
              "      <td>NaN</td>\n",
              "      <td>NaN</td>\n",
              "      <td>NaN</td>\n",
              "      <td>NaN</td>\n",
              "      <td>NaN</td>\n",
              "      <td>NaN</td>\n",
              "      <td>NaN</td>\n",
              "      <td>NaN</td>\n",
              "      <td>NaN</td>\n",
              "      <td>NaN</td>\n",
              "    </tr>\n",
              "  </tbody>\n",
              "</table>\n",
              "</div>"
            ],
            "text/plain": [
              "                      MONTH  DAY_OF_MONTH  ...  LATE_AIRCRAFT_DELAY  DELAYED\n",
              "MONTH                   NaN           NaN  ...                  NaN      NaN\n",
              "DAY_OF_MONTH       0.078433           NaN  ...                  NaN      NaN\n",
              "DAY_OF_WEEK        0.018242      0.030003  ...                  NaN      NaN\n",
              "OP_UNIQUE_CARRIER  0.001875      0.002480  ...                  NaN      NaN\n",
              "TAIL_NUM           0.001192      0.001832  ...                  NaN      NaN\n",
              "\n",
              "[5 rows x 26 columns]"
            ]
          },
          "metadata": {
            "tags": []
          },
          "execution_count": 22
        }
      ]
    },
    {
      "cell_type": "code",
      "metadata": {
        "id": "NJOygMd5xIuU",
        "colab": {
          "base_uri": "https://localhost:8080/",
          "height": 798
        },
        "outputId": "5a66d28d-11ee-4a99-a4e2-3f7f39625653"
      },
      "source": [
        "plt.figure(figsize=(14,10))\n",
        "\n",
        "# Generate a mask for the upper triangle\n",
        "# mask = np.triu(np.ones_like(corr, dtype=bool))\n",
        "\n",
        "plt.title('Pearson Correlation of Features', y=1.05, size=20, color='R')\n",
        "\n",
        "sns.heatmap(lower_matrx, linewidths=0.1, vmax=1.0,\n",
        "            square=True, cmap=plt.cm.RdBu_r, linecolor='white', annot=True);\n",
        "plt.show();"
      ],
      "execution_count": null,
      "outputs": [
        {
          "output_type": "stream",
          "text": [
            "/usr/local/lib/python3.6/dist-packages/seaborn/matrix.py:342: MatplotlibDeprecationWarning: Support for uppercase single-letter colors is deprecated since Matplotlib 3.1 and will be removed in 3.3; please use lowercase instead.\n",
            "  ax.figure.draw(ax.figure.canvas.get_renderer())\n"
          ],
          "name": "stderr"
        },
        {
          "output_type": "display_data",
          "data": {
            "image/png": "[encoded data removed]",
            "text/plain": [
              "<Figure size 1008x720 with 2 Axes>"
            ]
          },
          "metadata": {
            "tags": [],
            "needs_background": "light"
          }
        }
      ]
    },
    {
      "cell_type": "code",
      "metadata": {
        "id": "6Z2Slsqx8xNQ",
        "colab": {
          "base_uri": "https://localhost:8080/"
        },
        "outputId": "5665e209-4295-4e28-d8dd-69df730a3996"
      },
      "source": [
        "# Select columns with correlations above threshold\n",
        "features_to_drop = [column for column in lower_matrx.columns if any(lower_matrx[column] > threshold)]\n",
        "\n",
        "print('There are %d columns to remove.' % (len(features_to_drop)))\n",
        "features_to_drop"
      ],
      "execution_count": null,
      "outputs": [
        {
          "output_type": "stream",
          "text": [
            "There are 5 columns to remove.\n"
          ],
          "name": "stdout"
        },
        {
          "output_type": "execute_result",
          "data": {
            "text/plain": [
              "['CRS_DEP_TIME',\n",
              " 'DEP_DELAY',\n",
              " 'CRS_ELAPSED_TIME',\n",
              " 'ACTUAL_ELAPSED_TIME',\n",
              " 'AIR_TIME']"
            ]
          },
          "metadata": {
            "tags": []
          },
          "execution_count": 24
        }
      ]
    },
    {
      "cell_type": "code",
      "metadata": {
        "id": "rShiUOo0GYTF"
      },
      "source": [
        "df.drop(features_to_drop, axis=1, inplace=True)"
      ],
      "execution_count": null,
      "outputs": []
    },
    {
      "cell_type": "code",
      "metadata": {
        "id": "pkTTrsL6GuFp",
        "colab": {
          "base_uri": "https://localhost:8080/",
          "height": 224
        },
        "outputId": "4b4e2c72-48ad-4afb-bb76-81e36df4b7a3"
      },
      "source": [
        "df.head()"
      ],
      "execution_count": null,
      "outputs": [
        {
          "output_type": "execute_result",
          "data": {
            "text/html": [
              "<div>\n",
              "<style scoped>\n",
              "    .dataframe tbody tr th:only-of-type {\n",
              "        vertical-align: middle;\n",
              "    }\n",
              "\n",
              "    .dataframe tbody tr th {\n",
              "        vertical-align: top;\n",
              "    }\n",
              "\n",
              "    .dataframe thead th {\n",
              "        text-align: right;\n",
              "    }\n",
              "</style>\n",
              "<table border=\"1\" class=\"dataframe\">\n",
              "  <thead>\n",
              "    <tr style=\"text-align: right;\">\n",
              "      <th></th>\n",
              "      <th>MONTH</th>\n",
              "      <th>DAY_OF_MONTH</th>\n",
              "      <th>DAY_OF_WEEK</th>\n",
              "      <th>OP_UNIQUE_CARRIER</th>\n",
              "      <th>TAIL_NUM</th>\n",
              "      <th>OP_CARRIER_FL_NUM</th>\n",
              "      <th>ORIGIN</th>\n",
              "      <th>DEST</th>\n",
              "      <th>DEP_TIME</th>\n",
              "      <th>TAXI_OUT</th>\n",
              "      <th>TAXI_IN</th>\n",
              "      <th>CRS_ARR_TIME</th>\n",
              "      <th>ARR_TIME</th>\n",
              "      <th>ARR_DELAY</th>\n",
              "      <th>DISTANCE</th>\n",
              "      <th>CARRIER_DELAY</th>\n",
              "      <th>WEATHER_DELAY</th>\n",
              "      <th>NAS_DELAY</th>\n",
              "      <th>SECURITY_DELAY</th>\n",
              "      <th>LATE_AIRCRAFT_DELAY</th>\n",
              "      <th>DELAYED</th>\n",
              "    </tr>\n",
              "  </thead>\n",
              "  <tbody>\n",
              "    <tr>\n",
              "      <th>0</th>\n",
              "      <td>1</td>\n",
              "      <td>16</td>\n",
              "      <td>1</td>\n",
              "      <td>0</td>\n",
              "      <td>1373</td>\n",
              "      <td>2186</td>\n",
              "      <td>76</td>\n",
              "      <td>234</td>\n",
              "      <td>9.22</td>\n",
              "      <td>26.0</td>\n",
              "      <td>5.0</td>\n",
              "      <td>10.3</td>\n",
              "      <td>10.40</td>\n",
              "      <td>6.0</td>\n",
              "      <td>1126.0</td>\n",
              "      <td>0.0</td>\n",
              "      <td>0.0</td>\n",
              "      <td>0.0</td>\n",
              "      <td>0.0</td>\n",
              "      <td>0.0</td>\n",
              "      <td>1</td>\n",
              "    </tr>\n",
              "    <tr>\n",
              "      <th>1</th>\n",
              "      <td>1</td>\n",
              "      <td>17</td>\n",
              "      <td>2</td>\n",
              "      <td>0</td>\n",
              "      <td>1258</td>\n",
              "      <td>2186</td>\n",
              "      <td>76</td>\n",
              "      <td>234</td>\n",
              "      <td>9.07</td>\n",
              "      <td>31.0</td>\n",
              "      <td>4.0</td>\n",
              "      <td>10.3</td>\n",
              "      <td>10.18</td>\n",
              "      <td>-7.0</td>\n",
              "      <td>1126.0</td>\n",
              "      <td>0.0</td>\n",
              "      <td>0.0</td>\n",
              "      <td>0.0</td>\n",
              "      <td>0.0</td>\n",
              "      <td>0.0</td>\n",
              "      <td>0</td>\n",
              "    </tr>\n",
              "    <tr>\n",
              "      <th>2</th>\n",
              "      <td>1</td>\n",
              "      <td>18</td>\n",
              "      <td>3</td>\n",
              "      <td>0</td>\n",
              "      <td>1252</td>\n",
              "      <td>2186</td>\n",
              "      <td>76</td>\n",
              "      <td>234</td>\n",
              "      <td>9.13</td>\n",
              "      <td>44.0</td>\n",
              "      <td>5.0</td>\n",
              "      <td>10.3</td>\n",
              "      <td>10.47</td>\n",
              "      <td>10.0</td>\n",
              "      <td>1126.0</td>\n",
              "      <td>0.0</td>\n",
              "      <td>0.0</td>\n",
              "      <td>0.0</td>\n",
              "      <td>0.0</td>\n",
              "      <td>0.0</td>\n",
              "      <td>1</td>\n",
              "    </tr>\n",
              "    <tr>\n",
              "      <th>3</th>\n",
              "      <td>1</td>\n",
              "      <td>19</td>\n",
              "      <td>4</td>\n",
              "      <td>0</td>\n",
              "      <td>1477</td>\n",
              "      <td>2186</td>\n",
              "      <td>76</td>\n",
              "      <td>234</td>\n",
              "      <td>9.08</td>\n",
              "      <td>41.0</td>\n",
              "      <td>8.0</td>\n",
              "      <td>10.3</td>\n",
              "      <td>10.78</td>\n",
              "      <td>29.0</td>\n",
              "      <td>1126.0</td>\n",
              "      <td>0.0</td>\n",
              "      <td>0.0</td>\n",
              "      <td>29.0</td>\n",
              "      <td>0.0</td>\n",
              "      <td>0.0</td>\n",
              "      <td>1</td>\n",
              "    </tr>\n",
              "    <tr>\n",
              "      <th>4</th>\n",
              "      <td>1</td>\n",
              "      <td>20</td>\n",
              "      <td>5</td>\n",
              "      <td>0</td>\n",
              "      <td>1505</td>\n",
              "      <td>2186</td>\n",
              "      <td>76</td>\n",
              "      <td>234</td>\n",
              "      <td>9.05</td>\n",
              "      <td>20.0</td>\n",
              "      <td>6.0</td>\n",
              "      <td>10.3</td>\n",
              "      <td>10.18</td>\n",
              "      <td>-7.0</td>\n",
              "      <td>1126.0</td>\n",
              "      <td>0.0</td>\n",
              "      <td>0.0</td>\n",
              "      <td>0.0</td>\n",
              "      <td>0.0</td>\n",
              "      <td>0.0</td>\n",
              "      <td>0</td>\n",
              "    </tr>\n",
              "  </tbody>\n",
              "</table>\n",
              "</div>"
            ],
            "text/plain": [
              "   MONTH  DAY_OF_MONTH  ...  LATE_AIRCRAFT_DELAY  DELAYED\n",
              "0      1            16  ...                  0.0        1\n",
              "1      1            17  ...                  0.0        0\n",
              "2      1            18  ...                  0.0        1\n",
              "3      1            19  ...                  0.0        1\n",
              "4      1            20  ...                  0.0        0\n",
              "\n",
              "[5 rows x 21 columns]"
            ]
          },
          "metadata": {
            "tags": []
          },
          "execution_count": 26
        }
      ]
    },
    {
      "cell_type": "markdown",
      "metadata": {
        "id": "9QdF-YvhLes0"
      },
      "source": [
        "# 10. Feature Selection using Feature Importances"
      ]
    },
    {
      "cell_type": "markdown",
      "metadata": {
        "id": "vNp_9WwDL2oX"
      },
      "source": [
        "Perform a feature removal by first removing all zero importance features from the model. If this leaves too many features, then we can consider removing the features with the lowest importance. We will use a Gradient Boosted Model from the LightGBM library to assess feature importances. If you're used to the Scikit-Learn library, the LightGBM library has an API that makes deploying the model very similar to using a Scikit-Learn model.\n",
        "\n",
        "Since the LightGBM model does not need missing values to be imputed, we can directly fit on the training data. We will use Early Stopping to determine the optimal number of iterations and run the model twice, averaging the feature importances to try and avoid overfitting to a certain set of features."
      ]
    },
    {
      "cell_type": "markdown",
      "metadata": {
        "id": "bbW5L44aieYu"
      },
      "source": [
        "**NOTE:**\n",
        "\n",
        "**To save time, I will use ONLY 20,000 samples of January 2017 for the feature selection and 5000 samples of January 2017 the training in the next step.**"
      ]
    },
    {
      "cell_type": "code",
      "metadata": {
        "id": "-kok-x1RL1TJ"
      },
      "source": [
        "# Prepare data\n",
        "df = df[ df.MONTH == 1 ]\n",
        "\n",
        "y_train = df['DELAYED']\n",
        "df.drop( ['DELAYED', 'ARR_DELAY', 'MONTH'], axis=1, inplace=True )\n",
        "\n",
        "X_train = df.copy()\n",
        "del df\n",
        "\n",
        "X_train = X_train[:20_000]\n",
        "y_train = y_train[:20_000]"
      ],
      "execution_count": null,
      "outputs": []
    },
    {
      "cell_type": "code",
      "metadata": {
        "id": "6cMwz6IMaCTV",
        "colab": {
          "base_uri": "https://localhost:8080/",
          "height": 224
        },
        "outputId": "8d18720a-2167-4cbc-d95a-e5f2e2df3b16"
      },
      "source": [
        "# Modeling \n",
        "import lightgbm as lgb\n",
        "\n",
        "# Initialize an empty array to hold feature importances\n",
        "feature_importances = np.zeros(X_train.shape[1])\n",
        "\n",
        "# Create the model with several hyperparameters\n",
        "model = lgb.LGBMClassifier(objective='binary', boosting_type = 'goss', n_estimators = 10000, class_weight = 'balanced')\n",
        "\n",
        "X_train.head()"
      ],
      "execution_count": null,
      "outputs": [
        {
          "output_type": "execute_result",
          "data": {
            "text/html": [
              "<div>\n",
              "<style scoped>\n",
              "    .dataframe tbody tr th:only-of-type {\n",
              "        vertical-align: middle;\n",
              "    }\n",
              "\n",
              "    .dataframe tbody tr th {\n",
              "        vertical-align: top;\n",
              "    }\n",
              "\n",
              "    .dataframe thead th {\n",
              "        text-align: right;\n",
              "    }\n",
              "</style>\n",
              "<table border=\"1\" class=\"dataframe\">\n",
              "  <thead>\n",
              "    <tr style=\"text-align: right;\">\n",
              "      <th></th>\n",
              "      <th>DAY_OF_MONTH</th>\n",
              "      <th>DAY_OF_WEEK</th>\n",
              "      <th>OP_UNIQUE_CARRIER</th>\n",
              "      <th>TAIL_NUM</th>\n",
              "      <th>OP_CARRIER_FL_NUM</th>\n",
              "      <th>ORIGIN</th>\n",
              "      <th>DEST</th>\n",
              "      <th>DEP_TIME</th>\n",
              "      <th>TAXI_OUT</th>\n",
              "      <th>TAXI_IN</th>\n",
              "      <th>CRS_ARR_TIME</th>\n",
              "      <th>ARR_TIME</th>\n",
              "      <th>DISTANCE</th>\n",
              "      <th>CARRIER_DELAY</th>\n",
              "      <th>WEATHER_DELAY</th>\n",
              "      <th>NAS_DELAY</th>\n",
              "      <th>SECURITY_DELAY</th>\n",
              "      <th>LATE_AIRCRAFT_DELAY</th>\n",
              "    </tr>\n",
              "  </thead>\n",
              "  <tbody>\n",
              "    <tr>\n",
              "      <th>0</th>\n",
              "      <td>16</td>\n",
              "      <td>1</td>\n",
              "      <td>0</td>\n",
              "      <td>1373</td>\n",
              "      <td>2186</td>\n",
              "      <td>76</td>\n",
              "      <td>234</td>\n",
              "      <td>9.22</td>\n",
              "      <td>26.0</td>\n",
              "      <td>5.0</td>\n",
              "      <td>10.3</td>\n",
              "      <td>10.40</td>\n",
              "      <td>1126.0</td>\n",
              "      <td>0.0</td>\n",
              "      <td>0.0</td>\n",
              "      <td>0.0</td>\n",
              "      <td>0.0</td>\n",
              "      <td>0.0</td>\n",
              "    </tr>\n",
              "    <tr>\n",
              "      <th>1</th>\n",
              "      <td>17</td>\n",
              "      <td>2</td>\n",
              "      <td>0</td>\n",
              "      <td>1258</td>\n",
              "      <td>2186</td>\n",
              "      <td>76</td>\n",
              "      <td>234</td>\n",
              "      <td>9.07</td>\n",
              "      <td>31.0</td>\n",
              "      <td>4.0</td>\n",
              "      <td>10.3</td>\n",
              "      <td>10.18</td>\n",
              "      <td>1126.0</td>\n",
              "      <td>0.0</td>\n",
              "      <td>0.0</td>\n",
              "      <td>0.0</td>\n",
              "      <td>0.0</td>\n",
              "      <td>0.0</td>\n",
              "    </tr>\n",
              "    <tr>\n",
              "      <th>2</th>\n",
              "      <td>18</td>\n",
              "      <td>3</td>\n",
              "      <td>0</td>\n",
              "      <td>1252</td>\n",
              "      <td>2186</td>\n",
              "      <td>76</td>\n",
              "      <td>234</td>\n",
              "      <td>9.13</td>\n",
              "      <td>44.0</td>\n",
              "      <td>5.0</td>\n",
              "      <td>10.3</td>\n",
              "      <td>10.47</td>\n",
              "      <td>1126.0</td>\n",
              "      <td>0.0</td>\n",
              "      <td>0.0</td>\n",
              "      <td>0.0</td>\n",
              "      <td>0.0</td>\n",
              "      <td>0.0</td>\n",
              "    </tr>\n",
              "    <tr>\n",
              "      <th>3</th>\n",
              "      <td>19</td>\n",
              "      <td>4</td>\n",
              "      <td>0</td>\n",
              "      <td>1477</td>\n",
              "      <td>2186</td>\n",
              "      <td>76</td>\n",
              "      <td>234</td>\n",
              "      <td>9.08</td>\n",
              "      <td>41.0</td>\n",
              "      <td>8.0</td>\n",
              "      <td>10.3</td>\n",
              "      <td>10.78</td>\n",
              "      <td>1126.0</td>\n",
              "      <td>0.0</td>\n",
              "      <td>0.0</td>\n",
              "      <td>29.0</td>\n",
              "      <td>0.0</td>\n",
              "      <td>0.0</td>\n",
              "    </tr>\n",
              "    <tr>\n",
              "      <th>4</th>\n",
              "      <td>20</td>\n",
              "      <td>5</td>\n",
              "      <td>0</td>\n",
              "      <td>1505</td>\n",
              "      <td>2186</td>\n",
              "      <td>76</td>\n",
              "      <td>234</td>\n",
              "      <td>9.05</td>\n",
              "      <td>20.0</td>\n",
              "      <td>6.0</td>\n",
              "      <td>10.3</td>\n",
              "      <td>10.18</td>\n",
              "      <td>1126.0</td>\n",
              "      <td>0.0</td>\n",
              "      <td>0.0</td>\n",
              "      <td>0.0</td>\n",
              "      <td>0.0</td>\n",
              "      <td>0.0</td>\n",
              "    </tr>\n",
              "  </tbody>\n",
              "</table>\n",
              "</div>"
            ],
            "text/plain": [
              "   DAY_OF_MONTH  DAY_OF_WEEK  ...  SECURITY_DELAY  LATE_AIRCRAFT_DELAY\n",
              "0            16            1  ...             0.0                  0.0\n",
              "1            17            2  ...             0.0                  0.0\n",
              "2            18            3  ...             0.0                  0.0\n",
              "3            19            4  ...             0.0                  0.0\n",
              "4            20            5  ...             0.0                  0.0\n",
              "\n",
              "[5 rows x 18 columns]"
            ]
          },
          "metadata": {
            "tags": []
          },
          "execution_count": 29
        }
      ]
    },
    {
      "cell_type": "code",
      "metadata": {
        "id": "LZWwiNHeQcxi",
        "colab": {
          "base_uri": "https://localhost:8080/"
        },
        "outputId": "fd096f7e-d5e5-4832-c4e9-e4c20786d7a8"
      },
      "source": [
        "# Import\n",
        "from sklearn.model_selection import train_test_split\n",
        "from sklearn.model_selection import KFold\n",
        "from sklearn.metrics         import roc_auc_score\n",
        "\n",
        "# Fit the model twice to avoid overfitting\n",
        "nruns = 2\n",
        "for i in range(nruns):\n",
        "    \n",
        "    # Split into training and validation set\n",
        "    train_features, valid_features, train_y, valid_y = train_test_split(X_train, y_train, test_size = 0.25, random_state = i)\n",
        "    \n",
        "    # Train using early stopping\n",
        "    model.fit(train_features, train_y, early_stopping_rounds=100, eval_set = [(valid_features, valid_y)], \n",
        "              eval_metric = 'logloss', verbose = 200)\n",
        "    \n",
        "    # Record the feature importances\n",
        "    feature_importances += model.feature_importances_"
      ],
      "execution_count": null,
      "outputs": [
        {
          "output_type": "stream",
          "text": [
            "Training until validation scores don't improve for 100 rounds.\n",
            "[200]\tvalid_0's multi_logloss: 0.238681\tvalid_0's multi_logloss: 0.238681\n",
            "[400]\tvalid_0's multi_logloss: 0.19946\tvalid_0's multi_logloss: 0.19946\n",
            "[600]\tvalid_0's multi_logloss: 0.1913\tvalid_0's multi_logloss: 0.1913\n",
            "Early stopping, best iteration is:\n",
            "[641]\tvalid_0's multi_logloss: 0.190192\tvalid_0's multi_logloss: 0.190192\n",
            "Training until validation scores don't improve for 100 rounds.\n",
            "[200]\tvalid_0's multi_logloss: 0.228877\tvalid_0's multi_logloss: 0.228877\n",
            "[400]\tvalid_0's multi_logloss: 0.194972\tvalid_0's multi_logloss: 0.194972\n",
            "Early stopping, best iteration is:\n",
            "[470]\tvalid_0's multi_logloss: 0.190924\tvalid_0's multi_logloss: 0.190924\n"
          ],
          "name": "stdout"
        }
      ]
    },
    {
      "cell_type": "code",
      "metadata": {
        "id": "es77Xhd8S5Z5",
        "colab": {
          "base_uri": "https://localhost:8080/",
          "height": 204
        },
        "outputId": "5e0857e5-68df-4397-ac6d-9825ed4df4a1"
      },
      "source": [
        "# Make sure to average feature importances! \n",
        "feature_importances = feature_importances / nruns\n",
        "feature_importances = pd.DataFrame({'feature': list(X_train.columns), 'importance': feature_importances}).sort_values('importance', ascending = False)\n",
        "\n",
        "feature_importances.head()"
      ],
      "execution_count": null,
      "outputs": [
        {
          "output_type": "execute_result",
          "data": {
            "text/html": [
              "<div>\n",
              "<style scoped>\n",
              "    .dataframe tbody tr th:only-of-type {\n",
              "        vertical-align: middle;\n",
              "    }\n",
              "\n",
              "    .dataframe tbody tr th {\n",
              "        vertical-align: top;\n",
              "    }\n",
              "\n",
              "    .dataframe thead th {\n",
              "        text-align: right;\n",
              "    }\n",
              "</style>\n",
              "<table border=\"1\" class=\"dataframe\">\n",
              "  <thead>\n",
              "    <tr style=\"text-align: right;\">\n",
              "      <th></th>\n",
              "      <th>feature</th>\n",
              "      <th>importance</th>\n",
              "    </tr>\n",
              "  </thead>\n",
              "  <tbody>\n",
              "    <tr>\n",
              "      <th>11</th>\n",
              "      <td>ARR_TIME</td>\n",
              "      <td>8831.0</td>\n",
              "    </tr>\n",
              "    <tr>\n",
              "      <th>10</th>\n",
              "      <td>CRS_ARR_TIME</td>\n",
              "      <td>8768.5</td>\n",
              "    </tr>\n",
              "    <tr>\n",
              "      <th>3</th>\n",
              "      <td>TAIL_NUM</td>\n",
              "      <td>7393.5</td>\n",
              "    </tr>\n",
              "    <tr>\n",
              "      <th>12</th>\n",
              "      <td>DISTANCE</td>\n",
              "      <td>6456.0</td>\n",
              "    </tr>\n",
              "    <tr>\n",
              "      <th>4</th>\n",
              "      <td>OP_CARRIER_FL_NUM</td>\n",
              "      <td>6395.5</td>\n",
              "    </tr>\n",
              "  </tbody>\n",
              "</table>\n",
              "</div>"
            ],
            "text/plain": [
              "              feature  importance\n",
              "11           ARR_TIME      8831.0\n",
              "10       CRS_ARR_TIME      8768.5\n",
              "3            TAIL_NUM      7393.5\n",
              "12           DISTANCE      6456.0\n",
              "4   OP_CARRIER_FL_NUM      6395.5"
            ]
          },
          "metadata": {
            "tags": []
          },
          "execution_count": 31
        }
      ]
    },
    {
      "cell_type": "code",
      "metadata": {
        "id": "sP8xWpSyWGhF",
        "colab": {
          "base_uri": "https://localhost:8080/",
          "height": 238
        },
        "outputId": "16e8037b-c33b-4963-db25-0abe90550ca1"
      },
      "source": [
        "# Find the features with zero importance\n",
        "zero_features = list(feature_importances[feature_importances['importance'] == 0.0]['feature'])\n",
        "\n",
        "print('There are %d features with 0.0 importance' % len(zero_features))\n",
        "print(zero_features)\n",
        "\n",
        "feature_importances.tail()"
      ],
      "execution_count": null,
      "outputs": [
        {
          "output_type": "stream",
          "text": [
            "There are 1 features with 0.0 importance\n",
            "['SECURITY_DELAY']\n"
          ],
          "name": "stdout"
        },
        {
          "output_type": "execute_result",
          "data": {
            "text/html": [
              "<div>\n",
              "<style scoped>\n",
              "    .dataframe tbody tr th:only-of-type {\n",
              "        vertical-align: middle;\n",
              "    }\n",
              "\n",
              "    .dataframe tbody tr th {\n",
              "        vertical-align: top;\n",
              "    }\n",
              "\n",
              "    .dataframe thead th {\n",
              "        text-align: right;\n",
              "    }\n",
              "</style>\n",
              "<table border=\"1\" class=\"dataframe\">\n",
              "  <thead>\n",
              "    <tr style=\"text-align: right;\">\n",
              "      <th></th>\n",
              "      <th>feature</th>\n",
              "      <th>importance</th>\n",
              "    </tr>\n",
              "  </thead>\n",
              "  <tbody>\n",
              "    <tr>\n",
              "      <th>17</th>\n",
              "      <td>LATE_AIRCRAFT_DELAY</td>\n",
              "      <td>3524.5</td>\n",
              "    </tr>\n",
              "    <tr>\n",
              "      <th>1</th>\n",
              "      <td>DAY_OF_WEEK</td>\n",
              "      <td>2286.0</td>\n",
              "    </tr>\n",
              "    <tr>\n",
              "      <th>2</th>\n",
              "      <td>OP_UNIQUE_CARRIER</td>\n",
              "      <td>1330.0</td>\n",
              "    </tr>\n",
              "    <tr>\n",
              "      <th>14</th>\n",
              "      <td>WEATHER_DELAY</td>\n",
              "      <td>733.5</td>\n",
              "    </tr>\n",
              "    <tr>\n",
              "      <th>16</th>\n",
              "      <td>SECURITY_DELAY</td>\n",
              "      <td>0.0</td>\n",
              "    </tr>\n",
              "  </tbody>\n",
              "</table>\n",
              "</div>"
            ],
            "text/plain": [
              "                feature  importance\n",
              "17  LATE_AIRCRAFT_DELAY      3524.5\n",
              "1           DAY_OF_WEEK      2286.0\n",
              "2     OP_UNIQUE_CARRIER      1330.0\n",
              "14        WEATHER_DELAY       733.5\n",
              "16       SECURITY_DELAY         0.0"
            ]
          },
          "metadata": {
            "tags": []
          },
          "execution_count": 32
        }
      ]
    },
    {
      "cell_type": "code",
      "metadata": {
        "id": "MAoxxSbfWxdL"
      },
      "source": [
        "def plot_feature_importances(df, threshold = 0.9):\n",
        "    \"\"\"\n",
        "    Plot 15 most important features and the cumulative importance of features.\n",
        "    Prints the number of features needed to reach threshold cumulative importance.\n",
        "    \n",
        "    Parameters\n",
        "    --------\n",
        "    df : dataframe\n",
        "        Dataframe of feature importances. Columns must be feature and importance\n",
        "    threshold : float, default = 0.9\n",
        "        Threshold for prining information about cumulative importances\n",
        "        \n",
        "    Return\n",
        "    --------\n",
        "    df : dataframe\n",
        "        Dataframe ordered by feature importances with a normalized column (sums to 1)\n",
        "        and a cumulative importance column\n",
        "    \n",
        "    \"\"\"\n",
        "    \n",
        "    plt.rcParams['font.size'] = 18\n",
        "    \n",
        "    # Sort features according to importance\n",
        "    df = df.sort_values('importance', ascending = False).reset_index()\n",
        "    \n",
        "    # Normalize the feature importances to add up to one\n",
        "    df['importance_normalized'] = df['importance'] / df['importance'].sum()\n",
        "    df['cumulative_importance'] = np.cumsum(df['importance_normalized'])\n",
        "\n",
        "    # Make a horizontal bar chart of feature importances\n",
        "    plt.figure(figsize = (10, 6))\n",
        "    ax = plt.subplot()\n",
        "    \n",
        "    # Need to reverse the index to plot most important on top\n",
        "    ax.barh(list(reversed(list(df.index[:15]))), \n",
        "            df['importance_normalized'].head(15), \n",
        "            align = 'center', edgecolor = 'k')\n",
        "    \n",
        "    # Set the yticks and labels\n",
        "    ax.set_yticks(list(reversed(list(df.index[:15]))))\n",
        "    ax.set_yticklabels(df['feature'].head(15))\n",
        "    \n",
        "    # Plot labeling\n",
        "    plt.xlabel('Normalized Importance'); plt.title('Feature Importances')\n",
        "    plt.show()\n",
        "    \n",
        "    # Cumulative importance plot\n",
        "    plt.figure(figsize = (8, 6))\n",
        "    plt.plot(list(range(len(df))), df['cumulative_importance'], 'r-')\n",
        "    plt.xlabel('Number of Features'); plt.ylabel('Cumulative Importance'); \n",
        "    plt.title('Cumulative Feature Importance');\n",
        "    plt.show();\n",
        "    \n",
        "    importance_index = np.min(np.where(df['cumulative_importance'] > threshold))\n",
        "    print('%d features required for %0.2f of cumulative importance' % (importance_index + 1, threshold))\n",
        "    \n",
        "    return df"
      ],
      "execution_count": null,
      "outputs": []
    },
    {
      "cell_type": "code",
      "metadata": {
        "id": "bYMQpuphW0--",
        "colab": {
          "base_uri": "https://localhost:8080/",
          "height": 858
        },
        "outputId": "1d6b6295-519d-478b-ffac-36e5fa62efa7"
      },
      "source": [
        "# Normalized feature importance\n",
        "norm_feature_importances = plot_feature_importances(feature_importances)"
      ],
      "execution_count": null,
      "outputs": [
        {
          "output_type": "display_data",
          "data": {
            "image/png": "[encoded data removed]",
            "text/plain": [
              "<Figure size 720x432 with 1 Axes>"
            ]
          },
          "metadata": {
            "tags": [],
            "needs_background": "light"
          }
        },
        {
          "output_type": "display_data",
          "data": {
            "image/png": "[encoded data removed]",
            "text/plain": [
              "<Figure size 576x432 with 1 Axes>"
            ]
          },
          "metadata": {
            "tags": [],
            "needs_background": "light"
          }
        },
        {
          "output_type": "stream",
          "text": [
            "13 features required for 0.90 of cumulative importance\n"
          ],
          "name": "stdout"
        }
      ]
    },
    {
      "cell_type": "code",
      "metadata": {
        "id": "TvHpJ3OwXVlQ",
        "colab": {
          "base_uri": "https://localhost:8080/"
        },
        "outputId": "5b2b565b-35c4-46f2-e32f-41d7c71ca524"
      },
      "source": [
        "X_train.drop( zero_features, axis=1, inplace=True )\n",
        "print('Training shape: ', X_train.shape)"
      ],
      "execution_count": null,
      "outputs": [
        {
          "output_type": "stream",
          "text": [
            "Training shape:  (20000, 17)\n"
          ],
          "name": "stdout"
        }
      ]
    },
    {
      "cell_type": "markdown",
      "metadata": {
        "id": "PUXKOaPIYYHz"
      },
      "source": [
        "At this point, we can re-run the model to see if it identifies any more features with zero importance. In a way, we are implementing our own form of recursive feature elimination. Since we are repeating work, we should probably put the zero feature importance identification code in a function."
      ]
    },
    {
      "cell_type": "code",
      "metadata": {
        "id": "TpOaJ0zSYif6"
      },
      "source": [
        "def identify_zero_importance_features(X, y, iterations = 2):\n",
        "    \"\"\"\n",
        "    Identify zero importance features in a training dataset based on the \n",
        "    feature importances from a gradient boosting model. \n",
        "    \n",
        "    Parameters\n",
        "    --------\n",
        "    X : dataframe\n",
        "        Training features\n",
        "        \n",
        "    y : np.array\n",
        "        Labels for training data\n",
        "        \n",
        "    iterations : integer, default = 2\n",
        "        Number of cross validation splits to use for determining feature importances\n",
        "    \"\"\"\n",
        "    \n",
        "    # Initialize an empty array to hold feature importances\n",
        "    feature_importances = np.zeros(X.shape[1])\n",
        "\n",
        "    # Create the model with several hyperparameters\n",
        "    model = lgb.LGBMClassifier(objective='binary', boosting_type = 'goss', n_estimators = 10000, class_weight = 'balanced')\n",
        "    \n",
        "    # Fit the model multiple times to avoid overfitting\n",
        "    for i in range(iterations):\n",
        "\n",
        "        # Split into training and validation set\n",
        "        train_features, valid_features, train_y, valid_y = train_test_split(X, y, test_size = 0.25, random_state = i)\n",
        "\n",
        "        # Train using early stopping\n",
        "        model.fit(train_features, train_y, early_stopping_rounds=100, eval_set = [(valid_features, valid_y)], \n",
        "                  eval_metric = 'logloss', verbose = 200)\n",
        "\n",
        "        # Record the feature importances\n",
        "        feature_importances += model.feature_importances_ / iterations\n",
        "    \n",
        "    feature_importances = pd.DataFrame({'feature': list(X.columns), 'importance': feature_importances}).sort_values('importance', ascending = False)\n",
        "    \n",
        "    # Find the features with zero importance\n",
        "    zero_features = list(feature_importances[feature_importances['importance'] == 0.0]['feature'])\n",
        "    print('\\nThere are %d features with 0.0 importance' % len(zero_features))\n",
        "    \n",
        "    return zero_features, feature_importances"
      ],
      "execution_count": null,
      "outputs": []
    },
    {
      "cell_type": "code",
      "metadata": {
        "id": "dQhyuWfJYssX",
        "colab": {
          "base_uri": "https://localhost:8080/"
        },
        "outputId": "3abb2d05-220b-4ff4-a2d0-111e3a3635a5"
      },
      "source": [
        "second_round_zero_features, feature_importances = identify_zero_importance_features(X_train, y_train)"
      ],
      "execution_count": null,
      "outputs": [
        {
          "output_type": "stream",
          "text": [
            "Training until validation scores don't improve for 100 rounds.\n",
            "[200]\tvalid_0's multi_logloss: 0.238681\tvalid_0's multi_logloss: 0.238681\n",
            "[400]\tvalid_0's multi_logloss: 0.19946\tvalid_0's multi_logloss: 0.19946\n",
            "[600]\tvalid_0's multi_logloss: 0.1913\tvalid_0's multi_logloss: 0.1913\n",
            "Early stopping, best iteration is:\n",
            "[641]\tvalid_0's multi_logloss: 0.190192\tvalid_0's multi_logloss: 0.190192\n",
            "Training until validation scores don't improve for 100 rounds.\n",
            "[200]\tvalid_0's multi_logloss: 0.228877\tvalid_0's multi_logloss: 0.228877\n",
            "[400]\tvalid_0's multi_logloss: 0.194972\tvalid_0's multi_logloss: 0.194972\n",
            "Early stopping, best iteration is:\n",
            "[470]\tvalid_0's multi_logloss: 0.190924\tvalid_0's multi_logloss: 0.190924\n",
            "\n",
            "There are 0 features with 0.0 importance\n"
          ],
          "name": "stdout"
        }
      ]
    },
    {
      "cell_type": "code",
      "metadata": {
        "id": "kJaQoMidZS5y",
        "colab": {
          "base_uri": "https://localhost:8080/",
          "height": 858
        },
        "outputId": "224705f8-108f-47da-aa07-2be0465953d0"
      },
      "source": [
        "norm_feature_importances = plot_feature_importances(feature_importances, threshold = 0.95)"
      ],
      "execution_count": null,
      "outputs": [
        {
          "output_type": "display_data",
          "data": {
            "image/png": "[encoded data removed]",
            "text/plain": [
              "<Figure size 720x432 with 1 Axes>"
            ]
          },
          "metadata": {
            "tags": [],
            "needs_background": "light"
          }
        },
        {
          "output_type": "display_data",
          "data": {
            "image/png": "[encoded data removed]",
            "text/plain": [
              "<Figure size 576x432 with 1 Axes>"
            ]
          },
          "metadata": {
            "tags": [],
            "needs_background": "light"
          }
        },
        {
          "output_type": "stream",
          "text": [
            "15 features required for 0.95 of cumulative importance\n"
          ],
          "name": "stdout"
        }
      ]
    },
    {
      "cell_type": "code",
      "metadata": {
        "id": "vHEQcR36bhit",
        "colab": {
          "base_uri": "https://localhost:8080/",
          "height": 576
        },
        "outputId": "f718d5e8-062c-46de-d6a2-ab45ae0f2745"
      },
      "source": [
        "feature_importances"
      ],
      "execution_count": null,
      "outputs": [
        {
          "output_type": "execute_result",
          "data": {
            "text/html": [
              "<div>\n",
              "<style scoped>\n",
              "    .dataframe tbody tr th:only-of-type {\n",
              "        vertical-align: middle;\n",
              "    }\n",
              "\n",
              "    .dataframe tbody tr th {\n",
              "        vertical-align: top;\n",
              "    }\n",
              "\n",
              "    .dataframe thead th {\n",
              "        text-align: right;\n",
              "    }\n",
              "</style>\n",
              "<table border=\"1\" class=\"dataframe\">\n",
              "  <thead>\n",
              "    <tr style=\"text-align: right;\">\n",
              "      <th></th>\n",
              "      <th>feature</th>\n",
              "      <th>importance</th>\n",
              "    </tr>\n",
              "  </thead>\n",
              "  <tbody>\n",
              "    <tr>\n",
              "      <th>11</th>\n",
              "      <td>ARR_TIME</td>\n",
              "      <td>8831.0</td>\n",
              "    </tr>\n",
              "    <tr>\n",
              "      <th>10</th>\n",
              "      <td>CRS_ARR_TIME</td>\n",
              "      <td>8768.5</td>\n",
              "    </tr>\n",
              "    <tr>\n",
              "      <th>3</th>\n",
              "      <td>TAIL_NUM</td>\n",
              "      <td>7393.5</td>\n",
              "    </tr>\n",
              "    <tr>\n",
              "      <th>12</th>\n",
              "      <td>DISTANCE</td>\n",
              "      <td>6456.0</td>\n",
              "    </tr>\n",
              "    <tr>\n",
              "      <th>4</th>\n",
              "      <td>OP_CARRIER_FL_NUM</td>\n",
              "      <td>6395.5</td>\n",
              "    </tr>\n",
              "    <tr>\n",
              "      <th>7</th>\n",
              "      <td>DEP_TIME</td>\n",
              "      <td>5852.0</td>\n",
              "    </tr>\n",
              "    <tr>\n",
              "      <th>8</th>\n",
              "      <td>TAXI_OUT</td>\n",
              "      <td>5701.5</td>\n",
              "    </tr>\n",
              "    <tr>\n",
              "      <th>6</th>\n",
              "      <td>DEST</td>\n",
              "      <td>5333.5</td>\n",
              "    </tr>\n",
              "    <tr>\n",
              "      <th>5</th>\n",
              "      <td>ORIGIN</td>\n",
              "      <td>5044.5</td>\n",
              "    </tr>\n",
              "    <tr>\n",
              "      <th>9</th>\n",
              "      <td>TAXI_IN</td>\n",
              "      <td>4451.0</td>\n",
              "    </tr>\n",
              "    <tr>\n",
              "      <th>0</th>\n",
              "      <td>DAY_OF_MONTH</td>\n",
              "      <td>4051.0</td>\n",
              "    </tr>\n",
              "    <tr>\n",
              "      <th>13</th>\n",
              "      <td>CARRIER_DELAY</td>\n",
              "      <td>3609.5</td>\n",
              "    </tr>\n",
              "    <tr>\n",
              "      <th>15</th>\n",
              "      <td>NAS_DELAY</td>\n",
              "      <td>3556.5</td>\n",
              "    </tr>\n",
              "    <tr>\n",
              "      <th>16</th>\n",
              "      <td>LATE_AIRCRAFT_DELAY</td>\n",
              "      <td>3524.5</td>\n",
              "    </tr>\n",
              "    <tr>\n",
              "      <th>1</th>\n",
              "      <td>DAY_OF_WEEK</td>\n",
              "      <td>2286.0</td>\n",
              "    </tr>\n",
              "    <tr>\n",
              "      <th>2</th>\n",
              "      <td>OP_UNIQUE_CARRIER</td>\n",
              "      <td>1330.0</td>\n",
              "    </tr>\n",
              "    <tr>\n",
              "      <th>14</th>\n",
              "      <td>WEATHER_DELAY</td>\n",
              "      <td>733.5</td>\n",
              "    </tr>\n",
              "  </tbody>\n",
              "</table>\n",
              "</div>"
            ],
            "text/plain": [
              "                feature  importance\n",
              "11             ARR_TIME      8831.0\n",
              "10         CRS_ARR_TIME      8768.5\n",
              "3              TAIL_NUM      7393.5\n",
              "12             DISTANCE      6456.0\n",
              "4     OP_CARRIER_FL_NUM      6395.5\n",
              "7              DEP_TIME      5852.0\n",
              "8              TAXI_OUT      5701.5\n",
              "6                  DEST      5333.5\n",
              "5                ORIGIN      5044.5\n",
              "9               TAXI_IN      4451.0\n",
              "0          DAY_OF_MONTH      4051.0\n",
              "13        CARRIER_DELAY      3609.5\n",
              "15            NAS_DELAY      3556.5\n",
              "16  LATE_AIRCRAFT_DELAY      3524.5\n",
              "1           DAY_OF_WEEK      2286.0\n",
              "2     OP_UNIQUE_CARRIER      1330.0\n",
              "14        WEATHER_DELAY       733.5"
            ]
          },
          "metadata": {
            "tags": []
          },
          "execution_count": 39
        }
      ]
    },
    {
      "cell_type": "code",
      "metadata": {
        "id": "AjzgJeUucjoI",
        "colab": {
          "base_uri": "https://localhost:8080/",
          "height": 576
        },
        "outputId": "443e965f-aebc-4aa3-abc6-eb295f707e54"
      },
      "source": [
        "norm_feature_importances"
      ],
      "execution_count": null,
      "outputs": [
        {
          "output_type": "execute_result",
          "data": {
            "text/html": [
              "<div>\n",
              "<style scoped>\n",
              "    .dataframe tbody tr th:only-of-type {\n",
              "        vertical-align: middle;\n",
              "    }\n",
              "\n",
              "    .dataframe tbody tr th {\n",
              "        vertical-align: top;\n",
              "    }\n",
              "\n",
              "    .dataframe thead th {\n",
              "        text-align: right;\n",
              "    }\n",
              "</style>\n",
              "<table border=\"1\" class=\"dataframe\">\n",
              "  <thead>\n",
              "    <tr style=\"text-align: right;\">\n",
              "      <th></th>\n",
              "      <th>index</th>\n",
              "      <th>feature</th>\n",
              "      <th>importance</th>\n",
              "      <th>importance_normalized</th>\n",
              "      <th>cumulative_importance</th>\n",
              "    </tr>\n",
              "  </thead>\n",
              "  <tbody>\n",
              "    <tr>\n",
              "      <th>0</th>\n",
              "      <td>11</td>\n",
              "      <td>ARR_TIME</td>\n",
              "      <td>8831.0</td>\n",
              "      <td>0.105992</td>\n",
              "      <td>0.105992</td>\n",
              "    </tr>\n",
              "    <tr>\n",
              "      <th>1</th>\n",
              "      <td>10</td>\n",
              "      <td>CRS_ARR_TIME</td>\n",
              "      <td>8768.5</td>\n",
              "      <td>0.105241</td>\n",
              "      <td>0.211233</td>\n",
              "    </tr>\n",
              "    <tr>\n",
              "      <th>2</th>\n",
              "      <td>3</td>\n",
              "      <td>TAIL_NUM</td>\n",
              "      <td>7393.5</td>\n",
              "      <td>0.088738</td>\n",
              "      <td>0.299971</td>\n",
              "    </tr>\n",
              "    <tr>\n",
              "      <th>3</th>\n",
              "      <td>12</td>\n",
              "      <td>DISTANCE</td>\n",
              "      <td>6456.0</td>\n",
              "      <td>0.077486</td>\n",
              "      <td>0.377457</td>\n",
              "    </tr>\n",
              "    <tr>\n",
              "      <th>4</th>\n",
              "      <td>4</td>\n",
              "      <td>OP_CARRIER_FL_NUM</td>\n",
              "      <td>6395.5</td>\n",
              "      <td>0.076760</td>\n",
              "      <td>0.454218</td>\n",
              "    </tr>\n",
              "    <tr>\n",
              "      <th>5</th>\n",
              "      <td>7</td>\n",
              "      <td>DEP_TIME</td>\n",
              "      <td>5852.0</td>\n",
              "      <td>0.070237</td>\n",
              "      <td>0.524454</td>\n",
              "    </tr>\n",
              "    <tr>\n",
              "      <th>6</th>\n",
              "      <td>8</td>\n",
              "      <td>TAXI_OUT</td>\n",
              "      <td>5701.5</td>\n",
              "      <td>0.068431</td>\n",
              "      <td>0.592885</td>\n",
              "    </tr>\n",
              "    <tr>\n",
              "      <th>7</th>\n",
              "      <td>6</td>\n",
              "      <td>DEST</td>\n",
              "      <td>5333.5</td>\n",
              "      <td>0.064014</td>\n",
              "      <td>0.656899</td>\n",
              "    </tr>\n",
              "    <tr>\n",
              "      <th>8</th>\n",
              "      <td>5</td>\n",
              "      <td>ORIGIN</td>\n",
              "      <td>5044.5</td>\n",
              "      <td>0.060545</td>\n",
              "      <td>0.717444</td>\n",
              "    </tr>\n",
              "    <tr>\n",
              "      <th>9</th>\n",
              "      <td>9</td>\n",
              "      <td>TAXI_IN</td>\n",
              "      <td>4451.0</td>\n",
              "      <td>0.053422</td>\n",
              "      <td>0.770866</td>\n",
              "    </tr>\n",
              "    <tr>\n",
              "      <th>10</th>\n",
              "      <td>0</td>\n",
              "      <td>DAY_OF_MONTH</td>\n",
              "      <td>4051.0</td>\n",
              "      <td>0.048621</td>\n",
              "      <td>0.819487</td>\n",
              "    </tr>\n",
              "    <tr>\n",
              "      <th>11</th>\n",
              "      <td>13</td>\n",
              "      <td>CARRIER_DELAY</td>\n",
              "      <td>3609.5</td>\n",
              "      <td>0.043322</td>\n",
              "      <td>0.862809</td>\n",
              "    </tr>\n",
              "    <tr>\n",
              "      <th>12</th>\n",
              "      <td>15</td>\n",
              "      <td>NAS_DELAY</td>\n",
              "      <td>3556.5</td>\n",
              "      <td>0.042686</td>\n",
              "      <td>0.905495</td>\n",
              "    </tr>\n",
              "    <tr>\n",
              "      <th>13</th>\n",
              "      <td>16</td>\n",
              "      <td>LATE_AIRCRAFT_DELAY</td>\n",
              "      <td>3524.5</td>\n",
              "      <td>0.042302</td>\n",
              "      <td>0.947796</td>\n",
              "    </tr>\n",
              "    <tr>\n",
              "      <th>14</th>\n",
              "      <td>1</td>\n",
              "      <td>DAY_OF_WEEK</td>\n",
              "      <td>2286.0</td>\n",
              "      <td>0.027437</td>\n",
              "      <td>0.975233</td>\n",
              "    </tr>\n",
              "    <tr>\n",
              "      <th>15</th>\n",
              "      <td>2</td>\n",
              "      <td>OP_UNIQUE_CARRIER</td>\n",
              "      <td>1330.0</td>\n",
              "      <td>0.015963</td>\n",
              "      <td>0.991196</td>\n",
              "    </tr>\n",
              "    <tr>\n",
              "      <th>16</th>\n",
              "      <td>14</td>\n",
              "      <td>WEATHER_DELAY</td>\n",
              "      <td>733.5</td>\n",
              "      <td>0.008804</td>\n",
              "      <td>1.000000</td>\n",
              "    </tr>\n",
              "  </tbody>\n",
              "</table>\n",
              "</div>"
            ],
            "text/plain": [
              "    index              feature  ...  importance_normalized  cumulative_importance\n",
              "0      11             ARR_TIME  ...               0.105992               0.105992\n",
              "1      10         CRS_ARR_TIME  ...               0.105241               0.211233\n",
              "2       3             TAIL_NUM  ...               0.088738               0.299971\n",
              "3      12             DISTANCE  ...               0.077486               0.377457\n",
              "4       4    OP_CARRIER_FL_NUM  ...               0.076760               0.454218\n",
              "5       7             DEP_TIME  ...               0.070237               0.524454\n",
              "6       8             TAXI_OUT  ...               0.068431               0.592885\n",
              "7       6                 DEST  ...               0.064014               0.656899\n",
              "8       5               ORIGIN  ...               0.060545               0.717444\n",
              "9       9              TAXI_IN  ...               0.053422               0.770866\n",
              "10      0         DAY_OF_MONTH  ...               0.048621               0.819487\n",
              "11     13        CARRIER_DELAY  ...               0.043322               0.862809\n",
              "12     15            NAS_DELAY  ...               0.042686               0.905495\n",
              "13     16  LATE_AIRCRAFT_DELAY  ...               0.042302               0.947796\n",
              "14      1          DAY_OF_WEEK  ...               0.027437               0.975233\n",
              "15      2    OP_UNIQUE_CARRIER  ...               0.015963               0.991196\n",
              "16     14        WEATHER_DELAY  ...               0.008804               1.000000\n",
              "\n",
              "[17 rows x 5 columns]"
            ]
          },
          "metadata": {
            "tags": []
          },
          "execution_count": 40
        }
      ]
    },
    {
      "cell_type": "code",
      "metadata": {
        "id": "zdNaxFZObyxH",
        "colab": {
          "base_uri": "https://localhost:8080/",
          "height": 473
        },
        "outputId": "e80bb0e4-3694-4d40-bd66-55fc80b8e45d"
      },
      "source": [
        "# Threshold for cumulative importance\n",
        "threshold = 0.95\n",
        "\n",
        "\n",
        "# Extract the features to keep\n",
        "features_to_keep = list(norm_feature_importances[norm_feature_importances['cumulative_importance'] < threshold]['feature'])\n",
        "\n",
        "print('Number of feautures of keep: ', len(features_to_keep))\n",
        "print('Features to keep: ', features_to_keep)\n",
        "\n",
        "# Create new datasets with smaller features\n",
        "X_keep = X_train[features_to_keep]\n",
        "X_keep"
      ],
      "execution_count": null,
      "outputs": [
        {
          "output_type": "stream",
          "text": [
            "Number of feautures of keep:  14\n",
            "Features to keep:  ['ARR_TIME', 'CRS_ARR_TIME', 'TAIL_NUM', 'DISTANCE', 'OP_CARRIER_FL_NUM', 'DEP_TIME', 'TAXI_OUT', 'DEST', 'ORIGIN', 'TAXI_IN', 'DAY_OF_MONTH', 'CARRIER_DELAY', 'NAS_DELAY', 'LATE_AIRCRAFT_DELAY']\n"
          ],
          "name": "stdout"
        },
        {
          "output_type": "execute_result",
          "data": {
            "text/html": [
              "<div>\n",
              "<style scoped>\n",
              "    .dataframe tbody tr th:only-of-type {\n",
              "        vertical-align: middle;\n",
              "    }\n",
              "\n",
              "    .dataframe tbody tr th {\n",
              "        vertical-align: top;\n",
              "    }\n",
              "\n",
              "    .dataframe thead th {\n",
              "        text-align: right;\n",
              "    }\n",
              "</style>\n",
              "<table border=\"1\" class=\"dataframe\">\n",
              "  <thead>\n",
              "    <tr style=\"text-align: right;\">\n",
              "      <th></th>\n",
              "      <th>ARR_TIME</th>\n",
              "      <th>CRS_ARR_TIME</th>\n",
              "      <th>TAIL_NUM</th>\n",
              "      <th>DISTANCE</th>\n",
              "      <th>OP_CARRIER_FL_NUM</th>\n",
              "      <th>DEP_TIME</th>\n",
              "      <th>TAXI_OUT</th>\n",
              "      <th>DEST</th>\n",
              "      <th>ORIGIN</th>\n",
              "      <th>TAXI_IN</th>\n",
              "      <th>DAY_OF_MONTH</th>\n",
              "      <th>CARRIER_DELAY</th>\n",
              "      <th>NAS_DELAY</th>\n",
              "      <th>LATE_AIRCRAFT_DELAY</th>\n",
              "    </tr>\n",
              "  </thead>\n",
              "  <tbody>\n",
              "    <tr>\n",
              "      <th>0</th>\n",
              "      <td>10.40</td>\n",
              "      <td>10.30</td>\n",
              "      <td>1373</td>\n",
              "      <td>1126.0</td>\n",
              "      <td>2186</td>\n",
              "      <td>9.22</td>\n",
              "      <td>26.0</td>\n",
              "      <td>234</td>\n",
              "      <td>76</td>\n",
              "      <td>5.0</td>\n",
              "      <td>16</td>\n",
              "      <td>0.0</td>\n",
              "      <td>0.0</td>\n",
              "      <td>0.0</td>\n",
              "    </tr>\n",
              "    <tr>\n",
              "      <th>1</th>\n",
              "      <td>10.18</td>\n",
              "      <td>10.30</td>\n",
              "      <td>1258</td>\n",
              "      <td>1126.0</td>\n",
              "      <td>2186</td>\n",
              "      <td>9.07</td>\n",
              "      <td>31.0</td>\n",
              "      <td>234</td>\n",
              "      <td>76</td>\n",
              "      <td>4.0</td>\n",
              "      <td>17</td>\n",
              "      <td>0.0</td>\n",
              "      <td>0.0</td>\n",
              "      <td>0.0</td>\n",
              "    </tr>\n",
              "    <tr>\n",
              "      <th>2</th>\n",
              "      <td>10.47</td>\n",
              "      <td>10.30</td>\n",
              "      <td>1252</td>\n",
              "      <td>1126.0</td>\n",
              "      <td>2186</td>\n",
              "      <td>9.13</td>\n",
              "      <td>44.0</td>\n",
              "      <td>234</td>\n",
              "      <td>76</td>\n",
              "      <td>5.0</td>\n",
              "      <td>18</td>\n",
              "      <td>0.0</td>\n",
              "      <td>0.0</td>\n",
              "      <td>0.0</td>\n",
              "    </tr>\n",
              "    <tr>\n",
              "      <th>3</th>\n",
              "      <td>10.78</td>\n",
              "      <td>10.30</td>\n",
              "      <td>1477</td>\n",
              "      <td>1126.0</td>\n",
              "      <td>2186</td>\n",
              "      <td>9.08</td>\n",
              "      <td>41.0</td>\n",
              "      <td>234</td>\n",
              "      <td>76</td>\n",
              "      <td>8.0</td>\n",
              "      <td>19</td>\n",
              "      <td>0.0</td>\n",
              "      <td>29.0</td>\n",
              "      <td>0.0</td>\n",
              "    </tr>\n",
              "    <tr>\n",
              "      <th>4</th>\n",
              "      <td>10.18</td>\n",
              "      <td>10.30</td>\n",
              "      <td>1505</td>\n",
              "      <td>1126.0</td>\n",
              "      <td>2186</td>\n",
              "      <td>9.05</td>\n",
              "      <td>20.0</td>\n",
              "      <td>234</td>\n",
              "      <td>76</td>\n",
              "      <td>6.0</td>\n",
              "      <td>20</td>\n",
              "      <td>0.0</td>\n",
              "      <td>0.0</td>\n",
              "      <td>0.0</td>\n",
              "    </tr>\n",
              "    <tr>\n",
              "      <th>...</th>\n",
              "      <td>...</td>\n",
              "      <td>...</td>\n",
              "      <td>...</td>\n",
              "      <td>...</td>\n",
              "      <td>...</td>\n",
              "      <td>...</td>\n",
              "      <td>...</td>\n",
              "      <td>...</td>\n",
              "      <td>...</td>\n",
              "      <td>...</td>\n",
              "      <td>...</td>\n",
              "      <td>...</td>\n",
              "      <td>...</td>\n",
              "      <td>...</td>\n",
              "    </tr>\n",
              "    <tr>\n",
              "      <th>19995</th>\n",
              "      <td>22.42</td>\n",
              "      <td>20.83</td>\n",
              "      <td>695</td>\n",
              "      <td>1855.0</td>\n",
              "      <td>5175</td>\n",
              "      <td>16.73</td>\n",
              "      <td>17.0</td>\n",
              "      <td>180</td>\n",
              "      <td>261</td>\n",
              "      <td>5.0</td>\n",
              "      <td>8</td>\n",
              "      <td>11.0</td>\n",
              "      <td>0.0</td>\n",
              "      <td>84.0</td>\n",
              "    </tr>\n",
              "    <tr>\n",
              "      <th>19996</th>\n",
              "      <td>15.53</td>\n",
              "      <td>15.42</td>\n",
              "      <td>3050</td>\n",
              "      <td>1845.0</td>\n",
              "      <td>4738</td>\n",
              "      <td>9.48</td>\n",
              "      <td>31.0</td>\n",
              "      <td>188</td>\n",
              "      <td>261</td>\n",
              "      <td>5.0</td>\n",
              "      <td>8</td>\n",
              "      <td>0.0</td>\n",
              "      <td>0.0</td>\n",
              "      <td>0.0</td>\n",
              "    </tr>\n",
              "    <tr>\n",
              "      <th>19997</th>\n",
              "      <td>16.72</td>\n",
              "      <td>16.08</td>\n",
              "      <td>4131</td>\n",
              "      <td>651.0</td>\n",
              "      <td>2498</td>\n",
              "      <td>13.98</td>\n",
              "      <td>16.0</td>\n",
              "      <td>223</td>\n",
              "      <td>261</td>\n",
              "      <td>4.0</td>\n",
              "      <td>8</td>\n",
              "      <td>0.0</td>\n",
              "      <td>0.0</td>\n",
              "      <td>38.0</td>\n",
              "    </tr>\n",
              "    <tr>\n",
              "      <th>19998</th>\n",
              "      <td>23.43</td>\n",
              "      <td>21.17</td>\n",
              "      <td>3754</td>\n",
              "      <td>651.0</td>\n",
              "      <td>3226</td>\n",
              "      <td>20.70</td>\n",
              "      <td>14.0</td>\n",
              "      <td>223</td>\n",
              "      <td>261</td>\n",
              "      <td>4.0</td>\n",
              "      <td>8</td>\n",
              "      <td>0.0</td>\n",
              "      <td>0.0</td>\n",
              "      <td>136.0</td>\n",
              "    </tr>\n",
              "    <tr>\n",
              "      <th>19999</th>\n",
              "      <td>11.08</td>\n",
              "      <td>11.25</td>\n",
              "      <td>743</td>\n",
              "      <td>651.0</td>\n",
              "      <td>4798</td>\n",
              "      <td>8.35</td>\n",
              "      <td>17.0</td>\n",
              "      <td>223</td>\n",
              "      <td>261</td>\n",
              "      <td>4.0</td>\n",
              "      <td>8</td>\n",
              "      <td>0.0</td>\n",
              "      <td>0.0</td>\n",
              "      <td>0.0</td>\n",
              "    </tr>\n",
              "  </tbody>\n",
              "</table>\n",
              "<p>20000 rows × 14 columns</p>\n",
              "</div>"
            ],
            "text/plain": [
              "       ARR_TIME  CRS_ARR_TIME  ...  NAS_DELAY  LATE_AIRCRAFT_DELAY\n",
              "0         10.40         10.30  ...        0.0                  0.0\n",
              "1         10.18         10.30  ...        0.0                  0.0\n",
              "2         10.47         10.30  ...        0.0                  0.0\n",
              "3         10.78         10.30  ...       29.0                  0.0\n",
              "4         10.18         10.30  ...        0.0                  0.0\n",
              "...         ...           ...  ...        ...                  ...\n",
              "19995     22.42         20.83  ...        0.0                 84.0\n",
              "19996     15.53         15.42  ...        0.0                  0.0\n",
              "19997     16.72         16.08  ...        0.0                 38.0\n",
              "19998     23.43         21.17  ...        0.0                136.0\n",
              "19999     11.08         11.25  ...        0.0                  0.0\n",
              "\n",
              "[20000 rows x 14 columns]"
            ]
          },
          "metadata": {
            "tags": []
          },
          "execution_count": 41
        }
      ]
    },
    {
      "cell_type": "code",
      "metadata": {
        "id": "T_FXhJDPcTWf",
        "colab": {
          "base_uri": "https://localhost:8080/",
          "height": 419
        },
        "outputId": "b8be16a5-cc27-4abc-d237-e3bf720551f0"
      },
      "source": [
        "X_keep = X_keep.assign(DELAYED = y_train)\n",
        "X_keep"
      ],
      "execution_count": null,
      "outputs": [
        {
          "output_type": "execute_result",
          "data": {
            "text/html": [
              "<div>\n",
              "<style scoped>\n",
              "    .dataframe tbody tr th:only-of-type {\n",
              "        vertical-align: middle;\n",
              "    }\n",
              "\n",
              "    .dataframe tbody tr th {\n",
              "        vertical-align: top;\n",
              "    }\n",
              "\n",
              "    .dataframe thead th {\n",
              "        text-align: right;\n",
              "    }\n",
              "</style>\n",
              "<table border=\"1\" class=\"dataframe\">\n",
              "  <thead>\n",
              "    <tr style=\"text-align: right;\">\n",
              "      <th></th>\n",
              "      <th>ARR_TIME</th>\n",
              "      <th>CRS_ARR_TIME</th>\n",
              "      <th>TAIL_NUM</th>\n",
              "      <th>DISTANCE</th>\n",
              "      <th>OP_CARRIER_FL_NUM</th>\n",
              "      <th>DEP_TIME</th>\n",
              "      <th>TAXI_OUT</th>\n",
              "      <th>DEST</th>\n",
              "      <th>ORIGIN</th>\n",
              "      <th>TAXI_IN</th>\n",
              "      <th>DAY_OF_MONTH</th>\n",
              "      <th>CARRIER_DELAY</th>\n",
              "      <th>NAS_DELAY</th>\n",
              "      <th>LATE_AIRCRAFT_DELAY</th>\n",
              "      <th>DELAYED</th>\n",
              "    </tr>\n",
              "  </thead>\n",
              "  <tbody>\n",
              "    <tr>\n",
              "      <th>0</th>\n",
              "      <td>10.40</td>\n",
              "      <td>10.30</td>\n",
              "      <td>1373</td>\n",
              "      <td>1126.0</td>\n",
              "      <td>2186</td>\n",
              "      <td>9.22</td>\n",
              "      <td>26.0</td>\n",
              "      <td>234</td>\n",
              "      <td>76</td>\n",
              "      <td>5.0</td>\n",
              "      <td>16</td>\n",
              "      <td>0.0</td>\n",
              "      <td>0.0</td>\n",
              "      <td>0.0</td>\n",
              "      <td>1</td>\n",
              "    </tr>\n",
              "    <tr>\n",
              "      <th>1</th>\n",
              "      <td>10.18</td>\n",
              "      <td>10.30</td>\n",
              "      <td>1258</td>\n",
              "      <td>1126.0</td>\n",
              "      <td>2186</td>\n",
              "      <td>9.07</td>\n",
              "      <td>31.0</td>\n",
              "      <td>234</td>\n",
              "      <td>76</td>\n",
              "      <td>4.0</td>\n",
              "      <td>17</td>\n",
              "      <td>0.0</td>\n",
              "      <td>0.0</td>\n",
              "      <td>0.0</td>\n",
              "      <td>0</td>\n",
              "    </tr>\n",
              "    <tr>\n",
              "      <th>2</th>\n",
              "      <td>10.47</td>\n",
              "      <td>10.30</td>\n",
              "      <td>1252</td>\n",
              "      <td>1126.0</td>\n",
              "      <td>2186</td>\n",
              "      <td>9.13</td>\n",
              "      <td>44.0</td>\n",
              "      <td>234</td>\n",
              "      <td>76</td>\n",
              "      <td>5.0</td>\n",
              "      <td>18</td>\n",
              "      <td>0.0</td>\n",
              "      <td>0.0</td>\n",
              "      <td>0.0</td>\n",
              "      <td>1</td>\n",
              "    </tr>\n",
              "    <tr>\n",
              "      <th>3</th>\n",
              "      <td>10.78</td>\n",
              "      <td>10.30</td>\n",
              "      <td>1477</td>\n",
              "      <td>1126.0</td>\n",
              "      <td>2186</td>\n",
              "      <td>9.08</td>\n",
              "      <td>41.0</td>\n",
              "      <td>234</td>\n",
              "      <td>76</td>\n",
              "      <td>8.0</td>\n",
              "      <td>19</td>\n",
              "      <td>0.0</td>\n",
              "      <td>29.0</td>\n",
              "      <td>0.0</td>\n",
              "      <td>1</td>\n",
              "    </tr>\n",
              "    <tr>\n",
              "      <th>4</th>\n",
              "      <td>10.18</td>\n",
              "      <td>10.30</td>\n",
              "      <td>1505</td>\n",
              "      <td>1126.0</td>\n",
              "      <td>2186</td>\n",
              "      <td>9.05</td>\n",
              "      <td>20.0</td>\n",
              "      <td>234</td>\n",
              "      <td>76</td>\n",
              "      <td>6.0</td>\n",
              "      <td>20</td>\n",
              "      <td>0.0</td>\n",
              "      <td>0.0</td>\n",
              "      <td>0.0</td>\n",
              "      <td>0</td>\n",
              "    </tr>\n",
              "    <tr>\n",
              "      <th>...</th>\n",
              "      <td>...</td>\n",
              "      <td>...</td>\n",
              "      <td>...</td>\n",
              "      <td>...</td>\n",
              "      <td>...</td>\n",
              "      <td>...</td>\n",
              "      <td>...</td>\n",
              "      <td>...</td>\n",
              "      <td>...</td>\n",
              "      <td>...</td>\n",
              "      <td>...</td>\n",
              "      <td>...</td>\n",
              "      <td>...</td>\n",
              "      <td>...</td>\n",
              "      <td>...</td>\n",
              "    </tr>\n",
              "    <tr>\n",
              "      <th>19995</th>\n",
              "      <td>22.42</td>\n",
              "      <td>20.83</td>\n",
              "      <td>695</td>\n",
              "      <td>1855.0</td>\n",
              "      <td>5175</td>\n",
              "      <td>16.73</td>\n",
              "      <td>17.0</td>\n",
              "      <td>180</td>\n",
              "      <td>261</td>\n",
              "      <td>5.0</td>\n",
              "      <td>8</td>\n",
              "      <td>11.0</td>\n",
              "      <td>0.0</td>\n",
              "      <td>84.0</td>\n",
              "      <td>3</td>\n",
              "    </tr>\n",
              "    <tr>\n",
              "      <th>19996</th>\n",
              "      <td>15.53</td>\n",
              "      <td>15.42</td>\n",
              "      <td>3050</td>\n",
              "      <td>1845.0</td>\n",
              "      <td>4738</td>\n",
              "      <td>9.48</td>\n",
              "      <td>31.0</td>\n",
              "      <td>188</td>\n",
              "      <td>261</td>\n",
              "      <td>5.0</td>\n",
              "      <td>8</td>\n",
              "      <td>0.0</td>\n",
              "      <td>0.0</td>\n",
              "      <td>0.0</td>\n",
              "      <td>1</td>\n",
              "    </tr>\n",
              "    <tr>\n",
              "      <th>19997</th>\n",
              "      <td>16.72</td>\n",
              "      <td>16.08</td>\n",
              "      <td>4131</td>\n",
              "      <td>651.0</td>\n",
              "      <td>2498</td>\n",
              "      <td>13.98</td>\n",
              "      <td>16.0</td>\n",
              "      <td>223</td>\n",
              "      <td>261</td>\n",
              "      <td>4.0</td>\n",
              "      <td>8</td>\n",
              "      <td>0.0</td>\n",
              "      <td>0.0</td>\n",
              "      <td>38.0</td>\n",
              "      <td>2</td>\n",
              "    </tr>\n",
              "    <tr>\n",
              "      <th>19998</th>\n",
              "      <td>23.43</td>\n",
              "      <td>21.17</td>\n",
              "      <td>3754</td>\n",
              "      <td>651.0</td>\n",
              "      <td>3226</td>\n",
              "      <td>20.70</td>\n",
              "      <td>14.0</td>\n",
              "      <td>223</td>\n",
              "      <td>261</td>\n",
              "      <td>4.0</td>\n",
              "      <td>8</td>\n",
              "      <td>0.0</td>\n",
              "      <td>0.0</td>\n",
              "      <td>136.0</td>\n",
              "      <td>4</td>\n",
              "    </tr>\n",
              "    <tr>\n",
              "      <th>19999</th>\n",
              "      <td>11.08</td>\n",
              "      <td>11.25</td>\n",
              "      <td>743</td>\n",
              "      <td>651.0</td>\n",
              "      <td>4798</td>\n",
              "      <td>8.35</td>\n",
              "      <td>17.0</td>\n",
              "      <td>223</td>\n",
              "      <td>261</td>\n",
              "      <td>4.0</td>\n",
              "      <td>8</td>\n",
              "      <td>0.0</td>\n",
              "      <td>0.0</td>\n",
              "      <td>0.0</td>\n",
              "      <td>0</td>\n",
              "    </tr>\n",
              "  </tbody>\n",
              "</table>\n",
              "<p>20000 rows × 15 columns</p>\n",
              "</div>"
            ],
            "text/plain": [
              "       ARR_TIME  CRS_ARR_TIME  ...  LATE_AIRCRAFT_DELAY  DELAYED\n",
              "0         10.40         10.30  ...                  0.0        1\n",
              "1         10.18         10.30  ...                  0.0        0\n",
              "2         10.47         10.30  ...                  0.0        1\n",
              "3         10.78         10.30  ...                  0.0        1\n",
              "4         10.18         10.30  ...                  0.0        0\n",
              "...         ...           ...  ...                  ...      ...\n",
              "19995     22.42         20.83  ...                 84.0        3\n",
              "19996     15.53         15.42  ...                  0.0        1\n",
              "19997     16.72         16.08  ...                 38.0        2\n",
              "19998     23.43         21.17  ...                136.0        4\n",
              "19999     11.08         11.25  ...                  0.0        0\n",
              "\n",
              "[20000 rows x 15 columns]"
            ]
          },
          "metadata": {
            "tags": []
          },
          "execution_count": 42
        }
      ]
    },
    {
      "cell_type": "code",
      "metadata": {
        "id": "AVieS5MHkOHW",
        "colab": {
          "base_uri": "https://localhost:8080/"
        },
        "outputId": "3cbc8dd0-626f-47ed-e6c3-0341c6b212f8"
      },
      "source": [
        "X_keep.columns"
      ],
      "execution_count": null,
      "outputs": [
        {
          "output_type": "execute_result",
          "data": {
            "text/plain": [
              "Index(['ARR_TIME', 'CRS_ARR_TIME', 'TAIL_NUM', 'DISTANCE', 'OP_CARRIER_FL_NUM',\n",
              "       'DEP_TIME', 'TAXI_OUT', 'DEST', 'ORIGIN', 'TAXI_IN', 'DAY_OF_MONTH',\n",
              "       'CARRIER_DELAY', 'NAS_DELAY', 'LATE_AIRCRAFT_DELAY', 'DELAYED'],\n",
              "      dtype='object')"
            ]
          },
          "metadata": {
            "tags": []
          },
          "execution_count": 43
        }
      ]
    },
    {
      "cell_type": "code",
      "metadata": {
        "id": "q5CVTraCl_N_",
        "colab": {
          "base_uri": "https://localhost:8080/",
          "height": 419
        },
        "outputId": "373c7f9b-eda9-400a-a698-1603377cc396"
      },
      "source": [
        "# Re-arrange\n",
        "X_keep[ ['DAY_OF_MONTH', 'OP_CARRIER_FL_NUM', 'TAIL_NUM', 'ORIGIN', 'DEST',\n",
        "       'DEP_TIME', 'ARR_TIME', 'CRS_ARR_TIME', 'DISTANCE', 'TAXI_OUT',\n",
        "       'TAXI_IN', 'CARRIER_DELAY', 'NAS_DELAY', 'LATE_AIRCRAFT_DELAY', 'DELAYED']]"
      ],
      "execution_count": null,
      "outputs": [
        {
          "output_type": "execute_result",
          "data": {
            "text/html": [
              "<div>\n",
              "<style scoped>\n",
              "    .dataframe tbody tr th:only-of-type {\n",
              "        vertical-align: middle;\n",
              "    }\n",
              "\n",
              "    .dataframe tbody tr th {\n",
              "        vertical-align: top;\n",
              "    }\n",
              "\n",
              "    .dataframe thead th {\n",
              "        text-align: right;\n",
              "    }\n",
              "</style>\n",
              "<table border=\"1\" class=\"dataframe\">\n",
              "  <thead>\n",
              "    <tr style=\"text-align: right;\">\n",
              "      <th></th>\n",
              "      <th>DAY_OF_MONTH</th>\n",
              "      <th>OP_CARRIER_FL_NUM</th>\n",
              "      <th>TAIL_NUM</th>\n",
              "      <th>ORIGIN</th>\n",
              "      <th>DEST</th>\n",
              "      <th>DEP_TIME</th>\n",
              "      <th>ARR_TIME</th>\n",
              "      <th>CRS_ARR_TIME</th>\n",
              "      <th>DISTANCE</th>\n",
              "      <th>TAXI_OUT</th>\n",
              "      <th>TAXI_IN</th>\n",
              "      <th>CARRIER_DELAY</th>\n",
              "      <th>NAS_DELAY</th>\n",
              "      <th>LATE_AIRCRAFT_DELAY</th>\n",
              "      <th>DELAYED</th>\n",
              "    </tr>\n",
              "  </thead>\n",
              "  <tbody>\n",
              "    <tr>\n",
              "      <th>0</th>\n",
              "      <td>16</td>\n",
              "      <td>2186</td>\n",
              "      <td>1373</td>\n",
              "      <td>76</td>\n",
              "      <td>234</td>\n",
              "      <td>9.22</td>\n",
              "      <td>10.40</td>\n",
              "      <td>10.30</td>\n",
              "      <td>1126.0</td>\n",
              "      <td>26.0</td>\n",
              "      <td>5.0</td>\n",
              "      <td>0.0</td>\n",
              "      <td>0.0</td>\n",
              "      <td>0.0</td>\n",
              "      <td>1</td>\n",
              "    </tr>\n",
              "    <tr>\n",
              "      <th>1</th>\n",
              "      <td>17</td>\n",
              "      <td>2186</td>\n",
              "      <td>1258</td>\n",
              "      <td>76</td>\n",
              "      <td>234</td>\n",
              "      <td>9.07</td>\n",
              "      <td>10.18</td>\n",
              "      <td>10.30</td>\n",
              "      <td>1126.0</td>\n",
              "      <td>31.0</td>\n",
              "      <td>4.0</td>\n",
              "      <td>0.0</td>\n",
              "      <td>0.0</td>\n",
              "      <td>0.0</td>\n",
              "      <td>0</td>\n",
              "    </tr>\n",
              "    <tr>\n",
              "      <th>2</th>\n",
              "      <td>18</td>\n",
              "      <td>2186</td>\n",
              "      <td>1252</td>\n",
              "      <td>76</td>\n",
              "      <td>234</td>\n",
              "      <td>9.13</td>\n",
              "      <td>10.47</td>\n",
              "      <td>10.30</td>\n",
              "      <td>1126.0</td>\n",
              "      <td>44.0</td>\n",
              "      <td>5.0</td>\n",
              "      <td>0.0</td>\n",
              "      <td>0.0</td>\n",
              "      <td>0.0</td>\n",
              "      <td>1</td>\n",
              "    </tr>\n",
              "    <tr>\n",
              "      <th>3</th>\n",
              "      <td>19</td>\n",
              "      <td>2186</td>\n",
              "      <td>1477</td>\n",
              "      <td>76</td>\n",
              "      <td>234</td>\n",
              "      <td>9.08</td>\n",
              "      <td>10.78</td>\n",
              "      <td>10.30</td>\n",
              "      <td>1126.0</td>\n",
              "      <td>41.0</td>\n",
              "      <td>8.0</td>\n",
              "      <td>0.0</td>\n",
              "      <td>29.0</td>\n",
              "      <td>0.0</td>\n",
              "      <td>1</td>\n",
              "    </tr>\n",
              "    <tr>\n",
              "      <th>4</th>\n",
              "      <td>20</td>\n",
              "      <td>2186</td>\n",
              "      <td>1505</td>\n",
              "      <td>76</td>\n",
              "      <td>234</td>\n",
              "      <td>9.05</td>\n",
              "      <td>10.18</td>\n",
              "      <td>10.30</td>\n",
              "      <td>1126.0</td>\n",
              "      <td>20.0</td>\n",
              "      <td>6.0</td>\n",
              "      <td>0.0</td>\n",
              "      <td>0.0</td>\n",
              "      <td>0.0</td>\n",
              "      <td>0</td>\n",
              "    </tr>\n",
              "    <tr>\n",
              "      <th>...</th>\n",
              "      <td>...</td>\n",
              "      <td>...</td>\n",
              "      <td>...</td>\n",
              "      <td>...</td>\n",
              "      <td>...</td>\n",
              "      <td>...</td>\n",
              "      <td>...</td>\n",
              "      <td>...</td>\n",
              "      <td>...</td>\n",
              "      <td>...</td>\n",
              "      <td>...</td>\n",
              "      <td>...</td>\n",
              "      <td>...</td>\n",
              "      <td>...</td>\n",
              "      <td>...</td>\n",
              "    </tr>\n",
              "    <tr>\n",
              "      <th>19995</th>\n",
              "      <td>8</td>\n",
              "      <td>5175</td>\n",
              "      <td>695</td>\n",
              "      <td>261</td>\n",
              "      <td>180</td>\n",
              "      <td>16.73</td>\n",
              "      <td>22.42</td>\n",
              "      <td>20.83</td>\n",
              "      <td>1855.0</td>\n",
              "      <td>17.0</td>\n",
              "      <td>5.0</td>\n",
              "      <td>11.0</td>\n",
              "      <td>0.0</td>\n",
              "      <td>84.0</td>\n",
              "      <td>3</td>\n",
              "    </tr>\n",
              "    <tr>\n",
              "      <th>19996</th>\n",
              "      <td>8</td>\n",
              "      <td>4738</td>\n",
              "      <td>3050</td>\n",
              "      <td>261</td>\n",
              "      <td>188</td>\n",
              "      <td>9.48</td>\n",
              "      <td>15.53</td>\n",
              "      <td>15.42</td>\n",
              "      <td>1845.0</td>\n",
              "      <td>31.0</td>\n",
              "      <td>5.0</td>\n",
              "      <td>0.0</td>\n",
              "      <td>0.0</td>\n",
              "      <td>0.0</td>\n",
              "      <td>1</td>\n",
              "    </tr>\n",
              "    <tr>\n",
              "      <th>19997</th>\n",
              "      <td>8</td>\n",
              "      <td>2498</td>\n",
              "      <td>4131</td>\n",
              "      <td>261</td>\n",
              "      <td>223</td>\n",
              "      <td>13.98</td>\n",
              "      <td>16.72</td>\n",
              "      <td>16.08</td>\n",
              "      <td>651.0</td>\n",
              "      <td>16.0</td>\n",
              "      <td>4.0</td>\n",
              "      <td>0.0</td>\n",
              "      <td>0.0</td>\n",
              "      <td>38.0</td>\n",
              "      <td>2</td>\n",
              "    </tr>\n",
              "    <tr>\n",
              "      <th>19998</th>\n",
              "      <td>8</td>\n",
              "      <td>3226</td>\n",
              "      <td>3754</td>\n",
              "      <td>261</td>\n",
              "      <td>223</td>\n",
              "      <td>20.70</td>\n",
              "      <td>23.43</td>\n",
              "      <td>21.17</td>\n",
              "      <td>651.0</td>\n",
              "      <td>14.0</td>\n",
              "      <td>4.0</td>\n",
              "      <td>0.0</td>\n",
              "      <td>0.0</td>\n",
              "      <td>136.0</td>\n",
              "      <td>4</td>\n",
              "    </tr>\n",
              "    <tr>\n",
              "      <th>19999</th>\n",
              "      <td>8</td>\n",
              "      <td>4798</td>\n",
              "      <td>743</td>\n",
              "      <td>261</td>\n",
              "      <td>223</td>\n",
              "      <td>8.35</td>\n",
              "      <td>11.08</td>\n",
              "      <td>11.25</td>\n",
              "      <td>651.0</td>\n",
              "      <td>17.0</td>\n",
              "      <td>4.0</td>\n",
              "      <td>0.0</td>\n",
              "      <td>0.0</td>\n",
              "      <td>0.0</td>\n",
              "      <td>0</td>\n",
              "    </tr>\n",
              "  </tbody>\n",
              "</table>\n",
              "<p>20000 rows × 15 columns</p>\n",
              "</div>"
            ],
            "text/plain": [
              "       DAY_OF_MONTH  OP_CARRIER_FL_NUM  ...  LATE_AIRCRAFT_DELAY  DELAYED\n",
              "0                16               2186  ...                  0.0        1\n",
              "1                17               2186  ...                  0.0        0\n",
              "2                18               2186  ...                  0.0        1\n",
              "3                19               2186  ...                  0.0        1\n",
              "4                20               2186  ...                  0.0        0\n",
              "...             ...                ...  ...                  ...      ...\n",
              "19995             8               5175  ...                 84.0        3\n",
              "19996             8               4738  ...                  0.0        1\n",
              "19997             8               2498  ...                 38.0        2\n",
              "19998             8               3226  ...                136.0        4\n",
              "19999             8               4798  ...                  0.0        0\n",
              "\n",
              "[20000 rows x 15 columns]"
            ]
          },
          "metadata": {
            "tags": []
          },
          "execution_count": 44
        }
      ]
    },
    {
      "cell_type": "markdown",
      "metadata": {
        "id": "n2XD6F3hpYKe"
      },
      "source": [
        "# Save the cleaned data"
      ]
    },
    {
      "cell_type": "code",
      "metadata": {
        "id": "TwV4gZcJpR2b"
      },
      "source": [
        "X_keep.to_csv( os.path.join(data_path, 'cleaned_data_jan_20klines.csv'), index=False)"
      ],
      "execution_count": null,
      "outputs": []
    }
  ]
}