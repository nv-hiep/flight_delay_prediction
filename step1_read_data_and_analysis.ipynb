{
  "nbformat": 4,
  "nbformat_minor": 0,
  "metadata": {
    "colab": {
      "name": "step1_read_data_and_analysis.ipynb",
      "provenance": [],
      "collapsed_sections": [],
      "authorship_tag": "ABX9TyPU6/pS/rzI5fh6kahhGv+x",
      "include_colab_link": true
    },
    "kernelspec": {
      "name": "python3",
      "display_name": "Python 3"
    }
  },
  "cells": [
    {
      "cell_type": "markdown",
      "metadata": {
        "id": "view-in-github",
        "colab_type": "text"
      },
      "source": [
        "<a href=\"https://colab.research.google.com/github/nv-hiep/flight_delay_prediction/blob/master/step1_read_data_and_analysis.ipynb\" target=\"_parent\"><img src=\"https://colab.research.google.com/assets/colab-badge.svg\" alt=\"Open In Colab\"/></a>"
      ]
    },
    {
      "cell_type": "markdown",
      "metadata": {
        "id": "sj3eAw1OXOnB"
      },
      "source": [
        "**Connect and authorize google drive with google colab:**"
      ]
    },
    {
      "cell_type": "code",
      "metadata": {
        "id": "PjjcQSpya_FR",
        "colab": {
          "base_uri": "https://localhost:8080/"
        },
        "outputId": "b62a69cd-bd37-46b6-eab8-62c6e6fc74c1"
      },
      "source": [
        "from google.colab import drive\n",
        "drive.mount('/content/gdrive')\n",
        "# !ls"
      ],
      "execution_count": 1,
      "outputs": [
        {
          "output_type": "stream",
          "text": [
            "Drive already mounted at /content/gdrive; to attempt to forcibly remount, call drive.mount(\"/content/gdrive\", force_remount=True).\n"
          ],
          "name": "stdout"
        }
      ]
    },
    {
      "cell_type": "markdown",
      "metadata": {
        "id": "BDJptlLBvSlN"
      },
      "source": [
        "# 1. Import Libraries\n",
        "\n"
      ]
    },
    {
      "cell_type": "code",
      "metadata": {
        "id": "M3cWo7hhc-qO"
      },
      "source": [
        "import os\n",
        "import numpy   as np\n",
        "import pandas  as pd\n",
        "import seaborn as sns\n",
        "\n",
        "import matplotlib.pyplot as plt\n",
        "plt.style.use('fivethirtyeight')\n",
        "\n",
        "%matplotlib inline  "
      ],
      "execution_count": 2,
      "outputs": []
    },
    {
      "cell_type": "markdown",
      "metadata": {
        "id": "rM4hXN2QNW2C"
      },
      "source": [
        "# 2. Note on the analysis"
      ]
    },
    {
      "cell_type": "markdown",
      "metadata": {
        "id": "stBnyiMON-Gz"
      },
      "source": [
        "**I will consider the data of flights ONLY in January and February 2017. Here I used Google Colab, and it may consume time, so I will use the data of the 02 months for the analysis.**"
      ]
    },
    {
      "cell_type": "markdown",
      "metadata": {
        "id": "tAbwvuveOC69"
      },
      "source": [
        "**This dataset is composed by the following variables:**\n",
        "\n",
        "YEAR: 2017\n",
        "\n",
        "QUARTER: 1-4\n",
        "\n",
        "MONTH 1-12\n",
        "\n",
        "DAY_OF_MONTH: 1-31\n",
        "\n",
        "DAY_OF_WEEK: 1-7\n",
        "\n",
        "OP_UNIQUE_CARRIER: Two letter carrier abbreviation\n",
        "\n",
        "TAIL_NUM: Plane tail number\n",
        "\n",
        "OP_CARRIER_FL_NUM: Flight number\n",
        "\n",
        "ORIGIN: Airport codes for origin\n",
        "\n",
        "DEST: Airport codes for destination\n",
        "\n",
        "CRS_DEP_TIME: Scheduled departure time, local timezone\n",
        "\n",
        "DEP_TIME: Departure times, local timezone\n",
        "\n",
        "DEP_DELAY: Departure delay, in minutes, Negative times represent early departures\n",
        "\n",
        "TAXI_OUT: taxi out time in minutes\n",
        "\n",
        "TAXI_IN: taxi in time, in minutes\n",
        "\n",
        "CRS_ARR_TIME: Scheduled arrival time\n",
        "\n",
        "ARR_TIME Arrival times, local timezone\n",
        "\n",
        "ARR_DELAY: Arrival delay, in minutes, Negative times represent early arrivals\n",
        "\n",
        "CANCELLED: the flight was cancelled or not\n",
        "\n",
        "CANCELLATION_CODE: reason for cancellation (A = carrier, B = weather, C = NAS, D = security)\n",
        "\n",
        "DIVERTED: 1 = yes, 0 = no\n",
        "\n",
        "CRS_ELAPSED_TIME: Scheduled elapsed time in minutes\n",
        "\n",
        "ACTUAL_ELAPSED_TIME: Actual elapsed time in minutes\n",
        "\n",
        "AIR_TIME: Amount of time spent in the air, in minutes\n",
        "\n",
        "DISTANCE: Distance flown, in miles\n",
        "\n",
        "CARRIER_DELAY: \tin minutes\n",
        "\n",
        "WEATHER_DELAY: in minutes\n",
        "\n",
        "NAS_DELAY: in minutes\n",
        "\n",
        "SECURITY_DELAY: in minutes\n",
        "\n",
        "LATE_AIRCRAFT_DELAY: in minutes\n",
        "\n"
      ]
    },
    {
      "cell_type": "markdown",
      "metadata": {
        "id": "FgfeZe4ivlpb"
      },
      "source": [
        "# 3. Data directory"
      ]
    },
    {
      "cell_type": "code",
      "metadata": {
        "id": "Z9d185J9_xQZ",
        "colab": {
          "base_uri": "https://localhost:8080/"
        },
        "outputId": "a7681dfd-6dee-4e27-b1bd-6efb959d8713"
      },
      "source": [
        "data_dir = '/content/gdrive/My Drive/data'\n",
        "%cd '/content/gdrive/My Drive/data'\n",
        "\n",
        "current_dir = os.getcwd()\n",
        "print(current_dir)\n",
        "data_path = os.path.join(data_dir, 'flights', '')\n",
        "print(data_path)"
      ],
      "execution_count": 3,
      "outputs": [
        {
          "output_type": "stream",
          "text": [
            "/content/gdrive/My Drive/data\n",
            "/content/gdrive/My Drive/data\n",
            "/content/gdrive/My Drive/data/flights/\n"
          ],
          "name": "stdout"
        }
      ]
    },
    {
      "cell_type": "markdown",
      "metadata": {
        "id": "XcLp6KOLNk1O"
      },
      "source": [
        "# 4. Read data sets"
      ]
    },
    {
      "cell_type": "markdown",
      "metadata": {
        "id": "k7kSCjiCvvNz"
      },
      "source": [
        "## Read carrier data"
      ]
    },
    {
      "cell_type": "code",
      "metadata": {
        "id": "PuKxgdWeGN5g",
        "colab": {
          "base_uri": "https://localhost:8080/",
          "height": 221
        },
        "outputId": "534b35c3-60f6-4c65-8309-9bc303e394e4"
      },
      "source": [
        "# Read carrier data from csv\n",
        "carriers = pd.read_csv( os.path.join(data_path, 'carriers.csv') )\n",
        "print('Total number of unique carriers: ', len(carriers))\n",
        "carriers.head()"
      ],
      "execution_count": 4,
      "outputs": [
        {
          "output_type": "stream",
          "text": [
            "Total number of unique carriers:  1491\n"
          ],
          "name": "stdout"
        },
        {
          "output_type": "execute_result",
          "data": {
            "text/html": [
              "<div>\n",
              "<style scoped>\n",
              "    .dataframe tbody tr th:only-of-type {\n",
              "        vertical-align: middle;\n",
              "    }\n",
              "\n",
              "    .dataframe tbody tr th {\n",
              "        vertical-align: top;\n",
              "    }\n",
              "\n",
              "    .dataframe thead th {\n",
              "        text-align: right;\n",
              "    }\n",
              "</style>\n",
              "<table border=\"1\" class=\"dataframe\">\n",
              "  <thead>\n",
              "    <tr style=\"text-align: right;\">\n",
              "      <th></th>\n",
              "      <th>Code</th>\n",
              "      <th>Description</th>\n",
              "    </tr>\n",
              "  </thead>\n",
              "  <tbody>\n",
              "    <tr>\n",
              "      <th>0</th>\n",
              "      <td>02Q</td>\n",
              "      <td>Titan Airways</td>\n",
              "    </tr>\n",
              "    <tr>\n",
              "      <th>1</th>\n",
              "      <td>04Q</td>\n",
              "      <td>Tradewind Aviation</td>\n",
              "    </tr>\n",
              "    <tr>\n",
              "      <th>2</th>\n",
              "      <td>05Q</td>\n",
              "      <td>Comlux Aviation, AG</td>\n",
              "    </tr>\n",
              "    <tr>\n",
              "      <th>3</th>\n",
              "      <td>06Q</td>\n",
              "      <td>Master Top Linhas Aereas Ltd.</td>\n",
              "    </tr>\n",
              "    <tr>\n",
              "      <th>4</th>\n",
              "      <td>07Q</td>\n",
              "      <td>Flair Airlines Ltd.</td>\n",
              "    </tr>\n",
              "  </tbody>\n",
              "</table>\n",
              "</div>"
            ],
            "text/plain": [
              "  Code                    Description\n",
              "0  02Q                  Titan Airways\n",
              "1  04Q             Tradewind Aviation\n",
              "2  05Q            Comlux Aviation, AG\n",
              "3  06Q  Master Top Linhas Aereas Ltd.\n",
              "4  07Q            Flair Airlines Ltd."
            ]
          },
          "metadata": {
            "tags": []
          },
          "execution_count": 4
        }
      ]
    },
    {
      "cell_type": "code",
      "metadata": {
        "id": "AE_ACIZLHu13",
        "colab": {
          "base_uri": "https://localhost:8080/",
          "height": 204
        },
        "outputId": "b692c1fe-a6f5-48f3-c3ae-07d085a96bf7"
      },
      "source": [
        "carriers.rename({'Description': 'AIRLINE_NAME', 'Code' : 'code'}, axis=1, inplace=True)  # new method\n",
        "carriers.head()"
      ],
      "execution_count": 5,
      "outputs": [
        {
          "output_type": "execute_result",
          "data": {
            "text/html": [
              "<div>\n",
              "<style scoped>\n",
              "    .dataframe tbody tr th:only-of-type {\n",
              "        vertical-align: middle;\n",
              "    }\n",
              "\n",
              "    .dataframe tbody tr th {\n",
              "        vertical-align: top;\n",
              "    }\n",
              "\n",
              "    .dataframe thead th {\n",
              "        text-align: right;\n",
              "    }\n",
              "</style>\n",
              "<table border=\"1\" class=\"dataframe\">\n",
              "  <thead>\n",
              "    <tr style=\"text-align: right;\">\n",
              "      <th></th>\n",
              "      <th>code</th>\n",
              "      <th>AIRLINE_NAME</th>\n",
              "    </tr>\n",
              "  </thead>\n",
              "  <tbody>\n",
              "    <tr>\n",
              "      <th>0</th>\n",
              "      <td>02Q</td>\n",
              "      <td>Titan Airways</td>\n",
              "    </tr>\n",
              "    <tr>\n",
              "      <th>1</th>\n",
              "      <td>04Q</td>\n",
              "      <td>Tradewind Aviation</td>\n",
              "    </tr>\n",
              "    <tr>\n",
              "      <th>2</th>\n",
              "      <td>05Q</td>\n",
              "      <td>Comlux Aviation, AG</td>\n",
              "    </tr>\n",
              "    <tr>\n",
              "      <th>3</th>\n",
              "      <td>06Q</td>\n",
              "      <td>Master Top Linhas Aereas Ltd.</td>\n",
              "    </tr>\n",
              "    <tr>\n",
              "      <th>4</th>\n",
              "      <td>07Q</td>\n",
              "      <td>Flair Airlines Ltd.</td>\n",
              "    </tr>\n",
              "  </tbody>\n",
              "</table>\n",
              "</div>"
            ],
            "text/plain": [
              "  code                   AIRLINE_NAME\n",
              "0  02Q                  Titan Airways\n",
              "1  04Q             Tradewind Aviation\n",
              "2  05Q            Comlux Aviation, AG\n",
              "3  06Q  Master Top Linhas Aereas Ltd.\n",
              "4  07Q            Flair Airlines Ltd."
            ]
          },
          "metadata": {
            "tags": []
          },
          "execution_count": 5
        }
      ]
    },
    {
      "cell_type": "code",
      "metadata": {
        "id": "W6nXu4N2Eq3i",
        "colab": {
          "base_uri": "https://localhost:8080/"
        },
        "outputId": "cb40cb91-0d26-4b81-aa74-4f18688d9216"
      },
      "source": [
        "# Checking the null values\n",
        "carriers.isnull().sum()"
      ],
      "execution_count": 6,
      "outputs": [
        {
          "output_type": "execute_result",
          "data": {
            "text/plain": [
              "code            1\n",
              "AIRLINE_NAME    0\n",
              "dtype: int64"
            ]
          },
          "metadata": {
            "tags": []
          },
          "execution_count": 6
        }
      ]
    },
    {
      "cell_type": "code",
      "metadata": {
        "id": "g1QZmWsKEw_Z",
        "colab": {
          "base_uri": "https://localhost:8080/",
          "height": 80
        },
        "outputId": "7e402f3a-ba47-4200-c4de-542252c7f55d"
      },
      "source": [
        "# Checking the null values\n",
        "carriers[carriers.code.isnull()]"
      ],
      "execution_count": 7,
      "outputs": [
        {
          "output_type": "execute_result",
          "data": {
            "text/html": [
              "<div>\n",
              "<style scoped>\n",
              "    .dataframe tbody tr th:only-of-type {\n",
              "        vertical-align: middle;\n",
              "    }\n",
              "\n",
              "    .dataframe tbody tr th {\n",
              "        vertical-align: top;\n",
              "    }\n",
              "\n",
              "    .dataframe thead th {\n",
              "        text-align: right;\n",
              "    }\n",
              "</style>\n",
              "<table border=\"1\" class=\"dataframe\">\n",
              "  <thead>\n",
              "    <tr style=\"text-align: right;\">\n",
              "      <th></th>\n",
              "      <th>code</th>\n",
              "      <th>AIRLINE_NAME</th>\n",
              "    </tr>\n",
              "  </thead>\n",
              "  <tbody>\n",
              "    <tr>\n",
              "      <th>873</th>\n",
              "      <td>NaN</td>\n",
              "      <td>North American Airlines</td>\n",
              "    </tr>\n",
              "  </tbody>\n",
              "</table>\n",
              "</div>"
            ],
            "text/plain": [
              "    code             AIRLINE_NAME\n",
              "873  NaN  North American Airlines"
            ]
          },
          "metadata": {
            "tags": []
          },
          "execution_count": 7
        }
      ]
    },
    {
      "cell_type": "code",
      "metadata": {
        "id": "QSS9oXKXG7Ah"
      },
      "source": [
        "# Google search and correct the code for North American Airlines\n",
        "carriers.at[873, 'code'] = 'NA'"
      ],
      "execution_count": 8,
      "outputs": []
    },
    {
      "cell_type": "code",
      "metadata": {
        "id": "sIqg7vu4HZRK",
        "colab": {
          "base_uri": "https://localhost:8080/",
          "height": 49
        },
        "outputId": "fe1a9535-d248-4e32-853f-1a9c89854748"
      },
      "source": [
        "# Checking the null values\n",
        "carriers[carriers.code.isnull()]"
      ],
      "execution_count": 9,
      "outputs": [
        {
          "output_type": "execute_result",
          "data": {
            "text/html": [
              "<div>\n",
              "<style scoped>\n",
              "    .dataframe tbody tr th:only-of-type {\n",
              "        vertical-align: middle;\n",
              "    }\n",
              "\n",
              "    .dataframe tbody tr th {\n",
              "        vertical-align: top;\n",
              "    }\n",
              "\n",
              "    .dataframe thead th {\n",
              "        text-align: right;\n",
              "    }\n",
              "</style>\n",
              "<table border=\"1\" class=\"dataframe\">\n",
              "  <thead>\n",
              "    <tr style=\"text-align: right;\">\n",
              "      <th></th>\n",
              "      <th>code</th>\n",
              "      <th>AIRLINE_NAME</th>\n",
              "    </tr>\n",
              "  </thead>\n",
              "  <tbody>\n",
              "  </tbody>\n",
              "</table>\n",
              "</div>"
            ],
            "text/plain": [
              "Empty DataFrame\n",
              "Columns: [code, AIRLINE_NAME]\n",
              "Index: []"
            ]
          },
          "metadata": {
            "tags": []
          },
          "execution_count": 9
        }
      ]
    },
    {
      "cell_type": "code",
      "metadata": {
        "id": "-_GK43iKFWst",
        "colab": {
          "base_uri": "https://localhost:8080/",
          "height": 80
        },
        "outputId": "06165a07-40a3-4665-ad7f-e5e35c3549b7"
      },
      "source": [
        "# Checking the null values\n",
        "carriers[carriers.AIRLINE_NAME == 'North American Airlines']"
      ],
      "execution_count": 10,
      "outputs": [
        {
          "output_type": "execute_result",
          "data": {
            "text/html": [
              "<div>\n",
              "<style scoped>\n",
              "    .dataframe tbody tr th:only-of-type {\n",
              "        vertical-align: middle;\n",
              "    }\n",
              "\n",
              "    .dataframe tbody tr th {\n",
              "        vertical-align: top;\n",
              "    }\n",
              "\n",
              "    .dataframe thead th {\n",
              "        text-align: right;\n",
              "    }\n",
              "</style>\n",
              "<table border=\"1\" class=\"dataframe\">\n",
              "  <thead>\n",
              "    <tr style=\"text-align: right;\">\n",
              "      <th></th>\n",
              "      <th>code</th>\n",
              "      <th>AIRLINE_NAME</th>\n",
              "    </tr>\n",
              "  </thead>\n",
              "  <tbody>\n",
              "    <tr>\n",
              "      <th>873</th>\n",
              "      <td>NA</td>\n",
              "      <td>North American Airlines</td>\n",
              "    </tr>\n",
              "  </tbody>\n",
              "</table>\n",
              "</div>"
            ],
            "text/plain": [
              "    code             AIRLINE_NAME\n",
              "873   NA  North American Airlines"
            ]
          },
          "metadata": {
            "tags": []
          },
          "execution_count": 10
        }
      ]
    },
    {
      "cell_type": "markdown",
      "metadata": {
        "id": "U3W2qdi8v2GI"
      },
      "source": [
        "## Read airport data"
      ]
    },
    {
      "cell_type": "code",
      "metadata": {
        "id": "zciS7LliG3gL",
        "colab": {
          "base_uri": "https://localhost:8080/",
          "height": 204
        },
        "outputId": "7b3110a3-9c08-4f41-8af4-5bb322b6361e"
      },
      "source": [
        "# Read airport data from csv\n",
        "airports = pd.read_csv( os.path.join(data_path, 'airports.csv') )\n",
        "airports.head()"
      ],
      "execution_count": 11,
      "outputs": [
        {
          "output_type": "execute_result",
          "data": {
            "text/html": [
              "<div>\n",
              "<style scoped>\n",
              "    .dataframe tbody tr th:only-of-type {\n",
              "        vertical-align: middle;\n",
              "    }\n",
              "\n",
              "    .dataframe tbody tr th {\n",
              "        vertical-align: top;\n",
              "    }\n",
              "\n",
              "    .dataframe thead th {\n",
              "        text-align: right;\n",
              "    }\n",
              "</style>\n",
              "<table border=\"1\" class=\"dataframe\">\n",
              "  <thead>\n",
              "    <tr style=\"text-align: right;\">\n",
              "      <th></th>\n",
              "      <th>iata</th>\n",
              "      <th>airport</th>\n",
              "      <th>city</th>\n",
              "      <th>state</th>\n",
              "      <th>country</th>\n",
              "      <th>lat</th>\n",
              "      <th>long</th>\n",
              "    </tr>\n",
              "  </thead>\n",
              "  <tbody>\n",
              "    <tr>\n",
              "      <th>0</th>\n",
              "      <td>00M</td>\n",
              "      <td>Thigpen</td>\n",
              "      <td>Bay Springs</td>\n",
              "      <td>MS</td>\n",
              "      <td>USA</td>\n",
              "      <td>31.953765</td>\n",
              "      <td>-89.234505</td>\n",
              "    </tr>\n",
              "    <tr>\n",
              "      <th>1</th>\n",
              "      <td>00R</td>\n",
              "      <td>Livingston Municipal</td>\n",
              "      <td>Livingston</td>\n",
              "      <td>TX</td>\n",
              "      <td>USA</td>\n",
              "      <td>30.685861</td>\n",
              "      <td>-95.017928</td>\n",
              "    </tr>\n",
              "    <tr>\n",
              "      <th>2</th>\n",
              "      <td>00V</td>\n",
              "      <td>Meadow Lake</td>\n",
              "      <td>Colorado Springs</td>\n",
              "      <td>CO</td>\n",
              "      <td>USA</td>\n",
              "      <td>38.945749</td>\n",
              "      <td>-104.569893</td>\n",
              "    </tr>\n",
              "    <tr>\n",
              "      <th>3</th>\n",
              "      <td>01G</td>\n",
              "      <td>Perry-Warsaw</td>\n",
              "      <td>Perry</td>\n",
              "      <td>NY</td>\n",
              "      <td>USA</td>\n",
              "      <td>42.741347</td>\n",
              "      <td>-78.052081</td>\n",
              "    </tr>\n",
              "    <tr>\n",
              "      <th>4</th>\n",
              "      <td>01J</td>\n",
              "      <td>Hilliard Airpark</td>\n",
              "      <td>Hilliard</td>\n",
              "      <td>FL</td>\n",
              "      <td>USA</td>\n",
              "      <td>30.688012</td>\n",
              "      <td>-81.905944</td>\n",
              "    </tr>\n",
              "  </tbody>\n",
              "</table>\n",
              "</div>"
            ],
            "text/plain": [
              "  iata               airport              city  ... country        lat        long\n",
              "0  00M              Thigpen        Bay Springs  ...     USA  31.953765  -89.234505\n",
              "1  00R  Livingston Municipal        Livingston  ...     USA  30.685861  -95.017928\n",
              "2  00V           Meadow Lake  Colorado Springs  ...     USA  38.945749 -104.569893\n",
              "3  01G          Perry-Warsaw             Perry  ...     USA  42.741347  -78.052081\n",
              "4  01J      Hilliard Airpark          Hilliard  ...     USA  30.688012  -81.905944\n",
              "\n",
              "[5 rows x 7 columns]"
            ]
          },
          "metadata": {
            "tags": []
          },
          "execution_count": 11
        }
      ]
    },
    {
      "cell_type": "code",
      "metadata": {
        "id": "SkW-dhY4ENCC",
        "colab": {
          "base_uri": "https://localhost:8080/"
        },
        "outputId": "d20c3aa6-3627-4703-f39e-a1a76923374e"
      },
      "source": [
        "# Checking the null values\n",
        "airports.isnull().sum()"
      ],
      "execution_count": 12,
      "outputs": [
        {
          "output_type": "execute_result",
          "data": {
            "text/plain": [
              "iata        0\n",
              "airport     0\n",
              "city       12\n",
              "state      12\n",
              "country     0\n",
              "lat         0\n",
              "long        0\n",
              "dtype: int64"
            ]
          },
          "metadata": {
            "tags": []
          },
          "execution_count": 12
        }
      ]
    },
    {
      "cell_type": "code",
      "metadata": {
        "id": "kgbucukQEZJB",
        "colab": {
          "base_uri": "https://localhost:8080/",
          "height": 421
        },
        "outputId": "ae8bf780-b4f9-45c1-8e1d-e7768e419741"
      },
      "source": [
        "# Checking the null values\n",
        "airports[airports.city.isnull()]"
      ],
      "execution_count": 13,
      "outputs": [
        {
          "output_type": "execute_result",
          "data": {
            "text/html": [
              "<div>\n",
              "<style scoped>\n",
              "    .dataframe tbody tr th:only-of-type {\n",
              "        vertical-align: middle;\n",
              "    }\n",
              "\n",
              "    .dataframe tbody tr th {\n",
              "        vertical-align: top;\n",
              "    }\n",
              "\n",
              "    .dataframe thead th {\n",
              "        text-align: right;\n",
              "    }\n",
              "</style>\n",
              "<table border=\"1\" class=\"dataframe\">\n",
              "  <thead>\n",
              "    <tr style=\"text-align: right;\">\n",
              "      <th></th>\n",
              "      <th>iata</th>\n",
              "      <th>airport</th>\n",
              "      <th>city</th>\n",
              "      <th>state</th>\n",
              "      <th>country</th>\n",
              "      <th>lat</th>\n",
              "      <th>long</th>\n",
              "    </tr>\n",
              "  </thead>\n",
              "  <tbody>\n",
              "    <tr>\n",
              "      <th>1136</th>\n",
              "      <td>CLD</td>\n",
              "      <td>MC Clellan-Palomar Airport</td>\n",
              "      <td>NaN</td>\n",
              "      <td>NaN</td>\n",
              "      <td>USA</td>\n",
              "      <td>33.127231</td>\n",
              "      <td>-117.278727</td>\n",
              "    </tr>\n",
              "    <tr>\n",
              "      <th>1715</th>\n",
              "      <td>HHH</td>\n",
              "      <td>Hilton Head</td>\n",
              "      <td>NaN</td>\n",
              "      <td>NaN</td>\n",
              "      <td>USA</td>\n",
              "      <td>32.224384</td>\n",
              "      <td>-80.697629</td>\n",
              "    </tr>\n",
              "    <tr>\n",
              "      <th>2251</th>\n",
              "      <td>MIB</td>\n",
              "      <td>Minot AFB</td>\n",
              "      <td>NaN</td>\n",
              "      <td>NaN</td>\n",
              "      <td>USA</td>\n",
              "      <td>48.415769</td>\n",
              "      <td>-101.358039</td>\n",
              "    </tr>\n",
              "    <tr>\n",
              "      <th>2312</th>\n",
              "      <td>MQT</td>\n",
              "      <td>Marquette County Airport</td>\n",
              "      <td>NaN</td>\n",
              "      <td>NaN</td>\n",
              "      <td>USA</td>\n",
              "      <td>46.353639</td>\n",
              "      <td>-87.395361</td>\n",
              "    </tr>\n",
              "    <tr>\n",
              "      <th>2752</th>\n",
              "      <td>RCA</td>\n",
              "      <td>Ellsworth AFB</td>\n",
              "      <td>NaN</td>\n",
              "      <td>NaN</td>\n",
              "      <td>USA</td>\n",
              "      <td>44.145094</td>\n",
              "      <td>-103.103567</td>\n",
              "    </tr>\n",
              "    <tr>\n",
              "      <th>2759</th>\n",
              "      <td>RDR</td>\n",
              "      <td>Grand Forks AFB</td>\n",
              "      <td>NaN</td>\n",
              "      <td>NaN</td>\n",
              "      <td>USA</td>\n",
              "      <td>47.961167</td>\n",
              "      <td>-97.401167</td>\n",
              "    </tr>\n",
              "    <tr>\n",
              "      <th>2794</th>\n",
              "      <td>ROP</td>\n",
              "      <td>Prachinburi</td>\n",
              "      <td>NaN</td>\n",
              "      <td>NaN</td>\n",
              "      <td>Thailand</td>\n",
              "      <td>14.078333</td>\n",
              "      <td>101.378334</td>\n",
              "    </tr>\n",
              "    <tr>\n",
              "      <th>2795</th>\n",
              "      <td>ROR</td>\n",
              "      <td>Babelthoup/Koror</td>\n",
              "      <td>NaN</td>\n",
              "      <td>NaN</td>\n",
              "      <td>Palau</td>\n",
              "      <td>7.367222</td>\n",
              "      <td>134.544167</td>\n",
              "    </tr>\n",
              "    <tr>\n",
              "      <th>2900</th>\n",
              "      <td>SCE</td>\n",
              "      <td>University Park</td>\n",
              "      <td>NaN</td>\n",
              "      <td>NaN</td>\n",
              "      <td>USA</td>\n",
              "      <td>40.851206</td>\n",
              "      <td>-77.846302</td>\n",
              "    </tr>\n",
              "    <tr>\n",
              "      <th>2964</th>\n",
              "      <td>SKA</td>\n",
              "      <td>Fairchild AFB</td>\n",
              "      <td>NaN</td>\n",
              "      <td>NaN</td>\n",
              "      <td>USA</td>\n",
              "      <td>47.615058</td>\n",
              "      <td>-117.655803</td>\n",
              "    </tr>\n",
              "    <tr>\n",
              "      <th>3001</th>\n",
              "      <td>SPN</td>\n",
              "      <td>Tinian International Airport</td>\n",
              "      <td>NaN</td>\n",
              "      <td>NaN</td>\n",
              "      <td>N Mariana Islands</td>\n",
              "      <td>14.996111</td>\n",
              "      <td>145.621384</td>\n",
              "    </tr>\n",
              "    <tr>\n",
              "      <th>3355</th>\n",
              "      <td>YAP</td>\n",
              "      <td>Yap International</td>\n",
              "      <td>NaN</td>\n",
              "      <td>NaN</td>\n",
              "      <td>Federated States of Micronesia</td>\n",
              "      <td>9.516700</td>\n",
              "      <td>138.100000</td>\n",
              "    </tr>\n",
              "  </tbody>\n",
              "</table>\n",
              "</div>"
            ],
            "text/plain": [
              "     iata                       airport  ...        lat        long\n",
              "1136  CLD    MC Clellan-Palomar Airport  ...  33.127231 -117.278727\n",
              "1715  HHH                   Hilton Head  ...  32.224384  -80.697629\n",
              "2251  MIB                     Minot AFB  ...  48.415769 -101.358039\n",
              "2312  MQT      Marquette County Airport  ...  46.353639  -87.395361\n",
              "2752  RCA                 Ellsworth AFB  ...  44.145094 -103.103567\n",
              "2759  RDR               Grand Forks AFB  ...  47.961167  -97.401167\n",
              "2794  ROP                   Prachinburi  ...  14.078333  101.378334\n",
              "2795  ROR              Babelthoup/Koror  ...   7.367222  134.544167\n",
              "2900  SCE               University Park  ...  40.851206  -77.846302\n",
              "2964  SKA                 Fairchild AFB  ...  47.615058 -117.655803\n",
              "3001  SPN  Tinian International Airport  ...  14.996111  145.621384\n",
              "3355  YAP             Yap International  ...   9.516700  138.100000\n",
              "\n",
              "[12 rows x 7 columns]"
            ]
          },
          "metadata": {
            "tags": []
          },
          "execution_count": 13
        }
      ]
    },
    {
      "cell_type": "code",
      "metadata": {
        "id": "Mi2Vbs8wOOa0"
      },
      "source": [
        "# Google search and correct the code for North American Airlines\n",
        "airports.at[1136, 'city']  = 'Carlsbad'\n",
        "airports.at[1136, 'state'] = 'CA'\n",
        "\n",
        "airports.at[1715, 'city']  = 'Beaufort County'\n",
        "airports.at[1715, 'state'] = 'SC'\n",
        "\n",
        "airports.at[2251, 'city']  = 'Ward County'\n",
        "airports.at[2251, 'state'] = 'ND'\n",
        "\n",
        "airports.at[2312, 'city']  = 'Marquette County'\n",
        "airports.at[2312, 'state'] = 'MI'\n",
        "\n",
        "airports.at[2752, 'city']  = 'Box Elder'\n",
        "airports.at[2752, 'state'] = 'SD'\n",
        "\n",
        "airports.at[2759, 'city']  = 'Emerado'\n",
        "airports.at[2759, 'state'] = 'ND'\n",
        "\n",
        "airports.at[2794, 'city']  = 'Prachin Buri'\n",
        "airports.at[2794, 'state'] = 'Prachin Buri'\n",
        "\n",
        "airports.at[2795, 'city']  = 'Babelthoup'\n",
        "airports.at[2795, 'state'] = 'Babelthoup'\n",
        "\n",
        "airports.at[2900, 'city']  = 'Centre County'\n",
        "airports.at[2900, 'state'] = 'PA'\n",
        "\n",
        "airports.at[2964, 'city']  = 'Spokane'\n",
        "airports.at[2964, 'state'] = 'WA'\n",
        "\n",
        "airports.at[3001, 'city']  = 'Tinian'\n",
        "airports.at[3001, 'state'] = 'Northern Mariana'\n",
        "\n",
        "airports.at[3355, 'city']  = ' Yap main island'\n",
        "airports.at[3355, 'state'] = 'Yap'\n"
      ],
      "execution_count": 14,
      "outputs": []
    },
    {
      "cell_type": "code",
      "metadata": {
        "id": "NRZCyivmTGW-",
        "colab": {
          "base_uri": "https://localhost:8080/",
          "height": 49
        },
        "outputId": "c56c5599-90bd-413b-b831-9f175fbd0c15"
      },
      "source": [
        "# Checking the null values\n",
        "airports[airports.city.isnull()]"
      ],
      "execution_count": 15,
      "outputs": [
        {
          "output_type": "execute_result",
          "data": {
            "text/html": [
              "<div>\n",
              "<style scoped>\n",
              "    .dataframe tbody tr th:only-of-type {\n",
              "        vertical-align: middle;\n",
              "    }\n",
              "\n",
              "    .dataframe tbody tr th {\n",
              "        vertical-align: top;\n",
              "    }\n",
              "\n",
              "    .dataframe thead th {\n",
              "        text-align: right;\n",
              "    }\n",
              "</style>\n",
              "<table border=\"1\" class=\"dataframe\">\n",
              "  <thead>\n",
              "    <tr style=\"text-align: right;\">\n",
              "      <th></th>\n",
              "      <th>iata</th>\n",
              "      <th>airport</th>\n",
              "      <th>city</th>\n",
              "      <th>state</th>\n",
              "      <th>country</th>\n",
              "      <th>lat</th>\n",
              "      <th>long</th>\n",
              "    </tr>\n",
              "  </thead>\n",
              "  <tbody>\n",
              "  </tbody>\n",
              "</table>\n",
              "</div>"
            ],
            "text/plain": [
              "Empty DataFrame\n",
              "Columns: [iata, airport, city, state, country, lat, long]\n",
              "Index: []"
            ]
          },
          "metadata": {
            "tags": []
          },
          "execution_count": 15
        }
      ]
    },
    {
      "cell_type": "code",
      "metadata": {
        "id": "WJUNeEnDTbdR",
        "colab": {
          "base_uri": "https://localhost:8080/"
        },
        "outputId": "41066fb2-4283-4556-d23c-9d03e44d5684"
      },
      "source": [
        "# Checking the null values\n",
        "airports.isnull().sum()"
      ],
      "execution_count": 16,
      "outputs": [
        {
          "output_type": "execute_result",
          "data": {
            "text/plain": [
              "iata       0\n",
              "airport    0\n",
              "city       0\n",
              "state      0\n",
              "country    0\n",
              "lat        0\n",
              "long       0\n",
              "dtype: int64"
            ]
          },
          "metadata": {
            "tags": []
          },
          "execution_count": 16
        }
      ]
    },
    {
      "cell_type": "markdown",
      "metadata": {
        "id": "85WkcDEhv-XY"
      },
      "source": [
        "## Read flight data"
      ]
    },
    {
      "cell_type": "markdown",
      "metadata": {
        "id": "xsiyRh4tNx7b"
      },
      "source": [
        "### Data for January 2017"
      ]
    },
    {
      "cell_type": "code",
      "metadata": {
        "id": "RGskTmcXbLIv",
        "colab": {
          "base_uri": "https://localhost:8080/",
          "height": 241
        },
        "outputId": "0861ecbe-dd4c-4f79-e099-c7a124505bdd"
      },
      "source": [
        "df1 = pd.read_csv(os.path.join(data_path, '2017_jan.csv') )\n",
        "df1.head()"
      ],
      "execution_count": 17,
      "outputs": [
        {
          "output_type": "execute_result",
          "data": {
            "text/html": [
              "<div>\n",
              "<style scoped>\n",
              "    .dataframe tbody tr th:only-of-type {\n",
              "        vertical-align: middle;\n",
              "    }\n",
              "\n",
              "    .dataframe tbody tr th {\n",
              "        vertical-align: top;\n",
              "    }\n",
              "\n",
              "    .dataframe thead th {\n",
              "        text-align: right;\n",
              "    }\n",
              "</style>\n",
              "<table border=\"1\" class=\"dataframe\">\n",
              "  <thead>\n",
              "    <tr style=\"text-align: right;\">\n",
              "      <th></th>\n",
              "      <th>YEAR</th>\n",
              "      <th>QUARTER</th>\n",
              "      <th>MONTH</th>\n",
              "      <th>DAY_OF_MONTH</th>\n",
              "      <th>DAY_OF_WEEK</th>\n",
              "      <th>OP_UNIQUE_CARRIER</th>\n",
              "      <th>TAIL_NUM</th>\n",
              "      <th>OP_CARRIER_FL_NUM</th>\n",
              "      <th>ORIGIN</th>\n",
              "      <th>DEST</th>\n",
              "      <th>CRS_DEP_TIME</th>\n",
              "      <th>DEP_TIME</th>\n",
              "      <th>DEP_DELAY</th>\n",
              "      <th>TAXI_OUT</th>\n",
              "      <th>TAXI_IN</th>\n",
              "      <th>CRS_ARR_TIME</th>\n",
              "      <th>ARR_TIME</th>\n",
              "      <th>ARR_DELAY</th>\n",
              "      <th>CANCELLED</th>\n",
              "      <th>CANCELLATION_CODE</th>\n",
              "      <th>DIVERTED</th>\n",
              "      <th>CRS_ELAPSED_TIME</th>\n",
              "      <th>ACTUAL_ELAPSED_TIME</th>\n",
              "      <th>AIR_TIME</th>\n",
              "      <th>DISTANCE</th>\n",
              "      <th>CARRIER_DELAY</th>\n",
              "      <th>WEATHER_DELAY</th>\n",
              "      <th>NAS_DELAY</th>\n",
              "      <th>SECURITY_DELAY</th>\n",
              "      <th>LATE_AIRCRAFT_DELAY</th>\n",
              "      <th>Unnamed: 30</th>\n",
              "    </tr>\n",
              "  </thead>\n",
              "  <tbody>\n",
              "    <tr>\n",
              "      <th>0</th>\n",
              "      <td>2017</td>\n",
              "      <td>1</td>\n",
              "      <td>1</td>\n",
              "      <td>16</td>\n",
              "      <td>1</td>\n",
              "      <td>AA</td>\n",
              "      <td>N3FYAA</td>\n",
              "      <td>2186</td>\n",
              "      <td>DFW</td>\n",
              "      <td>PSP</td>\n",
              "      <td>910</td>\n",
              "      <td>913.0</td>\n",
              "      <td>3.0</td>\n",
              "      <td>26.0</td>\n",
              "      <td>5.0</td>\n",
              "      <td>1018</td>\n",
              "      <td>1024.0</td>\n",
              "      <td>6.0</td>\n",
              "      <td>0.0</td>\n",
              "      <td>NaN</td>\n",
              "      <td>0.0</td>\n",
              "      <td>188.0</td>\n",
              "      <td>191.0</td>\n",
              "      <td>160.0</td>\n",
              "      <td>1126.0</td>\n",
              "      <td>NaN</td>\n",
              "      <td>NaN</td>\n",
              "      <td>NaN</td>\n",
              "      <td>NaN</td>\n",
              "      <td>NaN</td>\n",
              "      <td>NaN</td>\n",
              "    </tr>\n",
              "    <tr>\n",
              "      <th>1</th>\n",
              "      <td>2017</td>\n",
              "      <td>1</td>\n",
              "      <td>1</td>\n",
              "      <td>17</td>\n",
              "      <td>2</td>\n",
              "      <td>AA</td>\n",
              "      <td>N3ASAA</td>\n",
              "      <td>2186</td>\n",
              "      <td>DFW</td>\n",
              "      <td>PSP</td>\n",
              "      <td>910</td>\n",
              "      <td>904.0</td>\n",
              "      <td>-6.0</td>\n",
              "      <td>31.0</td>\n",
              "      <td>4.0</td>\n",
              "      <td>1018</td>\n",
              "      <td>1011.0</td>\n",
              "      <td>-7.0</td>\n",
              "      <td>0.0</td>\n",
              "      <td>NaN</td>\n",
              "      <td>0.0</td>\n",
              "      <td>188.0</td>\n",
              "      <td>187.0</td>\n",
              "      <td>152.0</td>\n",
              "      <td>1126.0</td>\n",
              "      <td>NaN</td>\n",
              "      <td>NaN</td>\n",
              "      <td>NaN</td>\n",
              "      <td>NaN</td>\n",
              "      <td>NaN</td>\n",
              "      <td>NaN</td>\n",
              "    </tr>\n",
              "    <tr>\n",
              "      <th>2</th>\n",
              "      <td>2017</td>\n",
              "      <td>1</td>\n",
              "      <td>1</td>\n",
              "      <td>18</td>\n",
              "      <td>3</td>\n",
              "      <td>AA</td>\n",
              "      <td>N3AKAA</td>\n",
              "      <td>2186</td>\n",
              "      <td>DFW</td>\n",
              "      <td>PSP</td>\n",
              "      <td>910</td>\n",
              "      <td>908.0</td>\n",
              "      <td>-2.0</td>\n",
              "      <td>44.0</td>\n",
              "      <td>5.0</td>\n",
              "      <td>1018</td>\n",
              "      <td>1028.0</td>\n",
              "      <td>10.0</td>\n",
              "      <td>0.0</td>\n",
              "      <td>NaN</td>\n",
              "      <td>0.0</td>\n",
              "      <td>188.0</td>\n",
              "      <td>200.0</td>\n",
              "      <td>151.0</td>\n",
              "      <td>1126.0</td>\n",
              "      <td>NaN</td>\n",
              "      <td>NaN</td>\n",
              "      <td>NaN</td>\n",
              "      <td>NaN</td>\n",
              "      <td>NaN</td>\n",
              "      <td>NaN</td>\n",
              "    </tr>\n",
              "    <tr>\n",
              "      <th>3</th>\n",
              "      <td>2017</td>\n",
              "      <td>1</td>\n",
              "      <td>1</td>\n",
              "      <td>19</td>\n",
              "      <td>4</td>\n",
              "      <td>AA</td>\n",
              "      <td>N3LSAA</td>\n",
              "      <td>2186</td>\n",
              "      <td>DFW</td>\n",
              "      <td>PSP</td>\n",
              "      <td>910</td>\n",
              "      <td>905.0</td>\n",
              "      <td>-5.0</td>\n",
              "      <td>41.0</td>\n",
              "      <td>8.0</td>\n",
              "      <td>1018</td>\n",
              "      <td>1047.0</td>\n",
              "      <td>29.0</td>\n",
              "      <td>0.0</td>\n",
              "      <td>NaN</td>\n",
              "      <td>0.0</td>\n",
              "      <td>188.0</td>\n",
              "      <td>222.0</td>\n",
              "      <td>173.0</td>\n",
              "      <td>1126.0</td>\n",
              "      <td>0.0</td>\n",
              "      <td>0.0</td>\n",
              "      <td>29.0</td>\n",
              "      <td>0.0</td>\n",
              "      <td>0.0</td>\n",
              "      <td>NaN</td>\n",
              "    </tr>\n",
              "    <tr>\n",
              "      <th>4</th>\n",
              "      <td>2017</td>\n",
              "      <td>1</td>\n",
              "      <td>1</td>\n",
              "      <td>20</td>\n",
              "      <td>5</td>\n",
              "      <td>AA</td>\n",
              "      <td>N3NBAA</td>\n",
              "      <td>2186</td>\n",
              "      <td>DFW</td>\n",
              "      <td>PSP</td>\n",
              "      <td>910</td>\n",
              "      <td>903.0</td>\n",
              "      <td>-7.0</td>\n",
              "      <td>20.0</td>\n",
              "      <td>6.0</td>\n",
              "      <td>1018</td>\n",
              "      <td>1011.0</td>\n",
              "      <td>-7.0</td>\n",
              "      <td>0.0</td>\n",
              "      <td>NaN</td>\n",
              "      <td>0.0</td>\n",
              "      <td>188.0</td>\n",
              "      <td>188.0</td>\n",
              "      <td>162.0</td>\n",
              "      <td>1126.0</td>\n",
              "      <td>NaN</td>\n",
              "      <td>NaN</td>\n",
              "      <td>NaN</td>\n",
              "      <td>NaN</td>\n",
              "      <td>NaN</td>\n",
              "      <td>NaN</td>\n",
              "    </tr>\n",
              "  </tbody>\n",
              "</table>\n",
              "</div>"
            ],
            "text/plain": [
              "   YEAR  QUARTER  MONTH  ...  SECURITY_DELAY  LATE_AIRCRAFT_DELAY Unnamed: 30\n",
              "0  2017        1      1  ...             NaN                  NaN         NaN\n",
              "1  2017        1      1  ...             NaN                  NaN         NaN\n",
              "2  2017        1      1  ...             NaN                  NaN         NaN\n",
              "3  2017        1      1  ...             0.0                  0.0         NaN\n",
              "4  2017        1      1  ...             NaN                  NaN         NaN\n",
              "\n",
              "[5 rows x 31 columns]"
            ]
          },
          "metadata": {
            "tags": []
          },
          "execution_count": 17
        }
      ]
    },
    {
      "cell_type": "markdown",
      "metadata": {
        "id": "XSXr_c59N25-"
      },
      "source": [
        "### Data for February 2017"
      ]
    },
    {
      "cell_type": "code",
      "metadata": {
        "id": "nyVIL4niqlwv",
        "colab": {
          "base_uri": "https://localhost:8080/",
          "height": 241
        },
        "outputId": "c9c568e8-3cc9-4165-9fb8-bb0d0c808897"
      },
      "source": [
        "df2 = pd.read_csv(os.path.join(data_path, '2017_feb.csv') )\n",
        "df2.head()"
      ],
      "execution_count": 18,
      "outputs": [
        {
          "output_type": "execute_result",
          "data": {
            "text/html": [
              "<div>\n",
              "<style scoped>\n",
              "    .dataframe tbody tr th:only-of-type {\n",
              "        vertical-align: middle;\n",
              "    }\n",
              "\n",
              "    .dataframe tbody tr th {\n",
              "        vertical-align: top;\n",
              "    }\n",
              "\n",
              "    .dataframe thead th {\n",
              "        text-align: right;\n",
              "    }\n",
              "</style>\n",
              "<table border=\"1\" class=\"dataframe\">\n",
              "  <thead>\n",
              "    <tr style=\"text-align: right;\">\n",
              "      <th></th>\n",
              "      <th>YEAR</th>\n",
              "      <th>QUARTER</th>\n",
              "      <th>MONTH</th>\n",
              "      <th>DAY_OF_MONTH</th>\n",
              "      <th>DAY_OF_WEEK</th>\n",
              "      <th>OP_UNIQUE_CARRIER</th>\n",
              "      <th>TAIL_NUM</th>\n",
              "      <th>OP_CARRIER_FL_NUM</th>\n",
              "      <th>ORIGIN</th>\n",
              "      <th>DEST</th>\n",
              "      <th>CRS_DEP_TIME</th>\n",
              "      <th>DEP_TIME</th>\n",
              "      <th>DEP_DELAY</th>\n",
              "      <th>TAXI_OUT</th>\n",
              "      <th>TAXI_IN</th>\n",
              "      <th>CRS_ARR_TIME</th>\n",
              "      <th>ARR_TIME</th>\n",
              "      <th>ARR_DELAY</th>\n",
              "      <th>CANCELLED</th>\n",
              "      <th>CANCELLATION_CODE</th>\n",
              "      <th>DIVERTED</th>\n",
              "      <th>CRS_ELAPSED_TIME</th>\n",
              "      <th>ACTUAL_ELAPSED_TIME</th>\n",
              "      <th>AIR_TIME</th>\n",
              "      <th>DISTANCE</th>\n",
              "      <th>CARRIER_DELAY</th>\n",
              "      <th>WEATHER_DELAY</th>\n",
              "      <th>NAS_DELAY</th>\n",
              "      <th>SECURITY_DELAY</th>\n",
              "      <th>LATE_AIRCRAFT_DELAY</th>\n",
              "      <th>Unnamed: 30</th>\n",
              "    </tr>\n",
              "  </thead>\n",
              "  <tbody>\n",
              "    <tr>\n",
              "      <th>0</th>\n",
              "      <td>2017</td>\n",
              "      <td>1</td>\n",
              "      <td>2</td>\n",
              "      <td>16</td>\n",
              "      <td>4</td>\n",
              "      <td>DL</td>\n",
              "      <td>N964AT</td>\n",
              "      <td>1775</td>\n",
              "      <td>ATL</td>\n",
              "      <td>HSV</td>\n",
              "      <td>2125</td>\n",
              "      <td>2123.0</td>\n",
              "      <td>-2.0</td>\n",
              "      <td>11.0</td>\n",
              "      <td>6.0</td>\n",
              "      <td>2125</td>\n",
              "      <td>2114.0</td>\n",
              "      <td>-11.0</td>\n",
              "      <td>0.0</td>\n",
              "      <td>NaN</td>\n",
              "      <td>0.0</td>\n",
              "      <td>60.0</td>\n",
              "      <td>51.0</td>\n",
              "      <td>34.0</td>\n",
              "      <td>151.0</td>\n",
              "      <td>NaN</td>\n",
              "      <td>NaN</td>\n",
              "      <td>NaN</td>\n",
              "      <td>NaN</td>\n",
              "      <td>NaN</td>\n",
              "      <td>NaN</td>\n",
              "    </tr>\n",
              "    <tr>\n",
              "      <th>1</th>\n",
              "      <td>2017</td>\n",
              "      <td>1</td>\n",
              "      <td>2</td>\n",
              "      <td>16</td>\n",
              "      <td>4</td>\n",
              "      <td>DL</td>\n",
              "      <td>N727TW</td>\n",
              "      <td>1776</td>\n",
              "      <td>LAX</td>\n",
              "      <td>JFK</td>\n",
              "      <td>2245</td>\n",
              "      <td>2241.0</td>\n",
              "      <td>-4.0</td>\n",
              "      <td>21.0</td>\n",
              "      <td>11.0</td>\n",
              "      <td>720</td>\n",
              "      <td>712.0</td>\n",
              "      <td>-8.0</td>\n",
              "      <td>0.0</td>\n",
              "      <td>NaN</td>\n",
              "      <td>0.0</td>\n",
              "      <td>335.0</td>\n",
              "      <td>331.0</td>\n",
              "      <td>299.0</td>\n",
              "      <td>2475.0</td>\n",
              "      <td>NaN</td>\n",
              "      <td>NaN</td>\n",
              "      <td>NaN</td>\n",
              "      <td>NaN</td>\n",
              "      <td>NaN</td>\n",
              "      <td>NaN</td>\n",
              "    </tr>\n",
              "    <tr>\n",
              "      <th>2</th>\n",
              "      <td>2017</td>\n",
              "      <td>1</td>\n",
              "      <td>2</td>\n",
              "      <td>16</td>\n",
              "      <td>4</td>\n",
              "      <td>DL</td>\n",
              "      <td>N961AT</td>\n",
              "      <td>1777</td>\n",
              "      <td>SMF</td>\n",
              "      <td>LAX</td>\n",
              "      <td>1918</td>\n",
              "      <td>1950.0</td>\n",
              "      <td>32.0</td>\n",
              "      <td>23.0</td>\n",
              "      <td>11.0</td>\n",
              "      <td>2055</td>\n",
              "      <td>2130.0</td>\n",
              "      <td>35.0</td>\n",
              "      <td>0.0</td>\n",
              "      <td>NaN</td>\n",
              "      <td>0.0</td>\n",
              "      <td>97.0</td>\n",
              "      <td>100.0</td>\n",
              "      <td>66.0</td>\n",
              "      <td>373.0</td>\n",
              "      <td>3.0</td>\n",
              "      <td>0.0</td>\n",
              "      <td>3.0</td>\n",
              "      <td>0.0</td>\n",
              "      <td>29.0</td>\n",
              "      <td>NaN</td>\n",
              "    </tr>\n",
              "    <tr>\n",
              "      <th>3</th>\n",
              "      <td>2017</td>\n",
              "      <td>1</td>\n",
              "      <td>2</td>\n",
              "      <td>16</td>\n",
              "      <td>4</td>\n",
              "      <td>DL</td>\n",
              "      <td>N970DL</td>\n",
              "      <td>1778</td>\n",
              "      <td>ATL</td>\n",
              "      <td>MEM</td>\n",
              "      <td>1641</td>\n",
              "      <td>1637.0</td>\n",
              "      <td>-4.0</td>\n",
              "      <td>25.0</td>\n",
              "      <td>4.0</td>\n",
              "      <td>1705</td>\n",
              "      <td>1700.0</td>\n",
              "      <td>-5.0</td>\n",
              "      <td>0.0</td>\n",
              "      <td>NaN</td>\n",
              "      <td>0.0</td>\n",
              "      <td>84.0</td>\n",
              "      <td>83.0</td>\n",
              "      <td>54.0</td>\n",
              "      <td>332.0</td>\n",
              "      <td>NaN</td>\n",
              "      <td>NaN</td>\n",
              "      <td>NaN</td>\n",
              "      <td>NaN</td>\n",
              "      <td>NaN</td>\n",
              "      <td>NaN</td>\n",
              "    </tr>\n",
              "    <tr>\n",
              "      <th>4</th>\n",
              "      <td>2017</td>\n",
              "      <td>1</td>\n",
              "      <td>2</td>\n",
              "      <td>16</td>\n",
              "      <td>4</td>\n",
              "      <td>DL</td>\n",
              "      <td>N970DL</td>\n",
              "      <td>1778</td>\n",
              "      <td>MEM</td>\n",
              "      <td>ATL</td>\n",
              "      <td>1745</td>\n",
              "      <td>1742.0</td>\n",
              "      <td>-3.0</td>\n",
              "      <td>18.0</td>\n",
              "      <td>15.0</td>\n",
              "      <td>2020</td>\n",
              "      <td>2010.0</td>\n",
              "      <td>-10.0</td>\n",
              "      <td>0.0</td>\n",
              "      <td>NaN</td>\n",
              "      <td>0.0</td>\n",
              "      <td>95.0</td>\n",
              "      <td>88.0</td>\n",
              "      <td>55.0</td>\n",
              "      <td>332.0</td>\n",
              "      <td>NaN</td>\n",
              "      <td>NaN</td>\n",
              "      <td>NaN</td>\n",
              "      <td>NaN</td>\n",
              "      <td>NaN</td>\n",
              "      <td>NaN</td>\n",
              "    </tr>\n",
              "  </tbody>\n",
              "</table>\n",
              "</div>"
            ],
            "text/plain": [
              "   YEAR  QUARTER  MONTH  ...  SECURITY_DELAY  LATE_AIRCRAFT_DELAY Unnamed: 30\n",
              "0  2017        1      2  ...             NaN                  NaN         NaN\n",
              "1  2017        1      2  ...             NaN                  NaN         NaN\n",
              "2  2017        1      2  ...             0.0                 29.0         NaN\n",
              "3  2017        1      2  ...             NaN                  NaN         NaN\n",
              "4  2017        1      2  ...             NaN                  NaN         NaN\n",
              "\n",
              "[5 rows x 31 columns]"
            ]
          },
          "metadata": {
            "tags": []
          },
          "execution_count": 18
        }
      ]
    },
    {
      "cell_type": "markdown",
      "metadata": {
        "id": "ms2J2yxuOw1F"
      },
      "source": [
        "### Merge the data of the 02 months"
      ]
    },
    {
      "cell_type": "code",
      "metadata": {
        "id": "ND-z9aD3qx3R"
      },
      "source": [
        "# Concatenating the two data=frames\n",
        "frames = [df1, df2]\n",
        "# df = pd.concat(frames, keys=['jan', 'feb'])\n",
        "df = pd.concat(frames)"
      ],
      "execution_count": 19,
      "outputs": []
    },
    {
      "cell_type": "code",
      "metadata": {
        "id": "XX6d6lOTbf0Q",
        "colab": {
          "base_uri": "https://localhost:8080/"
        },
        "outputId": "41d56654-cfa5-4da6-944e-c2082c36ce1c"
      },
      "source": [
        "# Print some infor\n",
        "print('Shape: ', df.shape)\n",
        "print('Number of columns/features: ', len(df.columns))\n",
        "print('Columns/features: \\n', df.columns)\n",
        "print('Data types of features: \\n', df.dtypes)"
      ],
      "execution_count": 20,
      "outputs": [
        {
          "output_type": "stream",
          "text": [
            "Shape:  (860534, 31)\n",
            "Number of columns/features:  31\n",
            "Columns/features: \n",
            " Index(['YEAR', 'QUARTER', 'MONTH', 'DAY_OF_MONTH', 'DAY_OF_WEEK',\n",
            "       'OP_UNIQUE_CARRIER', 'TAIL_NUM', 'OP_CARRIER_FL_NUM', 'ORIGIN', 'DEST',\n",
            "       'CRS_DEP_TIME', 'DEP_TIME', 'DEP_DELAY', 'TAXI_OUT', 'TAXI_IN',\n",
            "       'CRS_ARR_TIME', 'ARR_TIME', 'ARR_DELAY', 'CANCELLED',\n",
            "       'CANCELLATION_CODE', 'DIVERTED', 'CRS_ELAPSED_TIME',\n",
            "       'ACTUAL_ELAPSED_TIME', 'AIR_TIME', 'DISTANCE', 'CARRIER_DELAY',\n",
            "       'WEATHER_DELAY', 'NAS_DELAY', 'SECURITY_DELAY', 'LATE_AIRCRAFT_DELAY',\n",
            "       'Unnamed: 30'],\n",
            "      dtype='object')\n",
            "Data types of features: \n",
            " YEAR                     int64\n",
            "QUARTER                  int64\n",
            "MONTH                    int64\n",
            "DAY_OF_MONTH             int64\n",
            "DAY_OF_WEEK              int64\n",
            "OP_UNIQUE_CARRIER       object\n",
            "TAIL_NUM                object\n",
            "OP_CARRIER_FL_NUM        int64\n",
            "ORIGIN                  object\n",
            "DEST                    object\n",
            "CRS_DEP_TIME             int64\n",
            "DEP_TIME               float64\n",
            "DEP_DELAY              float64\n",
            "TAXI_OUT               float64\n",
            "TAXI_IN                float64\n",
            "CRS_ARR_TIME             int64\n",
            "ARR_TIME               float64\n",
            "ARR_DELAY              float64\n",
            "CANCELLED              float64\n",
            "CANCELLATION_CODE       object\n",
            "DIVERTED               float64\n",
            "CRS_ELAPSED_TIME       float64\n",
            "ACTUAL_ELAPSED_TIME    float64\n",
            "AIR_TIME               float64\n",
            "DISTANCE               float64\n",
            "CARRIER_DELAY          float64\n",
            "WEATHER_DELAY          float64\n",
            "NAS_DELAY              float64\n",
            "SECURITY_DELAY         float64\n",
            "LATE_AIRCRAFT_DELAY    float64\n",
            "Unnamed: 30            float64\n",
            "dtype: object\n"
          ],
          "name": "stdout"
        }
      ]
    },
    {
      "cell_type": "markdown",
      "metadata": {
        "id": "03y0NO1UO9RO"
      },
      "source": [
        "# 5. Analysis"
      ]
    },
    {
      "cell_type": "markdown",
      "metadata": {
        "id": "0RSsGSO9Pyo0"
      },
      "source": [
        "## 5.1 Check null values, remove cancelled and diverted flights"
      ]
    },
    {
      "cell_type": "markdown",
      "metadata": {
        "id": "TlJY34MJP7mp"
      },
      "source": [
        "I'll remove cancelled and diverted flights because they're unecessary for this analysis."
      ]
    },
    {
      "cell_type": "code",
      "metadata": {
        "id": "XQ3tktjdp7-C",
        "colab": {
          "base_uri": "https://localhost:8080/"
        },
        "outputId": "2d231cb5-a4fe-4ee3-8ea3-e1c8f1e5bef4"
      },
      "source": [
        "# Check null values\n",
        "df.isnull().sum()"
      ],
      "execution_count": 21,
      "outputs": [
        {
          "output_type": "execute_result",
          "data": {
            "text/plain": [
              "YEAR                        0\n",
              "QUARTER                     0\n",
              "MONTH                       0\n",
              "DAY_OF_MONTH                0\n",
              "DAY_OF_WEEK                 0\n",
              "OP_UNIQUE_CARRIER           0\n",
              "TAIL_NUM                 1249\n",
              "OP_CARRIER_FL_NUM           0\n",
              "ORIGIN                      0\n",
              "DEST                        0\n",
              "CRS_DEP_TIME                0\n",
              "DEP_TIME                14721\n",
              "DEP_DELAY               14723\n",
              "TAXI_OUT                15035\n",
              "TAXI_IN                 15822\n",
              "CRS_ARR_TIME                0\n",
              "ARR_TIME                15822\n",
              "ARR_DELAY               17664\n",
              "CANCELLED                   0\n",
              "CANCELLATION_CODE      845336\n",
              "DIVERTED                    0\n",
              "CRS_ELAPSED_TIME            5\n",
              "ACTUAL_ELAPSED_TIME     17664\n",
              "AIR_TIME                17664\n",
              "DISTANCE                    0\n",
              "CARRIER_DELAY          698571\n",
              "WEATHER_DELAY          698571\n",
              "NAS_DELAY              698571\n",
              "SECURITY_DELAY         698571\n",
              "LATE_AIRCRAFT_DELAY    698571\n",
              "Unnamed: 30            860534\n",
              "dtype: int64"
            ]
          },
          "metadata": {
            "tags": []
          },
          "execution_count": 21
        }
      ]
    },
    {
      "cell_type": "code",
      "metadata": {
        "id": "avb3uK5XqgHy"
      },
      "source": [
        "# Remove unnecessary columns\n",
        "df.drop(['CANCELLATION_CODE', 'Unnamed: 30'], axis=1, inplace=True)"
      ],
      "execution_count": 22,
      "outputs": []
    },
    {
      "cell_type": "code",
      "metadata": {
        "id": "JhTAzkkGwg2T",
        "colab": {
          "base_uri": "https://localhost:8080/"
        },
        "outputId": "1227fe28-10aa-45ce-b7a0-fa85213582a9"
      },
      "source": [
        "df.isnull().sum(axis=0)"
      ],
      "execution_count": 23,
      "outputs": [
        {
          "output_type": "execute_result",
          "data": {
            "text/plain": [
              "YEAR                        0\n",
              "QUARTER                     0\n",
              "MONTH                       0\n",
              "DAY_OF_MONTH                0\n",
              "DAY_OF_WEEK                 0\n",
              "OP_UNIQUE_CARRIER           0\n",
              "TAIL_NUM                 1249\n",
              "OP_CARRIER_FL_NUM           0\n",
              "ORIGIN                      0\n",
              "DEST                        0\n",
              "CRS_DEP_TIME                0\n",
              "DEP_TIME                14721\n",
              "DEP_DELAY               14723\n",
              "TAXI_OUT                15035\n",
              "TAXI_IN                 15822\n",
              "CRS_ARR_TIME                0\n",
              "ARR_TIME                15822\n",
              "ARR_DELAY               17664\n",
              "CANCELLED                   0\n",
              "DIVERTED                    0\n",
              "CRS_ELAPSED_TIME            5\n",
              "ACTUAL_ELAPSED_TIME     17664\n",
              "AIR_TIME                17664\n",
              "DISTANCE                    0\n",
              "CARRIER_DELAY          698571\n",
              "WEATHER_DELAY          698571\n",
              "NAS_DELAY              698571\n",
              "SECURITY_DELAY         698571\n",
              "LATE_AIRCRAFT_DELAY    698571\n",
              "dtype: int64"
            ]
          },
          "metadata": {
            "tags": []
          },
          "execution_count": 23
        }
      ]
    },
    {
      "cell_type": "code",
      "metadata": {
        "id": "aSaEG7Ol43c2",
        "colab": {
          "base_uri": "https://localhost:8080/"
        },
        "outputId": "175235d4-8982-4068-f20f-85ab7c3b1720"
      },
      "source": [
        "# Calculate the percentage of cancelled flights\n",
        "df['CANCELLED'].value_counts(normalize=True) * 100"
      ],
      "execution_count": 24,
      "outputs": [
        {
          "output_type": "execute_result",
          "data": {
            "text/plain": [
              "0.0    98.233887\n",
              "1.0     1.766113\n",
              "Name: CANCELLED, dtype: float64"
            ]
          },
          "metadata": {
            "tags": []
          },
          "execution_count": 24
        }
      ]
    },
    {
      "cell_type": "code",
      "metadata": {
        "id": "TqV_Zm7z6m2f",
        "colab": {
          "base_uri": "https://localhost:8080/",
          "height": 374
        },
        "outputId": "394b329b-de42-4730-d13c-014c30a3dd44"
      },
      "source": [
        "plt.figure(figsize=(6,6))\n",
        "colors = ['g', 'r']\n",
        "labels = ['Not Cancelled', 'Cancelled']\n",
        "explode = (0,0.8)\n",
        "plt.pie(df['CANCELLED'].value_counts(normalize=True) * 100, colors=colors, labels=labels,\n",
        "explode=explode, autopct='%1.1f%%', shadow=True)\n",
        "plt.title('Percentage of cancelled flights')\n",
        "plt.show()"
      ],
      "execution_count": 25,
      "outputs": [
        {
          "output_type": "display_data",
          "data": {
            "image/png": "[encoded data removed]",
            "text/plain": [
              "<Figure size 432x432 with 1 Axes>"
            ]
          },
          "metadata": {
            "tags": []
          }
        }
      ]
    },
    {
      "cell_type": "markdown",
      "metadata": {
        "id": "mOyemzupPTE9"
      },
      "source": [
        "Pie char for cancelled and departed flights, only 1.8\\% of the flights are cancelled."
      ]
    },
    {
      "cell_type": "code",
      "metadata": {
        "id": "e8G5RWgow63W",
        "colab": {
          "base_uri": "https://localhost:8080/"
        },
        "outputId": "dee61a76-1526-4f38-a2d6-69fc2d61ed63"
      },
      "source": [
        "# Remove cancelled flights, they're not necessary for this analysis\n",
        "df = df[df.CANCELLED != 1]\n",
        "\n",
        "# Check if the cancelled flights have been removed\n",
        "df['CANCELLED'].value_counts(normalize=True) * 100"
      ],
      "execution_count": 26,
      "outputs": [
        {
          "output_type": "execute_result",
          "data": {
            "text/plain": [
              "0.0    100.0\n",
              "Name: CANCELLED, dtype: float64"
            ]
          },
          "metadata": {
            "tags": []
          },
          "execution_count": 26
        }
      ]
    },
    {
      "cell_type": "code",
      "metadata": {
        "id": "eXvWCbMOCRgY",
        "colab": {
          "base_uri": "https://localhost:8080/"
        },
        "outputId": "7d1bc44d-003c-4116-d54b-c4a13820efa6"
      },
      "source": [
        "# Calculate the percentage of diverted flights\n",
        "df['DIVERTED'].value_counts(normalize=True) * 100"
      ],
      "execution_count": 27,
      "outputs": [
        {
          "output_type": "execute_result",
          "data": {
            "text/plain": [
              "0.0    99.708282\n",
              "1.0     0.291718\n",
              "Name: DIVERTED, dtype: float64"
            ]
          },
          "metadata": {
            "tags": []
          },
          "execution_count": 27
        }
      ]
    },
    {
      "cell_type": "code",
      "metadata": {
        "id": "MKhGXVLGCiQJ",
        "colab": {
          "base_uri": "https://localhost:8080/",
          "height": 374
        },
        "outputId": "7a870d1e-301e-416a-e439-e38cd8e41862"
      },
      "source": [
        "plt.figure(figsize=(6,6))\n",
        "colors = ['g', 'r']\n",
        "labels = ['Not diverted', 'Diverted']\n",
        "explode = (0,0.8)\n",
        "plt.pie(df['DIVERTED'].value_counts(normalize=True) * 100, colors=colors, labels=labels,\n",
        "explode=explode, autopct='%1.1f%%', shadow=False)\n",
        "plt.title('Percentage of diverted flights')\n",
        "plt.show()"
      ],
      "execution_count": 28,
      "outputs": [
        {
          "output_type": "display_data",
          "data": {
            "image/png": "[encoded data removed]",
            "text/plain": [
              "<Figure size 432x432 with 1 Axes>"
            ]
          },
          "metadata": {
            "tags": []
          }
        }
      ]
    },
    {
      "cell_type": "markdown",
      "metadata": {
        "id": "xX0DdC0SPhcH"
      },
      "source": [
        "Pie char for diverted and normal flights, only 0.3\\% of the flights are diverted."
      ]
    },
    {
      "cell_type": "code",
      "metadata": {
        "id": "gMqMRvxwxfRm",
        "colab": {
          "base_uri": "https://localhost:8080/"
        },
        "outputId": "12b192eb-d643-479c-bee1-8ad6975b25bd"
      },
      "source": [
        "# Also remove diverted flights\n",
        "df = df[df.DIVERTED != 1]\n",
        "# df.isnull().sum(axis=0)\n",
        "\n",
        "# Check if the diverted flights have been removed\n",
        "df['DIVERTED'].value_counts(normalize=True) * 100"
      ],
      "execution_count": 29,
      "outputs": [
        {
          "output_type": "execute_result",
          "data": {
            "text/plain": [
              "0.0    100.0\n",
              "Name: DIVERTED, dtype: float64"
            ]
          },
          "metadata": {
            "tags": []
          },
          "execution_count": 29
        }
      ]
    },
    {
      "cell_type": "code",
      "metadata": {
        "id": "HgCq96Et1I7X",
        "colab": {
          "base_uri": "https://localhost:8080/"
        },
        "outputId": "ffe3ac94-1d6a-419e-d436-c7ad0e6ab2d3"
      },
      "source": [
        "df.isnull().sum(axis=0)"
      ],
      "execution_count": 30,
      "outputs": [
        {
          "output_type": "execute_result",
          "data": {
            "text/plain": [
              "YEAR                        0\n",
              "QUARTER                     0\n",
              "MONTH                       0\n",
              "DAY_OF_MONTH                0\n",
              "DAY_OF_WEEK                 0\n",
              "OP_UNIQUE_CARRIER           0\n",
              "TAIL_NUM                    0\n",
              "OP_CARRIER_FL_NUM           0\n",
              "ORIGIN                      0\n",
              "DEST                        0\n",
              "CRS_DEP_TIME                0\n",
              "DEP_TIME                    0\n",
              "DEP_DELAY                   0\n",
              "TAXI_OUT                    0\n",
              "TAXI_IN                     0\n",
              "CRS_ARR_TIME                0\n",
              "ARR_TIME                    0\n",
              "ARR_DELAY                   0\n",
              "CANCELLED                   0\n",
              "DIVERTED                    0\n",
              "CRS_ELAPSED_TIME            0\n",
              "ACTUAL_ELAPSED_TIME         0\n",
              "AIR_TIME                    0\n",
              "DISTANCE                    0\n",
              "CARRIER_DELAY          680907\n",
              "WEATHER_DELAY          680907\n",
              "NAS_DELAY              680907\n",
              "SECURITY_DELAY         680907\n",
              "LATE_AIRCRAFT_DELAY    680907\n",
              "dtype: int64"
            ]
          },
          "metadata": {
            "tags": []
          },
          "execution_count": 30
        }
      ]
    },
    {
      "cell_type": "code",
      "metadata": {
        "id": "OvOflbX_2gec"
      },
      "source": [
        "# The LATE_AIRCRAFT_DELAY (in minutes) is the delay caused by the aircraft\n",
        "# (i.e. an aircraft which is scheduled to depart at a specific timing arrived late from its previous flight and hence the delay spilled over to the next departure)\n",
        "# A null value in the LATE_AIRCRAFT_DELAY would mean that there is no delay incurred from the late arrival of the previous flight.\n",
        "# I'll set all null values to be 0.\n",
        "df.fillna(value={'LATE_AIRCRAFT_DELAY' : 0}, inplace=True)"
      ],
      "execution_count": 31,
      "outputs": []
    },
    {
      "cell_type": "code",
      "metadata": {
        "id": "ophRTa410ZDd"
      },
      "source": [
        "# Similarly, set all null values in CARRIER_DELAY, WEATHER_DELAY, NAS_DELAY, SECURITY_DELAY to be 0\n",
        "df.fillna(value={'CARRIER_DELAY' : 0, 'WEATHER_DELAY' : 0, 'NAS_DELAY' : 0, 'SECURITY_DELAY' : 0}, inplace=True)"
      ],
      "execution_count": 32,
      "outputs": []
    },
    {
      "cell_type": "code",
      "metadata": {
        "id": "73AuC_Ig3hOS",
        "colab": {
          "base_uri": "https://localhost:8080/"
        },
        "outputId": "62399dff-a2c6-4854-8807-9f9a91d133ce"
      },
      "source": [
        "# Check null values\n",
        "df.isnull().sum(axis=0)"
      ],
      "execution_count": 33,
      "outputs": [
        {
          "output_type": "execute_result",
          "data": {
            "text/plain": [
              "YEAR                   0\n",
              "QUARTER                0\n",
              "MONTH                  0\n",
              "DAY_OF_MONTH           0\n",
              "DAY_OF_WEEK            0\n",
              "OP_UNIQUE_CARRIER      0\n",
              "TAIL_NUM               0\n",
              "OP_CARRIER_FL_NUM      0\n",
              "ORIGIN                 0\n",
              "DEST                   0\n",
              "CRS_DEP_TIME           0\n",
              "DEP_TIME               0\n",
              "DEP_DELAY              0\n",
              "TAXI_OUT               0\n",
              "TAXI_IN                0\n",
              "CRS_ARR_TIME           0\n",
              "ARR_TIME               0\n",
              "ARR_DELAY              0\n",
              "CANCELLED              0\n",
              "DIVERTED               0\n",
              "CRS_ELAPSED_TIME       0\n",
              "ACTUAL_ELAPSED_TIME    0\n",
              "AIR_TIME               0\n",
              "DISTANCE               0\n",
              "CARRIER_DELAY          0\n",
              "WEATHER_DELAY          0\n",
              "NAS_DELAY              0\n",
              "SECURITY_DELAY         0\n",
              "LATE_AIRCRAFT_DELAY    0\n",
              "dtype: int64"
            ]
          },
          "metadata": {
            "tags": []
          },
          "execution_count": 33
        }
      ]
    },
    {
      "cell_type": "code",
      "metadata": {
        "id": "kELpjCFt32gs",
        "colab": {
          "base_uri": "https://localhost:8080/"
        },
        "outputId": "453196c6-4796-4335-bcb2-fba6e85c1923"
      },
      "source": [
        "# Check: No DIVERTED flights anymore\n",
        "df.DIVERTED.unique().tolist()"
      ],
      "execution_count": 34,
      "outputs": [
        {
          "output_type": "execute_result",
          "data": {
            "text/plain": [
              "[0.0]"
            ]
          },
          "metadata": {
            "tags": []
          },
          "execution_count": 34
        }
      ]
    },
    {
      "cell_type": "code",
      "metadata": {
        "id": "9nDhgewE38JM",
        "colab": {
          "base_uri": "https://localhost:8080/"
        },
        "outputId": "f0545d78-3330-4350-b581-c62db088f62e"
      },
      "source": [
        "# Check: No CANCELLED flights anymore\n",
        "df.CANCELLED.unique().tolist()"
      ],
      "execution_count": 35,
      "outputs": [
        {
          "output_type": "execute_result",
          "data": {
            "text/plain": [
              "[0.0]"
            ]
          },
          "metadata": {
            "tags": []
          },
          "execution_count": 35
        }
      ]
    },
    {
      "cell_type": "code",
      "metadata": {
        "id": "Z7EZpTUbAOMa",
        "colab": {
          "base_uri": "https://localhost:8080/",
          "height": 224
        },
        "outputId": "9697ec93-eb3e-4212-c70e-35936f4b1585"
      },
      "source": [
        "# Dropping DIVERTED & CANCELLED columns\n",
        "df.drop(['DIVERTED', 'CANCELLED'], axis=1, inplace=True)\n",
        "df.head()"
      ],
      "execution_count": 36,
      "outputs": [
        {
          "output_type": "execute_result",
          "data": {
            "text/html": [
              "<div>\n",
              "<style scoped>\n",
              "    .dataframe tbody tr th:only-of-type {\n",
              "        vertical-align: middle;\n",
              "    }\n",
              "\n",
              "    .dataframe tbody tr th {\n",
              "        vertical-align: top;\n",
              "    }\n",
              "\n",
              "    .dataframe thead th {\n",
              "        text-align: right;\n",
              "    }\n",
              "</style>\n",
              "<table border=\"1\" class=\"dataframe\">\n",
              "  <thead>\n",
              "    <tr style=\"text-align: right;\">\n",
              "      <th></th>\n",
              "      <th>YEAR</th>\n",
              "      <th>QUARTER</th>\n",
              "      <th>MONTH</th>\n",
              "      <th>DAY_OF_MONTH</th>\n",
              "      <th>DAY_OF_WEEK</th>\n",
              "      <th>OP_UNIQUE_CARRIER</th>\n",
              "      <th>TAIL_NUM</th>\n",
              "      <th>OP_CARRIER_FL_NUM</th>\n",
              "      <th>ORIGIN</th>\n",
              "      <th>DEST</th>\n",
              "      <th>CRS_DEP_TIME</th>\n",
              "      <th>DEP_TIME</th>\n",
              "      <th>DEP_DELAY</th>\n",
              "      <th>TAXI_OUT</th>\n",
              "      <th>TAXI_IN</th>\n",
              "      <th>CRS_ARR_TIME</th>\n",
              "      <th>ARR_TIME</th>\n",
              "      <th>ARR_DELAY</th>\n",
              "      <th>CRS_ELAPSED_TIME</th>\n",
              "      <th>ACTUAL_ELAPSED_TIME</th>\n",
              "      <th>AIR_TIME</th>\n",
              "      <th>DISTANCE</th>\n",
              "      <th>CARRIER_DELAY</th>\n",
              "      <th>WEATHER_DELAY</th>\n",
              "      <th>NAS_DELAY</th>\n",
              "      <th>SECURITY_DELAY</th>\n",
              "      <th>LATE_AIRCRAFT_DELAY</th>\n",
              "    </tr>\n",
              "  </thead>\n",
              "  <tbody>\n",
              "    <tr>\n",
              "      <th>0</th>\n",
              "      <td>2017</td>\n",
              "      <td>1</td>\n",
              "      <td>1</td>\n",
              "      <td>16</td>\n",
              "      <td>1</td>\n",
              "      <td>AA</td>\n",
              "      <td>N3FYAA</td>\n",
              "      <td>2186</td>\n",
              "      <td>DFW</td>\n",
              "      <td>PSP</td>\n",
              "      <td>910</td>\n",
              "      <td>913.0</td>\n",
              "      <td>3.0</td>\n",
              "      <td>26.0</td>\n",
              "      <td>5.0</td>\n",
              "      <td>1018</td>\n",
              "      <td>1024.0</td>\n",
              "      <td>6.0</td>\n",
              "      <td>188.0</td>\n",
              "      <td>191.0</td>\n",
              "      <td>160.0</td>\n",
              "      <td>1126.0</td>\n",
              "      <td>0.0</td>\n",
              "      <td>0.0</td>\n",
              "      <td>0.0</td>\n",
              "      <td>0.0</td>\n",
              "      <td>0.0</td>\n",
              "    </tr>\n",
              "    <tr>\n",
              "      <th>1</th>\n",
              "      <td>2017</td>\n",
              "      <td>1</td>\n",
              "      <td>1</td>\n",
              "      <td>17</td>\n",
              "      <td>2</td>\n",
              "      <td>AA</td>\n",
              "      <td>N3ASAA</td>\n",
              "      <td>2186</td>\n",
              "      <td>DFW</td>\n",
              "      <td>PSP</td>\n",
              "      <td>910</td>\n",
              "      <td>904.0</td>\n",
              "      <td>-6.0</td>\n",
              "      <td>31.0</td>\n",
              "      <td>4.0</td>\n",
              "      <td>1018</td>\n",
              "      <td>1011.0</td>\n",
              "      <td>-7.0</td>\n",
              "      <td>188.0</td>\n",
              "      <td>187.0</td>\n",
              "      <td>152.0</td>\n",
              "      <td>1126.0</td>\n",
              "      <td>0.0</td>\n",
              "      <td>0.0</td>\n",
              "      <td>0.0</td>\n",
              "      <td>0.0</td>\n",
              "      <td>0.0</td>\n",
              "    </tr>\n",
              "    <tr>\n",
              "      <th>2</th>\n",
              "      <td>2017</td>\n",
              "      <td>1</td>\n",
              "      <td>1</td>\n",
              "      <td>18</td>\n",
              "      <td>3</td>\n",
              "      <td>AA</td>\n",
              "      <td>N3AKAA</td>\n",
              "      <td>2186</td>\n",
              "      <td>DFW</td>\n",
              "      <td>PSP</td>\n",
              "      <td>910</td>\n",
              "      <td>908.0</td>\n",
              "      <td>-2.0</td>\n",
              "      <td>44.0</td>\n",
              "      <td>5.0</td>\n",
              "      <td>1018</td>\n",
              "      <td>1028.0</td>\n",
              "      <td>10.0</td>\n",
              "      <td>188.0</td>\n",
              "      <td>200.0</td>\n",
              "      <td>151.0</td>\n",
              "      <td>1126.0</td>\n",
              "      <td>0.0</td>\n",
              "      <td>0.0</td>\n",
              "      <td>0.0</td>\n",
              "      <td>0.0</td>\n",
              "      <td>0.0</td>\n",
              "    </tr>\n",
              "    <tr>\n",
              "      <th>3</th>\n",
              "      <td>2017</td>\n",
              "      <td>1</td>\n",
              "      <td>1</td>\n",
              "      <td>19</td>\n",
              "      <td>4</td>\n",
              "      <td>AA</td>\n",
              "      <td>N3LSAA</td>\n",
              "      <td>2186</td>\n",
              "      <td>DFW</td>\n",
              "      <td>PSP</td>\n",
              "      <td>910</td>\n",
              "      <td>905.0</td>\n",
              "      <td>-5.0</td>\n",
              "      <td>41.0</td>\n",
              "      <td>8.0</td>\n",
              "      <td>1018</td>\n",
              "      <td>1047.0</td>\n",
              "      <td>29.0</td>\n",
              "      <td>188.0</td>\n",
              "      <td>222.0</td>\n",
              "      <td>173.0</td>\n",
              "      <td>1126.0</td>\n",
              "      <td>0.0</td>\n",
              "      <td>0.0</td>\n",
              "      <td>29.0</td>\n",
              "      <td>0.0</td>\n",
              "      <td>0.0</td>\n",
              "    </tr>\n",
              "    <tr>\n",
              "      <th>4</th>\n",
              "      <td>2017</td>\n",
              "      <td>1</td>\n",
              "      <td>1</td>\n",
              "      <td>20</td>\n",
              "      <td>5</td>\n",
              "      <td>AA</td>\n",
              "      <td>N3NBAA</td>\n",
              "      <td>2186</td>\n",
              "      <td>DFW</td>\n",
              "      <td>PSP</td>\n",
              "      <td>910</td>\n",
              "      <td>903.0</td>\n",
              "      <td>-7.0</td>\n",
              "      <td>20.0</td>\n",
              "      <td>6.0</td>\n",
              "      <td>1018</td>\n",
              "      <td>1011.0</td>\n",
              "      <td>-7.0</td>\n",
              "      <td>188.0</td>\n",
              "      <td>188.0</td>\n",
              "      <td>162.0</td>\n",
              "      <td>1126.0</td>\n",
              "      <td>0.0</td>\n",
              "      <td>0.0</td>\n",
              "      <td>0.0</td>\n",
              "      <td>0.0</td>\n",
              "      <td>0.0</td>\n",
              "    </tr>\n",
              "  </tbody>\n",
              "</table>\n",
              "</div>"
            ],
            "text/plain": [
              "   YEAR  QUARTER  MONTH  ...  NAS_DELAY  SECURITY_DELAY LATE_AIRCRAFT_DELAY\n",
              "0  2017        1      1  ...        0.0             0.0                 0.0\n",
              "1  2017        1      1  ...        0.0             0.0                 0.0\n",
              "2  2017        1      1  ...        0.0             0.0                 0.0\n",
              "3  2017        1      1  ...       29.0             0.0                 0.0\n",
              "4  2017        1      1  ...        0.0             0.0                 0.0\n",
              "\n",
              "[5 rows x 27 columns]"
            ]
          },
          "metadata": {
            "tags": []
          },
          "execution_count": 36
        }
      ]
    },
    {
      "cell_type": "code",
      "metadata": {
        "id": "S3BTwigy_anm",
        "colab": {
          "base_uri": "https://localhost:8080/"
        },
        "outputId": "9a2e9deb-18cc-4edf-dee3-d11ffe977ca8"
      },
      "source": [
        "# OK! No more null/nan values\n",
        "# Check the datatypes\n",
        "df.info()"
      ],
      "execution_count": 37,
      "outputs": [
        {
          "output_type": "stream",
          "text": [
            "<class 'pandas.core.frame.DataFrame'>\n",
            "Int64Index: 842870 entries, 0 to 410516\n",
            "Data columns (total 27 columns):\n",
            " #   Column               Non-Null Count   Dtype  \n",
            "---  ------               --------------   -----  \n",
            " 0   YEAR                 842870 non-null  int64  \n",
            " 1   QUARTER              842870 non-null  int64  \n",
            " 2   MONTH                842870 non-null  int64  \n",
            " 3   DAY_OF_MONTH         842870 non-null  int64  \n",
            " 4   DAY_OF_WEEK          842870 non-null  int64  \n",
            " 5   OP_UNIQUE_CARRIER    842870 non-null  object \n",
            " 6   TAIL_NUM             842870 non-null  object \n",
            " 7   OP_CARRIER_FL_NUM    842870 non-null  int64  \n",
            " 8   ORIGIN               842870 non-null  object \n",
            " 9   DEST                 842870 non-null  object \n",
            " 10  CRS_DEP_TIME         842870 non-null  int64  \n",
            " 11  DEP_TIME             842870 non-null  float64\n",
            " 12  DEP_DELAY            842870 non-null  float64\n",
            " 13  TAXI_OUT             842870 non-null  float64\n",
            " 14  TAXI_IN              842870 non-null  float64\n",
            " 15  CRS_ARR_TIME         842870 non-null  int64  \n",
            " 16  ARR_TIME             842870 non-null  float64\n",
            " 17  ARR_DELAY            842870 non-null  float64\n",
            " 18  CRS_ELAPSED_TIME     842870 non-null  float64\n",
            " 19  ACTUAL_ELAPSED_TIME  842870 non-null  float64\n",
            " 20  AIR_TIME             842870 non-null  float64\n",
            " 21  DISTANCE             842870 non-null  float64\n",
            " 22  CARRIER_DELAY        842870 non-null  float64\n",
            " 23  WEATHER_DELAY        842870 non-null  float64\n",
            " 24  NAS_DELAY            842870 non-null  float64\n",
            " 25  SECURITY_DELAY       842870 non-null  float64\n",
            " 26  LATE_AIRCRAFT_DELAY  842870 non-null  float64\n",
            "dtypes: float64(15), int64(8), object(4)\n",
            "memory usage: 180.1+ MB\n"
          ],
          "name": "stdout"
        }
      ]
    },
    {
      "cell_type": "markdown",
      "metadata": {
        "id": "DDlfr2kBQKHu"
      },
      "source": [
        "## 5.2 Add carrier descriptions"
      ]
    },
    {
      "cell_type": "code",
      "metadata": {
        "id": "ImcjAimDIVLA",
        "colab": {
          "base_uri": "https://localhost:8080/",
          "height": 309
        },
        "outputId": "d0a31543-01d5-4c3b-ac1c-435dde3625ef"
      },
      "source": [
        "# Add carrier descriptions\n",
        "df = pd.merge(df, carriers, how='left', left_on='OP_UNIQUE_CARRIER', right_on='code')\n",
        "df.head()"
      ],
      "execution_count": 38,
      "outputs": [
        {
          "output_type": "execute_result",
          "data": {
            "text/html": [
              "<div>\n",
              "<style scoped>\n",
              "    .dataframe tbody tr th:only-of-type {\n",
              "        vertical-align: middle;\n",
              "    }\n",
              "\n",
              "    .dataframe tbody tr th {\n",
              "        vertical-align: top;\n",
              "    }\n",
              "\n",
              "    .dataframe thead th {\n",
              "        text-align: right;\n",
              "    }\n",
              "</style>\n",
              "<table border=\"1\" class=\"dataframe\">\n",
              "  <thead>\n",
              "    <tr style=\"text-align: right;\">\n",
              "      <th></th>\n",
              "      <th>YEAR</th>\n",
              "      <th>QUARTER</th>\n",
              "      <th>MONTH</th>\n",
              "      <th>DAY_OF_MONTH</th>\n",
              "      <th>DAY_OF_WEEK</th>\n",
              "      <th>OP_UNIQUE_CARRIER</th>\n",
              "      <th>TAIL_NUM</th>\n",
              "      <th>OP_CARRIER_FL_NUM</th>\n",
              "      <th>ORIGIN</th>\n",
              "      <th>DEST</th>\n",
              "      <th>CRS_DEP_TIME</th>\n",
              "      <th>DEP_TIME</th>\n",
              "      <th>DEP_DELAY</th>\n",
              "      <th>TAXI_OUT</th>\n",
              "      <th>TAXI_IN</th>\n",
              "      <th>CRS_ARR_TIME</th>\n",
              "      <th>ARR_TIME</th>\n",
              "      <th>ARR_DELAY</th>\n",
              "      <th>CRS_ELAPSED_TIME</th>\n",
              "      <th>ACTUAL_ELAPSED_TIME</th>\n",
              "      <th>AIR_TIME</th>\n",
              "      <th>DISTANCE</th>\n",
              "      <th>CARRIER_DELAY</th>\n",
              "      <th>WEATHER_DELAY</th>\n",
              "      <th>NAS_DELAY</th>\n",
              "      <th>SECURITY_DELAY</th>\n",
              "      <th>LATE_AIRCRAFT_DELAY</th>\n",
              "      <th>code</th>\n",
              "      <th>AIRLINE_NAME</th>\n",
              "    </tr>\n",
              "  </thead>\n",
              "  <tbody>\n",
              "    <tr>\n",
              "      <th>0</th>\n",
              "      <td>2017</td>\n",
              "      <td>1</td>\n",
              "      <td>1</td>\n",
              "      <td>16</td>\n",
              "      <td>1</td>\n",
              "      <td>AA</td>\n",
              "      <td>N3FYAA</td>\n",
              "      <td>2186</td>\n",
              "      <td>DFW</td>\n",
              "      <td>PSP</td>\n",
              "      <td>910</td>\n",
              "      <td>913.0</td>\n",
              "      <td>3.0</td>\n",
              "      <td>26.0</td>\n",
              "      <td>5.0</td>\n",
              "      <td>1018</td>\n",
              "      <td>1024.0</td>\n",
              "      <td>6.0</td>\n",
              "      <td>188.0</td>\n",
              "      <td>191.0</td>\n",
              "      <td>160.0</td>\n",
              "      <td>1126.0</td>\n",
              "      <td>0.0</td>\n",
              "      <td>0.0</td>\n",
              "      <td>0.0</td>\n",
              "      <td>0.0</td>\n",
              "      <td>0.0</td>\n",
              "      <td>AA</td>\n",
              "      <td>American Airlines Inc.</td>\n",
              "    </tr>\n",
              "    <tr>\n",
              "      <th>1</th>\n",
              "      <td>2017</td>\n",
              "      <td>1</td>\n",
              "      <td>1</td>\n",
              "      <td>17</td>\n",
              "      <td>2</td>\n",
              "      <td>AA</td>\n",
              "      <td>N3ASAA</td>\n",
              "      <td>2186</td>\n",
              "      <td>DFW</td>\n",
              "      <td>PSP</td>\n",
              "      <td>910</td>\n",
              "      <td>904.0</td>\n",
              "      <td>-6.0</td>\n",
              "      <td>31.0</td>\n",
              "      <td>4.0</td>\n",
              "      <td>1018</td>\n",
              "      <td>1011.0</td>\n",
              "      <td>-7.0</td>\n",
              "      <td>188.0</td>\n",
              "      <td>187.0</td>\n",
              "      <td>152.0</td>\n",
              "      <td>1126.0</td>\n",
              "      <td>0.0</td>\n",
              "      <td>0.0</td>\n",
              "      <td>0.0</td>\n",
              "      <td>0.0</td>\n",
              "      <td>0.0</td>\n",
              "      <td>AA</td>\n",
              "      <td>American Airlines Inc.</td>\n",
              "    </tr>\n",
              "    <tr>\n",
              "      <th>2</th>\n",
              "      <td>2017</td>\n",
              "      <td>1</td>\n",
              "      <td>1</td>\n",
              "      <td>18</td>\n",
              "      <td>3</td>\n",
              "      <td>AA</td>\n",
              "      <td>N3AKAA</td>\n",
              "      <td>2186</td>\n",
              "      <td>DFW</td>\n",
              "      <td>PSP</td>\n",
              "      <td>910</td>\n",
              "      <td>908.0</td>\n",
              "      <td>-2.0</td>\n",
              "      <td>44.0</td>\n",
              "      <td>5.0</td>\n",
              "      <td>1018</td>\n",
              "      <td>1028.0</td>\n",
              "      <td>10.0</td>\n",
              "      <td>188.0</td>\n",
              "      <td>200.0</td>\n",
              "      <td>151.0</td>\n",
              "      <td>1126.0</td>\n",
              "      <td>0.0</td>\n",
              "      <td>0.0</td>\n",
              "      <td>0.0</td>\n",
              "      <td>0.0</td>\n",
              "      <td>0.0</td>\n",
              "      <td>AA</td>\n",
              "      <td>American Airlines Inc.</td>\n",
              "    </tr>\n",
              "    <tr>\n",
              "      <th>3</th>\n",
              "      <td>2017</td>\n",
              "      <td>1</td>\n",
              "      <td>1</td>\n",
              "      <td>19</td>\n",
              "      <td>4</td>\n",
              "      <td>AA</td>\n",
              "      <td>N3LSAA</td>\n",
              "      <td>2186</td>\n",
              "      <td>DFW</td>\n",
              "      <td>PSP</td>\n",
              "      <td>910</td>\n",
              "      <td>905.0</td>\n",
              "      <td>-5.0</td>\n",
              "      <td>41.0</td>\n",
              "      <td>8.0</td>\n",
              "      <td>1018</td>\n",
              "      <td>1047.0</td>\n",
              "      <td>29.0</td>\n",
              "      <td>188.0</td>\n",
              "      <td>222.0</td>\n",
              "      <td>173.0</td>\n",
              "      <td>1126.0</td>\n",
              "      <td>0.0</td>\n",
              "      <td>0.0</td>\n",
              "      <td>29.0</td>\n",
              "      <td>0.0</td>\n",
              "      <td>0.0</td>\n",
              "      <td>AA</td>\n",
              "      <td>American Airlines Inc.</td>\n",
              "    </tr>\n",
              "    <tr>\n",
              "      <th>4</th>\n",
              "      <td>2017</td>\n",
              "      <td>1</td>\n",
              "      <td>1</td>\n",
              "      <td>20</td>\n",
              "      <td>5</td>\n",
              "      <td>AA</td>\n",
              "      <td>N3NBAA</td>\n",
              "      <td>2186</td>\n",
              "      <td>DFW</td>\n",
              "      <td>PSP</td>\n",
              "      <td>910</td>\n",
              "      <td>903.0</td>\n",
              "      <td>-7.0</td>\n",
              "      <td>20.0</td>\n",
              "      <td>6.0</td>\n",
              "      <td>1018</td>\n",
              "      <td>1011.0</td>\n",
              "      <td>-7.0</td>\n",
              "      <td>188.0</td>\n",
              "      <td>188.0</td>\n",
              "      <td>162.0</td>\n",
              "      <td>1126.0</td>\n",
              "      <td>0.0</td>\n",
              "      <td>0.0</td>\n",
              "      <td>0.0</td>\n",
              "      <td>0.0</td>\n",
              "      <td>0.0</td>\n",
              "      <td>AA</td>\n",
              "      <td>American Airlines Inc.</td>\n",
              "    </tr>\n",
              "  </tbody>\n",
              "</table>\n",
              "</div>"
            ],
            "text/plain": [
              "   YEAR  QUARTER  MONTH  ...  LATE_AIRCRAFT_DELAY  code            AIRLINE_NAME\n",
              "0  2017        1      1  ...                  0.0    AA  American Airlines Inc.\n",
              "1  2017        1      1  ...                  0.0    AA  American Airlines Inc.\n",
              "2  2017        1      1  ...                  0.0    AA  American Airlines Inc.\n",
              "3  2017        1      1  ...                  0.0    AA  American Airlines Inc.\n",
              "4  2017        1      1  ...                  0.0    AA  American Airlines Inc.\n",
              "\n",
              "[5 rows x 29 columns]"
            ]
          },
          "metadata": {
            "tags": []
          },
          "execution_count": 38
        }
      ]
    },
    {
      "cell_type": "code",
      "metadata": {
        "id": "vWY5wTZNMFC7"
      },
      "source": [
        "df.drop(['code'], axis=1, inplace=True)"
      ],
      "execution_count": 39,
      "outputs": []
    },
    {
      "cell_type": "markdown",
      "metadata": {
        "id": "DTUvNgzBLP9s"
      },
      "source": [
        "## 5.3 Delay Analysis"
      ]
    },
    {
      "cell_type": "code",
      "metadata": {
        "id": "CofZObfV82Rr"
      },
      "source": [
        "# Set the delay threshold\n",
        "delay_thresh = 30 # minutes"
      ],
      "execution_count": 40,
      "outputs": []
    },
    {
      "cell_type": "markdown",
      "metadata": {
        "id": "DbWx-OnJ5WSW"
      },
      "source": [
        "I computed the summary statistics of the departure and arrival delays of all flights to gain a broad understanding of the data.\n",
        "\n",
        "*   Departure delay is the difference between the official departure time and the actual departure time of the flight measured in minutes.\n",
        "\n",
        "*   Arrival delay is the difference between the official arrival time and the actual departure time of the flight measured in minutes.\n",
        "\n",
        "*   Positive values for delay indicate that the flight was delayed, negative values indicate the flight departed/arrived early"
      ]
    },
    {
      "cell_type": "code",
      "metadata": {
        "id": "0Izd_XR13HTy",
        "colab": {
          "base_uri": "https://localhost:8080/",
          "height": 297
        },
        "outputId": "d27f5d64-4ce4-442e-c340-8a218455f876"
      },
      "source": [
        "# 'ARR_DELAY', 'DEP_DELAY', 'AIR_TIME' in [minutes]\n",
        "# DISTANCE in [km]\n",
        "df[['ARR_DELAY', 'DEP_DELAY']].describe()\n"
      ],
      "execution_count": 41,
      "outputs": [
        {
          "output_type": "execute_result",
          "data": {
            "text/html": [
              "<div>\n",
              "<style scoped>\n",
              "    .dataframe tbody tr th:only-of-type {\n",
              "        vertical-align: middle;\n",
              "    }\n",
              "\n",
              "    .dataframe tbody tr th {\n",
              "        vertical-align: top;\n",
              "    }\n",
              "\n",
              "    .dataframe thead th {\n",
              "        text-align: right;\n",
              "    }\n",
              "</style>\n",
              "<table border=\"1\" class=\"dataframe\">\n",
              "  <thead>\n",
              "    <tr style=\"text-align: right;\">\n",
              "      <th></th>\n",
              "      <th>ARR_DELAY</th>\n",
              "      <th>DEP_DELAY</th>\n",
              "    </tr>\n",
              "  </thead>\n",
              "  <tbody>\n",
              "    <tr>\n",
              "      <th>count</th>\n",
              "      <td>842870.000000</td>\n",
              "      <td>842870.000000</td>\n",
              "    </tr>\n",
              "    <tr>\n",
              "      <th>mean</th>\n",
              "      <td>3.956417</td>\n",
              "      <td>9.628100</td>\n",
              "    </tr>\n",
              "    <tr>\n",
              "      <th>std</th>\n",
              "      <td>45.889549</td>\n",
              "      <td>43.125623</td>\n",
              "    </tr>\n",
              "    <tr>\n",
              "      <th>min</th>\n",
              "      <td>-98.000000</td>\n",
              "      <td>-59.000000</td>\n",
              "    </tr>\n",
              "    <tr>\n",
              "      <th>25%</th>\n",
              "      <td>-16.000000</td>\n",
              "      <td>-5.000000</td>\n",
              "    </tr>\n",
              "    <tr>\n",
              "      <th>50%</th>\n",
              "      <td>-6.000000</td>\n",
              "      <td>-2.000000</td>\n",
              "    </tr>\n",
              "    <tr>\n",
              "      <th>75%</th>\n",
              "      <td>8.000000</td>\n",
              "      <td>6.000000</td>\n",
              "    </tr>\n",
              "    <tr>\n",
              "      <th>max</th>\n",
              "      <td>1944.000000</td>\n",
              "      <td>1970.000000</td>\n",
              "    </tr>\n",
              "  </tbody>\n",
              "</table>\n",
              "</div>"
            ],
            "text/plain": [
              "           ARR_DELAY      DEP_DELAY\n",
              "count  842870.000000  842870.000000\n",
              "mean        3.956417       9.628100\n",
              "std        45.889549      43.125623\n",
              "min       -98.000000     -59.000000\n",
              "25%       -16.000000      -5.000000\n",
              "50%        -6.000000      -2.000000\n",
              "75%         8.000000       6.000000\n",
              "max      1944.000000    1970.000000"
            ]
          },
          "metadata": {
            "tags": []
          },
          "execution_count": 41
        }
      ]
    },
    {
      "cell_type": "markdown",
      "metadata": {
        "id": "XONRHGFC6Y-S"
      },
      "source": [
        "The average arrival delay is only around 4 minutes. In addition, the median value is -6 minutes, suggesting the majority of flights actually arrive earlier than their expected time of arrival.\n",
        "\n",
        "To illustrate this, I created a pie chart depicting the percentage of flights for each interval of arrival delay."
      ]
    },
    {
      "cell_type": "code",
      "metadata": {
        "id": "Tp8X7AnSDoQN",
        "colab": {
          "base_uri": "https://localhost:8080/",
          "height": 547
        },
        "outputId": "8afc2de6-2169-402c-b4b5-dc158d9dc9c3"
      },
      "source": [
        "labels = ['Early > 30 min',' Early < 30 min',' Late < 30 min', 'Late < 2 hours', 'Late > 2 hours']\n",
        "bins   = [-100, -30, 0, 30, 120, 1945]\n",
        "\n",
        "df['ARR_DELAY_BINS'] = pd.cut(df['ARR_DELAY'], bins=bins, labels=labels)\n",
        "a = df.groupby('ARR_DELAY_BINS').size()\n",
        "print(a)\n",
        "# a.plot.pie(figsize=(6,6))\n",
        "\n",
        "plt.figure(figsize=(7,7))\n",
        "colors = ['r', 'y', 'g', 'lightblue', 'orange']\n",
        "explode = (0, 0, 0, 0, 0.5)\n",
        "plt.pie(a, colors=colors, labels=labels,\n",
        "explode=explode, autopct='%1.1f%%', shadow=False)\n",
        "plt.title('Percentage of delayed arrival flights for each interval')\n",
        "plt.show()\n",
        "\n",
        "# Drop the newly added ARR_DELAY_BINS column\n",
        "df.drop(['ARR_DELAY_BINS'], axis=1, inplace=True)"
      ],
      "execution_count": 42,
      "outputs": [
        {
          "output_type": "stream",
          "text": [
            "ARR_DELAY_BINS\n",
            "Early > 30 min      40227\n",
            " Early < 30 min    503641\n",
            " Late < 30 min     200749\n",
            "Late < 2 hours      79194\n",
            "Late > 2 hours      19059\n",
            "dtype: int64\n"
          ],
          "name": "stdout"
        },
        {
          "output_type": "display_data",
          "data": {
            "image/png": "[encoded data removed]",
            "text/plain": [
              "<Figure size 504x504 with 1 Axes>"
            ]
          },
          "metadata": {
            "tags": []
          }
        }
      ]
    },
    {
      "cell_type": "markdown",
      "metadata": {
        "id": "f0_GSX5oHZ64"
      },
      "source": [
        "As shown, ~65% of flights arrive early and only ~12% of flights arrive more than 30 minutes late.\n",
        "\n",
        "The vast majority of flights arrive ahead of schedule. Moreover, only around 12% of flights are late by more than 30 minutes."
      ]
    },
    {
      "cell_type": "code",
      "metadata": {
        "id": "zBF7pnor6MiC",
        "colab": {
          "base_uri": "https://localhost:8080/",
          "height": 512
        },
        "outputId": "e5ff43df-d8e6-41c6-a361-be0e5a4d5913"
      },
      "source": [
        "# ax = df.hist(column=['ARR_DELAY', 'DEP_DELAY'], bins=100, grid=False, figsize=(12,8), layout=(1,2), color='#86bf91', zorder=2, rwidth=0.9, density=1)\n",
        "ax = df.hist(column=['ARR_DELAY', 'DEP_DELAY'], bins=150, grid=False, figsize=(12,8), layout=(1,2), color='#86bf91', zorder=2, rwidth=0.99)\n",
        "\n",
        "ax = ax[0]\n",
        "for i,x in enumerate(ax):\n",
        "\n",
        "    # Despine\n",
        "    x.spines['right'].set_visible(False)\n",
        "    x.spines['top'].set_visible(False)\n",
        "    x.spines['left'].set_visible(False)\n",
        "\n",
        "    # Switch off ticks\n",
        "    x.tick_params(axis=\"both\", which=\"both\", bottom=\"off\", top=\"off\", labelbottom=\"on\", left=\"off\", right=\"off\", labelleft=\"on\")\n",
        "\n",
        "    # Draw horizontal axis lines\n",
        "    vals = x.get_yticks()\n",
        "    for tick in vals:\n",
        "        x.axhline(y=tick, linestyle='dashed', alpha=0.4, color='#eeeeee', zorder=1)\n",
        "\n",
        "    # Remove title\n",
        "    x.set_title(\"\")\n",
        "\n",
        "    # Set x-axis label\n",
        "    xlabel = \"ARRIVAL DELAY (minutes)\" if i == 1 else \"DEPARTURE DELAY (minutes)\"\n",
        "    x.set_xlabel(xlabel, labelpad=20, weight='bold', size=12)\n",
        "\n",
        "    # Set y-axis label\n",
        "    x.set_ylabel(\"Counts\", labelpad=20, weight='bold', size=12)\n",
        "\n",
        "    # Set log-scale for y-axis\n",
        "    # x.set_yscale('log')\n",
        "\n",
        "    x.set_xlim(-75, 300)"
      ],
      "execution_count": 43,
      "outputs": [
        {
          "output_type": "display_data",
          "data": {
            "image/png": "[encoded data removed]",
            "text/plain": [
              "<Figure size 864x576 with 2 Axes>"
            ]
          },
          "metadata": {
            "tags": [],
            "needs_background": "light"
          }
        }
      ]
    },
    {
      "cell_type": "markdown",
      "metadata": {
        "id": "k7XrYDbVIDcI"
      },
      "source": [
        "Histograms of departure and arrival delays (number of flights vs minutes). The average arrival delay is only around 4 minutes, the average departure delay is only around 9 minutes."
      ]
    },
    {
      "cell_type": "markdown",
      "metadata": {
        "id": "D2SYFdWvc6W5"
      },
      "source": [
        "## 5.4 Causes of arrival delay"
      ]
    },
    {
      "cell_type": "markdown",
      "metadata": {
        "id": "jhOJed_SdWdh"
      },
      "source": [
        "### a. Carrier delay"
      ]
    },
    {
      "cell_type": "code",
      "metadata": {
        "id": "miCOelm_c_-D",
        "colab": {
          "base_uri": "https://localhost:8080/",
          "height": 309
        },
        "outputId": "5369856b-b61c-4214-aebb-319992e03e49"
      },
      "source": [
        "carrier_delay =  df[df['CARRIER_DELAY'] > 0]\n",
        "carrier_delay = carrier_delay.reset_index()\n",
        "\n",
        "carrier_delay.CARRIER_DELAY.unique().tolist()[:15]\n",
        "\n",
        "carrier_delay = carrier_delay.drop('index',axis=1)\n",
        "carrier_delay.head()"
      ],
      "execution_count": 44,
      "outputs": [
        {
          "output_type": "execute_result",
          "data": {
            "text/html": [
              "<div>\n",
              "<style scoped>\n",
              "    .dataframe tbody tr th:only-of-type {\n",
              "        vertical-align: middle;\n",
              "    }\n",
              "\n",
              "    .dataframe tbody tr th {\n",
              "        vertical-align: top;\n",
              "    }\n",
              "\n",
              "    .dataframe thead th {\n",
              "        text-align: right;\n",
              "    }\n",
              "</style>\n",
              "<table border=\"1\" class=\"dataframe\">\n",
              "  <thead>\n",
              "    <tr style=\"text-align: right;\">\n",
              "      <th></th>\n",
              "      <th>YEAR</th>\n",
              "      <th>QUARTER</th>\n",
              "      <th>MONTH</th>\n",
              "      <th>DAY_OF_MONTH</th>\n",
              "      <th>DAY_OF_WEEK</th>\n",
              "      <th>OP_UNIQUE_CARRIER</th>\n",
              "      <th>TAIL_NUM</th>\n",
              "      <th>OP_CARRIER_FL_NUM</th>\n",
              "      <th>ORIGIN</th>\n",
              "      <th>DEST</th>\n",
              "      <th>CRS_DEP_TIME</th>\n",
              "      <th>DEP_TIME</th>\n",
              "      <th>DEP_DELAY</th>\n",
              "      <th>TAXI_OUT</th>\n",
              "      <th>TAXI_IN</th>\n",
              "      <th>CRS_ARR_TIME</th>\n",
              "      <th>ARR_TIME</th>\n",
              "      <th>ARR_DELAY</th>\n",
              "      <th>CRS_ELAPSED_TIME</th>\n",
              "      <th>ACTUAL_ELAPSED_TIME</th>\n",
              "      <th>AIR_TIME</th>\n",
              "      <th>DISTANCE</th>\n",
              "      <th>CARRIER_DELAY</th>\n",
              "      <th>WEATHER_DELAY</th>\n",
              "      <th>NAS_DELAY</th>\n",
              "      <th>SECURITY_DELAY</th>\n",
              "      <th>LATE_AIRCRAFT_DELAY</th>\n",
              "      <th>AIRLINE_NAME</th>\n",
              "    </tr>\n",
              "  </thead>\n",
              "  <tbody>\n",
              "    <tr>\n",
              "      <th>0</th>\n",
              "      <td>2017</td>\n",
              "      <td>1</td>\n",
              "      <td>1</td>\n",
              "      <td>23</td>\n",
              "      <td>1</td>\n",
              "      <td>AA</td>\n",
              "      <td>N3LEAA</td>\n",
              "      <td>2186</td>\n",
              "      <td>DFW</td>\n",
              "      <td>PSP</td>\n",
              "      <td>910</td>\n",
              "      <td>911.0</td>\n",
              "      <td>1.0</td>\n",
              "      <td>17.0</td>\n",
              "      <td>9.0</td>\n",
              "      <td>1018</td>\n",
              "      <td>1034.0</td>\n",
              "      <td>16.0</td>\n",
              "      <td>188.0</td>\n",
              "      <td>203.0</td>\n",
              "      <td>177.0</td>\n",
              "      <td>1126.0</td>\n",
              "      <td>1.0</td>\n",
              "      <td>0.0</td>\n",
              "      <td>15.0</td>\n",
              "      <td>0.0</td>\n",
              "      <td>0.0</td>\n",
              "      <td>American Airlines Inc.</td>\n",
              "    </tr>\n",
              "    <tr>\n",
              "      <th>1</th>\n",
              "      <td>2017</td>\n",
              "      <td>1</td>\n",
              "      <td>1</td>\n",
              "      <td>8</td>\n",
              "      <td>7</td>\n",
              "      <td>AA</td>\n",
              "      <td>N3NGAA</td>\n",
              "      <td>2186</td>\n",
              "      <td>PHL</td>\n",
              "      <td>DFW</td>\n",
              "      <td>500</td>\n",
              "      <td>652.0</td>\n",
              "      <td>112.0</td>\n",
              "      <td>30.0</td>\n",
              "      <td>16.0</td>\n",
              "      <td>750</td>\n",
              "      <td>940.0</td>\n",
              "      <td>110.0</td>\n",
              "      <td>230.0</td>\n",
              "      <td>228.0</td>\n",
              "      <td>182.0</td>\n",
              "      <td>1303.0</td>\n",
              "      <td>110.0</td>\n",
              "      <td>0.0</td>\n",
              "      <td>0.0</td>\n",
              "      <td>0.0</td>\n",
              "      <td>0.0</td>\n",
              "      <td>American Airlines Inc.</td>\n",
              "    </tr>\n",
              "    <tr>\n",
              "      <th>2</th>\n",
              "      <td>2017</td>\n",
              "      <td>1</td>\n",
              "      <td>1</td>\n",
              "      <td>12</td>\n",
              "      <td>4</td>\n",
              "      <td>AA</td>\n",
              "      <td>N4WNAA</td>\n",
              "      <td>2190</td>\n",
              "      <td>STL</td>\n",
              "      <td>DFW</td>\n",
              "      <td>1726</td>\n",
              "      <td>1754.0</td>\n",
              "      <td>28.0</td>\n",
              "      <td>13.0</td>\n",
              "      <td>12.0</td>\n",
              "      <td>1924</td>\n",
              "      <td>2001.0</td>\n",
              "      <td>37.0</td>\n",
              "      <td>118.0</td>\n",
              "      <td>127.0</td>\n",
              "      <td>102.0</td>\n",
              "      <td>550.0</td>\n",
              "      <td>28.0</td>\n",
              "      <td>0.0</td>\n",
              "      <td>9.0</td>\n",
              "      <td>0.0</td>\n",
              "      <td>0.0</td>\n",
              "      <td>American Airlines Inc.</td>\n",
              "    </tr>\n",
              "    <tr>\n",
              "      <th>3</th>\n",
              "      <td>2017</td>\n",
              "      <td>1</td>\n",
              "      <td>1</td>\n",
              "      <td>20</td>\n",
              "      <td>5</td>\n",
              "      <td>AA</td>\n",
              "      <td>N550AA</td>\n",
              "      <td>2190</td>\n",
              "      <td>STL</td>\n",
              "      <td>DFW</td>\n",
              "      <td>1726</td>\n",
              "      <td>1840.0</td>\n",
              "      <td>74.0</td>\n",
              "      <td>11.0</td>\n",
              "      <td>12.0</td>\n",
              "      <td>1924</td>\n",
              "      <td>2035.0</td>\n",
              "      <td>71.0</td>\n",
              "      <td>118.0</td>\n",
              "      <td>115.0</td>\n",
              "      <td>92.0</td>\n",
              "      <td>550.0</td>\n",
              "      <td>4.0</td>\n",
              "      <td>0.0</td>\n",
              "      <td>0.0</td>\n",
              "      <td>0.0</td>\n",
              "      <td>67.0</td>\n",
              "      <td>American Airlines Inc.</td>\n",
              "    </tr>\n",
              "    <tr>\n",
              "      <th>4</th>\n",
              "      <td>2017</td>\n",
              "      <td>1</td>\n",
              "      <td>1</td>\n",
              "      <td>31</td>\n",
              "      <td>2</td>\n",
              "      <td>AA</td>\n",
              "      <td>N439AA</td>\n",
              "      <td>2190</td>\n",
              "      <td>STL</td>\n",
              "      <td>DFW</td>\n",
              "      <td>1726</td>\n",
              "      <td>1808.0</td>\n",
              "      <td>42.0</td>\n",
              "      <td>14.0</td>\n",
              "      <td>6.0</td>\n",
              "      <td>1924</td>\n",
              "      <td>1951.0</td>\n",
              "      <td>27.0</td>\n",
              "      <td>118.0</td>\n",
              "      <td>103.0</td>\n",
              "      <td>83.0</td>\n",
              "      <td>550.0</td>\n",
              "      <td>21.0</td>\n",
              "      <td>0.0</td>\n",
              "      <td>0.0</td>\n",
              "      <td>0.0</td>\n",
              "      <td>6.0</td>\n",
              "      <td>American Airlines Inc.</td>\n",
              "    </tr>\n",
              "  </tbody>\n",
              "</table>\n",
              "</div>"
            ],
            "text/plain": [
              "   YEAR  QUARTER  ...  LATE_AIRCRAFT_DELAY            AIRLINE_NAME\n",
              "0  2017        1  ...                  0.0  American Airlines Inc.\n",
              "1  2017        1  ...                  0.0  American Airlines Inc.\n",
              "2  2017        1  ...                  0.0  American Airlines Inc.\n",
              "3  2017        1  ...                 67.0  American Airlines Inc.\n",
              "4  2017        1  ...                  6.0  American Airlines Inc.\n",
              "\n",
              "[5 rows x 28 columns]"
            ]
          },
          "metadata": {
            "tags": []
          },
          "execution_count": 44
        }
      ]
    },
    {
      "cell_type": "markdown",
      "metadata": {
        "id": "Rp0lOy-Ne7YH"
      },
      "source": [
        "### b. Weather delay"
      ]
    },
    {
      "cell_type": "code",
      "metadata": {
        "id": "gzmkRMjAfAfT",
        "colab": {
          "base_uri": "https://localhost:8080/",
          "height": 309
        },
        "outputId": "0502a81f-e212-4fef-d6ec-6d2b0b27b422"
      },
      "source": [
        "weather_delay =  df[df['WEATHER_DELAY'] > 0]\n",
        "weather_delay = weather_delay.reset_index()\n",
        "\n",
        "weather_delay = weather_delay.drop('index', axis=1)\n",
        "weather_delay.head()"
      ],
      "execution_count": 45,
      "outputs": [
        {
          "output_type": "execute_result",
          "data": {
            "text/html": [
              "<div>\n",
              "<style scoped>\n",
              "    .dataframe tbody tr th:only-of-type {\n",
              "        vertical-align: middle;\n",
              "    }\n",
              "\n",
              "    .dataframe tbody tr th {\n",
              "        vertical-align: top;\n",
              "    }\n",
              "\n",
              "    .dataframe thead th {\n",
              "        text-align: right;\n",
              "    }\n",
              "</style>\n",
              "<table border=\"1\" class=\"dataframe\">\n",
              "  <thead>\n",
              "    <tr style=\"text-align: right;\">\n",
              "      <th></th>\n",
              "      <th>YEAR</th>\n",
              "      <th>QUARTER</th>\n",
              "      <th>MONTH</th>\n",
              "      <th>DAY_OF_MONTH</th>\n",
              "      <th>DAY_OF_WEEK</th>\n",
              "      <th>OP_UNIQUE_CARRIER</th>\n",
              "      <th>TAIL_NUM</th>\n",
              "      <th>OP_CARRIER_FL_NUM</th>\n",
              "      <th>ORIGIN</th>\n",
              "      <th>DEST</th>\n",
              "      <th>CRS_DEP_TIME</th>\n",
              "      <th>DEP_TIME</th>\n",
              "      <th>DEP_DELAY</th>\n",
              "      <th>TAXI_OUT</th>\n",
              "      <th>TAXI_IN</th>\n",
              "      <th>CRS_ARR_TIME</th>\n",
              "      <th>ARR_TIME</th>\n",
              "      <th>ARR_DELAY</th>\n",
              "      <th>CRS_ELAPSED_TIME</th>\n",
              "      <th>ACTUAL_ELAPSED_TIME</th>\n",
              "      <th>AIR_TIME</th>\n",
              "      <th>DISTANCE</th>\n",
              "      <th>CARRIER_DELAY</th>\n",
              "      <th>WEATHER_DELAY</th>\n",
              "      <th>NAS_DELAY</th>\n",
              "      <th>SECURITY_DELAY</th>\n",
              "      <th>LATE_AIRCRAFT_DELAY</th>\n",
              "      <th>AIRLINE_NAME</th>\n",
              "    </tr>\n",
              "  </thead>\n",
              "  <tbody>\n",
              "    <tr>\n",
              "      <th>0</th>\n",
              "      <td>2017</td>\n",
              "      <td>1</td>\n",
              "      <td>1</td>\n",
              "      <td>9</td>\n",
              "      <td>1</td>\n",
              "      <td>AA</td>\n",
              "      <td>N391AA</td>\n",
              "      <td>2193</td>\n",
              "      <td>ORD</td>\n",
              "      <td>MIA</td>\n",
              "      <td>1845</td>\n",
              "      <td>1900.0</td>\n",
              "      <td>15.0</td>\n",
              "      <td>57.0</td>\n",
              "      <td>6.0</td>\n",
              "      <td>2255</td>\n",
              "      <td>2327.0</td>\n",
              "      <td>32.0</td>\n",
              "      <td>190.0</td>\n",
              "      <td>207.0</td>\n",
              "      <td>144.0</td>\n",
              "      <td>1197.0</td>\n",
              "      <td>0.0</td>\n",
              "      <td>15.0</td>\n",
              "      <td>17.0</td>\n",
              "      <td>0.0</td>\n",
              "      <td>0.0</td>\n",
              "      <td>American Airlines Inc.</td>\n",
              "    </tr>\n",
              "    <tr>\n",
              "      <th>1</th>\n",
              "      <td>2017</td>\n",
              "      <td>1</td>\n",
              "      <td>1</td>\n",
              "      <td>29</td>\n",
              "      <td>7</td>\n",
              "      <td>AA</td>\n",
              "      <td>N5FJAA</td>\n",
              "      <td>2193</td>\n",
              "      <td>ORD</td>\n",
              "      <td>MIA</td>\n",
              "      <td>1845</td>\n",
              "      <td>1855.0</td>\n",
              "      <td>10.0</td>\n",
              "      <td>38.0</td>\n",
              "      <td>15.0</td>\n",
              "      <td>2255</td>\n",
              "      <td>2320.0</td>\n",
              "      <td>25.0</td>\n",
              "      <td>190.0</td>\n",
              "      <td>205.0</td>\n",
              "      <td>152.0</td>\n",
              "      <td>1197.0</td>\n",
              "      <td>0.0</td>\n",
              "      <td>10.0</td>\n",
              "      <td>15.0</td>\n",
              "      <td>0.0</td>\n",
              "      <td>0.0</td>\n",
              "      <td>American Airlines Inc.</td>\n",
              "    </tr>\n",
              "    <tr>\n",
              "      <th>2</th>\n",
              "      <td>2017</td>\n",
              "      <td>1</td>\n",
              "      <td>1</td>\n",
              "      <td>10</td>\n",
              "      <td>2</td>\n",
              "      <td>AA</td>\n",
              "      <td>N3HEAA</td>\n",
              "      <td>2193</td>\n",
              "      <td>SNA</td>\n",
              "      <td>ORD</td>\n",
              "      <td>1115</td>\n",
              "      <td>1254.0</td>\n",
              "      <td>99.0</td>\n",
              "      <td>17.0</td>\n",
              "      <td>43.0</td>\n",
              "      <td>1715</td>\n",
              "      <td>1922.0</td>\n",
              "      <td>127.0</td>\n",
              "      <td>240.0</td>\n",
              "      <td>268.0</td>\n",
              "      <td>208.0</td>\n",
              "      <td>1726.0</td>\n",
              "      <td>0.0</td>\n",
              "      <td>99.0</td>\n",
              "      <td>28.0</td>\n",
              "      <td>0.0</td>\n",
              "      <td>0.0</td>\n",
              "      <td>American Airlines Inc.</td>\n",
              "    </tr>\n",
              "    <tr>\n",
              "      <th>3</th>\n",
              "      <td>2017</td>\n",
              "      <td>1</td>\n",
              "      <td>1</td>\n",
              "      <td>10</td>\n",
              "      <td>2</td>\n",
              "      <td>AA</td>\n",
              "      <td>N004AA</td>\n",
              "      <td>2195</td>\n",
              "      <td>JAC</td>\n",
              "      <td>DFW</td>\n",
              "      <td>1312</td>\n",
              "      <td>1407.0</td>\n",
              "      <td>55.0</td>\n",
              "      <td>44.0</td>\n",
              "      <td>11.0</td>\n",
              "      <td>1656</td>\n",
              "      <td>1800.0</td>\n",
              "      <td>64.0</td>\n",
              "      <td>164.0</td>\n",
              "      <td>173.0</td>\n",
              "      <td>118.0</td>\n",
              "      <td>1047.0</td>\n",
              "      <td>0.0</td>\n",
              "      <td>13.0</td>\n",
              "      <td>9.0</td>\n",
              "      <td>0.0</td>\n",
              "      <td>42.0</td>\n",
              "      <td>American Airlines Inc.</td>\n",
              "    </tr>\n",
              "    <tr>\n",
              "      <th>4</th>\n",
              "      <td>2017</td>\n",
              "      <td>1</td>\n",
              "      <td>1</td>\n",
              "      <td>23</td>\n",
              "      <td>1</td>\n",
              "      <td>AA</td>\n",
              "      <td>N026AA</td>\n",
              "      <td>2195</td>\n",
              "      <td>JAC</td>\n",
              "      <td>DFW</td>\n",
              "      <td>1312</td>\n",
              "      <td>1316.0</td>\n",
              "      <td>4.0</td>\n",
              "      <td>48.0</td>\n",
              "      <td>11.0</td>\n",
              "      <td>1656</td>\n",
              "      <td>1726.0</td>\n",
              "      <td>30.0</td>\n",
              "      <td>164.0</td>\n",
              "      <td>190.0</td>\n",
              "      <td>131.0</td>\n",
              "      <td>1047.0</td>\n",
              "      <td>0.0</td>\n",
              "      <td>4.0</td>\n",
              "      <td>26.0</td>\n",
              "      <td>0.0</td>\n",
              "      <td>0.0</td>\n",
              "      <td>American Airlines Inc.</td>\n",
              "    </tr>\n",
              "  </tbody>\n",
              "</table>\n",
              "</div>"
            ],
            "text/plain": [
              "   YEAR  QUARTER  ...  LATE_AIRCRAFT_DELAY            AIRLINE_NAME\n",
              "0  2017        1  ...                  0.0  American Airlines Inc.\n",
              "1  2017        1  ...                  0.0  American Airlines Inc.\n",
              "2  2017        1  ...                  0.0  American Airlines Inc.\n",
              "3  2017        1  ...                 42.0  American Airlines Inc.\n",
              "4  2017        1  ...                  0.0  American Airlines Inc.\n",
              "\n",
              "[5 rows x 28 columns]"
            ]
          },
          "metadata": {
            "tags": []
          },
          "execution_count": 45
        }
      ]
    },
    {
      "cell_type": "markdown",
      "metadata": {
        "id": "JCKx28sUfaeS"
      },
      "source": [
        "### c. Security delay"
      ]
    },
    {
      "cell_type": "code",
      "metadata": {
        "id": "i_56IJOYfl77",
        "colab": {
          "base_uri": "https://localhost:8080/",
          "height": 309
        },
        "outputId": "575a925a-aa68-438f-8a5e-bf0fdbf10b5c"
      },
      "source": [
        "security_delay =  df[df['SECURITY_DELAY'] > 0]\n",
        "security_delay = security_delay.reset_index()\n",
        "\n",
        "security_delay = security_delay.drop('index', axis=1)\n",
        "security_delay.head()"
      ],
      "execution_count": 46,
      "outputs": [
        {
          "output_type": "execute_result",
          "data": {
            "text/html": [
              "<div>\n",
              "<style scoped>\n",
              "    .dataframe tbody tr th:only-of-type {\n",
              "        vertical-align: middle;\n",
              "    }\n",
              "\n",
              "    .dataframe tbody tr th {\n",
              "        vertical-align: top;\n",
              "    }\n",
              "\n",
              "    .dataframe thead th {\n",
              "        text-align: right;\n",
              "    }\n",
              "</style>\n",
              "<table border=\"1\" class=\"dataframe\">\n",
              "  <thead>\n",
              "    <tr style=\"text-align: right;\">\n",
              "      <th></th>\n",
              "      <th>YEAR</th>\n",
              "      <th>QUARTER</th>\n",
              "      <th>MONTH</th>\n",
              "      <th>DAY_OF_MONTH</th>\n",
              "      <th>DAY_OF_WEEK</th>\n",
              "      <th>OP_UNIQUE_CARRIER</th>\n",
              "      <th>TAIL_NUM</th>\n",
              "      <th>OP_CARRIER_FL_NUM</th>\n",
              "      <th>ORIGIN</th>\n",
              "      <th>DEST</th>\n",
              "      <th>CRS_DEP_TIME</th>\n",
              "      <th>DEP_TIME</th>\n",
              "      <th>DEP_DELAY</th>\n",
              "      <th>TAXI_OUT</th>\n",
              "      <th>TAXI_IN</th>\n",
              "      <th>CRS_ARR_TIME</th>\n",
              "      <th>ARR_TIME</th>\n",
              "      <th>ARR_DELAY</th>\n",
              "      <th>CRS_ELAPSED_TIME</th>\n",
              "      <th>ACTUAL_ELAPSED_TIME</th>\n",
              "      <th>AIR_TIME</th>\n",
              "      <th>DISTANCE</th>\n",
              "      <th>CARRIER_DELAY</th>\n",
              "      <th>WEATHER_DELAY</th>\n",
              "      <th>NAS_DELAY</th>\n",
              "      <th>SECURITY_DELAY</th>\n",
              "      <th>LATE_AIRCRAFT_DELAY</th>\n",
              "      <th>AIRLINE_NAME</th>\n",
              "    </tr>\n",
              "  </thead>\n",
              "  <tbody>\n",
              "    <tr>\n",
              "      <th>0</th>\n",
              "      <td>2017</td>\n",
              "      <td>1</td>\n",
              "      <td>1</td>\n",
              "      <td>14</td>\n",
              "      <td>6</td>\n",
              "      <td>AA</td>\n",
              "      <td>N3NMAA</td>\n",
              "      <td>2206</td>\n",
              "      <td>DCA</td>\n",
              "      <td>MIA</td>\n",
              "      <td>2013</td>\n",
              "      <td>2103.0</td>\n",
              "      <td>50.0</td>\n",
              "      <td>11.0</td>\n",
              "      <td>6.0</td>\n",
              "      <td>2309</td>\n",
              "      <td>2332.0</td>\n",
              "      <td>23.0</td>\n",
              "      <td>176.0</td>\n",
              "      <td>149.0</td>\n",
              "      <td>132.0</td>\n",
              "      <td>919.0</td>\n",
              "      <td>0.0</td>\n",
              "      <td>0.0</td>\n",
              "      <td>0.0</td>\n",
              "      <td>23.0</td>\n",
              "      <td>0.0</td>\n",
              "      <td>American Airlines Inc.</td>\n",
              "    </tr>\n",
              "    <tr>\n",
              "      <th>1</th>\n",
              "      <td>2017</td>\n",
              "      <td>1</td>\n",
              "      <td>1</td>\n",
              "      <td>2</td>\n",
              "      <td>1</td>\n",
              "      <td>AA</td>\n",
              "      <td>N3LFAA</td>\n",
              "      <td>2235</td>\n",
              "      <td>SMF</td>\n",
              "      <td>DFW</td>\n",
              "      <td>55</td>\n",
              "      <td>59.0</td>\n",
              "      <td>4.0</td>\n",
              "      <td>26.0</td>\n",
              "      <td>9.0</td>\n",
              "      <td>615</td>\n",
              "      <td>641.0</td>\n",
              "      <td>26.0</td>\n",
              "      <td>200.0</td>\n",
              "      <td>222.0</td>\n",
              "      <td>187.0</td>\n",
              "      <td>1431.0</td>\n",
              "      <td>0.0</td>\n",
              "      <td>0.0</td>\n",
              "      <td>22.0</td>\n",
              "      <td>4.0</td>\n",
              "      <td>0.0</td>\n",
              "      <td>American Airlines Inc.</td>\n",
              "    </tr>\n",
              "    <tr>\n",
              "      <th>2</th>\n",
              "      <td>2017</td>\n",
              "      <td>1</td>\n",
              "      <td>1</td>\n",
              "      <td>1</td>\n",
              "      <td>7</td>\n",
              "      <td>AS</td>\n",
              "      <td>N508AS</td>\n",
              "      <td>856</td>\n",
              "      <td>KOA</td>\n",
              "      <td>SJC</td>\n",
              "      <td>1455</td>\n",
              "      <td>1508.0</td>\n",
              "      <td>13.0</td>\n",
              "      <td>29.0</td>\n",
              "      <td>11.0</td>\n",
              "      <td>2157</td>\n",
              "      <td>2212.0</td>\n",
              "      <td>15.0</td>\n",
              "      <td>302.0</td>\n",
              "      <td>304.0</td>\n",
              "      <td>264.0</td>\n",
              "      <td>2384.0</td>\n",
              "      <td>0.0</td>\n",
              "      <td>0.0</td>\n",
              "      <td>2.0</td>\n",
              "      <td>13.0</td>\n",
              "      <td>0.0</td>\n",
              "      <td>Alaska Airlines Inc.</td>\n",
              "    </tr>\n",
              "    <tr>\n",
              "      <th>3</th>\n",
              "      <td>2017</td>\n",
              "      <td>1</td>\n",
              "      <td>1</td>\n",
              "      <td>1</td>\n",
              "      <td>7</td>\n",
              "      <td>AS</td>\n",
              "      <td>N597AS</td>\n",
              "      <td>873</td>\n",
              "      <td>KOA</td>\n",
              "      <td>ANC</td>\n",
              "      <td>1030</td>\n",
              "      <td>1040.0</td>\n",
              "      <td>10.0</td>\n",
              "      <td>15.0</td>\n",
              "      <td>4.0</td>\n",
              "      <td>1733</td>\n",
              "      <td>1804.0</td>\n",
              "      <td>31.0</td>\n",
              "      <td>363.0</td>\n",
              "      <td>384.0</td>\n",
              "      <td>365.0</td>\n",
              "      <td>2874.0</td>\n",
              "      <td>0.0</td>\n",
              "      <td>0.0</td>\n",
              "      <td>21.0</td>\n",
              "      <td>10.0</td>\n",
              "      <td>0.0</td>\n",
              "      <td>Alaska Airlines Inc.</td>\n",
              "    </tr>\n",
              "    <tr>\n",
              "      <th>4</th>\n",
              "      <td>2017</td>\n",
              "      <td>1</td>\n",
              "      <td>1</td>\n",
              "      <td>2</td>\n",
              "      <td>1</td>\n",
              "      <td>AS</td>\n",
              "      <td>N791AS</td>\n",
              "      <td>176</td>\n",
              "      <td>JNU</td>\n",
              "      <td>SEA</td>\n",
              "      <td>515</td>\n",
              "      <td>523.0</td>\n",
              "      <td>8.0</td>\n",
              "      <td>17.0</td>\n",
              "      <td>10.0</td>\n",
              "      <td>830</td>\n",
              "      <td>854.0</td>\n",
              "      <td>24.0</td>\n",
              "      <td>135.0</td>\n",
              "      <td>151.0</td>\n",
              "      <td>124.0</td>\n",
              "      <td>909.0</td>\n",
              "      <td>0.0</td>\n",
              "      <td>0.0</td>\n",
              "      <td>16.0</td>\n",
              "      <td>8.0</td>\n",
              "      <td>0.0</td>\n",
              "      <td>Alaska Airlines Inc.</td>\n",
              "    </tr>\n",
              "  </tbody>\n",
              "</table>\n",
              "</div>"
            ],
            "text/plain": [
              "   YEAR  QUARTER  ...  LATE_AIRCRAFT_DELAY            AIRLINE_NAME\n",
              "0  2017        1  ...                  0.0  American Airlines Inc.\n",
              "1  2017        1  ...                  0.0  American Airlines Inc.\n",
              "2  2017        1  ...                  0.0    Alaska Airlines Inc.\n",
              "3  2017        1  ...                  0.0    Alaska Airlines Inc.\n",
              "4  2017        1  ...                  0.0    Alaska Airlines Inc.\n",
              "\n",
              "[5 rows x 28 columns]"
            ]
          },
          "metadata": {
            "tags": []
          },
          "execution_count": 46
        }
      ]
    },
    {
      "cell_type": "markdown",
      "metadata": {
        "id": "oFyerbuafzq6"
      },
      "source": [
        "### d. NAS delay"
      ]
    },
    {
      "cell_type": "code",
      "metadata": {
        "id": "dQOOYotYf3nF",
        "colab": {
          "base_uri": "https://localhost:8080/",
          "height": 309
        },
        "outputId": "5b79a54c-914f-44f7-8d1f-563f35191920"
      },
      "source": [
        "nas_delay =  df[df['NAS_DELAY'] > 0]\n",
        "nas_delay = nas_delay.reset_index()\n",
        "\n",
        "nas_delay = nas_delay.drop('index', axis=1)\n",
        "nas_delay.head()"
      ],
      "execution_count": 47,
      "outputs": [
        {
          "output_type": "execute_result",
          "data": {
            "text/html": [
              "<div>\n",
              "<style scoped>\n",
              "    .dataframe tbody tr th:only-of-type {\n",
              "        vertical-align: middle;\n",
              "    }\n",
              "\n",
              "    .dataframe tbody tr th {\n",
              "        vertical-align: top;\n",
              "    }\n",
              "\n",
              "    .dataframe thead th {\n",
              "        text-align: right;\n",
              "    }\n",
              "</style>\n",
              "<table border=\"1\" class=\"dataframe\">\n",
              "  <thead>\n",
              "    <tr style=\"text-align: right;\">\n",
              "      <th></th>\n",
              "      <th>YEAR</th>\n",
              "      <th>QUARTER</th>\n",
              "      <th>MONTH</th>\n",
              "      <th>DAY_OF_MONTH</th>\n",
              "      <th>DAY_OF_WEEK</th>\n",
              "      <th>OP_UNIQUE_CARRIER</th>\n",
              "      <th>TAIL_NUM</th>\n",
              "      <th>OP_CARRIER_FL_NUM</th>\n",
              "      <th>ORIGIN</th>\n",
              "      <th>DEST</th>\n",
              "      <th>CRS_DEP_TIME</th>\n",
              "      <th>DEP_TIME</th>\n",
              "      <th>DEP_DELAY</th>\n",
              "      <th>TAXI_OUT</th>\n",
              "      <th>TAXI_IN</th>\n",
              "      <th>CRS_ARR_TIME</th>\n",
              "      <th>ARR_TIME</th>\n",
              "      <th>ARR_DELAY</th>\n",
              "      <th>CRS_ELAPSED_TIME</th>\n",
              "      <th>ACTUAL_ELAPSED_TIME</th>\n",
              "      <th>AIR_TIME</th>\n",
              "      <th>DISTANCE</th>\n",
              "      <th>CARRIER_DELAY</th>\n",
              "      <th>WEATHER_DELAY</th>\n",
              "      <th>NAS_DELAY</th>\n",
              "      <th>SECURITY_DELAY</th>\n",
              "      <th>LATE_AIRCRAFT_DELAY</th>\n",
              "      <th>AIRLINE_NAME</th>\n",
              "    </tr>\n",
              "  </thead>\n",
              "  <tbody>\n",
              "    <tr>\n",
              "      <th>0</th>\n",
              "      <td>2017</td>\n",
              "      <td>1</td>\n",
              "      <td>1</td>\n",
              "      <td>19</td>\n",
              "      <td>4</td>\n",
              "      <td>AA</td>\n",
              "      <td>N3LSAA</td>\n",
              "      <td>2186</td>\n",
              "      <td>DFW</td>\n",
              "      <td>PSP</td>\n",
              "      <td>910</td>\n",
              "      <td>905.0</td>\n",
              "      <td>-5.0</td>\n",
              "      <td>41.0</td>\n",
              "      <td>8.0</td>\n",
              "      <td>1018</td>\n",
              "      <td>1047.0</td>\n",
              "      <td>29.0</td>\n",
              "      <td>188.0</td>\n",
              "      <td>222.0</td>\n",
              "      <td>173.0</td>\n",
              "      <td>1126.0</td>\n",
              "      <td>0.0</td>\n",
              "      <td>0.0</td>\n",
              "      <td>29.0</td>\n",
              "      <td>0.0</td>\n",
              "      <td>0.0</td>\n",
              "      <td>American Airlines Inc.</td>\n",
              "    </tr>\n",
              "    <tr>\n",
              "      <th>1</th>\n",
              "      <td>2017</td>\n",
              "      <td>1</td>\n",
              "      <td>1</td>\n",
              "      <td>21</td>\n",
              "      <td>6</td>\n",
              "      <td>AA</td>\n",
              "      <td>N3KPAA</td>\n",
              "      <td>2186</td>\n",
              "      <td>DFW</td>\n",
              "      <td>PSP</td>\n",
              "      <td>910</td>\n",
              "      <td>907.0</td>\n",
              "      <td>-3.0</td>\n",
              "      <td>26.0</td>\n",
              "      <td>5.0</td>\n",
              "      <td>1018</td>\n",
              "      <td>1033.0</td>\n",
              "      <td>15.0</td>\n",
              "      <td>188.0</td>\n",
              "      <td>206.0</td>\n",
              "      <td>175.0</td>\n",
              "      <td>1126.0</td>\n",
              "      <td>0.0</td>\n",
              "      <td>0.0</td>\n",
              "      <td>15.0</td>\n",
              "      <td>0.0</td>\n",
              "      <td>0.0</td>\n",
              "      <td>American Airlines Inc.</td>\n",
              "    </tr>\n",
              "    <tr>\n",
              "      <th>2</th>\n",
              "      <td>2017</td>\n",
              "      <td>1</td>\n",
              "      <td>1</td>\n",
              "      <td>22</td>\n",
              "      <td>7</td>\n",
              "      <td>AA</td>\n",
              "      <td>N3CDAA</td>\n",
              "      <td>2186</td>\n",
              "      <td>DFW</td>\n",
              "      <td>PSP</td>\n",
              "      <td>910</td>\n",
              "      <td>902.0</td>\n",
              "      <td>-8.0</td>\n",
              "      <td>32.0</td>\n",
              "      <td>6.0</td>\n",
              "      <td>1018</td>\n",
              "      <td>1038.0</td>\n",
              "      <td>20.0</td>\n",
              "      <td>188.0</td>\n",
              "      <td>216.0</td>\n",
              "      <td>178.0</td>\n",
              "      <td>1126.0</td>\n",
              "      <td>0.0</td>\n",
              "      <td>0.0</td>\n",
              "      <td>20.0</td>\n",
              "      <td>0.0</td>\n",
              "      <td>0.0</td>\n",
              "      <td>American Airlines Inc.</td>\n",
              "    </tr>\n",
              "    <tr>\n",
              "      <th>3</th>\n",
              "      <td>2017</td>\n",
              "      <td>1</td>\n",
              "      <td>1</td>\n",
              "      <td>23</td>\n",
              "      <td>1</td>\n",
              "      <td>AA</td>\n",
              "      <td>N3LEAA</td>\n",
              "      <td>2186</td>\n",
              "      <td>DFW</td>\n",
              "      <td>PSP</td>\n",
              "      <td>910</td>\n",
              "      <td>911.0</td>\n",
              "      <td>1.0</td>\n",
              "      <td>17.0</td>\n",
              "      <td>9.0</td>\n",
              "      <td>1018</td>\n",
              "      <td>1034.0</td>\n",
              "      <td>16.0</td>\n",
              "      <td>188.0</td>\n",
              "      <td>203.0</td>\n",
              "      <td>177.0</td>\n",
              "      <td>1126.0</td>\n",
              "      <td>1.0</td>\n",
              "      <td>0.0</td>\n",
              "      <td>15.0</td>\n",
              "      <td>0.0</td>\n",
              "      <td>0.0</td>\n",
              "      <td>American Airlines Inc.</td>\n",
              "    </tr>\n",
              "    <tr>\n",
              "      <th>4</th>\n",
              "      <td>2017</td>\n",
              "      <td>1</td>\n",
              "      <td>1</td>\n",
              "      <td>24</td>\n",
              "      <td>2</td>\n",
              "      <td>AA</td>\n",
              "      <td>N3HXAA</td>\n",
              "      <td>2186</td>\n",
              "      <td>DFW</td>\n",
              "      <td>PSP</td>\n",
              "      <td>910</td>\n",
              "      <td>905.0</td>\n",
              "      <td>-5.0</td>\n",
              "      <td>29.0</td>\n",
              "      <td>9.0</td>\n",
              "      <td>1018</td>\n",
              "      <td>1042.0</td>\n",
              "      <td>24.0</td>\n",
              "      <td>188.0</td>\n",
              "      <td>217.0</td>\n",
              "      <td>179.0</td>\n",
              "      <td>1126.0</td>\n",
              "      <td>0.0</td>\n",
              "      <td>0.0</td>\n",
              "      <td>24.0</td>\n",
              "      <td>0.0</td>\n",
              "      <td>0.0</td>\n",
              "      <td>American Airlines Inc.</td>\n",
              "    </tr>\n",
              "  </tbody>\n",
              "</table>\n",
              "</div>"
            ],
            "text/plain": [
              "   YEAR  QUARTER  ...  LATE_AIRCRAFT_DELAY            AIRLINE_NAME\n",
              "0  2017        1  ...                  0.0  American Airlines Inc.\n",
              "1  2017        1  ...                  0.0  American Airlines Inc.\n",
              "2  2017        1  ...                  0.0  American Airlines Inc.\n",
              "3  2017        1  ...                  0.0  American Airlines Inc.\n",
              "4  2017        1  ...                  0.0  American Airlines Inc.\n",
              "\n",
              "[5 rows x 28 columns]"
            ]
          },
          "metadata": {
            "tags": []
          },
          "execution_count": 47
        }
      ]
    },
    {
      "cell_type": "markdown",
      "metadata": {
        "id": "NS7TNiBEgHPT"
      },
      "source": [
        "### e. Late aircraft delay"
      ]
    },
    {
      "cell_type": "code",
      "metadata": {
        "id": "eTKOKqOUgMAl",
        "colab": {
          "base_uri": "https://localhost:8080/",
          "height": 309
        },
        "outputId": "dcd2ec81-a389-468c-b3e3-096457a7392f"
      },
      "source": [
        "aircraft_delay =  df[df['LATE_AIRCRAFT_DELAY'] > 0]\n",
        "aircraft_delay = aircraft_delay.reset_index()\n",
        "\n",
        "aircraft_delay = aircraft_delay.drop('index', axis=1)\n",
        "aircraft_delay.head()"
      ],
      "execution_count": 48,
      "outputs": [
        {
          "output_type": "execute_result",
          "data": {
            "text/html": [
              "<div>\n",
              "<style scoped>\n",
              "    .dataframe tbody tr th:only-of-type {\n",
              "        vertical-align: middle;\n",
              "    }\n",
              "\n",
              "    .dataframe tbody tr th {\n",
              "        vertical-align: top;\n",
              "    }\n",
              "\n",
              "    .dataframe thead th {\n",
              "        text-align: right;\n",
              "    }\n",
              "</style>\n",
              "<table border=\"1\" class=\"dataframe\">\n",
              "  <thead>\n",
              "    <tr style=\"text-align: right;\">\n",
              "      <th></th>\n",
              "      <th>YEAR</th>\n",
              "      <th>QUARTER</th>\n",
              "      <th>MONTH</th>\n",
              "      <th>DAY_OF_MONTH</th>\n",
              "      <th>DAY_OF_WEEK</th>\n",
              "      <th>OP_UNIQUE_CARRIER</th>\n",
              "      <th>TAIL_NUM</th>\n",
              "      <th>OP_CARRIER_FL_NUM</th>\n",
              "      <th>ORIGIN</th>\n",
              "      <th>DEST</th>\n",
              "      <th>CRS_DEP_TIME</th>\n",
              "      <th>DEP_TIME</th>\n",
              "      <th>DEP_DELAY</th>\n",
              "      <th>TAXI_OUT</th>\n",
              "      <th>TAXI_IN</th>\n",
              "      <th>CRS_ARR_TIME</th>\n",
              "      <th>ARR_TIME</th>\n",
              "      <th>ARR_DELAY</th>\n",
              "      <th>CRS_ELAPSED_TIME</th>\n",
              "      <th>ACTUAL_ELAPSED_TIME</th>\n",
              "      <th>AIR_TIME</th>\n",
              "      <th>DISTANCE</th>\n",
              "      <th>CARRIER_DELAY</th>\n",
              "      <th>WEATHER_DELAY</th>\n",
              "      <th>NAS_DELAY</th>\n",
              "      <th>SECURITY_DELAY</th>\n",
              "      <th>LATE_AIRCRAFT_DELAY</th>\n",
              "      <th>AIRLINE_NAME</th>\n",
              "    </tr>\n",
              "  </thead>\n",
              "  <tbody>\n",
              "    <tr>\n",
              "      <th>0</th>\n",
              "      <td>2017</td>\n",
              "      <td>1</td>\n",
              "      <td>1</td>\n",
              "      <td>14</td>\n",
              "      <td>6</td>\n",
              "      <td>AA</td>\n",
              "      <td>N439AA</td>\n",
              "      <td>2190</td>\n",
              "      <td>STL</td>\n",
              "      <td>DFW</td>\n",
              "      <td>1726</td>\n",
              "      <td>1751.0</td>\n",
              "      <td>25.0</td>\n",
              "      <td>12.0</td>\n",
              "      <td>10.0</td>\n",
              "      <td>1924</td>\n",
              "      <td>1942.0</td>\n",
              "      <td>18.0</td>\n",
              "      <td>118.0</td>\n",
              "      <td>111.0</td>\n",
              "      <td>89.0</td>\n",
              "      <td>550.0</td>\n",
              "      <td>0.0</td>\n",
              "      <td>0.0</td>\n",
              "      <td>0.0</td>\n",
              "      <td>0.0</td>\n",
              "      <td>18.0</td>\n",
              "      <td>American Airlines Inc.</td>\n",
              "    </tr>\n",
              "    <tr>\n",
              "      <th>1</th>\n",
              "      <td>2017</td>\n",
              "      <td>1</td>\n",
              "      <td>1</td>\n",
              "      <td>20</td>\n",
              "      <td>5</td>\n",
              "      <td>AA</td>\n",
              "      <td>N550AA</td>\n",
              "      <td>2190</td>\n",
              "      <td>STL</td>\n",
              "      <td>DFW</td>\n",
              "      <td>1726</td>\n",
              "      <td>1840.0</td>\n",
              "      <td>74.0</td>\n",
              "      <td>11.0</td>\n",
              "      <td>12.0</td>\n",
              "      <td>1924</td>\n",
              "      <td>2035.0</td>\n",
              "      <td>71.0</td>\n",
              "      <td>118.0</td>\n",
              "      <td>115.0</td>\n",
              "      <td>92.0</td>\n",
              "      <td>550.0</td>\n",
              "      <td>4.0</td>\n",
              "      <td>0.0</td>\n",
              "      <td>0.0</td>\n",
              "      <td>0.0</td>\n",
              "      <td>67.0</td>\n",
              "      <td>American Airlines Inc.</td>\n",
              "    </tr>\n",
              "    <tr>\n",
              "      <th>2</th>\n",
              "      <td>2017</td>\n",
              "      <td>1</td>\n",
              "      <td>1</td>\n",
              "      <td>31</td>\n",
              "      <td>2</td>\n",
              "      <td>AA</td>\n",
              "      <td>N439AA</td>\n",
              "      <td>2190</td>\n",
              "      <td>STL</td>\n",
              "      <td>DFW</td>\n",
              "      <td>1726</td>\n",
              "      <td>1808.0</td>\n",
              "      <td>42.0</td>\n",
              "      <td>14.0</td>\n",
              "      <td>6.0</td>\n",
              "      <td>1924</td>\n",
              "      <td>1951.0</td>\n",
              "      <td>27.0</td>\n",
              "      <td>118.0</td>\n",
              "      <td>103.0</td>\n",
              "      <td>83.0</td>\n",
              "      <td>550.0</td>\n",
              "      <td>21.0</td>\n",
              "      <td>0.0</td>\n",
              "      <td>0.0</td>\n",
              "      <td>0.0</td>\n",
              "      <td>6.0</td>\n",
              "      <td>American Airlines Inc.</td>\n",
              "    </tr>\n",
              "    <tr>\n",
              "      <th>3</th>\n",
              "      <td>2017</td>\n",
              "      <td>1</td>\n",
              "      <td>1</td>\n",
              "      <td>2</td>\n",
              "      <td>1</td>\n",
              "      <td>AA</td>\n",
              "      <td>N3KJAA</td>\n",
              "      <td>2191</td>\n",
              "      <td>FLL</td>\n",
              "      <td>DFW</td>\n",
              "      <td>1320</td>\n",
              "      <td>1407.0</td>\n",
              "      <td>47.0</td>\n",
              "      <td>17.0</td>\n",
              "      <td>9.0</td>\n",
              "      <td>1538</td>\n",
              "      <td>1618.0</td>\n",
              "      <td>40.0</td>\n",
              "      <td>198.0</td>\n",
              "      <td>191.0</td>\n",
              "      <td>165.0</td>\n",
              "      <td>1119.0</td>\n",
              "      <td>4.0</td>\n",
              "      <td>0.0</td>\n",
              "      <td>0.0</td>\n",
              "      <td>0.0</td>\n",
              "      <td>36.0</td>\n",
              "      <td>American Airlines Inc.</td>\n",
              "    </tr>\n",
              "    <tr>\n",
              "      <th>4</th>\n",
              "      <td>2017</td>\n",
              "      <td>1</td>\n",
              "      <td>1</td>\n",
              "      <td>10</td>\n",
              "      <td>2</td>\n",
              "      <td>AA</td>\n",
              "      <td>N3MDAA</td>\n",
              "      <td>2192</td>\n",
              "      <td>DCA</td>\n",
              "      <td>ORD</td>\n",
              "      <td>1930</td>\n",
              "      <td>2038.0</td>\n",
              "      <td>68.0</td>\n",
              "      <td>13.0</td>\n",
              "      <td>10.0</td>\n",
              "      <td>2046</td>\n",
              "      <td>2146.0</td>\n",
              "      <td>60.0</td>\n",
              "      <td>136.0</td>\n",
              "      <td>128.0</td>\n",
              "      <td>105.0</td>\n",
              "      <td>612.0</td>\n",
              "      <td>0.0</td>\n",
              "      <td>0.0</td>\n",
              "      <td>0.0</td>\n",
              "      <td>0.0</td>\n",
              "      <td>60.0</td>\n",
              "      <td>American Airlines Inc.</td>\n",
              "    </tr>\n",
              "  </tbody>\n",
              "</table>\n",
              "</div>"
            ],
            "text/plain": [
              "   YEAR  QUARTER  ...  LATE_AIRCRAFT_DELAY            AIRLINE_NAME\n",
              "0  2017        1  ...                 18.0  American Airlines Inc.\n",
              "1  2017        1  ...                 67.0  American Airlines Inc.\n",
              "2  2017        1  ...                  6.0  American Airlines Inc.\n",
              "3  2017        1  ...                 36.0  American Airlines Inc.\n",
              "4  2017        1  ...                 60.0  American Airlines Inc.\n",
              "\n",
              "[5 rows x 28 columns]"
            ]
          },
          "metadata": {
            "tags": []
          },
          "execution_count": 48
        }
      ]
    },
    {
      "cell_type": "markdown",
      "metadata": {
        "id": "6wgpr3WHm6I1"
      },
      "source": [
        "### Bar chart for causes of delay"
      ]
    },
    {
      "cell_type": "code",
      "metadata": {
        "id": "FhqEZPEAiehE",
        "colab": {
          "base_uri": "https://localhost:8080/",
          "height": 585
        },
        "outputId": "7aebb71a-d42c-4e98-de8a-76b53f17f450"
      },
      "source": [
        "cause_names  = ['aircraft_delay', 'security_delay', 'carrier_delay', 'nas_delay','weather_delay']\n",
        "count_values = [len(aircraft_delay), len(security_delay), len(carrier_delay), len(nas_delay), len(weather_delay)]\n",
        "\n",
        "causes_of_delay = pd.DataFrame({'CAUSES': cause_names, 'COUNTS': count_values})\n",
        "\n",
        "x = range(len(cause_names))\n",
        "\n",
        "plt.figure(figsize=(6,8))\n",
        "sns.barplot(x='CAUSES', y='COUNTS', data = causes_of_delay)\n",
        "\n",
        "for i in x:\n",
        "    plt.annotate(str(count_values[i]), xy=(x[i], count_values[i]), ha='center', va='bottom', size=14)\n",
        "\n",
        "plt.ylabel('NUMBER OF DELAYED ARRIVAL FLIGHTS (ARRIVAL DELAY > 0 minutes)')\n",
        "plt.xlabel('CAUSE OF DELAY')\n",
        "plt.xticks(rotation=70, size=12)\n",
        "plt.tight_layout()\n",
        "plt.show()"
      ],
      "execution_count": 49,
      "outputs": [
        {
          "output_type": "display_data",
          "data": {
            "image/png": "[encoded data removed]",
            "text/plain": [
              "<Figure size 432x576 with 1 Axes>"
            ]
          },
          "metadata": {
            "tags": [],
            "needs_background": "light"
          }
        }
      ]
    },
    {
      "cell_type": "markdown",
      "metadata": {
        "id": "USIIKIQhGePF"
      },
      "source": [
        "Histograms of delayed arrival flights with respect to the causes of delay (January and February 2017). Most of delayed arrival flights are caused by NAS, aircraft and carrier (airline). Security caused a small number of delayed flights."
      ]
    },
    {
      "cell_type": "markdown",
      "metadata": {
        "id": "yC83lDPTn7M4"
      },
      "source": [
        "## 5.5 Arrival delay with respect to day of week"
      ]
    },
    {
      "cell_type": "code",
      "metadata": {
        "id": "T2HoyNE4oS1h",
        "colab": {
          "base_uri": "https://localhost:8080/",
          "height": 266
        },
        "outputId": "b31fc70b-b6fe-434f-bc14-d622fc0006ab"
      },
      "source": [
        "arrival_delay_dow = df[ df['ARR_DELAY'] > 0 ]\n",
        "arrival_delay_dow = arrival_delay_dow.groupby(['DAY_OF_WEEK'])['ARR_DELAY'].count().reset_index(name='COUNTS')\n",
        "arrival_delay_dow"
      ],
      "execution_count": 50,
      "outputs": [
        {
          "output_type": "execute_result",
          "data": {
            "text/html": [
              "<div>\n",
              "<style scoped>\n",
              "    .dataframe tbody tr th:only-of-type {\n",
              "        vertical-align: middle;\n",
              "    }\n",
              "\n",
              "    .dataframe tbody tr th {\n",
              "        vertical-align: top;\n",
              "    }\n",
              "\n",
              "    .dataframe thead th {\n",
              "        text-align: right;\n",
              "    }\n",
              "</style>\n",
              "<table border=\"1\" class=\"dataframe\">\n",
              "  <thead>\n",
              "    <tr style=\"text-align: right;\">\n",
              "      <th></th>\n",
              "      <th>DAY_OF_WEEK</th>\n",
              "      <th>COUNTS</th>\n",
              "    </tr>\n",
              "  </thead>\n",
              "  <tbody>\n",
              "    <tr>\n",
              "      <th>0</th>\n",
              "      <td>1</td>\n",
              "      <td>53557</td>\n",
              "    </tr>\n",
              "    <tr>\n",
              "      <th>1</th>\n",
              "      <td>2</td>\n",
              "      <td>42742</td>\n",
              "    </tr>\n",
              "    <tr>\n",
              "      <th>2</th>\n",
              "      <td>3</td>\n",
              "      <td>39202</td>\n",
              "    </tr>\n",
              "    <tr>\n",
              "      <th>3</th>\n",
              "      <td>4</td>\n",
              "      <td>44186</td>\n",
              "    </tr>\n",
              "    <tr>\n",
              "      <th>4</th>\n",
              "      <td>5</td>\n",
              "      <td>45584</td>\n",
              "    </tr>\n",
              "    <tr>\n",
              "      <th>5</th>\n",
              "      <td>6</td>\n",
              "      <td>30462</td>\n",
              "    </tr>\n",
              "    <tr>\n",
              "      <th>6</th>\n",
              "      <td>7</td>\n",
              "      <td>43269</td>\n",
              "    </tr>\n",
              "  </tbody>\n",
              "</table>\n",
              "</div>"
            ],
            "text/plain": [
              "   DAY_OF_WEEK  COUNTS\n",
              "0            1   53557\n",
              "1            2   42742\n",
              "2            3   39202\n",
              "3            4   44186\n",
              "4            5   45584\n",
              "5            6   30462\n",
              "6            7   43269"
            ]
          },
          "metadata": {
            "tags": []
          },
          "execution_count": 50
        }
      ]
    },
    {
      "cell_type": "code",
      "metadata": {
        "id": "_pUBeqe6sODn",
        "colab": {
          "base_uri": "https://localhost:8080/",
          "height": 441
        },
        "outputId": "b78147a2-7a3e-408a-e3eb-49e5db05f236"
      },
      "source": [
        "arrival_delay_dow['DAY_OF_WEEK'] = [ 'Monday', 'Tuesday', 'Wednesday', 'Thursday', 'Friday', 'Saturday', 'Sunday' ]\n",
        "\n",
        "plt.figure(figsize=(8,6))\n",
        "sns.barplot(x='DAY_OF_WEEK', y='COUNTS', data=arrival_delay_dow)\n",
        "plt.ylabel('NUMBER OF DELAYED ARRIVAL FLIGHTS')\n",
        "plt.xlabel('DAY OF WEEK', size = 14)\n",
        "plt.xticks(rotation=70, size = 12)\n",
        "plt.tight_layout()\n",
        "plt.show()"
      ],
      "execution_count": 51,
      "outputs": [
        {
          "output_type": "display_data",
          "data": {
            "image/png": "[encoded data removed]",
            "text/plain": [
              "<Figure size 576x432 with 1 Axes>"
            ]
          },
          "metadata": {
            "tags": [],
            "needs_background": "light"
          }
        }
      ]
    },
    {
      "cell_type": "markdown",
      "metadata": {
        "id": "eGPU1uthG5O0"
      },
      "source": [
        "Histograms of delayed arrival flights with respect to the day of week (January and February 2017). Most of flights arrived late on Mondays, Thursdays, Fridays and Sundays. Saturdays see fewer delayed flights."
      ]
    },
    {
      "cell_type": "markdown",
      "metadata": {
        "id": "BrcknIQOm72u"
      },
      "source": [
        "## 5.6 Arrival delay with respect to day of month"
      ]
    },
    {
      "cell_type": "code",
      "metadata": {
        "id": "vKvGXtwwnMVA",
        "colab": {
          "base_uri": "https://localhost:8080/",
          "height": 1000
        },
        "outputId": "7232ca5e-a1a3-4ffe-fa62-8c2cb2548ccb"
      },
      "source": [
        "arrival_delay_dom = df[ df['ARR_DELAY'] > 0 ]\n",
        "arrival_delay_dom = arrival_delay_dom.groupby(['DAY_OF_MONTH'])['ARR_DELAY'].count().reset_index(name='COUNTS')\n",
        "arrival_delay_dom"
      ],
      "execution_count": 52,
      "outputs": [
        {
          "output_type": "execute_result",
          "data": {
            "text/html": [
              "<div>\n",
              "<style scoped>\n",
              "    .dataframe tbody tr th:only-of-type {\n",
              "        vertical-align: middle;\n",
              "    }\n",
              "\n",
              "    .dataframe tbody tr th {\n",
              "        vertical-align: top;\n",
              "    }\n",
              "\n",
              "    .dataframe thead th {\n",
              "        text-align: right;\n",
              "    }\n",
              "</style>\n",
              "<table border=\"1\" class=\"dataframe\">\n",
              "  <thead>\n",
              "    <tr style=\"text-align: right;\">\n",
              "      <th></th>\n",
              "      <th>DAY_OF_MONTH</th>\n",
              "      <th>COUNTS</th>\n",
              "    </tr>\n",
              "  </thead>\n",
              "  <tbody>\n",
              "    <tr>\n",
              "      <th>0</th>\n",
              "      <td>1</td>\n",
              "      <td>9543</td>\n",
              "    </tr>\n",
              "    <tr>\n",
              "      <th>1</th>\n",
              "      <td>2</td>\n",
              "      <td>14385</td>\n",
              "    </tr>\n",
              "    <tr>\n",
              "      <th>2</th>\n",
              "      <td>3</td>\n",
              "      <td>12516</td>\n",
              "    </tr>\n",
              "    <tr>\n",
              "      <th>3</th>\n",
              "      <td>4</td>\n",
              "      <td>9077</td>\n",
              "    </tr>\n",
              "    <tr>\n",
              "      <th>4</th>\n",
              "      <td>5</td>\n",
              "      <td>10383</td>\n",
              "    </tr>\n",
              "    <tr>\n",
              "      <th>5</th>\n",
              "      <td>6</td>\n",
              "      <td>13196</td>\n",
              "    </tr>\n",
              "    <tr>\n",
              "      <th>6</th>\n",
              "      <td>7</td>\n",
              "      <td>12124</td>\n",
              "    </tr>\n",
              "    <tr>\n",
              "      <th>7</th>\n",
              "      <td>8</td>\n",
              "      <td>13342</td>\n",
              "    </tr>\n",
              "    <tr>\n",
              "      <th>8</th>\n",
              "      <td>9</td>\n",
              "      <td>13021</td>\n",
              "    </tr>\n",
              "    <tr>\n",
              "      <th>9</th>\n",
              "      <td>10</td>\n",
              "      <td>12160</td>\n",
              "    </tr>\n",
              "    <tr>\n",
              "      <th>10</th>\n",
              "      <td>11</td>\n",
              "      <td>8181</td>\n",
              "    </tr>\n",
              "    <tr>\n",
              "      <th>11</th>\n",
              "      <td>12</td>\n",
              "      <td>10815</td>\n",
              "    </tr>\n",
              "    <tr>\n",
              "      <th>12</th>\n",
              "      <td>13</td>\n",
              "      <td>9526</td>\n",
              "    </tr>\n",
              "    <tr>\n",
              "      <th>13</th>\n",
              "      <td>14</td>\n",
              "      <td>5999</td>\n",
              "    </tr>\n",
              "    <tr>\n",
              "      <th>14</th>\n",
              "      <td>15</td>\n",
              "      <td>8279</td>\n",
              "    </tr>\n",
              "    <tr>\n",
              "      <th>15</th>\n",
              "      <td>16</td>\n",
              "      <td>10765</td>\n",
              "    </tr>\n",
              "    <tr>\n",
              "      <th>16</th>\n",
              "      <td>17</td>\n",
              "      <td>9587</td>\n",
              "    </tr>\n",
              "    <tr>\n",
              "      <th>17</th>\n",
              "      <td>18</td>\n",
              "      <td>9031</td>\n",
              "    </tr>\n",
              "    <tr>\n",
              "      <th>18</th>\n",
              "      <td>19</td>\n",
              "      <td>8490</td>\n",
              "    </tr>\n",
              "    <tr>\n",
              "      <th>19</th>\n",
              "      <td>20</td>\n",
              "      <td>10854</td>\n",
              "    </tr>\n",
              "    <tr>\n",
              "      <th>20</th>\n",
              "      <td>21</td>\n",
              "      <td>8227</td>\n",
              "    </tr>\n",
              "    <tr>\n",
              "      <th>21</th>\n",
              "      <td>22</td>\n",
              "      <td>11517</td>\n",
              "    </tr>\n",
              "    <tr>\n",
              "      <th>22</th>\n",
              "      <td>23</td>\n",
              "      <td>12220</td>\n",
              "    </tr>\n",
              "    <tr>\n",
              "      <th>23</th>\n",
              "      <td>24</td>\n",
              "      <td>9958</td>\n",
              "    </tr>\n",
              "    <tr>\n",
              "      <th>24</th>\n",
              "      <td>25</td>\n",
              "      <td>8077</td>\n",
              "    </tr>\n",
              "    <tr>\n",
              "      <th>25</th>\n",
              "      <td>26</td>\n",
              "      <td>8668</td>\n",
              "    </tr>\n",
              "    <tr>\n",
              "      <th>26</th>\n",
              "      <td>27</td>\n",
              "      <td>9950</td>\n",
              "    </tr>\n",
              "    <tr>\n",
              "      <th>27</th>\n",
              "      <td>28</td>\n",
              "      <td>7437</td>\n",
              "    </tr>\n",
              "    <tr>\n",
              "      <th>28</th>\n",
              "      <td>29</td>\n",
              "      <td>4488</td>\n",
              "    </tr>\n",
              "    <tr>\n",
              "      <th>29</th>\n",
              "      <td>30</td>\n",
              "      <td>3760</td>\n",
              "    </tr>\n",
              "    <tr>\n",
              "      <th>30</th>\n",
              "      <td>31</td>\n",
              "      <td>3426</td>\n",
              "    </tr>\n",
              "  </tbody>\n",
              "</table>\n",
              "</div>"
            ],
            "text/plain": [
              "    DAY_OF_MONTH  COUNTS\n",
              "0              1    9543\n",
              "1              2   14385\n",
              "2              3   12516\n",
              "3              4    9077\n",
              "4              5   10383\n",
              "5              6   13196\n",
              "6              7   12124\n",
              "7              8   13342\n",
              "8              9   13021\n",
              "9             10   12160\n",
              "10            11    8181\n",
              "11            12   10815\n",
              "12            13    9526\n",
              "13            14    5999\n",
              "14            15    8279\n",
              "15            16   10765\n",
              "16            17    9587\n",
              "17            18    9031\n",
              "18            19    8490\n",
              "19            20   10854\n",
              "20            21    8227\n",
              "21            22   11517\n",
              "22            23   12220\n",
              "23            24    9958\n",
              "24            25    8077\n",
              "25            26    8668\n",
              "26            27    9950\n",
              "27            28    7437\n",
              "28            29    4488\n",
              "29            30    3760\n",
              "30            31    3426"
            ]
          },
          "metadata": {
            "tags": []
          },
          "execution_count": 52
        }
      ]
    },
    {
      "cell_type": "code",
      "metadata": {
        "id": "7fXtMmHKnlmc",
        "colab": {
          "base_uri": "https://localhost:8080/",
          "height": 441
        },
        "outputId": "5dcb181f-1f63-40bd-f4e0-cba72af53f37"
      },
      "source": [
        "plt.figure(figsize=(14,6))\n",
        "sns.barplot(x='DAY_OF_MONTH', y='COUNTS', data=arrival_delay_dom)\n",
        "plt.ylabel('NUMBER OF DELAYED ARRIVAL FLIGHTS')\n",
        "plt.xlabel('DAY OF MONTH')\n",
        "plt.xticks(rotation=70)\n",
        "plt.tight_layout()\n",
        "plt.show()"
      ],
      "execution_count": 53,
      "outputs": [
        {
          "output_type": "display_data",
          "data": {
            "image/png": "[encoded data removed]",
            "text/plain": [
              "<Figure size 1008x432 with 1 Axes>"
            ]
          },
          "metadata": {
            "tags": [],
            "needs_background": "light"
          }
        }
      ]
    },
    {
      "cell_type": "markdown",
      "metadata": {
        "id": "C1KjwOZrHBok"
      },
      "source": [
        "Histograms of delayed arrival flights with respect to day of month (January and February 2017). There were fewer delayed flights in the middle and in the end of the months."
      ]
    },
    {
      "cell_type": "markdown",
      "metadata": {
        "id": "o0dE2-QjdFwD"
      },
      "source": [
        "## 5.7 Average delay of 20 busiest airports"
      ]
    },
    {
      "cell_type": "code",
      "metadata": {
        "id": "xyoTog1jCFzb",
        "colab": {
          "base_uri": "https://localhost:8080/",
          "height": 221
        },
        "outputId": "cdb631e0-29e9-493d-b683-e16c8c532b21"
      },
      "source": [
        "# Top 20 busiest destinations\n",
        "top20_dest = list(df['DEST'].value_counts().head(20).index)\n",
        "print(top20_dest)\n",
        "\n",
        "top20_dest_df = df[df['DEST'].isin(top20_dest)][['OP_UNIQUE_CARRIER','ORIGIN','DEST','ARR_DELAY', 'AIRLINE_NAME']]\n",
        "top20_dest_df.head()"
      ],
      "execution_count": 54,
      "outputs": [
        {
          "output_type": "stream",
          "text": [
            "['ATL', 'ORD', 'LAX', 'DEN', 'DFW', 'PHX', 'SFO', 'LAS', 'MCO', 'IAH', 'SEA', 'DTW', 'MSP', 'BOS', 'SLC', 'CLT', 'EWR', 'FLL', 'JFK', 'BWI']\n"
          ],
          "name": "stdout"
        },
        {
          "output_type": "execute_result",
          "data": {
            "text/html": [
              "<div>\n",
              "<style scoped>\n",
              "    .dataframe tbody tr th:only-of-type {\n",
              "        vertical-align: middle;\n",
              "    }\n",
              "\n",
              "    .dataframe tbody tr th {\n",
              "        vertical-align: top;\n",
              "    }\n",
              "\n",
              "    .dataframe thead th {\n",
              "        text-align: right;\n",
              "    }\n",
              "</style>\n",
              "<table border=\"1\" class=\"dataframe\">\n",
              "  <thead>\n",
              "    <tr style=\"text-align: right;\">\n",
              "      <th></th>\n",
              "      <th>OP_UNIQUE_CARRIER</th>\n",
              "      <th>ORIGIN</th>\n",
              "      <th>DEST</th>\n",
              "      <th>ARR_DELAY</th>\n",
              "      <th>AIRLINE_NAME</th>\n",
              "    </tr>\n",
              "  </thead>\n",
              "  <tbody>\n",
              "    <tr>\n",
              "      <th>16</th>\n",
              "      <td>AA</td>\n",
              "      <td>PHL</td>\n",
              "      <td>DFW</td>\n",
              "      <td>-19.0</td>\n",
              "      <td>American Airlines Inc.</td>\n",
              "    </tr>\n",
              "    <tr>\n",
              "      <th>17</th>\n",
              "      <td>AA</td>\n",
              "      <td>PHL</td>\n",
              "      <td>DFW</td>\n",
              "      <td>25.0</td>\n",
              "      <td>American Airlines Inc.</td>\n",
              "    </tr>\n",
              "    <tr>\n",
              "      <th>18</th>\n",
              "      <td>AA</td>\n",
              "      <td>PHL</td>\n",
              "      <td>DFW</td>\n",
              "      <td>-4.0</td>\n",
              "      <td>American Airlines Inc.</td>\n",
              "    </tr>\n",
              "    <tr>\n",
              "      <th>19</th>\n",
              "      <td>AA</td>\n",
              "      <td>PHL</td>\n",
              "      <td>DFW</td>\n",
              "      <td>-3.0</td>\n",
              "      <td>American Airlines Inc.</td>\n",
              "    </tr>\n",
              "    <tr>\n",
              "      <th>20</th>\n",
              "      <td>AA</td>\n",
              "      <td>PHL</td>\n",
              "      <td>DFW</td>\n",
              "      <td>0.0</td>\n",
              "      <td>American Airlines Inc.</td>\n",
              "    </tr>\n",
              "  </tbody>\n",
              "</table>\n",
              "</div>"
            ],
            "text/plain": [
              "   OP_UNIQUE_CARRIER ORIGIN DEST  ARR_DELAY            AIRLINE_NAME\n",
              "16                AA    PHL  DFW      -19.0  American Airlines Inc.\n",
              "17                AA    PHL  DFW       25.0  American Airlines Inc.\n",
              "18                AA    PHL  DFW       -4.0  American Airlines Inc.\n",
              "19                AA    PHL  DFW       -3.0  American Airlines Inc.\n",
              "20                AA    PHL  DFW        0.0  American Airlines Inc."
            ]
          },
          "metadata": {
            "tags": []
          },
          "execution_count": 54
        }
      ]
    },
    {
      "cell_type": "code",
      "metadata": {
        "id": "vBXHNBTRCrvs",
        "colab": {
          "base_uri": "https://localhost:8080/",
          "height": 669
        },
        "outputId": "c9868150-07d8-4265-ecb4-934861377600"
      },
      "source": [
        "delays = (pd.DataFrame(top20_dest_df.groupby('DEST', as_index=False)['ARR_DELAY']\n",
        "                       .mean())\n",
        "          .sort_values(by='ARR_DELAY', ascending=False))\n",
        "delays"
      ],
      "execution_count": 55,
      "outputs": [
        {
          "output_type": "execute_result",
          "data": {
            "text/html": [
              "<div>\n",
              "<style scoped>\n",
              "    .dataframe tbody tr th:only-of-type {\n",
              "        vertical-align: middle;\n",
              "    }\n",
              "\n",
              "    .dataframe tbody tr th {\n",
              "        vertical-align: top;\n",
              "    }\n",
              "\n",
              "    .dataframe thead th {\n",
              "        text-align: right;\n",
              "    }\n",
              "</style>\n",
              "<table border=\"1\" class=\"dataframe\">\n",
              "  <thead>\n",
              "    <tr style=\"text-align: right;\">\n",
              "      <th></th>\n",
              "      <th>DEST</th>\n",
              "      <th>ARR_DELAY</th>\n",
              "    </tr>\n",
              "  </thead>\n",
              "  <tbody>\n",
              "    <tr>\n",
              "      <th>18</th>\n",
              "      <td>SFO</td>\n",
              "      <td>23.585768</td>\n",
              "    </tr>\n",
              "    <tr>\n",
              "      <th>12</th>\n",
              "      <td>LAX</td>\n",
              "      <td>14.454765</td>\n",
              "    </tr>\n",
              "    <tr>\n",
              "      <th>7</th>\n",
              "      <td>EWR</td>\n",
              "      <td>12.737075</td>\n",
              "    </tr>\n",
              "    <tr>\n",
              "      <th>11</th>\n",
              "      <td>LAS</td>\n",
              "      <td>7.878745</td>\n",
              "    </tr>\n",
              "    <tr>\n",
              "      <th>19</th>\n",
              "      <td>SLC</td>\n",
              "      <td>5.367382</td>\n",
              "    </tr>\n",
              "    <tr>\n",
              "      <th>17</th>\n",
              "      <td>SEA</td>\n",
              "      <td>4.519772</td>\n",
              "    </tr>\n",
              "    <tr>\n",
              "      <th>10</th>\n",
              "      <td>JFK</td>\n",
              "      <td>4.420874</td>\n",
              "    </tr>\n",
              "    <tr>\n",
              "      <th>16</th>\n",
              "      <td>PHX</td>\n",
              "      <td>3.760159</td>\n",
              "    </tr>\n",
              "    <tr>\n",
              "      <th>1</th>\n",
              "      <td>BOS</td>\n",
              "      <td>3.363880</td>\n",
              "    </tr>\n",
              "    <tr>\n",
              "      <th>8</th>\n",
              "      <td>FLL</td>\n",
              "      <td>2.842291</td>\n",
              "    </tr>\n",
              "    <tr>\n",
              "      <th>5</th>\n",
              "      <td>DFW</td>\n",
              "      <td>2.339602</td>\n",
              "    </tr>\n",
              "    <tr>\n",
              "      <th>4</th>\n",
              "      <td>DEN</td>\n",
              "      <td>2.174633</td>\n",
              "    </tr>\n",
              "    <tr>\n",
              "      <th>15</th>\n",
              "      <td>ORD</td>\n",
              "      <td>2.025243</td>\n",
              "    </tr>\n",
              "    <tr>\n",
              "      <th>6</th>\n",
              "      <td>DTW</td>\n",
              "      <td>1.163465</td>\n",
              "    </tr>\n",
              "    <tr>\n",
              "      <th>13</th>\n",
              "      <td>MCO</td>\n",
              "      <td>0.264867</td>\n",
              "    </tr>\n",
              "    <tr>\n",
              "      <th>2</th>\n",
              "      <td>BWI</td>\n",
              "      <td>-0.220230</td>\n",
              "    </tr>\n",
              "    <tr>\n",
              "      <th>0</th>\n",
              "      <td>ATL</td>\n",
              "      <td>-1.120720</td>\n",
              "    </tr>\n",
              "    <tr>\n",
              "      <th>14</th>\n",
              "      <td>MSP</td>\n",
              "      <td>-1.238841</td>\n",
              "    </tr>\n",
              "    <tr>\n",
              "      <th>9</th>\n",
              "      <td>IAH</td>\n",
              "      <td>-1.342685</td>\n",
              "    </tr>\n",
              "    <tr>\n",
              "      <th>3</th>\n",
              "      <td>CLT</td>\n",
              "      <td>-2.841078</td>\n",
              "    </tr>\n",
              "  </tbody>\n",
              "</table>\n",
              "</div>"
            ],
            "text/plain": [
              "   DEST  ARR_DELAY\n",
              "18  SFO  23.585768\n",
              "12  LAX  14.454765\n",
              "7   EWR  12.737075\n",
              "11  LAS   7.878745\n",
              "19  SLC   5.367382\n",
              "17  SEA   4.519772\n",
              "10  JFK   4.420874\n",
              "16  PHX   3.760159\n",
              "1   BOS   3.363880\n",
              "8   FLL   2.842291\n",
              "5   DFW   2.339602\n",
              "4   DEN   2.174633\n",
              "15  ORD   2.025243\n",
              "6   DTW   1.163465\n",
              "13  MCO   0.264867\n",
              "2   BWI  -0.220230\n",
              "0   ATL  -1.120720\n",
              "14  MSP  -1.238841\n",
              "9   IAH  -1.342685\n",
              "3   CLT  -2.841078"
            ]
          },
          "metadata": {
            "tags": []
          },
          "execution_count": 55
        }
      ]
    },
    {
      "cell_type": "code",
      "metadata": {
        "id": "cbQjHP6bDJwh",
        "colab": {
          "base_uri": "https://localhost:8080/",
          "height": 514
        },
        "outputId": "2ec0c5a0-661b-4a34-c0de-cebb148bcd36"
      },
      "source": [
        "plt.figure(figsize=(12,8))\n",
        "ax = sns.barplot(x='ARR_DELAY', y='DEST', data=delays, palette='flare')\n",
        "ax.set_title('Average Arrival Delay in Minutes of 20 Busiest Aiports', size=14)\n",
        "ax.set_ylabel('')\n",
        "ax.set_xlabel('Average Arrival Delay [Minutes]', size=14)\n",
        "fig = ax.get_figure()\n",
        "\n",
        "for bar in ax.patches:\n",
        "    ax.text(bar.get_width()-0.75,  bar.get_y()+bar.get_height()/2. + 0.15,\n",
        "           '{:1.2f}'.format(bar.get_width()), ha='center', color='b', size='11', weight='bold')"
      ],
      "execution_count": 56,
      "outputs": [
        {
          "output_type": "display_data",
          "data": {
            "image/png": "[encoded data removed]",
            "text/plain": [
              "<Figure size 864x576 with 1 Axes>"
            ]
          },
          "metadata": {
            "tags": [],
            "needs_background": "light"
          }
        }
      ]
    },
    {
      "cell_type": "markdown",
      "metadata": {
        "id": "e_M7L82USLvH"
      },
      "source": [
        "SFO airport has a longest arrival delay with a mean of 24 minutes, the flights arrived at MCO are late only about 30 seconds. The flights landed at CLT aiport were about 3 minute early."
      ]
    },
    {
      "cell_type": "markdown",
      "metadata": {
        "id": "DcUvigBoU8iu"
      },
      "source": [
        "## 5.8 Arrival Delay for the top 20 airlines\n",
        "\n",
        "I will next visualize the arrival delays for the top 20 airlines. The top 20 airlines are defined as the airlines with the top 20 most flights in the dataset."
      ]
    },
    {
      "cell_type": "code",
      "metadata": {
        "id": "EoIknyceVFkT",
        "colab": {
          "base_uri": "https://localhost:8080/",
          "height": 221
        },
        "outputId": "75858339-2da5-418e-f64a-49eb7b1a7cc9"
      },
      "source": [
        "# Top 12 busiest airlines\n",
        "top20_airlines = list(df['OP_UNIQUE_CARRIER'].value_counts().head(20).index)\n",
        "print(top20_airlines)\n",
        "\n",
        "top20_airlines_df = df[df['OP_UNIQUE_CARRIER'].isin(top20_airlines)][['OP_UNIQUE_CARRIER','ORIGIN','DEST','ARR_DELAY', 'AIRLINE_NAME']]\n",
        "top20_airlines_df.head()"
      ],
      "execution_count": 57,
      "outputs": [
        {
          "output_type": "stream",
          "text": [
            "['WN', 'AA', 'DL', 'OO', 'UA', 'EV', 'B6', 'AS', 'NK', 'F9', 'HA', 'VX']\n"
          ],
          "name": "stdout"
        },
        {
          "output_type": "execute_result",
          "data": {
            "text/html": [
              "<div>\n",
              "<style scoped>\n",
              "    .dataframe tbody tr th:only-of-type {\n",
              "        vertical-align: middle;\n",
              "    }\n",
              "\n",
              "    .dataframe tbody tr th {\n",
              "        vertical-align: top;\n",
              "    }\n",
              "\n",
              "    .dataframe thead th {\n",
              "        text-align: right;\n",
              "    }\n",
              "</style>\n",
              "<table border=\"1\" class=\"dataframe\">\n",
              "  <thead>\n",
              "    <tr style=\"text-align: right;\">\n",
              "      <th></th>\n",
              "      <th>OP_UNIQUE_CARRIER</th>\n",
              "      <th>ORIGIN</th>\n",
              "      <th>DEST</th>\n",
              "      <th>ARR_DELAY</th>\n",
              "      <th>AIRLINE_NAME</th>\n",
              "    </tr>\n",
              "  </thead>\n",
              "  <tbody>\n",
              "    <tr>\n",
              "      <th>0</th>\n",
              "      <td>AA</td>\n",
              "      <td>DFW</td>\n",
              "      <td>PSP</td>\n",
              "      <td>6.0</td>\n",
              "      <td>American Airlines Inc.</td>\n",
              "    </tr>\n",
              "    <tr>\n",
              "      <th>1</th>\n",
              "      <td>AA</td>\n",
              "      <td>DFW</td>\n",
              "      <td>PSP</td>\n",
              "      <td>-7.0</td>\n",
              "      <td>American Airlines Inc.</td>\n",
              "    </tr>\n",
              "    <tr>\n",
              "      <th>2</th>\n",
              "      <td>AA</td>\n",
              "      <td>DFW</td>\n",
              "      <td>PSP</td>\n",
              "      <td>10.0</td>\n",
              "      <td>American Airlines Inc.</td>\n",
              "    </tr>\n",
              "    <tr>\n",
              "      <th>3</th>\n",
              "      <td>AA</td>\n",
              "      <td>DFW</td>\n",
              "      <td>PSP</td>\n",
              "      <td>29.0</td>\n",
              "      <td>American Airlines Inc.</td>\n",
              "    </tr>\n",
              "    <tr>\n",
              "      <th>4</th>\n",
              "      <td>AA</td>\n",
              "      <td>DFW</td>\n",
              "      <td>PSP</td>\n",
              "      <td>-7.0</td>\n",
              "      <td>American Airlines Inc.</td>\n",
              "    </tr>\n",
              "  </tbody>\n",
              "</table>\n",
              "</div>"
            ],
            "text/plain": [
              "  OP_UNIQUE_CARRIER ORIGIN DEST  ARR_DELAY            AIRLINE_NAME\n",
              "0                AA    DFW  PSP        6.0  American Airlines Inc.\n",
              "1                AA    DFW  PSP       -7.0  American Airlines Inc.\n",
              "2                AA    DFW  PSP       10.0  American Airlines Inc.\n",
              "3                AA    DFW  PSP       29.0  American Airlines Inc.\n",
              "4                AA    DFW  PSP       -7.0  American Airlines Inc."
            ]
          },
          "metadata": {
            "tags": []
          },
          "execution_count": 57
        }
      ]
    },
    {
      "cell_type": "markdown",
      "metadata": {
        "id": "CK4ZCn1_XAkt"
      },
      "source": [
        "Out of the 20 airlines that have had the most flights, let's take a look at who has had delays greater than 30 minutes."
      ]
    },
    {
      "cell_type": "code",
      "metadata": {
        "id": "0HuDPK0DXEWF"
      },
      "source": [
        "temp_df = top20_airlines_df.copy()\n",
        "\n",
        "# Get delays greater than 30 minutes\n",
        "temp_df['ARR_DELAY'] = temp_df['ARR_DELAY'].apply(lambda x: 30 if x >=30 else x)\n",
        "temp_df['ARR_DELAY'] = temp_df['ARR_DELAY'].apply(lambda x: -30 if x <= -30 else x)"
      ],
      "execution_count": 58,
      "outputs": []
    },
    {
      "cell_type": "code",
      "metadata": {
        "id": "QrCT5RYQXJBJ",
        "colab": {
          "base_uri": "https://localhost:8080/",
          "height": 398
        },
        "outputId": "a566f1b5-fc92-4516-8521-9f6ec98f6568"
      },
      "source": [
        "plt.figure(figsize=(20,5))\n",
        "ax = sns.violinplot(x='AIRLINE_NAME', y='ARR_DELAY', data=temp_df)\n",
        "ax.set_ylabel('Arrival Delay [minutes]')\n",
        "ax.set_xlabel('Airlines')\n",
        "label = ax.set_xticklabels(ax.get_xticklabels(), rotation=30)\n",
        "fig = ax.get_figure()"
      ],
      "execution_count": 59,
      "outputs": [
        {
          "output_type": "display_data",
          "data": {
            "image/png": "[encoded data removed]",
            "text/plain": [
              "<Figure size 1440x360 with 1 Axes>"
            ]
          },
          "metadata": {
            "tags": [],
            "needs_background": "light"
          }
        }
      ]
    },
    {
      "cell_type": "markdown",
      "metadata": {
        "id": "XGj1kihcZdiz"
      },
      "source": [
        "The median for the top 20 airlines is around 0 to -10 minutes, meaning that most flights arrive before their scheduled time. The width of the plots at 30 represents the frequency of flights arriving 30 minutes or more after the scheduled arrival time."
      ]
    },
    {
      "cell_type": "markdown",
      "metadata": {
        "id": "qx0APn6zZ2py"
      },
      "source": [
        "Next, we will plot the percentage of all flights delayed more than 30 minutes."
      ]
    },
    {
      "cell_type": "code",
      "metadata": {
        "id": "JdxVCIWZZ16U",
        "colab": {
          "base_uri": "https://localhost:8080/",
          "height": 421
        },
        "outputId": "cf7394aa-25dc-4fc9-f1a4-07f866e223d7"
      },
      "source": [
        "# flights delayed more than 30 minutes.\n",
        "delays = pd.DataFrame()\n",
        "\n",
        "for uc in list(df['OP_UNIQUE_CARRIER'].unique()):\n",
        "    percent_delay = len(df[(df['OP_UNIQUE_CARRIER']==uc) & (df['ARR_DELAY'] >= delay_thresh)].index)/len(df[df['OP_UNIQUE_CARRIER']==uc].index)*100\n",
        "    delays = delays.append({'OP_UNIQUE_CARRIER': uc, 'PERCENT_DELAY': percent_delay}, ignore_index=True)\n",
        "\n",
        "delays = pd.merge(delays, carriers, how='left', left_on='OP_UNIQUE_CARRIER', right_on='code')\n",
        "delays.drop(['OP_UNIQUE_CARRIER', 'code'], axis=1, inplace=True)\n",
        "delays.rename(index=str, columns={'Description':'AIRLINE'}, inplace=True)\n",
        "delays.sort_values(by=['PERCENT_DELAY'], ascending=False, inplace=True)\n",
        "delays"
      ],
      "execution_count": 60,
      "outputs": [
        {
          "output_type": "execute_result",
          "data": {
            "text/html": [
              "<div>\n",
              "<style scoped>\n",
              "    .dataframe tbody tr th:only-of-type {\n",
              "        vertical-align: middle;\n",
              "    }\n",
              "\n",
              "    .dataframe tbody tr th {\n",
              "        vertical-align: top;\n",
              "    }\n",
              "\n",
              "    .dataframe thead th {\n",
              "        text-align: right;\n",
              "    }\n",
              "</style>\n",
              "<table border=\"1\" class=\"dataframe\">\n",
              "  <thead>\n",
              "    <tr style=\"text-align: right;\">\n",
              "      <th></th>\n",
              "      <th>PERCENT_DELAY</th>\n",
              "      <th>AIRLINE_NAME</th>\n",
              "    </tr>\n",
              "  </thead>\n",
              "  <tbody>\n",
              "    <tr>\n",
              "      <th>9</th>\n",
              "      <td>22.044241</td>\n",
              "      <td>Virgin America</td>\n",
              "    </tr>\n",
              "    <tr>\n",
              "      <th>8</th>\n",
              "      <td>16.412357</td>\n",
              "      <td>JetBlue Airways</td>\n",
              "    </tr>\n",
              "    <tr>\n",
              "      <th>7</th>\n",
              "      <td>15.241845</td>\n",
              "      <td>Frontier Airlines Inc.</td>\n",
              "    </tr>\n",
              "    <tr>\n",
              "      <th>4</th>\n",
              "      <td>14.821740</td>\n",
              "      <td>Skywest Airlines Inc.</td>\n",
              "    </tr>\n",
              "    <tr>\n",
              "      <th>3</th>\n",
              "      <td>14.219496</td>\n",
              "      <td>Atlantic Southeast Airlines</td>\n",
              "    </tr>\n",
              "    <tr>\n",
              "      <th>10</th>\n",
              "      <td>13.625846</td>\n",
              "      <td>Spirit Air Lines</td>\n",
              "    </tr>\n",
              "    <tr>\n",
              "      <th>5</th>\n",
              "      <td>13.174533</td>\n",
              "      <td>United Air Lines Inc.</td>\n",
              "    </tr>\n",
              "    <tr>\n",
              "      <th>1</th>\n",
              "      <td>12.078159</td>\n",
              "      <td>Alaska Airlines Inc.</td>\n",
              "    </tr>\n",
              "    <tr>\n",
              "      <th>6</th>\n",
              "      <td>11.308053</td>\n",
              "      <td>Southwest Airlines Co.</td>\n",
              "    </tr>\n",
              "    <tr>\n",
              "      <th>0</th>\n",
              "      <td>9.423584</td>\n",
              "      <td>American Airlines Inc.</td>\n",
              "    </tr>\n",
              "    <tr>\n",
              "      <th>2</th>\n",
              "      <td>9.191198</td>\n",
              "      <td>Delta Air Lines Inc.</td>\n",
              "    </tr>\n",
              "    <tr>\n",
              "      <th>11</th>\n",
              "      <td>8.675761</td>\n",
              "      <td>Hawaiian Airlines Inc.</td>\n",
              "    </tr>\n",
              "  </tbody>\n",
              "</table>\n",
              "</div>"
            ],
            "text/plain": [
              "    PERCENT_DELAY                 AIRLINE_NAME\n",
              "9       22.044241               Virgin America\n",
              "8       16.412357              JetBlue Airways\n",
              "7       15.241845       Frontier Airlines Inc.\n",
              "4       14.821740        Skywest Airlines Inc.\n",
              "3       14.219496  Atlantic Southeast Airlines\n",
              "10      13.625846             Spirit Air Lines\n",
              "5       13.174533        United Air Lines Inc.\n",
              "1       12.078159         Alaska Airlines Inc.\n",
              "6       11.308053       Southwest Airlines Co.\n",
              "0        9.423584       American Airlines Inc.\n",
              "2        9.191198         Delta Air Lines Inc.\n",
              "11       8.675761       Hawaiian Airlines Inc."
            ]
          },
          "metadata": {
            "tags": []
          },
          "execution_count": 60
        }
      ]
    },
    {
      "cell_type": "code",
      "metadata": {
        "id": "jf2UZz5NcDX6",
        "colab": {
          "base_uri": "https://localhost:8080/",
          "height": 514
        },
        "outputId": "4d7e0e6d-ab77-44e9-d866-a99b3fc31986"
      },
      "source": [
        "# Plot\n",
        "plt.figure(figsize=(10,8))\n",
        "ax = sns.barplot(x='PERCENT_DELAY', y='AIRLINE_NAME', data=delays, palette='flare')\n",
        "\n",
        "ax.set_title('Percent of arrival flights delayed more than 30 minutes', size=14)\n",
        "ax.set_ylabel('')\n",
        "ax.set_xlabel('[%]', size=14)\n",
        "fig = ax.get_figure()\n",
        "\n",
        "for bar in ax.patches:\n",
        "    ax.text(bar.get_width()-0.9,  bar.get_y()+bar.get_height()/2. + 0.15,\n",
        "           '{:1.2f}%'.format(bar.get_width()), ha='center', color='white', size='11', weight='bold')"
      ],
      "execution_count": 61,
      "outputs": [
        {
          "output_type": "display_data",
          "data": {
            "image/png": "[encoded data removed]",
            "text/plain": [
              "<Figure size 720x576 with 1 Axes>"
            ]
          },
          "metadata": {
            "tags": [],
            "needs_background": "light"
          }
        }
      ]
    },
    {
      "cell_type": "markdown",
      "metadata": {
        "id": "X2hYPIKkKQRm"
      },
      "source": [
        "Percent of arrival flights delayed more than 30 minutes. Among the top 12 busiest airlines, Virgin America has the largest ratio of delayed flights with 22\\%, the Hawaiian Ailiines Inc. has the lowest ratio."
      ]
    },
    {
      "cell_type": "markdown",
      "metadata": {
        "id": "HqOV6XF0HCS4"
      },
      "source": [
        "## 5.9 Delay per Airline on the Destination Airports"
      ]
    },
    {
      "cell_type": "code",
      "metadata": {
        "id": "gzv9XXbQG_ab",
        "colab": {
          "base_uri": "https://localhost:8080/",
          "height": 605
        },
        "outputId": "c0eceba2-15d5-4d42-d915-766d78ab209b"
      },
      "source": [
        "# Params for plots\n",
        "font = {'family' : 'normal', 'weight' : 'bold', 'size'   : 15}\n",
        "sns.set_style('whitegrid')\n",
        "\n",
        "# Initialize the Graph\n",
        "fig_dim=(16,10)\n",
        "fig, ax =plt.subplots(figsize=fig_dim)\n",
        "sns.despine(bottom=True, left=True)\n",
        "\n",
        "# Draw each observation with a scatterplot\n",
        "sns.stripplot(x='ARR_DELAY', y='AIRLINE_NAME', hue='AIRLINE_NAME',data=df , size=4,  linewidth = 0.5,  jitter=True)\n",
        "plt.xlabel('Flight Arrival Delay on the Destination Airports')\n",
        "plt.ylabel('AirLines')\n",
        "ax.set_xticklabels(['{:2.0f}h{:2.0f}m'.format(*[int(y) for y in divmod(x,60)])\n",
        "                         for x in ax.get_xticks()])\n",
        "ax.yaxis.label.set_visible(True)"
      ],
      "execution_count": 62,
      "outputs": [
        {
          "output_type": "display_data",
          "data": {
            "image/png": "[encoded data removed]",
            "text/plain": [
              "<Figure size 1152x720 with 1 Axes>"
            ]
          },
          "metadata": {
            "tags": []
          }
        }
      ]
    },
    {
      "cell_type": "markdown",
      "metadata": {
        "id": "H1zap-jXLa0s"
      },
      "source": [
        "Sactter plot of delay per Airline on the Destination Airports. Among the top 12 busiest airlines, Virgin America still has the longest of delay up to 33h20m late, the Alaska Ailiines Inc. has the shortest delays up to 8h20m."
      ]
    },
    {
      "cell_type": "markdown",
      "metadata": {
        "id": "oHK0_hy_LIkd"
      },
      "source": [
        "## 5.10 Origin/Destination Analysis"
      ]
    },
    {
      "cell_type": "markdown",
      "metadata": {
        "id": "E7NRNKWLLeaW"
      },
      "source": [
        "Next, I'll perform some analysis on the origin and destination airports. First, find the top 10 busiest airports in terms of flight frequency. The ranking of airports are found to be consistent when counting for both origin and destination, and for each airport, the number of incoming and outgoing flights are roughly equal (as seen below)."
      ]
    },
    {
      "cell_type": "code",
      "metadata": {
        "id": "UQghII4oVqxN",
        "colab": {
          "base_uri": "https://localhost:8080/"
        },
        "outputId": "2618a237-0e63-425a-ed64-f1117ff57b7c"
      },
      "source": [
        "origin_airport_counts = df['ORIGIN'].value_counts().to_dict()\n",
        "\n",
        "origin_airport_counts = sorted(origin_airport_counts.items(), key=lambda x: x[1], reverse=True)\n",
        "print( origin_airport_counts[:10] )\n",
        "\n",
        "top10_origin_airports = [x[0] for x in origin_airport_counts[:10]]\n",
        "top10_origin_airports_counts = [x[1] for x in origin_airport_counts[:10]]\n",
        "print(top10_origin_airports)\n",
        "\n",
        "del origin_airport_counts"
      ],
      "execution_count": 63,
      "outputs": [
        {
          "output_type": "stream",
          "text": [
            "[('ATL', 56888), ('ORD', 35923), ('LAX', 32281), ('DEN', 32073), ('DFW', 28685), ('PHX', 24871), ('SFO', 24140), ('LAS', 23246), ('MCO', 20769), ('IAH', 20501)]\n",
            "['ATL', 'ORD', 'LAX', 'DEN', 'DFW', 'PHX', 'SFO', 'LAS', 'MCO', 'IAH']\n"
          ],
          "name": "stdout"
        }
      ]
    },
    {
      "cell_type": "code",
      "metadata": {
        "id": "r_9EyGXpas8f",
        "colab": {
          "base_uri": "https://localhost:8080/"
        },
        "outputId": "efb8f827-cfdd-4b76-91a6-2601e9ec31d7"
      },
      "source": [
        "dest_airport_counts = df['DEST'].value_counts().to_dict()\n",
        "\n",
        "dest_airport_counts = sorted(dest_airport_counts.items(), key=lambda x: x[1], reverse=True)\n",
        "print( dest_airport_counts[:10] )\n",
        "\n",
        "top10_dest_airports = [x[0] for x in dest_airport_counts[:10]]\n",
        "top10_dest_airports_counts = [x[1] for x in dest_airport_counts[:10]]\n",
        "print(top10_dest_airports)\n",
        "\n",
        "del dest_airport_counts"
      ],
      "execution_count": 64,
      "outputs": [
        {
          "output_type": "stream",
          "text": [
            "[('ATL', 56809), ('ORD', 35931), ('LAX', 32232), ('DEN', 32113), ('DFW', 28660), ('PHX', 24854), ('SFO', 24030), ('LAS', 23265), ('MCO', 20784), ('IAH', 20459)]\n",
            "['ATL', 'ORD', 'LAX', 'DEN', 'DFW', 'PHX', 'SFO', 'LAS', 'MCO', 'IAH']\n"
          ],
          "name": "stdout"
        }
      ]
    },
    {
      "cell_type": "code",
      "metadata": {
        "id": "ruAQKQgbbj1T",
        "colab": {
          "base_uri": "https://localhost:8080/"
        },
        "outputId": "43e12508-c711-41aa-a30a-dce7b8fd76fb"
      },
      "source": [
        "print( top10_origin_airports ==  top10_dest_airports)"
      ],
      "execution_count": 65,
      "outputs": [
        {
          "output_type": "stream",
          "text": [
            "True\n"
          ],
          "name": "stdout"
        }
      ]
    },
    {
      "cell_type": "code",
      "metadata": {
        "id": "EisFhZvFbwQz",
        "colab": {
          "base_uri": "https://localhost:8080/",
          "height": 459
        },
        "outputId": "621457d9-2a1f-418a-8f35-8fb6d27cb972"
      },
      "source": [
        "df_top10_airports = pd.DataFrame( {'Origin': top10_origin_airports_counts, \n",
        "                                  'Destination': top10_dest_airports_counts},\n",
        "                                 index=top10_origin_airports)\n",
        "\n",
        "df_top10_airports.plot.bar(rot=0, xlabel='Airports', ylabel='Count', figsize=(10,7), title='Counts of inbound/outbound flights for 10 busiest airports')\n",
        "\n",
        "del df_top10_airports"
      ],
      "execution_count": 66,
      "outputs": [
        {
          "output_type": "display_data",
          "data": {
            "image/png": "[encoded data removed]",
            "text/plain": [
              "<Figure size 720x504 with 1 Axes>"
            ]
          },
          "metadata": {
            "tags": []
          }
        }
      ]
    },
    {
      "cell_type": "markdown",
      "metadata": {
        "id": "w5AxYZ0KsM-7"
      },
      "source": [
        "Atlanta Airport (ATL) is the busiest airport, with over 50,000 incoming and outgoing flights over the 2-month period.\n",
        "\n",
        "For each airport, the number of incoming and outgoing flights are roughly equal "
      ]
    },
    {
      "cell_type": "code",
      "metadata": {
        "id": "13e9IvpEayR8",
        "colab": {
          "base_uri": "https://localhost:8080/",
          "height": 453
        },
        "outputId": "d8788a80-8568-4e43-d222-fb8fb83f3a9f"
      },
      "source": [
        "airport_pairs = df.groupby(['ORIGIN', 'DEST']).agg({'DEP_DELAY': ['mean', 'min', 'max', 'count']})\n",
        "airport_pairs.columns = ['DEP_DELAY_MEAN', 'DEP_DELAY_MIN', 'DEP_DELAY_MAX', 'COUNTS']\n",
        "airport_pairs = airport_pairs.reset_index()\n",
        "\n",
        "airport_pairs = airport_pairs[airport_pairs.COUNTS > 20]\n",
        "\n",
        "print('Parameters of ORIGIN-DESTINATION airport pairs')\n",
        "print('Number of airport pairs considered: ', len(airport_pairs))\n",
        "\n",
        "airport_pairs.sort_values(by='DEP_DELAY_MEAN', ascending=False)"
      ],
      "execution_count": 67,
      "outputs": [
        {
          "output_type": "stream",
          "text": [
            "Parameters of ORIGIN-DESTINATION airport pairs\n",
            "Number of airport pairs considered:  3775\n"
          ],
          "name": "stdout"
        },
        {
          "output_type": "execute_result",
          "data": {
            "text/html": [
              "<div>\n",
              "<style scoped>\n",
              "    .dataframe tbody tr th:only-of-type {\n",
              "        vertical-align: middle;\n",
              "    }\n",
              "\n",
              "    .dataframe tbody tr th {\n",
              "        vertical-align: top;\n",
              "    }\n",
              "\n",
              "    .dataframe thead th {\n",
              "        text-align: right;\n",
              "    }\n",
              "</style>\n",
              "<table border=\"1\" class=\"dataframe\">\n",
              "  <thead>\n",
              "    <tr style=\"text-align: right;\">\n",
              "      <th></th>\n",
              "      <th>ORIGIN</th>\n",
              "      <th>DEST</th>\n",
              "      <th>DEP_DELAY_MEAN</th>\n",
              "      <th>DEP_DELAY_MIN</th>\n",
              "      <th>DEP_DELAY_MAX</th>\n",
              "      <th>COUNTS</th>\n",
              "    </tr>\n",
              "  </thead>\n",
              "  <tbody>\n",
              "    <tr>\n",
              "      <th>2171</th>\n",
              "      <td>LGA</td>\n",
              "      <td>CAE</td>\n",
              "      <td>77.175000</td>\n",
              "      <td>-14.0</td>\n",
              "      <td>1020.0</td>\n",
              "      <td>40</td>\n",
              "    </tr>\n",
              "    <tr>\n",
              "      <th>2172</th>\n",
              "      <td>LGA</td>\n",
              "      <td>CHO</td>\n",
              "      <td>71.743590</td>\n",
              "      <td>-19.0</td>\n",
              "      <td>967.0</td>\n",
              "      <td>39</td>\n",
              "    </tr>\n",
              "    <tr>\n",
              "      <th>90</th>\n",
              "      <td>ASE</td>\n",
              "      <td>SFO</td>\n",
              "      <td>69.808219</td>\n",
              "      <td>-28.0</td>\n",
              "      <td>1064.0</td>\n",
              "      <td>73</td>\n",
              "    </tr>\n",
              "    <tr>\n",
              "      <th>4089</th>\n",
              "      <td>VPS</td>\n",
              "      <td>DFW</td>\n",
              "      <td>69.181818</td>\n",
              "      <td>-14.0</td>\n",
              "      <td>1244.0</td>\n",
              "      <td>22</td>\n",
              "    </tr>\n",
              "    <tr>\n",
              "      <th>3387</th>\n",
              "      <td>RST</td>\n",
              "      <td>ORD</td>\n",
              "      <td>61.379310</td>\n",
              "      <td>-24.0</td>\n",
              "      <td>1036.0</td>\n",
              "      <td>29</td>\n",
              "    </tr>\n",
              "    <tr>\n",
              "      <th>...</th>\n",
              "      <td>...</td>\n",
              "      <td>...</td>\n",
              "      <td>...</td>\n",
              "      <td>...</td>\n",
              "      <td>...</td>\n",
              "      <td>...</td>\n",
              "    </tr>\n",
              "    <tr>\n",
              "      <th>4091</th>\n",
              "      <td>WRG</td>\n",
              "      <td>KTN</td>\n",
              "      <td>-13.280702</td>\n",
              "      <td>-37.0</td>\n",
              "      <td>19.0</td>\n",
              "      <td>57</td>\n",
              "    </tr>\n",
              "    <tr>\n",
              "      <th>3263</th>\n",
              "      <td>PSG</td>\n",
              "      <td>WRG</td>\n",
              "      <td>-14.666667</td>\n",
              "      <td>-38.0</td>\n",
              "      <td>49.0</td>\n",
              "      <td>57</td>\n",
              "    </tr>\n",
              "    <tr>\n",
              "      <th>4102</th>\n",
              "      <td>YAK</td>\n",
              "      <td>JNU</td>\n",
              "      <td>-15.320755</td>\n",
              "      <td>-48.0</td>\n",
              "      <td>79.0</td>\n",
              "      <td>53</td>\n",
              "    </tr>\n",
              "    <tr>\n",
              "      <th>1577</th>\n",
              "      <td>HIB</td>\n",
              "      <td>INL</td>\n",
              "      <td>-26.441860</td>\n",
              "      <td>-58.0</td>\n",
              "      <td>155.0</td>\n",
              "      <td>43</td>\n",
              "    </tr>\n",
              "    <tr>\n",
              "      <th>3340</th>\n",
              "      <td>RHI</td>\n",
              "      <td>IMT</td>\n",
              "      <td>-33.031250</td>\n",
              "      <td>-59.0</td>\n",
              "      <td>33.0</td>\n",
              "      <td>32</td>\n",
              "    </tr>\n",
              "  </tbody>\n",
              "</table>\n",
              "<p>3775 rows × 6 columns</p>\n",
              "</div>"
            ],
            "text/plain": [
              "     ORIGIN DEST  DEP_DELAY_MEAN  DEP_DELAY_MIN  DEP_DELAY_MAX  COUNTS\n",
              "2171    LGA  CAE       77.175000          -14.0         1020.0      40\n",
              "2172    LGA  CHO       71.743590          -19.0          967.0      39\n",
              "90      ASE  SFO       69.808219          -28.0         1064.0      73\n",
              "4089    VPS  DFW       69.181818          -14.0         1244.0      22\n",
              "3387    RST  ORD       61.379310          -24.0         1036.0      29\n",
              "...     ...  ...             ...            ...            ...     ...\n",
              "4091    WRG  KTN      -13.280702          -37.0           19.0      57\n",
              "3263    PSG  WRG      -14.666667          -38.0           49.0      57\n",
              "4102    YAK  JNU      -15.320755          -48.0           79.0      53\n",
              "1577    HIB  INL      -26.441860          -58.0          155.0      43\n",
              "3340    RHI  IMT      -33.031250          -59.0           33.0      32\n",
              "\n",
              "[3775 rows x 6 columns]"
            ]
          },
          "metadata": {
            "tags": []
          },
          "execution_count": 67
        }
      ]
    },
    {
      "cell_type": "markdown",
      "metadata": {
        "id": "CdOxQSkGsI9K"
      },
      "source": [
        "ORIGIN-DESTINATION airport pairs with highest and lowest average delay. Only take into account the airport pairs that had at least 20 flights over this 2-month period (average of 10 flights per month) as I wanted to consider flights that were relatively frequent.\n",
        "\n",
        "Highest Average Delay: 77.2 minutes (late) from LGA to CAE\n",
        "\n",
        "Lowest Average Delay: -33 minutes (early) from RHI to IMT"
      ]
    },
    {
      "cell_type": "markdown",
      "metadata": {
        "id": "U_hCEtRF416C"
      },
      "source": [
        "## 5.11 Analysis (t-test & Mann-Whitney U test for Hypothesis testing)"
      ]
    },
    {
      "cell_type": "markdown",
      "metadata": {
        "id": "FnxzEJpeTgq2"
      },
      "source": [
        "**Test if the means of arrival delays (in minutes) in January and February 2017 are equal?**"
      ]
    },
    {
      "cell_type": "markdown",
      "metadata": {
        "id": "wOd3WZUk5UrR"
      },
      "source": [
        "The arrival delay in minutes for 2 months (January and February)."
      ]
    },
    {
      "cell_type": "code",
      "metadata": {
        "id": "pxkiSdQwtlRp",
        "colab": {
          "base_uri": "https://localhost:8080/"
        },
        "outputId": "354c37c5-133d-46a0-905e-bb4e621edbac"
      },
      "source": [
        "delayed_jan = df.ARR_DELAY[ ( (df.ARR_DELAY > 0) & (df.MONTH == 1) )] \n",
        "print( 'Number of samples in January: ', len(delayed_jan) )\n",
        "delayed_jan.describe()"
      ],
      "execution_count": 68,
      "outputs": [
        {
          "output_type": "stream",
          "text": [
            "Number of samples in January:  172053\n"
          ],
          "name": "stdout"
        },
        {
          "output_type": "execute_result",
          "data": {
            "text/plain": [
              "count    172053.000000\n",
              "mean         39.404596\n",
              "std          66.379678\n",
              "min           1.000000\n",
              "25%           7.000000\n",
              "50%          18.000000\n",
              "75%          45.000000\n",
              "max        1944.000000\n",
              "Name: ARR_DELAY, dtype: float64"
            ]
          },
          "metadata": {
            "tags": []
          },
          "execution_count": 68
        }
      ]
    },
    {
      "cell_type": "code",
      "metadata": {
        "id": "E_mUvbXNt-kO",
        "colab": {
          "base_uri": "https://localhost:8080/"
        },
        "outputId": "bae5190e-0e9b-4a37-eea1-e1c1fd7b5c7a"
      },
      "source": [
        "delayed_feb = df.ARR_DELAY[ ( (df.ARR_DELAY > 0) & (df.MONTH == 2) )] \n",
        "print( 'Number of samples in February: ',len(delayed_feb) )\n",
        "delayed_feb.describe()"
      ],
      "execution_count": 69,
      "outputs": [
        {
          "output_type": "stream",
          "text": [
            "Number of samples in February:  126949\n"
          ],
          "name": "stdout"
        },
        {
          "output_type": "execute_result",
          "data": {
            "text/plain": [
              "count    126949.000000\n",
              "mean         33.591671\n",
              "std          60.100607\n",
              "min           1.000000\n",
              "25%           6.000000\n",
              "50%          15.000000\n",
              "75%          37.000000\n",
              "max        1442.000000\n",
              "Name: ARR_DELAY, dtype: float64"
            ]
          },
          "metadata": {
            "tags": []
          },
          "execution_count": 69
        }
      ]
    },
    {
      "cell_type": "code",
      "metadata": {
        "id": "QLfr7Slqumt_",
        "colab": {
          "base_uri": "https://localhost:8080/",
          "height": 567
        },
        "outputId": "5ec2b382-bafd-4315-c02a-b9c22d2e3196"
      },
      "source": [
        "plt.figure(figsize=(10,8))\n",
        "sns.distplot(delayed_jan,  kde=False, label='Jan')\n",
        "sns.distplot(delayed_feb,  kde=False, label='Feb')\n",
        "plt.title(\"Sample T-Test\")\n",
        "plt.xlim(-100, 300)\n",
        "plt.xlabel('Arrival delay in minutes')\n",
        "plt.ylabel('Count')\n",
        "plt.legend()\n",
        "plt.show()"
      ],
      "execution_count": 70,
      "outputs": [
        {
          "output_type": "stream",
          "text": [
            "/usr/local/lib/python3.6/dist-packages/seaborn/distributions.py:2551: FutureWarning: `distplot` is a deprecated function and will be removed in a future version. Please adapt your code to use either `displot` (a figure-level function with similar flexibility) or `histplot` (an axes-level function for histograms).\n",
            "  warnings.warn(msg, FutureWarning)\n"
          ],
          "name": "stderr"
        },
        {
          "output_type": "display_data",
          "data": {
            "image/png": "[encoded data removed]",
            "text/plain": [
              "<Figure size 720x576 with 1 Axes>"
            ]
          },
          "metadata": {
            "tags": []
          }
        }
      ]
    },
    {
      "cell_type": "markdown",
      "metadata": {
        "id": "If5xQ1PeEIit"
      },
      "source": [
        "Histograms of delayed arrival flights (arrival delay > 0 minutes) for January anf Febuary of 2017"
      ]
    },
    {
      "cell_type": "markdown",
      "metadata": {
        "id": "b5FxCVpFymwM"
      },
      "source": [
        "#### 5.11a Independent Sample T-Test"
      ]
    },
    {
      "cell_type": "markdown",
      "metadata": {
        "id": "KUt4OZh_1Vj2"
      },
      "source": [
        "Define the Null and Alternate Hypothesis:\n",
        "\n",
        "\n",
        "*   Null Hypothesis: the means of both groups are equal (µ1 = µ2)\n",
        "*   Alternate Hypothesis: the means of both group are not equal (µ1 ≠ µ2)\n",
        "\n"
      ]
    },
    {
      "cell_type": "code",
      "metadata": {
        "id": "PhbuUVvYwg7G",
        "colab": {
          "base_uri": "https://localhost:8080/"
        },
        "outputId": "70368b48-2253-4743-cd01-4770a733f136"
      },
      "source": [
        "from scipy import stats\n",
        "t_stat, p_value = stats.ttest_ind(delayed_jan, delayed_feb, equal_var = False)\n",
        "print('t-statistic:{0}, p-value:{1}'.format(t_stat, p_value)) # p-Value and the T-Statistic\n",
        "# P-Value:8.536872289699007e-138 T-Statistic:25.00028507345877"
      ],
      "execution_count": 71,
      "outputs": [
        {
          "output_type": "stream",
          "text": [
            "t-statistic:25.00028507345877, p-value:8.536872289699007e-138\n"
          ],
          "name": "stdout"
        }
      ]
    },
    {
      "cell_type": "markdown",
      "metadata": {
        "id": "0Ib8NKUcy2e-"
      },
      "source": [
        "There is enough evidence to reject the Null Hypothesis of equal means as the P-Value is low (typically ≤ 0.05).\n",
        "\n",
        "Statistically speaking, there is enough evidence to conclude that the population means are not equal."
      ]
    },
    {
      "cell_type": "markdown",
      "metadata": {
        "id": "SBBacF0qyt8n"
      },
      "source": [
        "#### 5.11b Mann-Whitney U Test"
      ]
    },
    {
      "cell_type": "markdown",
      "metadata": {
        "id": "676JT00bzCv6"
      },
      "source": [
        "Define the Null and Alternate Hypothesis:\n",
        "\n",
        "\n",
        "*   Null Hypothesis: the means of both groups are equal (µ1 = µ2)\n",
        "*   Alternate Hypothesis: the means of both group are not equal (µ1 ≠ µ2)\n",
        "\n"
      ]
    },
    {
      "cell_type": "code",
      "metadata": {
        "id": "vOrhxwfdxUlk",
        "colab": {
          "base_uri": "https://localhost:8080/"
        },
        "outputId": "93a02aa4-fec2-40a3-ca72-b3adccd2f780"
      },
      "source": [
        "#perform the Mann-Whitney U test\n",
        "u_stat, p_value = stats.mannwhitneyu(delayed_jan, delayed_feb, alternative='two-sided')\n",
        "print('u-statistic:{0}, p-value:{1}'.format(u_stat, p_value)) # p-Value and the U-Statistic"
      ],
      "execution_count": 72,
      "outputs": [
        {
          "output_type": "stream",
          "text": [
            "u-statistic:11792938467.5, p-value:5.872486532286896e-306\n"
          ],
          "name": "stdout"
        }
      ]
    },
    {
      "cell_type": "markdown",
      "metadata": {
        "id": "JWuvhtFiyj_V"
      },
      "source": [
        "There is enough evidence to reject the Null Hypothesis of equal means as the P-Value is low (typically ≤ 0.05)."
      ]
    }
  ]
}