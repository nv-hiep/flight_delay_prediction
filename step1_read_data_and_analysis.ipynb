{
  "nbformat": 4,
  "nbformat_minor": 0,
  "metadata": {
    "colab": {
      "name": "step1_read_data_and_analysis.ipynb",
      "provenance": [],
      "collapsed_sections": []
    },
    "kernelspec": {
      "name": "python3",
      "display_name": "Python 3"
    }
  },
  "cells": [
    {
      "cell_type": "markdown",
      "metadata": {
        "id": "sj3eAw1OXOnB"
      },
      "source": [
        "**Connect and authorize google drive with google colab:**"
      ]
    },
    {
      "cell_type": "code",
      "metadata": {
        "id": "PjjcQSpya_FR"
      },
      "source": [
        "from google.colab import drive\n",
        "drive.mount('/content/gdrive')\n",
        "!ls"
      ],
      "execution_count": null,
      "outputs": []
    },
    {
      "cell_type": "markdown",
      "metadata": {
        "id": "BDJptlLBvSlN"
      },
      "source": [
        "# 1. Import Libraries\n",
        "\n"
      ]
    },
    {
      "cell_type": "code",
      "metadata": {
        "id": "M3cWo7hhc-qO"
      },
      "source": [
        "import os\n",
        "import numpy   as np\n",
        "import pandas  as pd\n",
        "import seaborn as sns\n",
        "\n",
        "import matplotlib.pyplot as plt\n",
        "plt.style.use('fivethirtyeight')\n",
        "\n",
        "%matplotlib inline  "
      ],
      "execution_count": null,
      "outputs": []
    },
    {
      "cell_type": "markdown",
      "metadata": {
        "id": "rM4hXN2QNW2C"
      },
      "source": [
        "# 2. Note on the analysis"
      ]
    },
    {
      "cell_type": "markdown",
      "metadata": {
        "id": "stBnyiMON-Gz"
      },
      "source": [
        "**I will consider the data of flights ONLY in January and February 2017. Here I used Google Colab, and it may consume time, so I will use the data of the 02 months for the analysis.**"
      ]
    },
    {
      "cell_type": "markdown",
      "metadata": {
        "id": "tAbwvuveOC69"
      },
      "source": [
        "**This dataset is composed by the following variables:**\n",
        "\n",
        "YEAR: 2017\n",
        "\n",
        "QUARTER: 1-4\n",
        "\n",
        "MONTH 1-12\n",
        "\n",
        "DAY_OF_MONTH: 1-31\n",
        "\n",
        "DAY_OF_WEEK: 1-7\n",
        "\n",
        "OP_UNIQUE_CARRIER: Two letter carrier abbreviation\n",
        "\n",
        "TAIL_NUM: Plane tail number\n",
        "\n",
        "OP_CARRIER_FL_NUM: Flight number\n",
        "\n",
        "ORIGIN: Airport codes for origin\n",
        "\n",
        "DEST: Airport codes for destination\n",
        "\n",
        "CRS_DEP_TIME: Scheduled departure time, local timezone\n",
        "\n",
        "DEP_TIME: Departure times, local timezone\n",
        "\n",
        "DEP_DELAY: Departure delay, in minutes, Negative times represent early departures\n",
        "\n",
        "TAXI_OUT: taxi out time in minutes\n",
        "\n",
        "TAXI_IN: taxi in time, in minutes\n",
        "\n",
        "CRS_ARR_TIME: Scheduled arrival time\n",
        "\n",
        "ARR_TIME Arrival times, local timezone\n",
        "\n",
        "ARR_DELAY: Arrival delay, in minutes, Negative times represent early arrivals\n",
        "\n",
        "CANCELLED: the flight was cancelled or not\n",
        "\n",
        "CANCELLATION_CODE: reason for cancellation (A = carrier, B = weather, C = NAS, D = security)\n",
        "\n",
        "DIVERTED: 1 = yes, 0 = no\n",
        "\n",
        "CRS_ELAPSED_TIME: Scheduled elapsed time in minutes\n",
        "\n",
        "ACTUAL_ELAPSED_TIME: Actual elapsed time in minutes\n",
        "\n",
        "AIR_TIME: Amount of time spent in the air, in minutes\n",
        "\n",
        "DISTANCE: Distance flown, in miles\n",
        "\n",
        "CARRIER_DELAY: \tin minutes\n",
        "\n",
        "WEATHER_DELAY: in minutes\n",
        "\n",
        "NAS_DELAY: in minutes\n",
        "\n",
        "SECURITY_DELAY: in minutes\n",
        "\n",
        "LATE_AIRCRAFT_DELAY: in minutes\n",
        "\n"
      ]
    },
    {
      "cell_type": "markdown",
      "metadata": {
        "id": "FgfeZe4ivlpb"
      },
      "source": [
        "# 3. Data directory"
      ]
    },
    {
      "cell_type": "code",
      "metadata": {
        "id": "Z9d185J9_xQZ"
      },
      "source": [
        "data_dir = '/content/gdrive/My Drive/data'\n",
        "%cd '/content/gdrive/My Drive/data'\n",
        "\n",
        "current_dir = os.getcwd()\n",
        "print(current_dir)\n",
        "data_path = os.path.join(data_dir, 'flights', '')\n",
        "print(data_path)"
      ],
      "execution_count": null,
      "outputs": []
    },
    {
      "cell_type": "markdown",
      "metadata": {
        "id": "XcLp6KOLNk1O"
      },
      "source": [
        "# 4. Read data sets"
      ]
    },
    {
      "cell_type": "markdown",
      "metadata": {
        "id": "k7kSCjiCvvNz"
      },
      "source": [
        "## Read carrier data"
      ]
    },
    {
      "cell_type": "code",
      "metadata": {
        "id": "PuKxgdWeGN5g"
      },
      "source": [
        "# Read carrier data from csv\n",
        "carriers = pd.read_csv( os.path.join(data_path, 'carriers.csv') )\n",
        "print('Total number of unique carriers: ', len(carriers))\n",
        "carriers.head()"
      ],
      "execution_count": null,
      "outputs": []
    },
    {
      "cell_type": "code",
      "metadata": {
        "id": "AE_ACIZLHu13"
      },
      "source": [
        "carriers.rename({'Description': 'AIRLINE_NAME', 'Code' : 'code'}, axis=1, inplace=True)  # new method\n",
        "carriers.head()"
      ],
      "execution_count": null,
      "outputs": []
    },
    {
      "cell_type": "code",
      "metadata": {
        "id": "W6nXu4N2Eq3i"
      },
      "source": [
        "# Checking the null values\n",
        "carriers.isnull().sum()"
      ],
      "execution_count": null,
      "outputs": []
    },
    {
      "cell_type": "code",
      "metadata": {
        "id": "g1QZmWsKEw_Z"
      },
      "source": [
        "# Checking the null values\n",
        "carriers[carriers.code.isnull()]"
      ],
      "execution_count": null,
      "outputs": []
    },
    {
      "cell_type": "code",
      "metadata": {
        "id": "QSS9oXKXG7Ah"
      },
      "source": [
        "# Google search and correct the code for North American Airlines\n",
        "carriers.at[873, 'code'] = 'NA'"
      ],
      "execution_count": null,
      "outputs": []
    },
    {
      "cell_type": "code",
      "metadata": {
        "id": "sIqg7vu4HZRK"
      },
      "source": [
        "# Checking the null values\n",
        "carriers[carriers.code.isnull()]"
      ],
      "execution_count": null,
      "outputs": []
    },
    {
      "cell_type": "code",
      "metadata": {
        "id": "-_GK43iKFWst"
      },
      "source": [
        "# Checking the null values\n",
        "carriers[carriers.AIRLINE_NAME == 'North American Airlines']"
      ],
      "execution_count": null,
      "outputs": []
    },
    {
      "cell_type": "markdown",
      "metadata": {
        "id": "U3W2qdi8v2GI"
      },
      "source": [
        "## Read airport data"
      ]
    },
    {
      "cell_type": "code",
      "metadata": {
        "id": "zciS7LliG3gL"
      },
      "source": [
        "# Read airport data from csv\n",
        "airports = pd.read_csv( os.path.join(data_path, 'airports.csv') )\n",
        "airports.head()"
      ],
      "execution_count": null,
      "outputs": []
    },
    {
      "cell_type": "code",
      "metadata": {
        "id": "SkW-dhY4ENCC"
      },
      "source": [
        "# Checking the null values\n",
        "airports.isnull().sum()"
      ],
      "execution_count": null,
      "outputs": []
    },
    {
      "cell_type": "code",
      "metadata": {
        "id": "kgbucukQEZJB"
      },
      "source": [
        "# Checking the null values\n",
        "airports[airports.city.isnull()]"
      ],
      "execution_count": null,
      "outputs": []
    },
    {
      "cell_type": "code",
      "metadata": {
        "id": "Mi2Vbs8wOOa0"
      },
      "source": [
        "# Google search and correct the code for North American Airlines\n",
        "airports.at[1136, 'city']  = 'Carlsbad'\n",
        "airports.at[1136, 'state'] = 'CA'\n",
        "\n",
        "airports.at[1715, 'city']  = 'Beaufort County'\n",
        "airports.at[1715, 'state'] = 'SC'\n",
        "\n",
        "airports.at[2251, 'city']  = 'Ward County'\n",
        "airports.at[2251, 'state'] = 'ND'\n",
        "\n",
        "airports.at[2312, 'city']  = 'Marquette County'\n",
        "airports.at[2312, 'state'] = 'MI'\n",
        "\n",
        "airports.at[2752, 'city']  = 'Box Elder'\n",
        "airports.at[2752, 'state'] = 'SD'\n",
        "\n",
        "airports.at[2759, 'city']  = 'Emerado'\n",
        "airports.at[2759, 'state'] = 'ND'\n",
        "\n",
        "airports.at[2794, 'city']  = 'Prachin Buri'\n",
        "airports.at[2794, 'state'] = 'Prachin Buri'\n",
        "\n",
        "airports.at[2795, 'city']  = 'Babelthoup'\n",
        "airports.at[2795, 'state'] = 'Babelthoup'\n",
        "\n",
        "airports.at[2900, 'city']  = 'Centre County'\n",
        "airports.at[2900, 'state'] = 'PA'\n",
        "\n",
        "airports.at[2964, 'city']  = 'Spokane'\n",
        "airports.at[2964, 'state'] = 'WA'\n",
        "\n",
        "airports.at[3001, 'city']  = 'Tinian'\n",
        "airports.at[3001, 'state'] = 'Northern Mariana'\n",
        "\n",
        "airports.at[3355, 'city']  = ' Yap main island'\n",
        "airports.at[3355, 'state'] = 'Yap'\n"
      ],
      "execution_count": null,
      "outputs": []
    },
    {
      "cell_type": "code",
      "metadata": {
        "id": "NRZCyivmTGW-"
      },
      "source": [
        "# Checking the null values\n",
        "airports[airports.city.isnull()]"
      ],
      "execution_count": null,
      "outputs": []
    },
    {
      "cell_type": "code",
      "metadata": {
        "id": "WJUNeEnDTbdR"
      },
      "source": [
        "# Checking the null values\n",
        "airports.isnull().sum()"
      ],
      "execution_count": null,
      "outputs": []
    },
    {
      "cell_type": "markdown",
      "metadata": {
        "id": "85WkcDEhv-XY"
      },
      "source": [
        "## Read flight data"
      ]
    },
    {
      "cell_type": "markdown",
      "metadata": {
        "id": "xsiyRh4tNx7b"
      },
      "source": [
        "### Data for January 2017"
      ]
    },
    {
      "cell_type": "code",
      "metadata": {
        "id": "RGskTmcXbLIv"
      },
      "source": [
        "df1 = pd.read_csv(os.path.join(data_path, '2017_jan.csv') )\n",
        "df1.head()"
      ],
      "execution_count": null,
      "outputs": []
    },
    {
      "cell_type": "markdown",
      "metadata": {
        "id": "XSXr_c59N25-"
      },
      "source": [
        "### Data for February 2017"
      ]
    },
    {
      "cell_type": "code",
      "metadata": {
        "id": "nyVIL4niqlwv"
      },
      "source": [
        "df2 = pd.read_csv(os.path.join(data_path, '2017_feb.csv') )\n",
        "df2.head()"
      ],
      "execution_count": null,
      "outputs": []
    },
    {
      "cell_type": "markdown",
      "metadata": {
        "id": "ms2J2yxuOw1F"
      },
      "source": [
        "### Merge the data of the 02 months"
      ]
    },
    {
      "cell_type": "code",
      "metadata": {
        "id": "ND-z9aD3qx3R"
      },
      "source": [
        "# Concatenating the two data=frames\n",
        "frames = [df1, df2]\n",
        "# df = pd.concat(frames, keys=['jan', 'feb'])\n",
        "df = pd.concat(frames)"
      ],
      "execution_count": null,
      "outputs": []
    },
    {
      "cell_type": "code",
      "metadata": {
        "id": "XX6d6lOTbf0Q"
      },
      "source": [
        "# Print some infor\n",
        "print('Shape: ', df.shape)\n",
        "print('Number of columns/features: ', len(df.columns))\n",
        "print('Columns/features: \\n', df.columns)\n",
        "print('Data types of features: \\n', df.dtypes)"
      ],
      "execution_count": null,
      "outputs": []
    },
    {
      "cell_type": "markdown",
      "metadata": {
        "id": "03y0NO1UO9RO"
      },
      "source": [
        "# 5. Analysis"
      ]
    },
    {
      "cell_type": "markdown",
      "metadata": {
        "id": "0RSsGSO9Pyo0"
      },
      "source": [
        "## 5.1 Check null values, remove cancelled and diverted flights"
      ]
    },
    {
      "cell_type": "markdown",
      "metadata": {
        "id": "TlJY34MJP7mp"
      },
      "source": [
        "I'll remove cancelled and diverted flights because they're unecessary for this analysis."
      ]
    },
    {
      "cell_type": "code",
      "metadata": {
        "id": "XQ3tktjdp7-C"
      },
      "source": [
        "# Check null values\n",
        "df.isnull().sum()"
      ],
      "execution_count": null,
      "outputs": []
    },
    {
      "cell_type": "code",
      "metadata": {
        "id": "avb3uK5XqgHy"
      },
      "source": [
        "# Remove unnecessary columns\n",
        "df.drop(['CANCELLATION_CODE', 'Unnamed: 30'], axis=1, inplace=True)"
      ],
      "execution_count": null,
      "outputs": []
    },
    {
      "cell_type": "code",
      "metadata": {
        "id": "JhTAzkkGwg2T"
      },
      "source": [
        "df.isnull().sum(axis=0)"
      ],
      "execution_count": null,
      "outputs": []
    },
    {
      "cell_type": "code",
      "metadata": {
        "id": "aSaEG7Ol43c2"
      },
      "source": [
        "# Calculate the percentage of cancelled flights\n",
        "df['CANCELLED'].value_counts(normalize=True) * 100"
      ],
      "execution_count": null,
      "outputs": []
    },
    {
      "cell_type": "code",
      "metadata": {
        "id": "TqV_Zm7z6m2f"
      },
      "source": [
        "plt.figure(figsize=(6,6))\n",
        "colors = ['g', 'r']\n",
        "labels = ['Not Cancelled', 'Cancelled']\n",
        "explode = (0,0.8)\n",
        "plt.pie(df['CANCELLED'].value_counts(normalize=True) * 100, colors=colors, labels=labels,\n",
        "explode=explode, autopct='%1.1f%%', shadow=True)\n",
        "plt.title('Percentage of cancelled flights')\n",
        "plt.show()"
      ],
      "execution_count": null,
      "outputs": []
    },
    {
      "cell_type": "markdown",
      "metadata": {
        "id": "mOyemzupPTE9"
      },
      "source": [
        "Pie char for cancelled and departed flights, only 1.8\\% of the flights are cancelled."
      ]
    },
    {
      "cell_type": "code",
      "metadata": {
        "id": "e8G5RWgow63W"
      },
      "source": [
        "# Remove cancelled flights, they're not necessary for this analysis\n",
        "df = df[df.CANCELLED != 1]\n",
        "\n",
        "# Check if the cancelled flights have been removed\n",
        "df['CANCELLED'].value_counts(normalize=True) * 100"
      ],
      "execution_count": null,
      "outputs": []
    },
    {
      "cell_type": "code",
      "metadata": {
        "id": "eXvWCbMOCRgY"
      },
      "source": [
        "# Calculate the percentage of diverted flights\n",
        "df['DIVERTED'].value_counts(normalize=True) * 100"
      ],
      "execution_count": null,
      "outputs": []
    },
    {
      "cell_type": "code",
      "metadata": {
        "id": "MKhGXVLGCiQJ"
      },
      "source": [
        "plt.figure(figsize=(6,6))\n",
        "colors = ['g', 'r']\n",
        "labels = ['Not diverted', 'Diverted']\n",
        "explode = (0,0.8)\n",
        "plt.pie(df['DIVERTED'].value_counts(normalize=True) * 100, colors=colors, labels=labels,\n",
        "explode=explode, autopct='%1.1f%%', shadow=False)\n",
        "plt.title('Percentage of diverted flights')\n",
        "plt.show()"
      ],
      "execution_count": null,
      "outputs": []
    },
    {
      "cell_type": "markdown",
      "metadata": {
        "id": "xX0DdC0SPhcH"
      },
      "source": [
        "Pie char for diverted and normal flights, only 0.3\\% of the flights are diverted."
      ]
    },
    {
      "cell_type": "code",
      "metadata": {
        "id": "gMqMRvxwxfRm"
      },
      "source": [
        "# Also remove diverted flights\n",
        "df = df[df.DIVERTED != 1]\n",
        "# df.isnull().sum(axis=0)\n",
        "\n",
        "# Check if the diverted flights have been removed\n",
        "df['DIVERTED'].value_counts(normalize=True) * 100"
      ],
      "execution_count": null,
      "outputs": []
    },
    {
      "cell_type": "code",
      "metadata": {
        "id": "HgCq96Et1I7X"
      },
      "source": [
        "df.isnull().sum(axis=0)"
      ],
      "execution_count": null,
      "outputs": []
    },
    {
      "cell_type": "code",
      "metadata": {
        "id": "OvOflbX_2gec"
      },
      "source": [
        "# The LATE_AIRCRAFT_DELAY (in minutes) is the delay caused by the aircraft\n",
        "# (i.e. an aircraft which is scheduled to depart at a specific timing arrived late from its previous flight and hence the delay spilled over to the next departure)\n",
        "# A null value in the LATE_AIRCRAFT_DELAY would mean that there is no delay incurred from the late arrival of the previous flight.\n",
        "# I'll set all null values to be 0.\n",
        "df.fillna(value={'LATE_AIRCRAFT_DELAY' : 0}, inplace=True)"
      ],
      "execution_count": null,
      "outputs": []
    },
    {
      "cell_type": "code",
      "metadata": {
        "id": "ophRTa410ZDd"
      },
      "source": [
        "# Similarly, set all null values in CARRIER_DELAY, WEATHER_DELAY, NAS_DELAY, SECURITY_DELAY to be 0\n",
        "df.fillna(value={'CARRIER_DELAY' : 0, 'WEATHER_DELAY' : 0, 'NAS_DELAY' : 0, 'SECURITY_DELAY' : 0}, inplace=True)"
      ],
      "execution_count": null,
      "outputs": []
    },
    {
      "cell_type": "code",
      "metadata": {
        "id": "73AuC_Ig3hOS"
      },
      "source": [
        "# Check null values\n",
        "df.isnull().sum(axis=0)"
      ],
      "execution_count": null,
      "outputs": []
    },
    {
      "cell_type": "code",
      "metadata": {
        "id": "kELpjCFt32gs"
      },
      "source": [
        "# Check: No DIVERTED flights anymore\n",
        "df.DIVERTED.unique().tolist()"
      ],
      "execution_count": null,
      "outputs": []
    },
    {
      "cell_type": "code",
      "metadata": {
        "id": "9nDhgewE38JM"
      },
      "source": [
        "# Check: No CANCELLED flights anymore\n",
        "df.CANCELLED.unique().tolist()"
      ],
      "execution_count": null,
      "outputs": []
    },
    {
      "cell_type": "code",
      "metadata": {
        "id": "Z7EZpTUbAOMa"
      },
      "source": [
        "# Dropping DIVERTED & CANCELLED columns\n",
        "df.drop(['DIVERTED', 'CANCELLED'], axis=1, inplace=True)\n",
        "df.head()"
      ],
      "execution_count": null,
      "outputs": []
    },
    {
      "cell_type": "code",
      "metadata": {
        "id": "S3BTwigy_anm"
      },
      "source": [
        "# OK! No more null/nan values\n",
        "# Check the datatypes\n",
        "df.info()"
      ],
      "execution_count": null,
      "outputs": []
    },
    {
      "cell_type": "markdown",
      "metadata": {
        "id": "DDlfr2kBQKHu"
      },
      "source": [
        "## 5.2 Add carrier descriptions"
      ]
    },
    {
      "cell_type": "code",
      "metadata": {
        "id": "ImcjAimDIVLA"
      },
      "source": [
        "# Add carrier descriptions\n",
        "df = pd.merge(df, carriers, how='left', left_on='OP_UNIQUE_CARRIER', right_on='code')\n",
        "df.head()"
      ],
      "execution_count": null,
      "outputs": []
    },
    {
      "cell_type": "code",
      "metadata": {
        "id": "vWY5wTZNMFC7"
      },
      "source": [
        "df.drop(['code'], axis=1, inplace=True)"
      ],
      "execution_count": null,
      "outputs": []
    },
    {
      "cell_type": "markdown",
      "metadata": {
        "id": "DTUvNgzBLP9s"
      },
      "source": [
        "## 5.3 Delay Analysis"
      ]
    },
    {
      "cell_type": "code",
      "metadata": {
        "id": "CofZObfV82Rr"
      },
      "source": [
        "# Set the delay threshold\n",
        "delay_thresh = 30 # minutes"
      ],
      "execution_count": null,
      "outputs": []
    },
    {
      "cell_type": "markdown",
      "metadata": {
        "id": "DbWx-OnJ5WSW"
      },
      "source": [
        "I computed the summary statistics of the departure and arrival delays of all flights to gain a broad understanding of the data.\n",
        "\n",
        "*   Departure delay is the difference between the official departure time and the actual departure time of the flight measured in minutes.\n",
        "\n",
        "*   Arrival delay is the difference between the official arrival time and the actual departure time of the flight measured in minutes.\n",
        "\n",
        "*   Positive values for delay indicate that the flight was delayed, negative values indicate the flight departed/arrived early"
      ]
    },
    {
      "cell_type": "code",
      "metadata": {
        "id": "0Izd_XR13HTy"
      },
      "source": [
        "# 'ARR_DELAY', 'DEP_DELAY', 'AIR_TIME' in [minutes]\n",
        "# DISTANCE in [km]\n",
        "df[['ARR_DELAY', 'DEP_DELAY']].describe()\n"
      ],
      "execution_count": null,
      "outputs": []
    },
    {
      "cell_type": "markdown",
      "metadata": {
        "id": "XONRHGFC6Y-S"
      },
      "source": [
        "The average arrival delay is only around 4 minutes. In addition, the median value is -6 minutes, suggesting the majority of flights actually arrive earlier than their expected time of arrival.\n",
        "\n",
        "To illustrate this, I created a pie chart depicting the percentage of flights for each interval of arrival delay."
      ]
    },
    {
      "cell_type": "code",
      "metadata": {
        "id": "Tp8X7AnSDoQN"
      },
      "source": [
        "labels = ['Early > 30 min',' Early < 30 min',' Late < 30 min', 'Late < 2 hours', 'Late > 2 hours']\n",
        "bins   = [-100, -30, 0, 30, 120, 1945]\n",
        "\n",
        "df['ARR_DELAY_BINS'] = pd.cut(df['ARR_DELAY'], bins=bins, labels=labels)\n",
        "a = df.groupby('ARR_DELAY_BINS').size()\n",
        "print(a)\n",
        "# a.plot.pie(figsize=(6,6))\n",
        "\n",
        "plt.figure(figsize=(7,7))\n",
        "colors = ['r', 'y', 'g', 'lightblue', 'orange']\n",
        "explode = (0, 0, 0, 0, 0.5)\n",
        "plt.pie(a, colors=colors, labels=labels,\n",
        "explode=explode, autopct='%1.1f%%', shadow=False)\n",
        "plt.title('Percentage of delayed arrival flights for each interval')\n",
        "plt.show()\n",
        "\n",
        "# Drop the newly added ARR_DELAY_BINS column\n",
        "df.drop(['ARR_DELAY_BINS'], axis=1, inplace=True)"
      ],
      "execution_count": null,
      "outputs": []
    },
    {
      "cell_type": "markdown",
      "metadata": {
        "id": "f0_GSX5oHZ64"
      },
      "source": [
        "As shown, ~65% of flights arrive early and only ~12% of flights arrive more than 30 minutes late.\n",
        "\n",
        "The vast majority of flights arrive ahead of schedule. Moreover, only around 12% of flights are late by more than 30 minutes."
      ]
    },
    {
      "cell_type": "code",
      "metadata": {
        "id": "zBF7pnor6MiC"
      },
      "source": [
        "# ax = df.hist(column=['ARR_DELAY', 'DEP_DELAY'], bins=100, grid=False, figsize=(12,8), layout=(1,2), color='#86bf91', zorder=2, rwidth=0.9, density=1)\n",
        "ax = df.hist(column=['ARR_DELAY', 'DEP_DELAY'], bins=150, grid=False, figsize=(12,8), layout=(1,2), color='#86bf91', zorder=2, rwidth=0.99)\n",
        "\n",
        "ax = ax[0]\n",
        "for i,x in enumerate(ax):\n",
        "\n",
        "    # Despine\n",
        "    x.spines['right'].set_visible(False)\n",
        "    x.spines['top'].set_visible(False)\n",
        "    x.spines['left'].set_visible(False)\n",
        "\n",
        "    # Switch off ticks\n",
        "    x.tick_params(axis=\"both\", which=\"both\", bottom=\"off\", top=\"off\", labelbottom=\"on\", left=\"off\", right=\"off\", labelleft=\"on\")\n",
        "\n",
        "    # Draw horizontal axis lines\n",
        "    vals = x.get_yticks()\n",
        "    for tick in vals:\n",
        "        x.axhline(y=tick, linestyle='dashed', alpha=0.4, color='#eeeeee', zorder=1)\n",
        "\n",
        "    # Remove title\n",
        "    x.set_title(\"\")\n",
        "\n",
        "    # Set x-axis label\n",
        "    xlabel = \"ARRIVAL DELAY (minutes)\" if i == 1 else \"DEPARTURE DELAY (minutes)\"\n",
        "    x.set_xlabel(xlabel, labelpad=20, weight='bold', size=12)\n",
        "\n",
        "    # Set y-axis label\n",
        "    x.set_ylabel(\"Counts\", labelpad=20, weight='bold', size=12)\n",
        "\n",
        "    # Set log-scale for y-axis\n",
        "    # x.set_yscale('log')\n",
        "\n",
        "    x.set_xlim(-75, 300)"
      ],
      "execution_count": null,
      "outputs": []
    },
    {
      "cell_type": "markdown",
      "metadata": {
        "id": "k7XrYDbVIDcI"
      },
      "source": [
        "Histograms of departure and arrival delays (number of flights vs minutes). The average arrival delay is only around 4 minutes, the average departure delay is only around 9 minutes."
      ]
    },
    {
      "cell_type": "markdown",
      "metadata": {
        "id": "D2SYFdWvc6W5"
      },
      "source": [
        "## 5.4 Causes of arrival delay"
      ]
    },
    {
      "cell_type": "markdown",
      "metadata": {
        "id": "jhOJed_SdWdh"
      },
      "source": [
        "### a. Carrier delay"
      ]
    },
    {
      "cell_type": "code",
      "metadata": {
        "id": "miCOelm_c_-D"
      },
      "source": [
        "carrier_delay =  df[df['CARRIER_DELAY'] > 0]\n",
        "carrier_delay = carrier_delay.reset_index()\n",
        "\n",
        "carrier_delay.CARRIER_DELAY.unique().tolist()[:15]\n",
        "\n",
        "carrier_delay = carrier_delay.drop('index',axis=1)\n",
        "carrier_delay.head()"
      ],
      "execution_count": null,
      "outputs": []
    },
    {
      "cell_type": "markdown",
      "metadata": {
        "id": "Rp0lOy-Ne7YH"
      },
      "source": [
        "### b. Weather delay"
      ]
    },
    {
      "cell_type": "code",
      "metadata": {
        "id": "gzmkRMjAfAfT"
      },
      "source": [
        "weather_delay =  df[df['WEATHER_DELAY'] > 0]\n",
        "weather_delay = weather_delay.reset_index()\n",
        "\n",
        "weather_delay = weather_delay.drop('index', axis=1)\n",
        "weather_delay.head()"
      ],
      "execution_count": null,
      "outputs": []
    },
    {
      "cell_type": "markdown",
      "metadata": {
        "id": "JCKx28sUfaeS"
      },
      "source": [
        "### c. Security delay"
      ]
    },
    {
      "cell_type": "code",
      "metadata": {
        "id": "i_56IJOYfl77"
      },
      "source": [
        "security_delay =  df[df['SECURITY_DELAY'] > 0]\n",
        "security_delay = security_delay.reset_index()\n",
        "\n",
        "security_delay = security_delay.drop('index', axis=1)\n",
        "security_delay.head()"
      ],
      "execution_count": null,
      "outputs": []
    },
    {
      "cell_type": "markdown",
      "metadata": {
        "id": "oFyerbuafzq6"
      },
      "source": [
        "### d. NAS delay"
      ]
    },
    {
      "cell_type": "code",
      "metadata": {
        "id": "dQOOYotYf3nF"
      },
      "source": [
        "nas_delay =  df[df['NAS_DELAY'] > 0]\n",
        "nas_delay = nas_delay.reset_index()\n",
        "\n",
        "nas_delay = nas_delay.drop('index', axis=1)\n",
        "nas_delay.head()"
      ],
      "execution_count": null,
      "outputs": []
    },
    {
      "cell_type": "markdown",
      "metadata": {
        "id": "NS7TNiBEgHPT"
      },
      "source": [
        "### e. Late aircraft delay"
      ]
    },
    {
      "cell_type": "code",
      "metadata": {
        "id": "eTKOKqOUgMAl"
      },
      "source": [
        "aircraft_delay =  df[df['LATE_AIRCRAFT_DELAY'] > 0]\n",
        "aircraft_delay = aircraft_delay.reset_index()\n",
        "\n",
        "aircraft_delay = aircraft_delay.drop('index', axis=1)\n",
        "aircraft_delay.head()"
      ],
      "execution_count": null,
      "outputs": []
    },
    {
      "cell_type": "markdown",
      "metadata": {
        "id": "6wgpr3WHm6I1"
      },
      "source": [
        "### Bar chart for causes of delay"
      ]
    },
    {
      "cell_type": "code",
      "metadata": {
        "id": "FhqEZPEAiehE"
      },
      "source": [
        "cause_names  = ['aircraft_delay', 'security_delay', 'carrier_delay', 'nas_delay','weather_delay']\n",
        "count_values = [len(aircraft_delay), len(security_delay), len(carrier_delay), len(nas_delay), len(weather_delay)]\n",
        "\n",
        "causes_of_delay = pd.DataFrame({'CAUSES': cause_names, 'COUNTS': count_values})\n",
        "\n",
        "x = range(len(cause_names))\n",
        "\n",
        "plt.figure(figsize=(6,8))\n",
        "sns.barplot(x='CAUSES', y='COUNTS', data = causes_of_delay)\n",
        "\n",
        "for i in x:\n",
        "    plt.annotate(str(count_values[i]), xy=(x[i], count_values[i]), ha='center', va='bottom', size=14)\n",
        "\n",
        "plt.ylabel('NUMBER OF DELAYED ARRIVAL FLIGHTS (ARRIVAL DELAY > 0 minutes)')\n",
        "plt.xlabel('CAUSE OF DELAY')\n",
        "plt.xticks(rotation=70, size=12)\n",
        "plt.tight_layout()\n",
        "plt.show()"
      ],
      "execution_count": null,
      "outputs": []
    },
    {
      "cell_type": "markdown",
      "metadata": {
        "id": "USIIKIQhGePF"
      },
      "source": [
        "Histograms of delayed arrival flights with respect to the causes of delay (January and February 2017). Most of delayed arrival flights are caused by NAS, aircraft and carrier (airline). Security caused a small number of delayed flights."
      ]
    },
    {
      "cell_type": "markdown",
      "metadata": {
        "id": "yC83lDPTn7M4"
      },
      "source": [
        "## 5.5 Arrival delay with respect to day of week"
      ]
    },
    {
      "cell_type": "code",
      "metadata": {
        "id": "T2HoyNE4oS1h"
      },
      "source": [
        "arrival_delay_dow = df[ df['ARR_DELAY'] > 0 ]\n",
        "arrival_delay_dow = arrival_delay_dow.groupby(['DAY_OF_WEEK'])['ARR_DELAY'].count().reset_index(name='COUNTS')\n",
        "arrival_delay_dow"
      ],
      "execution_count": null,
      "outputs": []
    },
    {
      "cell_type": "code",
      "metadata": {
        "id": "_pUBeqe6sODn"
      },
      "source": [
        "arrival_delay_dow['DAY_OF_WEEK'] = [ 'Monday', 'Tuesday', 'Wednesday', 'Thursday', 'Friday', 'Saturday', 'Sunday' ]\n",
        "\n",
        "plt.figure(figsize=(8,6))\n",
        "sns.barplot(x='DAY_OF_WEEK', y='COUNTS', data=arrival_delay_dow)\n",
        "plt.ylabel('NUMBER OF DELAYED ARRIVAL FLIGHTS')\n",
        "plt.xlabel('DAY OF WEEK', size = 14)\n",
        "plt.xticks(rotation=70, size = 12)\n",
        "plt.tight_layout()\n",
        "plt.show()"
      ],
      "execution_count": null,
      "outputs": []
    },
    {
      "cell_type": "markdown",
      "metadata": {
        "id": "eGPU1uthG5O0"
      },
      "source": [
        "Histograms of delayed arrival flights with respect to the day of week (January and February 2017). Most of flights arrived late on Mondays, Thursdays, Fridays and Sundays. Saturdays see fewer delayed flights."
      ]
    },
    {
      "cell_type": "markdown",
      "metadata": {
        "id": "BrcknIQOm72u"
      },
      "source": [
        "## 5.6 Arrival delay with respect to day of month"
      ]
    },
    {
      "cell_type": "code",
      "metadata": {
        "id": "vKvGXtwwnMVA"
      },
      "source": [
        "arrival_delay_dom = df[ df['ARR_DELAY'] > 0 ]\n",
        "arrival_delay_dom = arrival_delay_dom.groupby(['DAY_OF_MONTH'])['ARR_DELAY'].count().reset_index(name='COUNTS')\n",
        "arrival_delay_dom"
      ],
      "execution_count": null,
      "outputs": []
    },
    {
      "cell_type": "code",
      "metadata": {
        "id": "7fXtMmHKnlmc"
      },
      "source": [
        "plt.figure(figsize=(14,6))\n",
        "sns.barplot(x='DAY_OF_MONTH', y='COUNTS', data=arrival_delay_dom)\n",
        "plt.ylabel('NUMBER OF DELAYED ARRIVAL FLIGHTS')\n",
        "plt.xlabel('DAY OF MONTH')\n",
        "plt.xticks(rotation=70)\n",
        "plt.tight_layout()\n",
        "plt.show()"
      ],
      "execution_count": null,
      "outputs": []
    },
    {
      "cell_type": "markdown",
      "metadata": {
        "id": "C1KjwOZrHBok"
      },
      "source": [
        "Histograms of delayed arrival flights with respect to day of month (January and February 2017). There were fewer delayed flights in the middle and in the end of the months."
      ]
    },
    {
      "cell_type": "markdown",
      "metadata": {
        "id": "o0dE2-QjdFwD"
      },
      "source": [
        "## 5.7 Average delay of 20 busiest airports"
      ]
    },
    {
      "cell_type": "code",
      "metadata": {
        "id": "xyoTog1jCFzb"
      },
      "source": [
        "# Top 20 busiest destinations\n",
        "top20_dest = list(df['DEST'].value_counts().head(20).index)\n",
        "print(top20_dest)\n",
        "\n",
        "top20_dest_df = df[df['DEST'].isin(top20_dest)][['OP_UNIQUE_CARRIER','ORIGIN','DEST','ARR_DELAY', 'AIRLINE_NAME']]\n",
        "top20_dest_df.head()"
      ],
      "execution_count": null,
      "outputs": []
    },
    {
      "cell_type": "code",
      "metadata": {
        "id": "vBXHNBTRCrvs"
      },
      "source": [
        "delays = (pd.DataFrame(top20_dest_df.groupby('DEST', as_index=False)['ARR_DELAY']\n",
        "                       .mean())\n",
        "          .sort_values(by='ARR_DELAY', ascending=False))\n",
        "delays"
      ],
      "execution_count": null,
      "outputs": []
    },
    {
      "cell_type": "code",
      "metadata": {
        "id": "cbQjHP6bDJwh"
      },
      "source": [
        "plt.figure(figsize=(12,8))\n",
        "ax = sns.barplot(x='ARR_DELAY', y='DEST', data=delays, palette='flare')\n",
        "ax.set_title('Average Arrival Delay in Minutes of 20 Busiest Aiports', size=14)\n",
        "ax.set_ylabel('')\n",
        "ax.set_xlabel('Average Arrival Delay [Minutes]', size=14)\n",
        "fig = ax.get_figure()\n",
        "\n",
        "for bar in ax.patches:\n",
        "    ax.text(bar.get_width()-0.75,  bar.get_y()+bar.get_height()/2. + 0.15,\n",
        "           '{:1.2f}'.format(bar.get_width()), ha='center', color='b', size='11', weight='bold')"
      ],
      "execution_count": null,
      "outputs": []
    },
    {
      "cell_type": "markdown",
      "metadata": {
        "id": "e_M7L82USLvH"
      },
      "source": [
        "SFO airport has a longest arrival delay with a mean of 24 minutes, the flights arrived at MCO are late only about 30 seconds. The flights landed at CLT aiport were about 3 minute early."
      ]
    },
    {
      "cell_type": "markdown",
      "metadata": {
        "id": "DcUvigBoU8iu"
      },
      "source": [
        "## 5.8 Arrival Delay for the top 20 airlines\n",
        "\n",
        "I will next visualize the arrival delays for the top 20 airlines. The top 20 airlines are defined as the airlines with the top 20 most flights in the dataset."
      ]
    },
    {
      "cell_type": "code",
      "metadata": {
        "id": "EoIknyceVFkT"
      },
      "source": [
        "# Top 12 busiest airlines\n",
        "top20_airlines = list(df['OP_UNIQUE_CARRIER'].value_counts().head(20).index)\n",
        "print(top20_airlines)\n",
        "\n",
        "top20_airlines_df = df[df['OP_UNIQUE_CARRIER'].isin(top20_airlines)][['OP_UNIQUE_CARRIER','ORIGIN','DEST','ARR_DELAY', 'AIRLINE_NAME']]\n",
        "top20_airlines_df.head()"
      ],
      "execution_count": null,
      "outputs": []
    },
    {
      "cell_type": "markdown",
      "metadata": {
        "id": "CK4ZCn1_XAkt"
      },
      "source": [
        "Out of the 20 airlines that have had the most flights, let's take a look at who has had delays greater than 30 minutes."
      ]
    },
    {
      "cell_type": "code",
      "metadata": {
        "id": "0HuDPK0DXEWF"
      },
      "source": [
        "temp_df = top20_airlines_df.copy()\n",
        "\n",
        "# Get delays greater than 30 minutes\n",
        "temp_df['ARR_DELAY'] = temp_df['ARR_DELAY'].apply(lambda x: 30 if x >=30 else x)\n",
        "temp_df['ARR_DELAY'] = temp_df['ARR_DELAY'].apply(lambda x: -30 if x <= -30 else x)"
      ],
      "execution_count": null,
      "outputs": []
    },
    {
      "cell_type": "code",
      "metadata": {
        "id": "QrCT5RYQXJBJ"
      },
      "source": [
        "plt.figure(figsize=(20,5))\n",
        "ax = sns.violinplot(x='AIRLINE_NAME', y='ARR_DELAY', data=temp_df)\n",
        "ax.set_ylabel('Arrival Delay [minutes]')\n",
        "ax.set_xlabel('Airlines')\n",
        "label = ax.set_xticklabels(ax.get_xticklabels(), rotation=30)\n",
        "fig = ax.get_figure()"
      ],
      "execution_count": null,
      "outputs": []
    },
    {
      "cell_type": "markdown",
      "metadata": {
        "id": "XGj1kihcZdiz"
      },
      "source": [
        "The median for the top 20 airlines is around 0 to -10 minutes, meaning that most flights arrive before their scheduled time. The width of the plots at 30 represents the frequency of flights arriving 30 minutes or more after the scheduled arrival time."
      ]
    },
    {
      "cell_type": "markdown",
      "metadata": {
        "id": "qx0APn6zZ2py"
      },
      "source": [
        "Next, we will plot the percentage of all flights delayed more than 30 minutes."
      ]
    },
    {
      "cell_type": "code",
      "metadata": {
        "id": "JdxVCIWZZ16U"
      },
      "source": [
        "# flights delayed more than 30 minutes.\n",
        "delays = pd.DataFrame()\n",
        "\n",
        "for uc in list(df['OP_UNIQUE_CARRIER'].unique()):\n",
        "    percent_delay = len(df[(df['OP_UNIQUE_CARRIER']==uc) & (df['ARR_DELAY'] >= delay_thresh)].index)/len(df[df['OP_UNIQUE_CARRIER']==uc].index)*100\n",
        "    delays = delays.append({'OP_UNIQUE_CARRIER': uc, 'PERCENT_DELAY': percent_delay}, ignore_index=True)\n",
        "\n",
        "delays = pd.merge(delays, carriers, how='left', left_on='OP_UNIQUE_CARRIER', right_on='code')\n",
        "delays.drop(['OP_UNIQUE_CARRIER', 'code'], axis=1, inplace=True)\n",
        "delays.rename(index=str, columns={'Description':'AIRLINE'}, inplace=True)\n",
        "delays.sort_values(by=['PERCENT_DELAY'], ascending=False, inplace=True)\n",
        "delays"
      ],
      "execution_count": null,
      "outputs": []
    },
    {
      "cell_type": "code",
      "metadata": {
        "id": "jf2UZz5NcDX6"
      },
      "source": [
        "# Plot\n",
        "plt.figure(figsize=(10,8))\n",
        "ax = sns.barplot(x='PERCENT_DELAY', y='AIRLINE_NAME', data=delays, palette='flare')\n",
        "\n",
        "ax.set_title('Percent of arrival flights delayed more than 30 minutes', size=14)\n",
        "ax.set_ylabel('')\n",
        "ax.set_xlabel('[%]', size=14)\n",
        "fig = ax.get_figure()\n",
        "\n",
        "for bar in ax.patches:\n",
        "    ax.text(bar.get_width()-0.9,  bar.get_y()+bar.get_height()/2. + 0.15,\n",
        "           '{:1.2f}%'.format(bar.get_width()), ha='center', color='white', size='11', weight='bold')"
      ],
      "execution_count": null,
      "outputs": []
    },
    {
      "cell_type": "markdown",
      "metadata": {
        "id": "X2hYPIKkKQRm"
      },
      "source": [
        "Percent of arrival flights delayed more than 30 minutes. Among the top 12 busiest airlines, Virgin America has the largest ratio of delayed flights with 22\\%, the Hawaiian Ailiines Inc. has the lowest ratio."
      ]
    },
    {
      "cell_type": "markdown",
      "metadata": {
        "id": "HqOV6XF0HCS4"
      },
      "source": [
        "## 5.9 Delay per Airline on the Destination Airports"
      ]
    },
    {
      "cell_type": "code",
      "metadata": {
        "id": "gzv9XXbQG_ab"
      },
      "source": [
        "# Params for plots\n",
        "font = {'family' : 'normal', 'weight' : 'bold', 'size'   : 15}\n",
        "sns.set_style('whitegrid')\n",
        "\n",
        "# Initialize the Graph\n",
        "fig_dim=(16,10)\n",
        "fig, ax =plt.subplots(figsize=fig_dim)\n",
        "sns.despine(bottom=True, left=True)\n",
        "\n",
        "# Draw each observation with a scatterplot\n",
        "sns.stripplot(x='ARR_DELAY', y='AIRLINE_NAME', hue='AIRLINE_NAME',data=df , size=4,  linewidth = 0.5,  jitter=True)\n",
        "plt.xlabel('Flight Arrival Delay on the Destination Airports')\n",
        "plt.ylabel('AirLines')\n",
        "ax.set_xticklabels(['{:2.0f}h{:2.0f}m'.format(*[int(y) for y in divmod(x,60)])\n",
        "                         for x in ax.get_xticks()])\n",
        "ax.yaxis.label.set_visible(True)"
      ],
      "execution_count": null,
      "outputs": []
    },
    {
      "cell_type": "markdown",
      "metadata": {
        "id": "H1zap-jXLa0s"
      },
      "source": [
        "Sactter plot of delay per Airline on the Destination Airports. Among the top 12 busiest airlines, Virgin America still has the longest of delay up to 33h20m late, the Alaska Ailiines Inc. has the shortest delays up to 8h20m."
      ]
    },
    {
      "cell_type": "markdown",
      "metadata": {
        "id": "oHK0_hy_LIkd"
      },
      "source": [
        "## 5.10 Origin/Destination Analysis"
      ]
    },
    {
      "cell_type": "markdown",
      "metadata": {
        "id": "E7NRNKWLLeaW"
      },
      "source": [
        "Next, I'll perform some analysis on the origin and destination airports. First, find the top 10 busiest airports in terms of flight frequency. The ranking of airports are found to be consistent when counting for both origin and destination, and for each airport, the number of incoming and outgoing flights are roughly equal (as seen below)."
      ]
    },
    {
      "cell_type": "code",
      "metadata": {
        "id": "UQghII4oVqxN"
      },
      "source": [
        "origin_airport_counts = df['ORIGIN'].value_counts().to_dict()\n",
        "\n",
        "origin_airport_counts = sorted(origin_airport_counts.items(), key=lambda x: x[1], reverse=True)\n",
        "print( origin_airport_counts[:10] )\n",
        "\n",
        "top10_origin_airports = [x[0] for x in origin_airport_counts[:10]]\n",
        "top10_origin_airports_counts = [x[1] for x in origin_airport_counts[:10]]\n",
        "print(top10_origin_airports)\n",
        "\n",
        "del origin_airport_counts"
      ],
      "execution_count": null,
      "outputs": []
    },
    {
      "cell_type": "code",
      "metadata": {
        "id": "r_9EyGXpas8f"
      },
      "source": [
        "dest_airport_counts = df['DEST'].value_counts().to_dict()\n",
        "\n",
        "dest_airport_counts = sorted(dest_airport_counts.items(), key=lambda x: x[1], reverse=True)\n",
        "print( dest_airport_counts[:10] )\n",
        "\n",
        "top10_dest_airports = [x[0] for x in dest_airport_counts[:10]]\n",
        "top10_dest_airports_counts = [x[1] for x in dest_airport_counts[:10]]\n",
        "print(top10_dest_airports)\n",
        "\n",
        "del dest_airport_counts"
      ],
      "execution_count": null,
      "outputs": []
    },
    {
      "cell_type": "code",
      "metadata": {
        "id": "ruAQKQgbbj1T"
      },
      "source": [
        "print( top10_origin_airports ==  top10_dest_airports)"
      ],
      "execution_count": null,
      "outputs": []
    },
    {
      "cell_type": "code",
      "metadata": {
        "id": "EisFhZvFbwQz"
      },
      "source": [
        "df_top10_airports = pd.DataFrame( {'Origin': top10_origin_airports_counts, \n",
        "                                  'Destination': top10_dest_airports_counts},\n",
        "                                 index=top10_origin_airports)\n",
        "\n",
        "df_top10_airports.plot.bar(rot=0, xlabel='Airports', ylabel='Count', figsize=(10,7), title='Counts of inbound/outbound flights for 10 busiest airports')\n",
        "\n",
        "del df_top10_airports"
      ],
      "execution_count": null,
      "outputs": []
    },
    {
      "cell_type": "markdown",
      "metadata": {
        "id": "w5AxYZ0KsM-7"
      },
      "source": [
        "Atlanta Airport (ATL) is the busiest airport, with over 50,000 incoming and outgoing flights over the 2-month period.\n",
        "\n",
        "For each airport, the number of incoming and outgoing flights are roughly equal "
      ]
    },
    {
      "cell_type": "code",
      "metadata": {
        "id": "13e9IvpEayR8"
      },
      "source": [
        "airport_pairs = df.groupby(['ORIGIN', 'DEST']).agg({'DEP_DELAY': ['mean', 'min', 'max', 'count']})\n",
        "airport_pairs.columns = ['DEP_DELAY_MEAN', 'DEP_DELAY_MIN', 'DEP_DELAY_MAX', 'COUNTS']\n",
        "airport_pairs = airport_pairs.reset_index()\n",
        "\n",
        "airport_pairs = airport_pairs[airport_pairs.COUNTS > 20]\n",
        "\n",
        "print('Parameters of ORIGIN-DESTINATION airport pairs')\n",
        "print('Number of airport pairs considered: ', len(airport_pairs))\n",
        "\n",
        "airport_pairs.sort_values(by='DEP_DELAY_MEAN', ascending=False)"
      ],
      "execution_count": null,
      "outputs": []
    },
    {
      "cell_type": "markdown",
      "metadata": {
        "id": "CdOxQSkGsI9K"
      },
      "source": [
        "ORIGIN-DESTINATION airport pairs with highest and lowest average delay. Only take into account the airport pairs that had at least 20 flights over this 2-month period (average of 10 flights per month) as I wanted to consider flights that were relatively frequent.\n",
        "\n",
        "Highest Average Delay: 77.2 minutes (late) from LGA to CAE\n",
        "\n",
        "Lowest Average Delay: -33 minutes (early) from RHI to IMT"
      ]
    },
    {
      "cell_type": "markdown",
      "metadata": {
        "id": "U_hCEtRF416C"
      },
      "source": [
        "## 5.11 Analysis (t-test & Mann-Whitney U test for Hypothesis testing)"
      ]
    },
    {
      "cell_type": "markdown",
      "metadata": {
        "id": "FnxzEJpeTgq2"
      },
      "source": [
        "**Test if the means of arrival delays (in minutes) in January and February 2017 are equal?**"
      ]
    },
    {
      "cell_type": "markdown",
      "metadata": {
        "id": "wOd3WZUk5UrR"
      },
      "source": [
        "The arrival delay in minutes for 2 months (January and February)."
      ]
    },
    {
      "cell_type": "code",
      "metadata": {
        "id": "pxkiSdQwtlRp"
      },
      "source": [
        "delayed_jan = df.ARR_DELAY[ ( (df.ARR_DELAY > 0) & (df.MONTH == 1) )] \n",
        "print( 'Number of samples in January: ', len(delayed_jan) )\n",
        "delayed_jan.describe()"
      ],
      "execution_count": null,
      "outputs": []
    },
    {
      "cell_type": "code",
      "metadata": {
        "id": "E_mUvbXNt-kO"
      },
      "source": [
        "delayed_feb = df.ARR_DELAY[ ( (df.ARR_DELAY > 0) & (df.MONTH == 2) )] \n",
        "print( 'Number of samples in February: ',len(delayed_feb) )\n",
        "delayed_feb.describe()"
      ],
      "execution_count": null,
      "outputs": []
    },
    {
      "cell_type": "code",
      "metadata": {
        "id": "QLfr7Slqumt_"
      },
      "source": [
        "plt.figure(figsize=(10,8))\n",
        "sns.distplot(delayed_jan,  kde=False, label='Jan')\n",
        "sns.distplot(delayed_feb,  kde=False, label='Feb')\n",
        "plt.title(\"Sample T-Test\")\n",
        "plt.xlim(-100, 300)\n",
        "plt.xlabel('Arrival delay in minutes')\n",
        "plt.ylabel('Count')\n",
        "plt.legend()\n",
        "plt.show()"
      ],
      "execution_count": null,
      "outputs": []
    },
    {
      "cell_type": "markdown",
      "metadata": {
        "id": "If5xQ1PeEIit"
      },
      "source": [
        "Histograms of delayed arrival flights (arrival delay > 0 minutes) for January anf Febuary of 2017"
      ]
    },
    {
      "cell_type": "markdown",
      "metadata": {
        "id": "b5FxCVpFymwM"
      },
      "source": [
        "#### 5.11a Independent Sample T-Test"
      ]
    },
    {
      "cell_type": "markdown",
      "metadata": {
        "id": "KUt4OZh_1Vj2"
      },
      "source": [
        "Define the Null and Alternate Hypothesis:\n",
        "\n",
        "\n",
        "*   Null Hypothesis: the means of both groups are equal (µ1 = µ2)\n",
        "*   Alternate Hypothesis: the means of both group are not equal (µ1 ≠ µ2)\n",
        "\n"
      ]
    },
    {
      "cell_type": "code",
      "metadata": {
        "id": "PhbuUVvYwg7G"
      },
      "source": [
        "from scipy import stats\n",
        "t_stat, p_value = stats.ttest_ind(delayed_jan, delayed_feb, equal_var = False)\n",
        "print('t-statistic:{0}, p-value:{1}'.format(t_stat, p_value)) # p-Value and the T-Statistic\n",
        "# P-Value:8.536872289699007e-138 T-Statistic:25.00028507345877"
      ],
      "execution_count": null,
      "outputs": []
    },
    {
      "cell_type": "markdown",
      "metadata": {
        "id": "0Ib8NKUcy2e-"
      },
      "source": [
        "There is enough evidence to reject the Null Hypothesis of equal means as the P-Value is low (typically ≤ 0.05).\n",
        "\n",
        "Statistically speaking, there is enough evidence to conclude that the population means are not equal."
      ]
    },
    {
      "cell_type": "markdown",
      "metadata": {
        "id": "SBBacF0qyt8n"
      },
      "source": [
        "#### 5.11b Mann-Whitney U Test"
      ]
    },
    {
      "cell_type": "markdown",
      "metadata": {
        "id": "676JT00bzCv6"
      },
      "source": [
        "Define the Null and Alternate Hypothesis:\n",
        "\n",
        "\n",
        "*   Null Hypothesis: the means of both groups are equal (µ1 = µ2)\n",
        "*   Alternate Hypothesis: the means of both group are not equal (µ1 ≠ µ2)\n",
        "\n"
      ]
    },
    {
      "cell_type": "code",
      "metadata": {
        "id": "vOrhxwfdxUlk"
      },
      "source": [
        "#perform the Mann-Whitney U test\n",
        "u_stat, p_value = stats.mannwhitneyu(delayed_jan, delayed_feb, alternative='two-sided')\n",
        "print('u-statistic:{0}, p-value:{1}'.format(u_stat, p_value)) # p-Value and the U-Statistic"
      ],
      "execution_count": null,
      "outputs": []
    },
    {
      "cell_type": "markdown",
      "metadata": {
        "id": "JWuvhtFiyj_V"
      },
      "source": [
        "There is enough evidence to reject the Null Hypothesis of equal means as the P-Value is low (typically ≤ 0.05)."
      ]
    }
  ]
}