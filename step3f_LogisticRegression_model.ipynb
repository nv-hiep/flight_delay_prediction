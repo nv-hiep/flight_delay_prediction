{
  "nbformat": 4,
  "nbformat_minor": 0,
  "metadata": {
    "colab": {
      "name": "step3f_LogisticRegression_model.ipynb",
      "provenance": [],
      "collapsed_sections": [],
      "authorship_tag": "ABX9TyMrY/0Il9i3+a4lYWrCir1a",
      "include_colab_link": true
    },
    "kernelspec": {
      "name": "python3",
      "display_name": "Python 3"
    },
    "accelerator": "TPU"
  },
  "cells": [
    {
      "cell_type": "markdown",
      "metadata": {
        "id": "view-in-github",
        "colab_type": "text"
      },
      "source": [
        "<a href=\"https://colab.research.google.com/github/nv-hiep/flight_delay_prediction/blob/master/step3f_LogisticRegression_model.ipynb\" target=\"_parent\"><img src=\"https://colab.research.google.com/assets/colab-badge.svg\" alt=\"Open In Colab\"/></a>"
      ]
    },
    {
      "cell_type": "markdown",
      "metadata": {
        "id": "XNptZpGaux2I"
      },
      "source": [
        "**Step 3: LogisticRegression Model**"
      ]
    },
    {
      "cell_type": "markdown",
      "metadata": {
        "id": "4DtfHtMLNB8n"
      },
      "source": [
        "**NOTE: Instead of predicting the delay time in minutes, I'll predict in delay intervals:**\n",
        "\n",
        "**0: ARR_DELAY <= 0 for no delay**\n",
        "\n",
        "**1: 0 < ARR_DELAY <= 30 (minutes)**\n",
        "\n",
        "**2: 30 < ARR_DELAY <= 60 (minutes)**\n",
        "\n",
        "**3: 60 < ARR_DELAY <= 120 (minutes)**\n",
        "\n",
        "**43: 120 < ARR_DELAY**"
      ]
    },
    {
      "cell_type": "markdown",
      "metadata": {
        "id": "byrtLLDiXzAB"
      },
      "source": [
        "# Procedures\n",
        "\n",
        "1. Read the data.\n",
        "\n",
        "2. Split the data into training and test sets.\n",
        "\n",
        "3. Run the model on the training and test sets, record the accuracy score.\n",
        "\n",
        "4. Run the model on the training and test sets, using SelectKBest for Feature Selection, record the accuracy score.\n",
        "\n",
        "5. Run the model on the training and test sets, using PCA for Feature Selection, record the accuracy score.\n",
        "\n",
        "6. Run the model on the training and test sets, using RFE for Feature Selection, record the accuracy score.\n",
        "\n",
        "7. Compare the accuracy scores and choose the best method for Feature Selection.\n",
        "\n",
        "8. Get best parameters of the model using GridSearchCV, record the accuracy score.\n",
        "\n",
        "9. Get best parameters of the model using Hyperopt, record the accuracy score.\n",
        "\n",
        "10. Compare the accuracy scores to choose Hyperopt or GridSearch for obtaining the best parameters.\n",
        "\n",
        "11. Perform a 10-fold cross-validation with the best parameters, record the accuracy score which will be used to compare the performances of different models."
      ]
    },
    {
      "cell_type": "markdown",
      "metadata": {
        "id": "sj3eAw1OXOnB"
      },
      "source": [
        "**Connect and authorize google drive with google colab:**"
      ]
    },
    {
      "cell_type": "code",
      "metadata": {
        "id": "PjjcQSpya_FR",
        "colab": {
          "base_uri": "https://localhost:8080/"
        },
        "outputId": "df57c3eb-8464-42d7-fea8-c3201956bb20"
      },
      "source": [
        "from google.colab import drive\n",
        "drive.mount('/content/gdrive')\n",
        "# !ls"
      ],
      "execution_count": null,
      "outputs": [
        {
          "output_type": "stream",
          "text": [
            "Mounted at /content/gdrive\n"
          ],
          "name": "stdout"
        }
      ]
    },
    {
      "cell_type": "markdown",
      "metadata": {
        "id": "BDJptlLBvSlN"
      },
      "source": [
        "# 1. Import Libraries\n",
        "\n"
      ]
    },
    {
      "cell_type": "code",
      "metadata": {
        "id": "M3cWo7hhc-qO"
      },
      "source": [
        "import os\n",
        "import numpy   as np\n",
        "import pandas  as pd\n",
        "import seaborn as sns\n",
        "\n",
        "import matplotlib.pyplot as plt\n",
        "plt.style.use('fivethirtyeight')\n",
        "\n",
        "%matplotlib inline  "
      ],
      "execution_count": null,
      "outputs": []
    },
    {
      "cell_type": "code",
      "metadata": {
        "id": "9z2_TJyNuAxA"
      },
      "source": [
        "from sklearn.compose import make_column_transformer, ColumnTransformer\n",
        "from sklearn.preprocessing import OneHotEncoder, StandardScaler, PolynomialFeatures, PowerTransformer\n",
        "from sklearn.linear_model import LogisticRegression\n",
        "from sklearn.pipeline import make_pipeline\n",
        "from sklearn.model_selection import cross_val_score\n",
        "from sklearn.feature_selection import RFECV\n",
        "from sklearn.ensemble import GradientBoostingClassifier\n",
        "from sklearn.preprocessing import StandardScaler\n",
        "from sklearn.pipeline import Pipeline\n",
        "\n",
        "from sklearn.model_selection import train_test_split, GridSearchCV, StratifiedKFold, KFold\n",
        "\n",
        "from sklearn.metrics import precision_score, recall_score, f1_score, accuracy_score, roc_auc_score, mean_squared_error, r2_score\n",
        "from sklearn.metrics import confusion_matrix, roc_curve, classification_report\n",
        "\n",
        "from sklearn.neighbors import KNeighborsClassifier\n",
        "from collections import defaultdict\n",
        "\n",
        "from sklearn.naive_bayes import GaussianNB\n",
        "from sklearn.tree import DecisionTreeClassifier\n",
        "from sklearn.ensemble import RandomForestClassifier, RandomForestRegressor"
      ],
      "execution_count": null,
      "outputs": []
    },
    {
      "cell_type": "code",
      "metadata": {
        "id": "KOo5yJuugwee"
      },
      "source": [
        "from hyperopt import fmin, hp, tpe, Trials, space_eval\n",
        "from hyperopt.pyll import scope as ho_scope\n",
        "from hyperopt.pyll.stochastic import sample as ho_sample\n",
        "\n",
        "from hyperopt import fmin, hp, tpe, Trials, space_eval, STATUS_OK\n",
        "from functools import partial\n",
        "\n",
        "from sklearn.svm import SVC\n",
        "\n",
        "from sklearn import datasets\n",
        "from sklearn.utils import shuffle"
      ],
      "execution_count": null,
      "outputs": []
    },
    {
      "cell_type": "markdown",
      "metadata": {
        "id": "FgfeZe4ivlpb"
      },
      "source": [
        "# 2. Data directory"
      ]
    },
    {
      "cell_type": "code",
      "metadata": {
        "id": "Z9d185J9_xQZ",
        "colab": {
          "base_uri": "https://localhost:8080/"
        },
        "outputId": "14fc2885-285e-451c-f60e-a6ac8d0c5132"
      },
      "source": [
        "data_dir = '/content/gdrive/My Drive/data'\n",
        "%cd '/content/gdrive/My Drive/data'\n",
        "\n",
        "current_dir = os.getcwd()\n",
        "print(current_dir)\n",
        "data_path = os.path.join(data_dir, 'flights', '')\n",
        "print(data_path)"
      ],
      "execution_count": null,
      "outputs": [
        {
          "output_type": "stream",
          "text": [
            "/content/gdrive/My Drive/data\n",
            "/content/gdrive/My Drive/data\n",
            "/content/gdrive/My Drive/data/flights/\n"
          ],
          "name": "stdout"
        }
      ]
    },
    {
      "cell_type": "markdown",
      "metadata": {
        "id": "qQWESb2L2DXG"
      },
      "source": [
        "# 3. Read data"
      ]
    },
    {
      "cell_type": "code",
      "metadata": {
        "id": "4NHnKMOvZtFZ",
        "colab": {
          "base_uri": "https://localhost:8080/",
          "height": 221
        },
        "outputId": "65bc9a6d-120b-4e21-a28e-77428591e75e"
      },
      "source": [
        "# Read clean sub-data from csv\n",
        "df_sub = pd.read_csv( os.path.join(data_path, 'cleaned_data_jan_20klines.csv') )\n",
        "print('Number of columns: ', len(df_sub.columns))\n",
        "df_sub.tail()"
      ],
      "execution_count": null,
      "outputs": [
        {
          "output_type": "stream",
          "text": [
            "Number of columns:  15\n"
          ],
          "name": "stdout"
        },
        {
          "output_type": "execute_result",
          "data": {
            "text/html": [
              "<div>\n",
              "<style scoped>\n",
              "    .dataframe tbody tr th:only-of-type {\n",
              "        vertical-align: middle;\n",
              "    }\n",
              "\n",
              "    .dataframe tbody tr th {\n",
              "        vertical-align: top;\n",
              "    }\n",
              "\n",
              "    .dataframe thead th {\n",
              "        text-align: right;\n",
              "    }\n",
              "</style>\n",
              "<table border=\"1\" class=\"dataframe\">\n",
              "  <thead>\n",
              "    <tr style=\"text-align: right;\">\n",
              "      <th></th>\n",
              "      <th>ARR_TIME</th>\n",
              "      <th>CRS_ARR_TIME</th>\n",
              "      <th>TAIL_NUM</th>\n",
              "      <th>DISTANCE</th>\n",
              "      <th>OP_CARRIER_FL_NUM</th>\n",
              "      <th>DEP_TIME</th>\n",
              "      <th>TAXI_OUT</th>\n",
              "      <th>DEST</th>\n",
              "      <th>ORIGIN</th>\n",
              "      <th>TAXI_IN</th>\n",
              "      <th>DAY_OF_MONTH</th>\n",
              "      <th>CARRIER_DELAY</th>\n",
              "      <th>NAS_DELAY</th>\n",
              "      <th>LATE_AIRCRAFT_DELAY</th>\n",
              "      <th>DELAYED</th>\n",
              "    </tr>\n",
              "  </thead>\n",
              "  <tbody>\n",
              "    <tr>\n",
              "      <th>19995</th>\n",
              "      <td>22.42</td>\n",
              "      <td>20.83</td>\n",
              "      <td>695</td>\n",
              "      <td>1855.0</td>\n",
              "      <td>5175</td>\n",
              "      <td>16.73</td>\n",
              "      <td>17.0</td>\n",
              "      <td>180</td>\n",
              "      <td>261</td>\n",
              "      <td>5.0</td>\n",
              "      <td>8</td>\n",
              "      <td>11.0</td>\n",
              "      <td>0.0</td>\n",
              "      <td>84.0</td>\n",
              "      <td>3</td>\n",
              "    </tr>\n",
              "    <tr>\n",
              "      <th>19996</th>\n",
              "      <td>15.53</td>\n",
              "      <td>15.42</td>\n",
              "      <td>3050</td>\n",
              "      <td>1845.0</td>\n",
              "      <td>4738</td>\n",
              "      <td>9.48</td>\n",
              "      <td>31.0</td>\n",
              "      <td>188</td>\n",
              "      <td>261</td>\n",
              "      <td>5.0</td>\n",
              "      <td>8</td>\n",
              "      <td>0.0</td>\n",
              "      <td>0.0</td>\n",
              "      <td>0.0</td>\n",
              "      <td>1</td>\n",
              "    </tr>\n",
              "    <tr>\n",
              "      <th>19997</th>\n",
              "      <td>16.72</td>\n",
              "      <td>16.08</td>\n",
              "      <td>4131</td>\n",
              "      <td>651.0</td>\n",
              "      <td>2498</td>\n",
              "      <td>13.98</td>\n",
              "      <td>16.0</td>\n",
              "      <td>223</td>\n",
              "      <td>261</td>\n",
              "      <td>4.0</td>\n",
              "      <td>8</td>\n",
              "      <td>0.0</td>\n",
              "      <td>0.0</td>\n",
              "      <td>38.0</td>\n",
              "      <td>2</td>\n",
              "    </tr>\n",
              "    <tr>\n",
              "      <th>19998</th>\n",
              "      <td>23.43</td>\n",
              "      <td>21.17</td>\n",
              "      <td>3754</td>\n",
              "      <td>651.0</td>\n",
              "      <td>3226</td>\n",
              "      <td>20.70</td>\n",
              "      <td>14.0</td>\n",
              "      <td>223</td>\n",
              "      <td>261</td>\n",
              "      <td>4.0</td>\n",
              "      <td>8</td>\n",
              "      <td>0.0</td>\n",
              "      <td>0.0</td>\n",
              "      <td>136.0</td>\n",
              "      <td>4</td>\n",
              "    </tr>\n",
              "    <tr>\n",
              "      <th>19999</th>\n",
              "      <td>11.08</td>\n",
              "      <td>11.25</td>\n",
              "      <td>743</td>\n",
              "      <td>651.0</td>\n",
              "      <td>4798</td>\n",
              "      <td>8.35</td>\n",
              "      <td>17.0</td>\n",
              "      <td>223</td>\n",
              "      <td>261</td>\n",
              "      <td>4.0</td>\n",
              "      <td>8</td>\n",
              "      <td>0.0</td>\n",
              "      <td>0.0</td>\n",
              "      <td>0.0</td>\n",
              "      <td>0</td>\n",
              "    </tr>\n",
              "  </tbody>\n",
              "</table>\n",
              "</div>"
            ],
            "text/plain": [
              "       ARR_TIME  CRS_ARR_TIME  ...  LATE_AIRCRAFT_DELAY  DELAYED\n",
              "19995     22.42         20.83  ...                 84.0        3\n",
              "19996     15.53         15.42  ...                  0.0        1\n",
              "19997     16.72         16.08  ...                 38.0        2\n",
              "19998     23.43         21.17  ...                136.0        4\n",
              "19999     11.08         11.25  ...                  0.0        0\n",
              "\n",
              "[5 rows x 15 columns]"
            ]
          },
          "metadata": {
            "tags": []
          },
          "execution_count": 6
        }
      ]
    },
    {
      "cell_type": "code",
      "metadata": {
        "id": "N8L784JI2OEe",
        "colab": {
          "base_uri": "https://localhost:8080/"
        },
        "outputId": "148f1ddd-0c02-4ad8-880d-54cf222129e4"
      },
      "source": [
        "# Checking the null values\n",
        "df_sub.isnull().sum()"
      ],
      "execution_count": null,
      "outputs": [
        {
          "output_type": "execute_result",
          "data": {
            "text/plain": [
              "ARR_TIME               0\n",
              "CRS_ARR_TIME           0\n",
              "TAIL_NUM               0\n",
              "DISTANCE               0\n",
              "OP_CARRIER_FL_NUM      0\n",
              "DEP_TIME               0\n",
              "TAXI_OUT               0\n",
              "DEST                   0\n",
              "ORIGIN                 0\n",
              "TAXI_IN                0\n",
              "DAY_OF_MONTH           0\n",
              "CARRIER_DELAY          0\n",
              "NAS_DELAY              0\n",
              "LATE_AIRCRAFT_DELAY    0\n",
              "DELAYED                0\n",
              "dtype: int64"
            ]
          },
          "metadata": {
            "tags": []
          },
          "execution_count": 7
        }
      ]
    },
    {
      "cell_type": "code",
      "metadata": {
        "id": "F5Lthnuh_nrk",
        "colab": {
          "base_uri": "https://localhost:8080/"
        },
        "outputId": "70533127-0173-4210-c718-b3087432b0c8"
      },
      "source": [
        "df_sub.dtypes"
      ],
      "execution_count": null,
      "outputs": [
        {
          "output_type": "execute_result",
          "data": {
            "text/plain": [
              "ARR_TIME               float64\n",
              "CRS_ARR_TIME           float64\n",
              "TAIL_NUM                 int64\n",
              "DISTANCE               float64\n",
              "OP_CARRIER_FL_NUM        int64\n",
              "DEP_TIME               float64\n",
              "TAXI_OUT               float64\n",
              "DEST                     int64\n",
              "ORIGIN                   int64\n",
              "TAXI_IN                float64\n",
              "DAY_OF_MONTH             int64\n",
              "CARRIER_DELAY          float64\n",
              "NAS_DELAY              float64\n",
              "LATE_AIRCRAFT_DELAY    float64\n",
              "DELAYED                  int64\n",
              "dtype: object"
            ]
          },
          "metadata": {
            "tags": []
          },
          "execution_count": 8
        }
      ]
    },
    {
      "cell_type": "code",
      "metadata": {
        "id": "7T16wSrJy_Hb",
        "colab": {
          "base_uri": "https://localhost:8080/",
          "height": 204
        },
        "outputId": "d7866e8c-ac70-4a70-a1dc-09cb44987cc0"
      },
      "source": [
        "df_sub.head()"
      ],
      "execution_count": null,
      "outputs": [
        {
          "output_type": "execute_result",
          "data": {
            "text/html": [
              "<div>\n",
              "<style scoped>\n",
              "    .dataframe tbody tr th:only-of-type {\n",
              "        vertical-align: middle;\n",
              "    }\n",
              "\n",
              "    .dataframe tbody tr th {\n",
              "        vertical-align: top;\n",
              "    }\n",
              "\n",
              "    .dataframe thead th {\n",
              "        text-align: right;\n",
              "    }\n",
              "</style>\n",
              "<table border=\"1\" class=\"dataframe\">\n",
              "  <thead>\n",
              "    <tr style=\"text-align: right;\">\n",
              "      <th></th>\n",
              "      <th>ARR_TIME</th>\n",
              "      <th>CRS_ARR_TIME</th>\n",
              "      <th>TAIL_NUM</th>\n",
              "      <th>DISTANCE</th>\n",
              "      <th>OP_CARRIER_FL_NUM</th>\n",
              "      <th>DEP_TIME</th>\n",
              "      <th>TAXI_OUT</th>\n",
              "      <th>DEST</th>\n",
              "      <th>ORIGIN</th>\n",
              "      <th>TAXI_IN</th>\n",
              "      <th>DAY_OF_MONTH</th>\n",
              "      <th>CARRIER_DELAY</th>\n",
              "      <th>NAS_DELAY</th>\n",
              "      <th>LATE_AIRCRAFT_DELAY</th>\n",
              "      <th>DELAYED</th>\n",
              "    </tr>\n",
              "  </thead>\n",
              "  <tbody>\n",
              "    <tr>\n",
              "      <th>0</th>\n",
              "      <td>10.40</td>\n",
              "      <td>10.3</td>\n",
              "      <td>1373</td>\n",
              "      <td>1126.0</td>\n",
              "      <td>2186</td>\n",
              "      <td>9.22</td>\n",
              "      <td>26.0</td>\n",
              "      <td>234</td>\n",
              "      <td>76</td>\n",
              "      <td>5.0</td>\n",
              "      <td>16</td>\n",
              "      <td>0.0</td>\n",
              "      <td>0.0</td>\n",
              "      <td>0.0</td>\n",
              "      <td>1</td>\n",
              "    </tr>\n",
              "    <tr>\n",
              "      <th>1</th>\n",
              "      <td>10.18</td>\n",
              "      <td>10.3</td>\n",
              "      <td>1258</td>\n",
              "      <td>1126.0</td>\n",
              "      <td>2186</td>\n",
              "      <td>9.07</td>\n",
              "      <td>31.0</td>\n",
              "      <td>234</td>\n",
              "      <td>76</td>\n",
              "      <td>4.0</td>\n",
              "      <td>17</td>\n",
              "      <td>0.0</td>\n",
              "      <td>0.0</td>\n",
              "      <td>0.0</td>\n",
              "      <td>0</td>\n",
              "    </tr>\n",
              "    <tr>\n",
              "      <th>2</th>\n",
              "      <td>10.47</td>\n",
              "      <td>10.3</td>\n",
              "      <td>1252</td>\n",
              "      <td>1126.0</td>\n",
              "      <td>2186</td>\n",
              "      <td>9.13</td>\n",
              "      <td>44.0</td>\n",
              "      <td>234</td>\n",
              "      <td>76</td>\n",
              "      <td>5.0</td>\n",
              "      <td>18</td>\n",
              "      <td>0.0</td>\n",
              "      <td>0.0</td>\n",
              "      <td>0.0</td>\n",
              "      <td>1</td>\n",
              "    </tr>\n",
              "    <tr>\n",
              "      <th>3</th>\n",
              "      <td>10.78</td>\n",
              "      <td>10.3</td>\n",
              "      <td>1477</td>\n",
              "      <td>1126.0</td>\n",
              "      <td>2186</td>\n",
              "      <td>9.08</td>\n",
              "      <td>41.0</td>\n",
              "      <td>234</td>\n",
              "      <td>76</td>\n",
              "      <td>8.0</td>\n",
              "      <td>19</td>\n",
              "      <td>0.0</td>\n",
              "      <td>29.0</td>\n",
              "      <td>0.0</td>\n",
              "      <td>1</td>\n",
              "    </tr>\n",
              "    <tr>\n",
              "      <th>4</th>\n",
              "      <td>10.18</td>\n",
              "      <td>10.3</td>\n",
              "      <td>1505</td>\n",
              "      <td>1126.0</td>\n",
              "      <td>2186</td>\n",
              "      <td>9.05</td>\n",
              "      <td>20.0</td>\n",
              "      <td>234</td>\n",
              "      <td>76</td>\n",
              "      <td>6.0</td>\n",
              "      <td>20</td>\n",
              "      <td>0.0</td>\n",
              "      <td>0.0</td>\n",
              "      <td>0.0</td>\n",
              "      <td>0</td>\n",
              "    </tr>\n",
              "  </tbody>\n",
              "</table>\n",
              "</div>"
            ],
            "text/plain": [
              "   ARR_TIME  CRS_ARR_TIME  TAIL_NUM  ...  NAS_DELAY  LATE_AIRCRAFT_DELAY  DELAYED\n",
              "0     10.40          10.3      1373  ...        0.0                  0.0        1\n",
              "1     10.18          10.3      1258  ...        0.0                  0.0        0\n",
              "2     10.47          10.3      1252  ...        0.0                  0.0        1\n",
              "3     10.78          10.3      1477  ...       29.0                  0.0        1\n",
              "4     10.18          10.3      1505  ...        0.0                  0.0        0\n",
              "\n",
              "[5 rows x 15 columns]"
            ]
          },
          "metadata": {
            "tags": []
          },
          "execution_count": 9
        }
      ]
    },
    {
      "cell_type": "code",
      "metadata": {
        "id": "33MQJXD0I-VV"
      },
      "source": [
        "# Create data and label sets\n",
        "y = df_sub['DELAYED'][:1000]\n",
        "X = df_sub.drop(['DELAYED'], axis=1, inplace=False)[:1000]"
      ],
      "execution_count": null,
      "outputs": []
    },
    {
      "cell_type": "code",
      "metadata": {
        "id": "cOFHQTvJplNN",
        "colab": {
          "base_uri": "https://localhost:8080/"
        },
        "outputId": "bede0ee1-bf2a-4547-c909-3a7fe5b28b87"
      },
      "source": [
        "print(X.shape)\n",
        "print(y.shape)"
      ],
      "execution_count": null,
      "outputs": [
        {
          "output_type": "stream",
          "text": [
            "(1000, 14)\n",
            "(1000,)\n"
          ],
          "name": "stdout"
        }
      ]
    },
    {
      "cell_type": "code",
      "metadata": {
        "id": "F-c6wmtSMpX7"
      },
      "source": [
        "# Training and test datasets\n",
        "X_train, X_test, y_train, y_test = train_test_split(X, y, test_size=0.2, random_state=42)\n"
      ],
      "execution_count": null,
      "outputs": []
    },
    {
      "cell_type": "markdown",
      "metadata": {
        "id": "oQ41rI43xFNc"
      },
      "source": [
        "# 4. LogisticRegression model"
      ]
    },
    {
      "cell_type": "code",
      "metadata": {
        "id": "b3_9BsDrvXz5"
      },
      "source": [
        "# Get score of the SVC on the test data\n",
        "def get_score_logistic_regression(X_train, X_test, y_train, y_test):\n",
        "    # Train the model\n",
        "    clf = LogisticRegression(random_state=0, max_iter=100, solver='liblinear')\n",
        "    clf.fit(X_train, y_train)\n",
        "\n",
        "    # Predict and get score on test data\n",
        "    y_pred = clf.predict(X_test)\n",
        "    score  = accuracy_score(y_test, y_pred)\n",
        "    print('Accuracy: ', score)\n",
        "\n",
        "    return score"
      ],
      "execution_count": null,
      "outputs": []
    },
    {
      "cell_type": "markdown",
      "metadata": {
        "id": "tfZDZu7G0Y_f"
      },
      "source": [
        "**Get score of the LogisticRegression on the test data**"
      ]
    },
    {
      "cell_type": "code",
      "metadata": {
        "colab": {
          "base_uri": "https://localhost:8080/"
        },
        "id": "qM3VUUT20LBU",
        "outputId": "99a4702d-6422-496c-9fdf-c7f8c5dd5f2c"
      },
      "source": [
        "# Get the score of LogisticRegression Model after the SelectKBest\n",
        "get_score_logistic_regression(X_train, X_test, y_train, y_test)"
      ],
      "execution_count": null,
      "outputs": [
        {
          "output_type": "stream",
          "text": [
            "Accuracy:  0.74\n"
          ],
          "name": "stdout"
        },
        {
          "output_type": "execute_result",
          "data": {
            "text/plain": [
              "0.74"
            ]
          },
          "metadata": {
            "tags": []
          },
          "execution_count": 14
        }
      ]
    },
    {
      "cell_type": "markdown",
      "metadata": {
        "id": "gjyHRuiIHMHg"
      },
      "source": [
        "## 4.1 LogisticRegression model and SelectKBest for Feature Selection"
      ]
    },
    {
      "cell_type": "code",
      "metadata": {
        "colab": {
          "base_uri": "https://localhost:8080/"
        },
        "id": "ZmPRCC5oHYbK",
        "outputId": "0fa6cf16-5de8-4925-cd0a-4b75f96aef13"
      },
      "source": [
        "# Number of features in X_train\n",
        "nfeatures = len( X_train.columns )\n",
        "print('Number of features in X_train: ', nfeatures)"
      ],
      "execution_count": null,
      "outputs": [
        {
          "output_type": "stream",
          "text": [
            "Number of features in X_train:  14\n"
          ],
          "name": "stdout"
        }
      ]
    },
    {
      "cell_type": "code",
      "metadata": {
        "colab": {
          "base_uri": "https://localhost:8080/"
        },
        "id": "ccJKamp2JPlh",
        "outputId": "ab28e8d2-9a6a-406e-f401-b50d63818b0b"
      },
      "source": [
        "# SelectKBest for classification\n",
        "from sklearn.feature_selection import SelectKBest, f_classif, chi2, mutual_info_classif\n",
        "\n",
        "# Select 10 features and fit\n",
        "selector    = SelectKBest(f_classif, k = 10)\n",
        "X_train_skb = selector.fit_transform(X_train, y_train)\n",
        "X_test_skb  = selector.transform(X_test)\n",
        "\n",
        "names  = X.columns.values[selector.get_support()]\n",
        "scores = selector.scores_[selector.get_support()]\n",
        "\n",
        "names_scores = list(zip(names, scores))\n",
        "ns_df        = pd.DataFrame(data = names_scores, columns=['Feature_names', 'F_Scores'])\n",
        "\n",
        "# Sort the dataframe\n",
        "ns_df_sorted = ns_df.sort_values(['F_Scores', 'Feature_names'], ascending = [False, True])\n",
        "print('Features selected: ', len(ns_df))\n",
        "print(ns_df_sorted)"
      ],
      "execution_count": null,
      "outputs": [
        {
          "output_type": "stream",
          "text": [
            "Features selected:  10\n",
            "         Feature_names    F_Scores\n",
            "9  LATE_AIRCRAFT_DELAY  175.953820\n",
            "7        CARRIER_DELAY  104.718385\n",
            "8            NAS_DELAY   75.252374\n",
            "4             TAXI_OUT   30.338138\n",
            "6         DAY_OF_MONTH   11.954327\n",
            "5              TAXI_IN    5.133920\n",
            "3             DEP_TIME    4.156151\n",
            "2             DISTANCE    3.032514\n",
            "0             ARR_TIME    2.534617\n",
            "1         CRS_ARR_TIME    2.091812\n"
          ],
          "name": "stdout"
        }
      ]
    },
    {
      "cell_type": "code",
      "metadata": {
        "colab": {
          "base_uri": "https://localhost:8080/"
        },
        "id": "mhN9fO6TPglU",
        "outputId": "d1e6de39-0b39-477a-b106-e58ef926e628"
      },
      "source": [
        "print( 'Shape of transformed X_train: ', X_train_skb.shape )\n",
        "print( 'Shape of transformed X_test: ', X_test_skb.shape )"
      ],
      "execution_count": null,
      "outputs": [
        {
          "output_type": "stream",
          "text": [
            "Shape of transformed X_train:  (800, 10)\n",
            "Shape of transformed X_test:  (200, 10)\n"
          ],
          "name": "stdout"
        }
      ]
    },
    {
      "cell_type": "code",
      "metadata": {
        "colab": {
          "base_uri": "https://localhost:8080/"
        },
        "id": "4RuyQ6wlPvvL",
        "outputId": "f2685a71-7af5-4c2b-bf6a-fac2a78258f7"
      },
      "source": [
        "# Get the score of SVM Model after the SelectKBest\n",
        "get_score_logistic_regression(X_train_skb, X_test_skb, y_train, y_test)"
      ],
      "execution_count": null,
      "outputs": [
        {
          "output_type": "stream",
          "text": [
            "Accuracy:  0.745\n"
          ],
          "name": "stdout"
        },
        {
          "output_type": "execute_result",
          "data": {
            "text/plain": [
              "0.745"
            ]
          },
          "metadata": {
            "tags": []
          },
          "execution_count": 18
        }
      ]
    },
    {
      "cell_type": "markdown",
      "metadata": {
        "id": "TvlQS7WAcUi0"
      },
      "source": [
        "**With SelectKBest feauture selection, the accuracy score of the LogisticRegression Classifier has slightly increased from 0.74 to 0.745.**"
      ]
    },
    {
      "cell_type": "markdown",
      "metadata": {
        "id": "x8AXyv_iQjCV"
      },
      "source": [
        "## 4.2 LogisticRegression model and PCA for Feature Selection"
      ]
    },
    {
      "cell_type": "code",
      "metadata": {
        "colab": {
          "base_uri": "https://localhost:8080/"
        },
        "id": "BjCFEbhKQjCV",
        "outputId": "12f06107-6be2-4daa-cedf-2be5179601ac"
      },
      "source": [
        "# Number of features in X_train\n",
        "nfeatures = len( X_train.columns )\n",
        "print('Number of features in X_train: ', nfeatures)"
      ],
      "execution_count": null,
      "outputs": [
        {
          "output_type": "stream",
          "text": [
            "Number of features in X_train:  14\n"
          ],
          "name": "stdout"
        }
      ]
    },
    {
      "cell_type": "code",
      "metadata": {
        "colab": {
          "base_uri": "https://localhost:8080/"
        },
        "id": "K1ZGBc6AUNMh",
        "outputId": "156080f3-b5eb-4cf6-f790-26e181020092"
      },
      "source": [
        "from sklearn.decomposition import PCA\n",
        "\n",
        "pca = PCA(n_components = 10)\n",
        "X_train_pca = pca.fit_transform(X_train)\n",
        "X_test_pca  = pca.transform(X_test)\n",
        "\n",
        "print('Explained variation per principal component (PC):\\n {}'.format(np.round( pca.explained_variance_ratio_, 4) ))"
      ],
      "execution_count": null,
      "outputs": [
        {
          "output_type": "stream",
          "text": [
            "Explained variation per principal component (PC):\n",
            " [7.215e-01 2.649e-01 7.100e-03 5.500e-03 3.000e-04 2.000e-04 1.000e-04\n",
            " 1.000e-04 1.000e-04 1.000e-04]\n"
          ],
          "name": "stdout"
        }
      ]
    },
    {
      "cell_type": "markdown",
      "metadata": {
        "id": "hA71wK-qW-XG"
      },
      "source": [
        "PC1 explains 72% and PC2 26%. Together, if we keep PC1 and PC2 only, they explain 98% of the total amount of variance in the training dataset."
      ]
    },
    {
      "cell_type": "code",
      "metadata": {
        "colab": {
          "base_uri": "https://localhost:8080/",
          "height": 359
        },
        "id": "8kWqaqCrXDgh",
        "outputId": "07d6401e-9cf2-4746-dabe-84160841213d"
      },
      "source": [
        "pd.DataFrame(pca.components_, columns=X.columns, index = ['PC-' + str(x) for x in range(1, 11)])"
      ],
      "execution_count": null,
      "outputs": [
        {
          "output_type": "execute_result",
          "data": {
            "text/html": [
              "<div>\n",
              "<style scoped>\n",
              "    .dataframe tbody tr th:only-of-type {\n",
              "        vertical-align: middle;\n",
              "    }\n",
              "\n",
              "    .dataframe tbody tr th {\n",
              "        vertical-align: top;\n",
              "    }\n",
              "\n",
              "    .dataframe thead th {\n",
              "        text-align: right;\n",
              "    }\n",
              "</style>\n",
              "<table border=\"1\" class=\"dataframe\">\n",
              "  <thead>\n",
              "    <tr style=\"text-align: right;\">\n",
              "      <th></th>\n",
              "      <th>ARR_TIME</th>\n",
              "      <th>CRS_ARR_TIME</th>\n",
              "      <th>TAIL_NUM</th>\n",
              "      <th>DISTANCE</th>\n",
              "      <th>OP_CARRIER_FL_NUM</th>\n",
              "      <th>DEP_TIME</th>\n",
              "      <th>TAXI_OUT</th>\n",
              "      <th>DEST</th>\n",
              "      <th>ORIGIN</th>\n",
              "      <th>TAXI_IN</th>\n",
              "      <th>DAY_OF_MONTH</th>\n",
              "      <th>CARRIER_DELAY</th>\n",
              "      <th>NAS_DELAY</th>\n",
              "      <th>LATE_AIRCRAFT_DELAY</th>\n",
              "    </tr>\n",
              "  </thead>\n",
              "  <tbody>\n",
              "    <tr>\n",
              "      <th>PC-1</th>\n",
              "      <td>0.000090</td>\n",
              "      <td>-0.000049</td>\n",
              "      <td>0.999239</td>\n",
              "      <td>0.037215</td>\n",
              "      <td>0.001617</td>\n",
              "      <td>-0.000005</td>\n",
              "      <td>0.001539</td>\n",
              "      <td>0.004220</td>\n",
              "      <td>0.010370</td>\n",
              "      <td>7.300183e-04</td>\n",
              "      <td>-0.000465</td>\n",
              "      <td>-0.000603</td>\n",
              "      <td>0.001177</td>\n",
              "      <td>0.001715</td>\n",
              "    </tr>\n",
              "    <tr>\n",
              "      <th>PC-2</th>\n",
              "      <td>-0.000406</td>\n",
              "      <td>0.000668</td>\n",
              "      <td>-0.037630</td>\n",
              "      <td>0.998261</td>\n",
              "      <td>0.000423</td>\n",
              "      <td>-0.000951</td>\n",
              "      <td>0.001400</td>\n",
              "      <td>0.034814</td>\n",
              "      <td>0.028593</td>\n",
              "      <td>6.905549e-07</td>\n",
              "      <td>-0.001160</td>\n",
              "      <td>0.000864</td>\n",
              "      <td>0.004730</td>\n",
              "      <td>-0.000673</td>\n",
              "    </tr>\n",
              "    <tr>\n",
              "      <th>PC-3</th>\n",
              "      <td>0.001865</td>\n",
              "      <td>0.005391</td>\n",
              "      <td>0.001178</td>\n",
              "      <td>-0.019970</td>\n",
              "      <td>0.003382</td>\n",
              "      <td>0.010959</td>\n",
              "      <td>0.005970</td>\n",
              "      <td>0.910596</td>\n",
              "      <td>-0.412048</td>\n",
              "      <td>-1.487201e-02</td>\n",
              "      <td>0.000286</td>\n",
              "      <td>0.006791</td>\n",
              "      <td>0.009815</td>\n",
              "      <td>-0.008289</td>\n",
              "    </tr>\n",
              "    <tr>\n",
              "      <th>PC-4</th>\n",
              "      <td>-0.009755</td>\n",
              "      <td>-0.013450</td>\n",
              "      <td>0.009648</td>\n",
              "      <td>0.040746</td>\n",
              "      <td>0.013493</td>\n",
              "      <td>-0.010644</td>\n",
              "      <td>0.016411</td>\n",
              "      <td>-0.410970</td>\n",
              "      <td>-0.910046</td>\n",
              "      <td>-3.451492e-03</td>\n",
              "      <td>0.006692</td>\n",
              "      <td>-0.005409</td>\n",
              "      <td>-0.003140</td>\n",
              "      <td>-0.015178</td>\n",
              "    </tr>\n",
              "    <tr>\n",
              "      <th>PC-5</th>\n",
              "      <td>0.004484</td>\n",
              "      <td>0.020985</td>\n",
              "      <td>-0.001704</td>\n",
              "      <td>0.000133</td>\n",
              "      <td>-0.029813</td>\n",
              "      <td>0.039151</td>\n",
              "      <td>0.076776</td>\n",
              "      <td>-0.002377</td>\n",
              "      <td>-0.017135</td>\n",
              "      <td>7.797558e-03</td>\n",
              "      <td>-0.113850</td>\n",
              "      <td>0.132291</td>\n",
              "      <td>0.150486</td>\n",
              "      <td>0.968376</td>\n",
              "    </tr>\n",
              "    <tr>\n",
              "      <th>PC-6</th>\n",
              "      <td>-0.052519</td>\n",
              "      <td>-0.023743</td>\n",
              "      <td>-0.000996</td>\n",
              "      <td>-0.005000</td>\n",
              "      <td>-0.002010</td>\n",
              "      <td>0.004026</td>\n",
              "      <td>0.394545</td>\n",
              "      <td>-0.010286</td>\n",
              "      <td>0.010564</td>\n",
              "      <td>3.160462e-02</td>\n",
              "      <td>-0.077306</td>\n",
              "      <td>0.287733</td>\n",
              "      <td>0.840789</td>\n",
              "      <td>-0.209897</td>\n",
              "    </tr>\n",
              "    <tr>\n",
              "      <th>PC-7</th>\n",
              "      <td>-0.010169</td>\n",
              "      <td>-0.018451</td>\n",
              "      <td>0.001111</td>\n",
              "      <td>0.000774</td>\n",
              "      <td>0.114447</td>\n",
              "      <td>-0.003635</td>\n",
              "      <td>-0.193672</td>\n",
              "      <td>-0.005650</td>\n",
              "      <td>-0.002761</td>\n",
              "      <td>-3.567262e-02</td>\n",
              "      <td>-0.113429</td>\n",
              "      <td>0.928562</td>\n",
              "      <td>-0.256981</td>\n",
              "      <td>-0.080554</td>\n",
              "    </tr>\n",
              "    <tr>\n",
              "      <th>PC-8</th>\n",
              "      <td>-0.331306</td>\n",
              "      <td>-0.318029</td>\n",
              "      <td>-0.001391</td>\n",
              "      <td>-0.001656</td>\n",
              "      <td>0.761242</td>\n",
              "      <td>-0.309936</td>\n",
              "      <td>-0.187463</td>\n",
              "      <td>0.010437</td>\n",
              "      <td>0.013418</td>\n",
              "      <td>-4.067497e-02</td>\n",
              "      <td>-0.212403</td>\n",
              "      <td>-0.140188</td>\n",
              "      <td>0.101084</td>\n",
              "      <td>0.038315</td>\n",
              "    </tr>\n",
              "    <tr>\n",
              "      <th>PC-9</th>\n",
              "      <td>-0.114970</td>\n",
              "      <td>-0.095271</td>\n",
              "      <td>-0.000613</td>\n",
              "      <td>0.000150</td>\n",
              "      <td>0.229652</td>\n",
              "      <td>-0.098125</td>\n",
              "      <td>0.353636</td>\n",
              "      <td>0.005978</td>\n",
              "      <td>0.015596</td>\n",
              "      <td>-4.506747e-02</td>\n",
              "      <td>0.867287</td>\n",
              "      <td>0.122607</td>\n",
              "      <td>-0.113211</td>\n",
              "      <td>0.089058</td>\n",
              "    </tr>\n",
              "    <tr>\n",
              "      <th>PC-10</th>\n",
              "      <td>0.012151</td>\n",
              "      <td>0.097855</td>\n",
              "      <td>0.001018</td>\n",
              "      <td>0.000355</td>\n",
              "      <td>-0.038931</td>\n",
              "      <td>0.104713</td>\n",
              "      <td>-0.790639</td>\n",
              "      <td>-0.005656</td>\n",
              "      <td>-0.014562</td>\n",
              "      <td>1.106660e-01</td>\n",
              "      <td>0.411031</td>\n",
              "      <td>0.013931</td>\n",
              "      <td>0.411988</td>\n",
              "      <td>0.036313</td>\n",
              "    </tr>\n",
              "  </tbody>\n",
              "</table>\n",
              "</div>"
            ],
            "text/plain": [
              "       ARR_TIME  CRS_ARR_TIME  ...  NAS_DELAY  LATE_AIRCRAFT_DELAY\n",
              "PC-1   0.000090     -0.000049  ...   0.001177             0.001715\n",
              "PC-2  -0.000406      0.000668  ...   0.004730            -0.000673\n",
              "PC-3   0.001865      0.005391  ...   0.009815            -0.008289\n",
              "PC-4  -0.009755     -0.013450  ...  -0.003140            -0.015178\n",
              "PC-5   0.004484      0.020985  ...   0.150486             0.968376\n",
              "PC-6  -0.052519     -0.023743  ...   0.840789            -0.209897\n",
              "PC-7  -0.010169     -0.018451  ...  -0.256981            -0.080554\n",
              "PC-8  -0.331306     -0.318029  ...   0.101084             0.038315\n",
              "PC-9  -0.114970     -0.095271  ...  -0.113211             0.089058\n",
              "PC-10  0.012151      0.097855  ...   0.411988             0.036313\n",
              "\n",
              "[10 rows x 14 columns]"
            ]
          },
          "metadata": {
            "tags": []
          },
          "execution_count": 21
        }
      ]
    },
    {
      "cell_type": "markdown",
      "metadata": {
        "id": "cpFpSawrXEz6"
      },
      "source": [
        "Here, **pca.components_** has shape **[n_components, n_features]**. Looking at the PC1 (First Principal Component) which is the first row: **[0.000090\t-0.000049\t0.999239\t0.037215\t0.001617\t-0.000005\t0.001539\t0.004220\t0.010370\t7.300183e-04\t-0.000465\t-0.000603\t0.001177\t0.001715]** we can conclude that feature TAIL_NUM, DISTANCE are the most important."
      ]
    },
    {
      "cell_type": "code",
      "metadata": {
        "colab": {
          "base_uri": "https://localhost:8080/"
        },
        "id": "Z2tX0dccdcEt",
        "outputId": "e50a9879-79a9-497d-8c09-abe8186f63cc"
      },
      "source": [
        "print( 'Shape of transformed X_train: ', X_train_pca.shape )\n",
        "print( 'Shape of transformed X_test: ', X_test_pca.shape )"
      ],
      "execution_count": null,
      "outputs": [
        {
          "output_type": "stream",
          "text": [
            "Shape of transformed X_train:  (800, 10)\n",
            "Shape of transformed X_test:  (200, 10)\n"
          ],
          "name": "stdout"
        }
      ]
    },
    {
      "cell_type": "code",
      "metadata": {
        "colab": {
          "base_uri": "https://localhost:8080/"
        },
        "id": "RDzj7zV1dcEu",
        "outputId": "ee848cf4-9528-4812-a22f-cc6e4db4ebe7"
      },
      "source": [
        "# Get the score of Gradient Boosting Model after the SelectKBest\n",
        "get_score_logistic_regression(X_train_pca, X_test_pca, y_train, y_test)"
      ],
      "execution_count": null,
      "outputs": [
        {
          "output_type": "stream",
          "text": [
            "Accuracy:  0.725\n"
          ],
          "name": "stdout"
        },
        {
          "output_type": "execute_result",
          "data": {
            "text/plain": [
              "0.725"
            ]
          },
          "metadata": {
            "tags": []
          },
          "execution_count": 23
        }
      ]
    },
    {
      "cell_type": "markdown",
      "metadata": {
        "id": "JQKI9fr13XfM"
      },
      "source": [
        "**The accuracy scores from PCA is lower than that from SelectKBest (0.745 vs 0.725).**"
      ]
    },
    {
      "cell_type": "markdown",
      "metadata": {
        "id": "9n2by7Q-1gzS"
      },
      "source": [
        "## 4.3 LogisticRegression model and Recursive Feature Elimination (RFE) "
      ]
    },
    {
      "cell_type": "code",
      "metadata": {
        "colab": {
          "base_uri": "https://localhost:8080/"
        },
        "id": "-oOYGosLA8Bq",
        "outputId": "f8bb7aba-eccb-4ba2-da9f-1ca6b7f21006"
      },
      "source": [
        "# Number of features in X_train\n",
        "nfeatures = len( X_train.columns )\n",
        "print('Number of features in X_train: ', nfeatures)"
      ],
      "execution_count": null,
      "outputs": [
        {
          "output_type": "stream",
          "text": [
            "Number of features in X_train:  14\n"
          ],
          "name": "stdout"
        }
      ]
    },
    {
      "cell_type": "code",
      "metadata": {
        "id": "JXR_gGzOwjiY",
        "colab": {
          "base_uri": "https://localhost:8080/"
        },
        "outputId": "0f0560cf-dd2e-4266-c603-4be2efedd76c"
      },
      "source": [
        "# RFECV using GradientBoostingClassifier as estimator\n",
        "estimator = GradientBoostingClassifier(n_estimators=100, random_state=0)\n",
        "selector = RFECV(estimator, step=1, cv=5)\n",
        "X_train_rfe = selector.fit_transform(X_train, y_train)\n",
        "X_test_rfe  = selector.transform(X_test)\n",
        "\n",
        "print( 'Supports/features selected [1/0]: ', selector.support_ )\n",
        "print( 'Ranking of the features: ', selector.ranking_ )"
      ],
      "execution_count": null,
      "outputs": [
        {
          "output_type": "stream",
          "text": [
            "Supports/features selected [1/0]:  [ True False False False False  True False False False False False  True\n",
            "  True  True]\n",
            "Ranking of the features:  [ 1 10  3  7  9  1  2  6  8  4  5  1  1  1]\n"
          ],
          "name": "stdout"
        }
      ]
    },
    {
      "cell_type": "code",
      "metadata": {
        "id": "SP7Je1K0ztFh",
        "colab": {
          "base_uri": "https://localhost:8080/"
        },
        "outputId": "c92aec47-cfb8-4a32-f418-69021405799f"
      },
      "source": [
        "print('Number of selected features: ', selector.n_features_)\n",
        "print()\n",
        "print('Grid scores: ', selector.grid_scores_)\n",
        "print()\n",
        "print('Feature importances: ', selector.estimator_.feature_importances_ )"
      ],
      "execution_count": null,
      "outputs": [
        {
          "output_type": "stream",
          "text": [
            "Number of selected features:  5\n",
            "\n",
            "Grid scores:  [0.65625 0.72625 0.76    0.79875 0.8275  0.82125 0.8125  0.8075  0.79875\n",
            " 0.785   0.79875 0.8025  0.805   0.80375]\n",
            "\n",
            "Feature importances:  [0.29400883 0.12719981 0.13949715 0.26579259 0.17350163]\n"
          ],
          "name": "stdout"
        }
      ]
    },
    {
      "cell_type": "code",
      "metadata": {
        "id": "SoqtAs-843Ob",
        "colab": {
          "base_uri": "https://localhost:8080/"
        },
        "outputId": "3e91e4c6-3413-44d8-ef09-043275c2dd9c"
      },
      "source": [
        "# Selected features\n",
        "features = X_train.columns[selector.get_support()]\n",
        "print( features )\n",
        "print( len(features) )"
      ],
      "execution_count": null,
      "outputs": [
        {
          "output_type": "stream",
          "text": [
            "Index(['ARR_TIME', 'DEP_TIME', 'CARRIER_DELAY', 'NAS_DELAY',\n",
            "       'LATE_AIRCRAFT_DELAY'],\n",
            "      dtype='object')\n",
            "5\n"
          ],
          "name": "stdout"
        }
      ]
    },
    {
      "cell_type": "code",
      "metadata": {
        "id": "9HMCWypp5yTC",
        "colab": {
          "base_uri": "https://localhost:8080/"
        },
        "outputId": "c9e00940-db5f-4952-f933-a53fe61b90ba"
      },
      "source": [
        "# Get the score of Gradient Boosting Model after the RFE\n",
        "get_score_logistic_regression(X_train_rfe, X_test_rfe, y_train, y_test)"
      ],
      "execution_count": null,
      "outputs": [
        {
          "output_type": "stream",
          "text": [
            "Accuracy:  0.77\n"
          ],
          "name": "stdout"
        },
        {
          "output_type": "execute_result",
          "data": {
            "text/plain": [
              "0.77"
            ]
          },
          "metadata": {
            "tags": []
          },
          "execution_count": 28
        }
      ]
    },
    {
      "cell_type": "markdown",
      "metadata": {
        "id": "wJQRkMAk4g1N"
      },
      "source": [
        "**The accuracy score (on test set) of the Random Forest model with the RFECV (using GradientBoostingClassifier as estimator) has been improved significantly (0.745 vs 0.77).**"
      ]
    },
    {
      "cell_type": "markdown",
      "metadata": {
        "id": "lXTni8jO3PNF"
      },
      "source": [
        "## 4.4 Get best parameters of Logistic Regression model with GridSearch and Cross-validation (GridSearchCV)"
      ]
    },
    {
      "cell_type": "markdown",
      "metadata": {
        "id": "H2opDjJGee7s"
      },
      "source": [
        "**Because the score of Logistic Regression classifier on the test set with the use of RFE is the best (RFE: 0.77, PCA: 0.74, SelectKBest: 0.745). I'll use RFE for the next steps.**"
      ]
    },
    {
      "cell_type": "markdown",
      "metadata": {
        "id": "G1mE1szq5zz7"
      },
      "source": [
        "### Parameter space"
      ]
    },
    {
      "cell_type": "code",
      "metadata": {
        "id": "F6_9_eWl-WmJ"
      },
      "source": [
        "# Parameter space\n",
        "param_grid = {\n",
        "    'penalty' : ['l1', 'l2', 'elasticnet', None],\n",
        "    'C' : np.logspace(-4, 4, 20),\n",
        "    'solver' : ['lbfgs', 'newton-cg', 'liblinear', 'sag', 'saga'],\n",
        "    'max_iter' : [100, 500, 1000]\n",
        "    }"
      ],
      "execution_count": null,
      "outputs": []
    },
    {
      "cell_type": "markdown",
      "metadata": {
        "id": "EtB3_29C5-47"
      },
      "source": [
        "### GridSearchCV"
      ]
    },
    {
      "cell_type": "code",
      "metadata": {
        "id": "un-NidaT5-Su",
        "colab": {
          "base_uri": "https://localhost:8080/"
        },
        "outputId": "678eea3a-ce36-450b-b990-725525e63a33"
      },
      "source": [
        "# GridsearchCV\n",
        "clf = GridSearchCV(LogisticRegression(random_state=0), param_grid=param_grid, cv=3, n_jobs=-1)\n",
        "clf.fit(X_train_rfe, y_train)\n",
        "\n",
        "# Get best params\n",
        "print(clf.score(X_train_rfe, y_train))\n",
        "print(clf.best_params_)"
      ],
      "execution_count": null,
      "outputs": [
        {
          "output_type": "stream",
          "text": [
            "0.8025\n",
            "{'C': 29.763514416313132, 'max_iter': 1000, 'penalty': 'l2', 'solver': 'lbfgs'}\n"
          ],
          "name": "stdout"
        },
        {
          "output_type": "stream",
          "text": [
            "/usr/local/lib/python3.6/dist-packages/sklearn/linear_model/_logistic.py:940: ConvergenceWarning: lbfgs failed to converge (status=1):\n",
            "STOP: TOTAL NO. of ITERATIONS REACHED LIMIT.\n",
            "\n",
            "Increase the number of iterations (max_iter) or scale the data as shown in:\n",
            "    https://scikit-learn.org/stable/modules/preprocessing.html\n",
            "Please also refer to the documentation for alternative solver options:\n",
            "    https://scikit-learn.org/stable/modules/linear_model.html#logistic-regression\n",
            "  extra_warning_msg=_LOGISTIC_SOLVER_CONVERGENCE_MSG)\n"
          ],
          "name": "stderr"
        }
      ]
    },
    {
      "cell_type": "code",
      "metadata": {
        "id": "qPF67NJJ-nhR",
        "colab": {
          "base_uri": "https://localhost:8080/"
        },
        "outputId": "7acc91bd-7894-42c0-ec20-3be08af61ac7"
      },
      "source": [
        "# Re-train the model with best parameter from GridSearchCV\n",
        "best_params = clf.best_params_\n",
        "gbc = LogisticRegression(C=best_params['C'], max_iter=best_params['max_iter'],\n",
        "                                 penalty=best_params['penalty'], solver=best_params['solver'], random_state=0)\n",
        "gbc.fit(X_train_rfe, y_train)"
      ],
      "execution_count": null,
      "outputs": [
        {
          "output_type": "stream",
          "text": [
            "/usr/local/lib/python3.6/dist-packages/sklearn/linear_model/_logistic.py:940: ConvergenceWarning: lbfgs failed to converge (status=1):\n",
            "STOP: TOTAL NO. of ITERATIONS REACHED LIMIT.\n",
            "\n",
            "Increase the number of iterations (max_iter) or scale the data as shown in:\n",
            "    https://scikit-learn.org/stable/modules/preprocessing.html\n",
            "Please also refer to the documentation for alternative solver options:\n",
            "    https://scikit-learn.org/stable/modules/linear_model.html#logistic-regression\n",
            "  extra_warning_msg=_LOGISTIC_SOLVER_CONVERGENCE_MSG)\n"
          ],
          "name": "stderr"
        },
        {
          "output_type": "execute_result",
          "data": {
            "text/plain": [
              "LogisticRegression(C=29.763514416313132, class_weight=None, dual=False,\n",
              "                   fit_intercept=True, intercept_scaling=1, l1_ratio=None,\n",
              "                   max_iter=1000, multi_class='auto', n_jobs=None, penalty='l2',\n",
              "                   random_state=0, solver='lbfgs', tol=0.0001, verbose=0,\n",
              "                   warm_start=False)"
            ]
          },
          "metadata": {
            "tags": []
          },
          "execution_count": 31
        }
      ]
    },
    {
      "cell_type": "code",
      "metadata": {
        "id": "x6ACdysc-u8P",
        "colab": {
          "base_uri": "https://localhost:8080/"
        },
        "outputId": "c55eb2d7-3f0d-43db-8cd5-b3bdef63f901"
      },
      "source": [
        "# Predict and get score using test data\n",
        "pred = gbc.predict(X_test_rfe)\n",
        "# Get the score\n",
        "print(\"Accuracy on test data: \", accuracy_score(y_test, pred))"
      ],
      "execution_count": null,
      "outputs": [
        {
          "output_type": "stream",
          "text": [
            "Accuracy on test data:  0.825\n"
          ],
          "name": "stdout"
        }
      ]
    },
    {
      "cell_type": "markdown",
      "metadata": {
        "id": "9x3shxO2gIG8"
      },
      "source": [
        "**NOTE: The accuracy score with GridSearchCV has increased significantly ( 0.77 to 0.825).**"
      ]
    },
    {
      "cell_type": "markdown",
      "metadata": {
        "id": "gkSVgbKbiFJ8"
      },
      "source": [
        "### Prediction"
      ]
    },
    {
      "cell_type": "code",
      "metadata": {
        "id": "GYgiRjnA7UZO",
        "colab": {
          "base_uri": "https://localhost:8080/",
          "height": 359
        },
        "outputId": "f54b9628-7e80-47bb-f393-e422835dd9f0"
      },
      "source": [
        "X_new = df_sub.drop(['DELAYED'], axis=1, inplace=False)[8000:8010]\n",
        "X_new"
      ],
      "execution_count": null,
      "outputs": [
        {
          "output_type": "execute_result",
          "data": {
            "text/html": [
              "<div>\n",
              "<style scoped>\n",
              "    .dataframe tbody tr th:only-of-type {\n",
              "        vertical-align: middle;\n",
              "    }\n",
              "\n",
              "    .dataframe tbody tr th {\n",
              "        vertical-align: top;\n",
              "    }\n",
              "\n",
              "    .dataframe thead th {\n",
              "        text-align: right;\n",
              "    }\n",
              "</style>\n",
              "<table border=\"1\" class=\"dataframe\">\n",
              "  <thead>\n",
              "    <tr style=\"text-align: right;\">\n",
              "      <th></th>\n",
              "      <th>ARR_TIME</th>\n",
              "      <th>CRS_ARR_TIME</th>\n",
              "      <th>TAIL_NUM</th>\n",
              "      <th>DISTANCE</th>\n",
              "      <th>OP_CARRIER_FL_NUM</th>\n",
              "      <th>DEP_TIME</th>\n",
              "      <th>TAXI_OUT</th>\n",
              "      <th>DEST</th>\n",
              "      <th>ORIGIN</th>\n",
              "      <th>TAXI_IN</th>\n",
              "      <th>DAY_OF_MONTH</th>\n",
              "      <th>CARRIER_DELAY</th>\n",
              "      <th>NAS_DELAY</th>\n",
              "      <th>LATE_AIRCRAFT_DELAY</th>\n",
              "    </tr>\n",
              "  </thead>\n",
              "  <tbody>\n",
              "    <tr>\n",
              "      <th>8000</th>\n",
              "      <td>11.67</td>\n",
              "      <td>11.92</td>\n",
              "      <td>4239</td>\n",
              "      <td>545.0</td>\n",
              "      <td>2271</td>\n",
              "      <td>9.93</td>\n",
              "      <td>17.0</td>\n",
              "      <td>17</td>\n",
              "      <td>218</td>\n",
              "      <td>7.0</td>\n",
              "      <td>10</td>\n",
              "      <td>0.0</td>\n",
              "      <td>0.0</td>\n",
              "      <td>0.0</td>\n",
              "    </tr>\n",
              "    <tr>\n",
              "      <th>8001</th>\n",
              "      <td>21.60</td>\n",
              "      <td>21.93</td>\n",
              "      <td>862</td>\n",
              "      <td>502.0</td>\n",
              "      <td>2272</td>\n",
              "      <td>19.90</td>\n",
              "      <td>17.0</td>\n",
              "      <td>167</td>\n",
              "      <td>81</td>\n",
              "      <td>10.0</td>\n",
              "      <td>10</td>\n",
              "      <td>0.0</td>\n",
              "      <td>0.0</td>\n",
              "      <td>0.0</td>\n",
              "    </tr>\n",
              "    <tr>\n",
              "      <th>8002</th>\n",
              "      <td>8.12</td>\n",
              "      <td>8.30</td>\n",
              "      <td>4280</td>\n",
              "      <td>306.0</td>\n",
              "      <td>2273</td>\n",
              "      <td>6.82</td>\n",
              "      <td>13.0</td>\n",
              "      <td>17</td>\n",
              "      <td>119</td>\n",
              "      <td>4.0</td>\n",
              "      <td>10</td>\n",
              "      <td>0.0</td>\n",
              "      <td>0.0</td>\n",
              "      <td>0.0</td>\n",
              "    </tr>\n",
              "    <tr>\n",
              "      <th>8003</th>\n",
              "      <td>23.50</td>\n",
              "      <td>23.73</td>\n",
              "      <td>4294</td>\n",
              "      <td>143.0</td>\n",
              "      <td>2275</td>\n",
              "      <td>22.77</td>\n",
              "      <td>13.0</td>\n",
              "      <td>11</td>\n",
              "      <td>17</td>\n",
              "      <td>5.0</td>\n",
              "      <td>10</td>\n",
              "      <td>0.0</td>\n",
              "      <td>0.0</td>\n",
              "      <td>0.0</td>\n",
              "    </tr>\n",
              "    <tr>\n",
              "      <th>8004</th>\n",
              "      <td>9.45</td>\n",
              "      <td>9.63</td>\n",
              "      <td>4473</td>\n",
              "      <td>950.0</td>\n",
              "      <td>2276</td>\n",
              "      <td>6.85</td>\n",
              "      <td>13.0</td>\n",
              "      <td>167</td>\n",
              "      <td>178</td>\n",
              "      <td>14.0</td>\n",
              "      <td>10</td>\n",
              "      <td>0.0</td>\n",
              "      <td>0.0</td>\n",
              "      <td>0.0</td>\n",
              "    </tr>\n",
              "    <tr>\n",
              "      <th>8005</th>\n",
              "      <td>13.77</td>\n",
              "      <td>13.83</td>\n",
              "      <td>4388</td>\n",
              "      <td>534.0</td>\n",
              "      <td>2277</td>\n",
              "      <td>12.18</td>\n",
              "      <td>13.0</td>\n",
              "      <td>135</td>\n",
              "      <td>17</td>\n",
              "      <td>6.0</td>\n",
              "      <td>10</td>\n",
              "      <td>0.0</td>\n",
              "      <td>0.0</td>\n",
              "      <td>0.0</td>\n",
              "    </tr>\n",
              "    <tr>\n",
              "      <th>8006</th>\n",
              "      <td>16.15</td>\n",
              "      <td>16.53</td>\n",
              "      <td>4388</td>\n",
              "      <td>534.0</td>\n",
              "      <td>2277</td>\n",
              "      <td>14.45</td>\n",
              "      <td>11.0</td>\n",
              "      <td>17</td>\n",
              "      <td>135</td>\n",
              "      <td>6.0</td>\n",
              "      <td>10</td>\n",
              "      <td>0.0</td>\n",
              "      <td>0.0</td>\n",
              "      <td>0.0</td>\n",
              "    </tr>\n",
              "    <tr>\n",
              "      <th>8007</th>\n",
              "      <td>14.63</td>\n",
              "      <td>13.37</td>\n",
              "      <td>4073</td>\n",
              "      <td>297.0</td>\n",
              "      <td>2278</td>\n",
              "      <td>12.40</td>\n",
              "      <td>70.0</td>\n",
              "      <td>200</td>\n",
              "      <td>188</td>\n",
              "      <td>3.0</td>\n",
              "      <td>10</td>\n",
              "      <td>0.0</td>\n",
              "      <td>52.0</td>\n",
              "      <td>24.0</td>\n",
              "    </tr>\n",
              "    <tr>\n",
              "      <th>8008</th>\n",
              "      <td>11.93</td>\n",
              "      <td>11.30</td>\n",
              "      <td>4073</td>\n",
              "      <td>297.0</td>\n",
              "      <td>2278</td>\n",
              "      <td>9.97</td>\n",
              "      <td>61.0</td>\n",
              "      <td>188</td>\n",
              "      <td>200</td>\n",
              "      <td>4.0</td>\n",
              "      <td>10</td>\n",
              "      <td>0.0</td>\n",
              "      <td>38.0</td>\n",
              "      <td>0.0</td>\n",
              "    </tr>\n",
              "    <tr>\n",
              "      <th>8009</th>\n",
              "      <td>20.48</td>\n",
              "      <td>21.00</td>\n",
              "      <td>4460</td>\n",
              "      <td>746.0</td>\n",
              "      <td>2280</td>\n",
              "      <td>18.18</td>\n",
              "      <td>14.0</td>\n",
              "      <td>17</td>\n",
              "      <td>94</td>\n",
              "      <td>9.0</td>\n",
              "      <td>10</td>\n",
              "      <td>0.0</td>\n",
              "      <td>0.0</td>\n",
              "      <td>0.0</td>\n",
              "    </tr>\n",
              "  </tbody>\n",
              "</table>\n",
              "</div>"
            ],
            "text/plain": [
              "      ARR_TIME  CRS_ARR_TIME  ...  NAS_DELAY  LATE_AIRCRAFT_DELAY\n",
              "8000     11.67         11.92  ...        0.0                  0.0\n",
              "8001     21.60         21.93  ...        0.0                  0.0\n",
              "8002      8.12          8.30  ...        0.0                  0.0\n",
              "8003     23.50         23.73  ...        0.0                  0.0\n",
              "8004      9.45          9.63  ...        0.0                  0.0\n",
              "8005     13.77         13.83  ...        0.0                  0.0\n",
              "8006     16.15         16.53  ...        0.0                  0.0\n",
              "8007     14.63         13.37  ...       52.0                 24.0\n",
              "8008     11.93         11.30  ...       38.0                  0.0\n",
              "8009     20.48         21.00  ...        0.0                  0.0\n",
              "\n",
              "[10 rows x 14 columns]"
            ]
          },
          "metadata": {
            "tags": []
          },
          "execution_count": 33
        }
      ]
    },
    {
      "cell_type": "code",
      "metadata": {
        "id": "ontwyEuyFkrj",
        "colab": {
          "base_uri": "https://localhost:8080/"
        },
        "outputId": "9add99b5-cf9e-42c5-9082-daa6996227f1"
      },
      "source": [
        "df_sub['DELAYED'][8000:8010]"
      ],
      "execution_count": null,
      "outputs": [
        {
          "output_type": "execute_result",
          "data": {
            "text/plain": [
              "8000    0\n",
              "8001    0\n",
              "8002    0\n",
              "8003    0\n",
              "8004    0\n",
              "8005    0\n",
              "8006    0\n",
              "8007    3\n",
              "8008    2\n",
              "8009    0\n",
              "Name: DELAYED, dtype: int64"
            ]
          },
          "metadata": {
            "tags": []
          },
          "execution_count": 34
        }
      ]
    },
    {
      "cell_type": "code",
      "metadata": {
        "id": "VSTnCMCpPnpn",
        "colab": {
          "base_uri": "https://localhost:8080/"
        },
        "outputId": "b07200fe-432e-4ace-e4fa-e1d0b4d60df2"
      },
      "source": [
        "X_new_rfe = selector.transform(X_new)\n",
        "\n",
        "print(X_new_rfe.shape)\n",
        "X_new_rfe"
      ],
      "execution_count": null,
      "outputs": [
        {
          "output_type": "stream",
          "text": [
            "(10, 5)\n"
          ],
          "name": "stdout"
        },
        {
          "output_type": "execute_result",
          "data": {
            "text/plain": [
              "array([[11.67,  9.93,  0.  ,  0.  ,  0.  ],\n",
              "       [21.6 , 19.9 ,  0.  ,  0.  ,  0.  ],\n",
              "       [ 8.12,  6.82,  0.  ,  0.  ,  0.  ],\n",
              "       [23.5 , 22.77,  0.  ,  0.  ,  0.  ],\n",
              "       [ 9.45,  6.85,  0.  ,  0.  ,  0.  ],\n",
              "       [13.77, 12.18,  0.  ,  0.  ,  0.  ],\n",
              "       [16.15, 14.45,  0.  ,  0.  ,  0.  ],\n",
              "       [14.63, 12.4 ,  0.  , 52.  , 24.  ],\n",
              "       [11.93,  9.97,  0.  , 38.  ,  0.  ],\n",
              "       [20.48, 18.18,  0.  ,  0.  ,  0.  ]])"
            ]
          },
          "metadata": {
            "tags": []
          },
          "execution_count": 35
        }
      ]
    },
    {
      "cell_type": "code",
      "metadata": {
        "id": "jqHdAxy27xS5",
        "colab": {
          "base_uri": "https://localhost:8080/"
        },
        "outputId": "429e9c8f-a987-4ba1-effa-ca04e0256015"
      },
      "source": [
        "print('Prediction: ', gbc.predict(X_new_rfe).tolist())\n",
        "print('True labels: ', df_sub['DELAYED'][8000:8010].tolist())"
      ],
      "execution_count": null,
      "outputs": [
        {
          "output_type": "stream",
          "text": [
            "Prediction:  [0, 0, 0, 0, 0, 0, 0, 3, 2, 0]\n",
            "True labels:  [0, 0, 0, 0, 0, 0, 0, 3, 2, 0]\n"
          ],
          "name": "stdout"
        }
      ]
    },
    {
      "cell_type": "markdown",
      "metadata": {
        "id": "zAAwGm8w5JIg"
      },
      "source": [
        "## 4.5 Get best parameters of LogisticRegression model with Hyperopt"
      ]
    },
    {
      "cell_type": "markdown",
      "metadata": {
        "id": "K9SoWNjJgOCq"
      },
      "source": [
        "### Parameter space"
      ]
    },
    {
      "cell_type": "code",
      "metadata": {
        "id": "QcJBJBnyxIO7",
        "colab": {
          "base_uri": "https://localhost:8080/"
        },
        "outputId": "01c6d37f-afbb-45da-a8eb-2b345f0a1db5"
      },
      "source": [
        "# Number of features in X_train\n",
        "nfeatures = len( X_train.columns )\n",
        "print('Number of features in X_train: ', nfeatures)"
      ],
      "execution_count": null,
      "outputs": [
        {
          "output_type": "stream",
          "text": [
            "Number of features in X_train:  14\n"
          ],
          "name": "stdout"
        }
      ]
    },
    {
      "cell_type": "code",
      "metadata": {
        "id": "_6bWASM4gOCq",
        "colab": {
          "base_uri": "https://localhost:8080/"
        },
        "outputId": "34b94ae0-f334-40a3-babb-ca63ca148ff7"
      },
      "source": [
        "# Params space\n",
        "hp_space_clf = {\n",
        "    'clf': {\n",
        "        'C': hp.uniform('C', low=0.01, high=10),\n",
        "        'penalty': hp.choice('penalty', ['l1', 'l2', 'elasticnet', None] ),\n",
        "        'solver': hp.choice('solver', ['lbfgs','newton-cg','liblinear','sag','saga'] ),\n",
        "        'max_iter': hp.choice('max_iter', [100, 500, 1000] )\n",
        "    }\n",
        "}\n",
        "\n",
        "# Draw random sample to see if hyperspace is correctly defined\n",
        "ho_sample(hp_space_clf)"
      ],
      "execution_count": null,
      "outputs": [
        {
          "output_type": "execute_result",
          "data": {
            "text/plain": [
              "{'clf': {'C': 0.7576525040761668,\n",
              "  'max_iter': 1000,\n",
              "  'penalty': 'elasticnet',\n",
              "  'solver': 'newton-cg'}}"
            ]
          },
          "metadata": {
            "tags": []
          },
          "execution_count": 38
        }
      ]
    },
    {
      "cell_type": "markdown",
      "metadata": {
        "id": "eUj_mqjygOCr"
      },
      "source": [
        "### Defining model"
      ]
    },
    {
      "cell_type": "code",
      "metadata": {
        "id": "1SYZyQH6gOCr"
      },
      "source": [
        "def f_clf(hps):\n",
        "    \"\"\"\n",
        "    Constructs estimator\n",
        "    \n",
        "    Parameters:\n",
        "    ----------------\n",
        "    hps : sample point from search space\n",
        "    \n",
        "    Returns:\n",
        "    ----------------\n",
        "    model : sklearn.Pipeline.pipeline with hyperparameters set up as per hps\n",
        "    \"\"\"\n",
        "    \n",
        "    # Assembing pipeline if needed\n",
        "    # model = Pipeline([\n",
        "    #     ('clf', GradientBoostingClassifier(**hps['clf'], random_state=42))\n",
        "    # ])\n",
        "    \n",
        "    model = LogisticRegression(**hps['clf'], random_state=0)\n",
        "    \n",
        "    return model"
      ],
      "execution_count": null,
      "outputs": []
    },
    {
      "cell_type": "markdown",
      "metadata": {
        "id": "uL4g1i3STghQ"
      },
      "source": [
        "### Defining objective function"
      ]
    },
    {
      "cell_type": "markdown",
      "metadata": {
        "id": "0mtS1gjjTghQ"
      },
      "source": [
        "Define function to minimize. I'll use cross-validation score on train set."
      ]
    },
    {
      "cell_type": "code",
      "metadata": {
        "id": "cVaGGDTlTghQ"
      },
      "source": [
        "def fcn_to_minimize(hps, X, y, ncv=4):\n",
        "    \"\"\"\n",
        "    Target function for optimization\n",
        "    \n",
        "    Parameters:\n",
        "    ----------------\n",
        "    hps : sample point from search space\n",
        "    X : feature matrix\n",
        "    y : target array\n",
        "    ncv : number of folds for cross-validation\n",
        "    \n",
        "    Returns:\n",
        "    ----------------\n",
        "    : target function value (negative mean cross-val score)\n",
        "    \"\"\"\n",
        "    \n",
        "    model = f_clf(hps)\n",
        "\n",
        "    # cv_res = cross_val_score(model, X, y, cv=StratifiedKFold(ncv, shuffle=True, random_state=SEED), \n",
        "    #                          scoring='roc_auc', n_jobs=-1)\n",
        "    \n",
        "    # cv_res = cross_val_score(model, X, y, cv=StratifiedKFold(ncv, shuffle=True, random_state=31), scoring='f1_micro', n_jobs=-1)\n",
        "    # cv_res = cross_val_score(model, X, y, cv=5, n_jobs=-1)\n",
        "    cv_res = cross_val_score(model, X, y, cv=StratifiedKFold(ncv, shuffle=True, random_state=42), n_jobs=-1)\n",
        "    \n",
        "    if np.any( np.isnan(cv_res) ):\n",
        "      cv_res = np.array( [0.]*ncv )\n",
        "\n",
        "    acc = cv_res.mean()\n",
        "    \n",
        "    print(cv_res)\n",
        "    print(\"Accuracy: %0.2f (+/- %0.2f)\" % (cv_res.mean(), cv_res.std() * 2))\n",
        "    return {'loss': -acc, 'status': STATUS_OK}"
      ],
      "execution_count": null,
      "outputs": []
    },
    {
      "cell_type": "markdown",
      "metadata": {
        "id": "ylVUCDpQiAFt"
      },
      "source": [
        "### Running optimization"
      ]
    },
    {
      "cell_type": "markdown",
      "metadata": {
        "id": "5qgI0R9BiAFt"
      },
      "source": [
        "Run optimization for 100 rounds using TPE algorithm (the Tree-structured Parzen Estimator), meaning that we use TPE to suggest next sample values based on previous function evaluations. We'll use `Trials` class objects to keep track of optimization history.\n",
        "\n",
        "**Note**: We're binding `X` and `y` arguments of target function to `X1_train` and `y1_train` respectively, using `functools.partial`, since target function of `fmin` may accept only a search space point."
      ]
    },
    {
      "cell_type": "code",
      "metadata": {
        "id": "ZOqc9I5KiAFt",
        "colab": {
          "base_uri": "https://localhost:8080/"
        },
        "outputId": "08c61d93-e7d3-4e26-ea54-4d48032396c8"
      },
      "source": [
        "trials_clf = Trials()\n",
        "best_clf = fmin(partial(fcn_to_minimize, X=X_train_rfe, y=y_train), \n",
        "                 hp_space_clf, algo=tpe.suggest, max_evals=100, \n",
        "                 trials=trials_clf)"
      ],
      "execution_count": null,
      "outputs": [
        {
          "output_type": "stream",
          "text": [
            "[0. 0. 0. 0.]\n",
            "Accuracy: 0.00 (+/- 0.00)\n",
            "[0.8   0.78  0.79  0.775]\n",
            "Accuracy: 0.79 (+/- 0.02)\n",
            "[0. 0. 0. 0.]\n",
            "Accuracy: 0.00 (+/- 0.00)\n",
            "[0.8   0.78  0.79  0.775]\n",
            "Accuracy: 0.79 (+/- 0.02)\n",
            "[0. 0. 0. 0.]\n",
            "Accuracy: 0.00 (+/- 0.00)\n",
            "[0. 0. 0. 0.]\n",
            "Accuracy: 0.00 (+/- 0.00)\n",
            "[0. 0. 0. 0.]\n",
            "Accuracy: 0.00 (+/- 0.00)\n",
            "[0.805 0.785 0.785 0.77 ]\n",
            "Accuracy: 0.79 (+/- 0.02)\n",
            "[0. 0. 0. 0.]\n",
            "Accuracy: 0.00 (+/- 0.00)\n",
            "[0. 0. 0. 0.]\n",
            "Accuracy: 0.00 (+/- 0.00)\n",
            "[0. 0. 0. 0.]\n",
            "Accuracy: 0.00 (+/- 0.00)\n",
            "[0. 0. 0. 0.]\n",
            "Accuracy: 0.00 (+/- 0.00)\n",
            "[0. 0. 0. 0.]\n",
            "Accuracy: 0.00 (+/- 0.00)\n",
            "[0. 0. 0. 0.]\n",
            "Accuracy: 0.00 (+/- 0.00)\n",
            "[0. 0. 0. 0.]\n",
            "Accuracy: 0.00 (+/- 0.00)\n",
            "[0.77  0.745 0.73  0.735]\n",
            "Accuracy: 0.74 (+/- 0.03)\n",
            "[0. 0. 0. 0.]\n",
            "Accuracy: 0.00 (+/- 0.00)\n",
            "[0. 0. 0. 0.]\n",
            "Accuracy: 0.00 (+/- 0.00)\n",
            "[0.76  0.765 0.73  0.73 ]\n",
            "Accuracy: 0.75 (+/- 0.03)\n",
            "[0. 0. 0. 0.]\n",
            "Accuracy: 0.00 (+/- 0.00)\n",
            "[0.8   0.785 0.79  0.775]\n",
            "Accuracy: 0.79 (+/- 0.02)\n",
            "[0.8   0.785 0.79  0.775]\n",
            "Accuracy: 0.79 (+/- 0.02)\n",
            "[0.81  0.795 0.79  0.77 ]\n",
            "Accuracy: 0.79 (+/- 0.03)\n",
            "[0.805 0.785 0.79  0.775]\n",
            "Accuracy: 0.79 (+/- 0.02)\n",
            "[0.775 0.755 0.73  0.75 ]\n",
            "Accuracy: 0.75 (+/- 0.03)\n",
            "[0.8   0.785 0.79  0.775]\n",
            "Accuracy: 0.79 (+/- 0.02)\n",
            "[0. 0. 0. 0.]\n",
            "Accuracy: 0.00 (+/- 0.00)\n",
            "[0.8   0.78  0.79  0.775]\n",
            "Accuracy: 0.79 (+/- 0.02)\n",
            "[0.76  0.735 0.725 0.73 ]\n",
            "Accuracy: 0.74 (+/- 0.03)\n",
            "[0.77  0.745 0.73  0.735]\n",
            "Accuracy: 0.74 (+/- 0.03)\n",
            "[0.8   0.785 0.79  0.775]\n",
            "Accuracy: 0.79 (+/- 0.02)\n",
            "[0. 0. 0. 0.]\n",
            "Accuracy: 0.00 (+/- 0.00)\n",
            "[0.8   0.78  0.79  0.775]\n",
            "Accuracy: 0.79 (+/- 0.02)\n",
            "[0.795 0.78  0.78  0.77 ]\n",
            "Accuracy: 0.78 (+/- 0.02)\n",
            "[0. 0. 0. 0.]\n",
            "Accuracy: 0.00 (+/- 0.00)\n",
            "[0.77  0.745 0.73  0.74 ]\n",
            "Accuracy: 0.75 (+/- 0.03)\n",
            "[0.8   0.785 0.79  0.775]\n",
            "Accuracy: 0.79 (+/- 0.02)\n",
            "[0.785 0.75  0.77  0.76 ]\n",
            "Accuracy: 0.77 (+/- 0.03)\n",
            "[0. 0. 0. 0.]\n",
            "Accuracy: 0.00 (+/- 0.00)\n",
            "[0.755 0.755 0.725 0.73 ]\n",
            "Accuracy: 0.74 (+/- 0.03)\n",
            "[0. 0. 0. 0.]\n",
            "Accuracy: 0.00 (+/- 0.00)\n",
            "[0.77  0.745 0.73  0.735]\n",
            "Accuracy: 0.74 (+/- 0.03)\n",
            "[0.8   0.78  0.79  0.775]\n",
            "Accuracy: 0.79 (+/- 0.02)\n",
            "[0. 0. 0. 0.]\n",
            "Accuracy: 0.00 (+/- 0.00)\n",
            "[0. 0. 0. 0.]\n",
            "Accuracy: 0.00 (+/- 0.00)\n",
            "[0. 0. 0. 0.]\n",
            "Accuracy: 0.00 (+/- 0.00)\n",
            "[0. 0. 0. 0.]\n",
            "Accuracy: 0.00 (+/- 0.00)\n",
            "[0.77  0.755 0.73  0.74 ]\n",
            "Accuracy: 0.75 (+/- 0.03)\n",
            "[0.8   0.785 0.79  0.775]\n",
            "Accuracy: 0.79 (+/- 0.02)\n",
            "[0. 0. 0. 0.]\n",
            "Accuracy: 0.00 (+/- 0.00)\n",
            "[0. 0. 0. 0.]\n",
            "Accuracy: 0.00 (+/- 0.00)\n",
            "[0.8   0.78  0.79  0.775]\n",
            "Accuracy: 0.79 (+/- 0.02)\n",
            "[0.76  0.755 0.74  0.72 ]\n",
            "Accuracy: 0.74 (+/- 0.03)\n",
            "[0. 0. 0. 0.]\n",
            "Accuracy: 0.00 (+/- 0.00)\n",
            "[0.77  0.745 0.73  0.74 ]\n",
            "Accuracy: 0.75 (+/- 0.03)\n",
            "[0.8   0.78  0.79  0.775]\n",
            "Accuracy: 0.79 (+/- 0.02)\n",
            "[0. 0. 0. 0.]\n",
            "Accuracy: 0.00 (+/- 0.00)\n",
            "[0. 0. 0. 0.]\n",
            "Accuracy: 0.00 (+/- 0.00)\n",
            "[0.8   0.78  0.79  0.775]\n",
            "Accuracy: 0.79 (+/- 0.02)\n",
            "[0. 0. 0. 0.]\n",
            "Accuracy: 0.00 (+/- 0.00)\n",
            "[0.8   0.785 0.79  0.775]\n",
            "Accuracy: 0.79 (+/- 0.02)\n",
            "[0.77  0.745 0.73  0.735]\n",
            "Accuracy: 0.74 (+/- 0.03)\n",
            "[0. 0. 0. 0.]\n",
            "Accuracy: 0.00 (+/- 0.00)\n",
            "[0. 0. 0. 0.]\n",
            "Accuracy: 0.00 (+/- 0.00)\n",
            "[0.785 0.755 0.765 0.775]\n",
            "Accuracy: 0.77 (+/- 0.02)\n",
            "[0.8   0.785 0.79  0.775]\n",
            "Accuracy: 0.79 (+/- 0.02)\n",
            "[0.81  0.795 0.79  0.77 ]\n",
            "Accuracy: 0.79 (+/- 0.03)\n",
            "[0.8   0.78  0.79  0.775]\n",
            "Accuracy: 0.79 (+/- 0.02)\n",
            "[0.81  0.795 0.79  0.77 ]\n",
            "Accuracy: 0.79 (+/- 0.03)\n",
            "[0.8   0.785 0.79  0.775]\n",
            "Accuracy: 0.79 (+/- 0.02)\n",
            "[0.8   0.785 0.79  0.775]\n",
            "Accuracy: 0.79 (+/- 0.02)\n",
            "[0.8   0.785 0.79  0.775]\n",
            "Accuracy: 0.79 (+/- 0.02)\n",
            "[0.8   0.785 0.79  0.775]\n",
            "Accuracy: 0.79 (+/- 0.02)\n",
            "[0.8   0.78  0.79  0.775]\n",
            "Accuracy: 0.79 (+/- 0.02)\n",
            "[0. 0. 0. 0.]\n",
            "Accuracy: 0.00 (+/- 0.00)\n",
            "[0.74  0.735 0.72  0.71 ]\n",
            "Accuracy: 0.73 (+/- 0.02)\n",
            "[0.8   0.78  0.79  0.775]\n",
            "Accuracy: 0.79 (+/- 0.02)\n",
            "[0.77  0.745 0.73  0.735]\n",
            "Accuracy: 0.74 (+/- 0.03)\n",
            "[0.8   0.785 0.79  0.775]\n",
            "Accuracy: 0.79 (+/- 0.02)\n",
            "[0. 0. 0. 0.]\n",
            "Accuracy: 0.00 (+/- 0.00)\n",
            "[0. 0. 0. 0.]\n",
            "Accuracy: 0.00 (+/- 0.00)\n",
            "[0. 0. 0. 0.]\n",
            "Accuracy: 0.00 (+/- 0.00)\n",
            "[0.755 0.765 0.725 0.73 ]\n",
            "Accuracy: 0.74 (+/- 0.03)\n",
            "[0.8   0.785 0.79  0.775]\n",
            "Accuracy: 0.79 (+/- 0.02)\n",
            "[0.77  0.75  0.73  0.735]\n",
            "Accuracy: 0.75 (+/- 0.03)\n",
            "[0. 0. 0. 0.]\n",
            "Accuracy: 0.00 (+/- 0.00)\n",
            "[0. 0. 0. 0.]\n",
            "Accuracy: 0.00 (+/- 0.00)\n",
            "[0. 0. 0. 0.]\n",
            "Accuracy: 0.00 (+/- 0.00)\n",
            "[0.8   0.785 0.785 0.77 ]\n",
            "Accuracy: 0.79 (+/- 0.02)\n",
            "[0.76  0.755 0.735 0.725]\n",
            "Accuracy: 0.74 (+/- 0.03)\n",
            "[0.77  0.745 0.73  0.735]\n",
            "Accuracy: 0.74 (+/- 0.03)\n",
            "[0.8   0.78  0.79  0.775]\n",
            "Accuracy: 0.79 (+/- 0.02)\n",
            "[0. 0. 0. 0.]\n",
            "Accuracy: 0.00 (+/- 0.00)\n",
            "[0. 0. 0. 0.]\n",
            "Accuracy: 0.00 (+/- 0.00)\n",
            "[0. 0. 0. 0.]\n",
            "Accuracy: 0.00 (+/- 0.00)\n",
            "[0.805 0.77  0.785 0.77 ]\n",
            "Accuracy: 0.78 (+/- 0.03)\n",
            "[0.77 0.75 0.73 0.74]\n",
            "Accuracy: 0.75 (+/- 0.03)\n",
            "[0.8   0.785 0.79  0.775]\n",
            "Accuracy: 0.79 (+/- 0.02)\n",
            "[0. 0. 0. 0.]\n",
            "Accuracy: 0.00 (+/- 0.00)\n",
            "[0. 0. 0. 0.]\n",
            "Accuracy: 0.00 (+/- 0.00)\n",
            "100%|██████████| 100/100 [00:36<00:00,  2.72it/s, best loss: -0.79125]\n"
          ],
          "name": "stdout"
        }
      ]
    },
    {
      "cell_type": "code",
      "metadata": {
        "id": "wDTMnBjKiAFt",
        "colab": {
          "base_uri": "https://localhost:8080/"
        },
        "outputId": "655b3f88-4e22-4d9d-e75d-0a64103f6779"
      },
      "source": [
        "# Best parameters from Hyperopt\n",
        "print('Best parameters from Hyperopt:')\n",
        "print(space_eval(hp_space_clf, best_clf))\n",
        "\n",
        "# NOTE: the hp.choice gives the index of the choice, so for example: max_feature: 1 -> This means the index = 1 in the list of  choices."
      ],
      "execution_count": null,
      "outputs": [
        {
          "output_type": "stream",
          "text": [
            "Best parameters from Hyperopt:\n",
            "{'clf': {'C': 0.03848456920552179, 'max_iter': 500, 'penalty': 'l2', 'solver': 'newton-cg'}}\n"
          ],
          "name": "stdout"
        }
      ]
    },
    {
      "cell_type": "markdown",
      "metadata": {
        "id": "MZRRJwB-iRhZ"
      },
      "source": [
        "### Model performance on test set"
      ]
    },
    {
      "cell_type": "code",
      "metadata": {
        "id": "BteFmknTiRhZ",
        "colab": {
          "base_uri": "https://localhost:8080/"
        },
        "outputId": "7596b33b-02f7-4582-fea7-3b5428a91901"
      },
      "source": [
        "# Building and fitting classifier with best parameters\n",
        "clf = f_clf( space_eval(hp_space_clf, best_clf) ).fit(X_train_rfe, y_train)\n",
        "\n",
        "# Calculating performance on test set\n",
        "predictions = clf.predict(X_test_rfe)\n",
        "\n",
        "print(\"Confusion Matrix:\")\n",
        "print(confusion_matrix(y_test, predictions))\n",
        "\n",
        "print(\"Classification Report:\")\n",
        "print(classification_report(y_test, predictions))\n",
        "\n",
        "print('Best parameters:')\n",
        "print(space_eval(hp_space_clf, best_clf))"
      ],
      "execution_count": null,
      "outputs": [
        {
          "output_type": "stream",
          "text": [
            "Confusion Matrix:\n",
            "[[124   0   0   0   0]\n",
            " [ 32  17   1   0   0]\n",
            " [  0   1  15   0   0]\n",
            " [  0   0   0   8   0]\n",
            " [  0   0   0   0   2]]\n",
            "Classification Report:\n",
            "              precision    recall  f1-score   support\n",
            "\n",
            "           0       0.79      1.00      0.89       124\n",
            "           1       0.94      0.34      0.50        50\n",
            "           2       0.94      0.94      0.94        16\n",
            "           3       1.00      1.00      1.00         8\n",
            "           4       1.00      1.00      1.00         2\n",
            "\n",
            "    accuracy                           0.83       200\n",
            "   macro avg       0.94      0.86      0.86       200\n",
            "weighted avg       0.85      0.83      0.80       200\n",
            "\n",
            "Best parameters:\n",
            "{'clf': {'C': 0.03848456920552179, 'max_iter': 500, 'penalty': 'l2', 'solver': 'newton-cg'}}\n"
          ],
          "name": "stdout"
        }
      ]
    },
    {
      "cell_type": "code",
      "metadata": {
        "id": "WSBH_LrH9iKl",
        "colab": {
          "base_uri": "https://localhost:8080/"
        },
        "outputId": "4edee52d-01b5-4d7e-df35-79343cb9530d"
      },
      "source": [
        "# Best trial\n",
        "print('Score from Best trial: ', -trials_clf.best_trial['result']['loss'] )"
      ],
      "execution_count": null,
      "outputs": [
        {
          "output_type": "stream",
          "text": [
            "Score from Best trial:  0.79125\n"
          ],
          "name": "stdout"
        }
      ]
    },
    {
      "cell_type": "code",
      "metadata": {
        "id": "gYk6hdijDGa3",
        "colab": {
          "base_uri": "https://localhost:8080/"
        },
        "outputId": "ce6452a8-bd9d-4a61-97b1-82f231884a73"
      },
      "source": [
        "# Accuracy score\n",
        "print('Accuracy score of the model on test set (using predict() ): ', accuracy_score(y_test, predictions) )"
      ],
      "execution_count": null,
      "outputs": [
        {
          "output_type": "stream",
          "text": [
            "Accuracy score of the model on test set (using predict() ):  0.83\n"
          ],
          "name": "stdout"
        }
      ]
    },
    {
      "cell_type": "code",
      "metadata": {
        "id": "12YQfi5XDfpI",
        "colab": {
          "base_uri": "https://localhost:8080/"
        },
        "outputId": "e1118b1d-a518-47a6-fb92-04df35b9ed95"
      },
      "source": [
        "# Accuracy score using predict_proba\n",
        "pred_prob_y_test = clf.predict_proba(X_test_rfe)\n",
        "preds = np.argmax(pred_prob_y_test, axis=1)\n",
        "\n",
        "print('Accuracy score on test set (using predict_proba() ): ')\n",
        "accuracy_score(y_test, preds)"
      ],
      "execution_count": null,
      "outputs": [
        {
          "output_type": "stream",
          "text": [
            "Accuracy score on test set (using predict_proba() ): \n"
          ],
          "name": "stdout"
        },
        {
          "output_type": "execute_result",
          "data": {
            "text/plain": [
              "0.83"
            ]
          },
          "metadata": {
            "tags": []
          },
          "execution_count": 46
        }
      ]
    },
    {
      "cell_type": "markdown",
      "metadata": {
        "id": "Zcdrwv4AiRhi"
      },
      "source": [
        "Test set accuracy and cross-validation scores are consistent."
      ]
    },
    {
      "cell_type": "markdown",
      "metadata": {
        "id": "EeWTyH43jX-I"
      },
      "source": [
        "**NOTE: The accuracy score from the use of Hyperopt is comparable to that of GridSearchCV (0.82 vs 0.825).**"
      ]
    },
    {
      "cell_type": "markdown",
      "metadata": {
        "id": "kRzO43rHWFJq"
      },
      "source": [
        "# The 10-fold cross validation from the best parameters"
      ]
    },
    {
      "cell_type": "markdown",
      "metadata": {
        "id": "QrQo6znOXa9D"
      },
      "source": [
        "Calculate the 10-fold cross validation of the model from the best parameters. Then I'll use this to compare the performances of different models."
      ]
    },
    {
      "cell_type": "code",
      "metadata": {
        "colab": {
          "base_uri": "https://localhost:8080/"
        },
        "id": "dzYlZ4XuRYRm",
        "outputId": "6d040bd1-a492-46f9-eb25-b08ec46cc16c"
      },
      "source": [
        "cv_res = cross_val_score(f_clf( space_eval(hp_space_clf, best_clf) ), X, y, cv=StratifiedKFold(10, shuffle=True, random_state=42), scoring='accuracy', n_jobs=-1)\n",
        "\n",
        "print('Results from cross-validation', cv_res)\n",
        "print(\"Accuracy: %0.4f (+/- %0.4f)\" % (cv_res.mean(), cv_res.std() ))"
      ],
      "execution_count": null,
      "outputs": [
        {
          "output_type": "stream",
          "text": [
            "Results from cross-validation [0.79 0.84 0.82 0.76 0.78 0.77 0.83 0.78 0.77 0.81]\n",
            "Accuracy: 0.7950 (+/- 0.0266)\n"
          ],
          "name": "stdout"
        }
      ]
    }
  ]
}