{
  "nbformat": 4,
  "nbformat_minor": 0,
  "metadata": {
    "colab": {
      "name": "step3b_naive_bayes_model.ipynb",
      "provenance": [],
      "collapsed_sections": [],
      "authorship_tag": "ABX9TyOxDXEruwLNNxqk+jm9M/wy",
      "include_colab_link": true
    },
    "kernelspec": {
      "name": "python3",
      "display_name": "Python 3"
    }
  },
  "cells": [
    {
      "cell_type": "markdown",
      "metadata": {
        "id": "view-in-github",
        "colab_type": "text"
      },
      "source": [
        "<a href=\"https://colab.research.google.com/github/nv-hiep/flight_delay_prediction/blob/master/step3b_naive_bayes_model.ipynb\" target=\"_parent\"><img src=\"https://colab.research.google.com/assets/colab-badge.svg\" alt=\"Open In Colab\"/></a>"
      ]
    },
    {
      "cell_type": "markdown",
      "metadata": {
        "id": "XNptZpGaux2I"
      },
      "source": [
        "**Step 3: Gradient Boosting Model**"
      ]
    },
    {
      "cell_type": "markdown",
      "metadata": {
        "id": "4DtfHtMLNB8n"
      },
      "source": [
        "**NOTE: Instead of predicting the delay time in minutes, I'll predict in delay intervals:**\n",
        "\n",
        "**0: ARR_DELAY <= 0 for no delay**\n",
        "\n",
        "**1: 0 < ARR_DELAY <= 30 (minutes)**\n",
        "\n",
        "**2: 30 < ARR_DELAY <= 60 (minutes)**\n",
        "\n",
        "**3: 60 < ARR_DELAY <= 120 (minutes)**\n",
        "\n",
        "**43: 120 < ARR_DELAY**"
      ]
    },
    {
      "cell_type": "markdown",
      "metadata": {
        "id": "sj3eAw1OXOnB"
      },
      "source": [
        "**Connect and authorize google drive with google colab:**"
      ]
    },
    {
      "cell_type": "code",
      "metadata": {
        "id": "PjjcQSpya_FR",
        "colab": {
          "base_uri": "https://localhost:8080/"
        },
        "outputId": "c7ab4564-3fe6-4bc6-b652-8d331281de07"
      },
      "source": [
        "from google.colab import drive\n",
        "drive.mount('/content/gdrive')\n",
        "# !ls"
      ],
      "execution_count": 1,
      "outputs": [
        {
          "output_type": "stream",
          "text": [
            "Mounted at /content/gdrive\n"
          ],
          "name": "stdout"
        }
      ]
    },
    {
      "cell_type": "markdown",
      "metadata": {
        "id": "BDJptlLBvSlN"
      },
      "source": [
        "# 1. Import Libraries\n",
        "\n"
      ]
    },
    {
      "cell_type": "code",
      "metadata": {
        "id": "M3cWo7hhc-qO"
      },
      "source": [
        "import os\n",
        "import numpy   as np\n",
        "import pandas  as pd\n",
        "import seaborn as sns\n",
        "\n",
        "import matplotlib.pyplot as plt\n",
        "plt.style.use('fivethirtyeight')\n",
        "\n",
        "%matplotlib inline  "
      ],
      "execution_count": 2,
      "outputs": []
    },
    {
      "cell_type": "code",
      "metadata": {
        "id": "9z2_TJyNuAxA"
      },
      "source": [
        "from sklearn.compose import make_column_transformer, ColumnTransformer\n",
        "from sklearn.preprocessing import OneHotEncoder, StandardScaler, PolynomialFeatures, PowerTransformer\n",
        "from sklearn.linear_model import LogisticRegression\n",
        "from sklearn.pipeline import make_pipeline\n",
        "from sklearn.model_selection import cross_val_score\n",
        "from sklearn.feature_selection import RFECV\n",
        "from sklearn.ensemble import GradientBoostingClassifier\n",
        "from sklearn.preprocessing import StandardScaler\n",
        "from sklearn.pipeline import Pipeline\n",
        "\n",
        "from sklearn.model_selection import train_test_split, GridSearchCV, StratifiedKFold, KFold\n",
        "\n",
        "from sklearn.metrics import precision_score, recall_score, f1_score, accuracy_score, roc_auc_score, mean_squared_error, r2_score\n",
        "from sklearn.metrics import confusion_matrix, roc_curve, classification_report\n",
        "\n",
        "from sklearn.neighbors import KNeighborsClassifier\n",
        "from collections import defaultdict\n",
        "\n",
        "from sklearn.naive_bayes import GaussianNB, BernoulliNB, MultinomialNB\n",
        "from sklearn.tree import DecisionTreeClassifier\n",
        "from sklearn.ensemble import RandomForestClassifier, RandomForestRegressor"
      ],
      "execution_count": 3,
      "outputs": []
    },
    {
      "cell_type": "code",
      "metadata": {
        "id": "KOo5yJuugwee"
      },
      "source": [
        "from hyperopt import fmin, hp, tpe, Trials, space_eval\n",
        "from hyperopt.pyll import scope as ho_scope\n",
        "from hyperopt.pyll.stochastic import sample as ho_sample\n",
        "\n",
        "from hyperopt import fmin, hp, tpe, Trials, space_eval, STATUS_OK\n",
        "from functools import partial\n",
        "\n",
        "from sklearn.svm import SVC\n",
        "\n",
        "from sklearn import datasets\n",
        "from sklearn.utils import shuffle"
      ],
      "execution_count": 4,
      "outputs": []
    },
    {
      "cell_type": "markdown",
      "metadata": {
        "id": "FgfeZe4ivlpb"
      },
      "source": [
        "# 2. Data directory"
      ]
    },
    {
      "cell_type": "code",
      "metadata": {
        "id": "Z9d185J9_xQZ",
        "colab": {
          "base_uri": "https://localhost:8080/"
        },
        "outputId": "23494038-047f-4c43-ab5b-c7ef483fbc33"
      },
      "source": [
        "data_dir = '/content/gdrive/My Drive/data'\n",
        "%cd '/content/gdrive/My Drive/data'\n",
        "\n",
        "current_dir = os.getcwd()\n",
        "print(current_dir)\n",
        "data_path = os.path.join(data_dir, 'flights', '')\n",
        "print(data_path)"
      ],
      "execution_count": 5,
      "outputs": [
        {
          "output_type": "stream",
          "text": [
            "/content/gdrive/My Drive/data\n",
            "/content/gdrive/My Drive/data\n",
            "/content/gdrive/My Drive/data/flights/\n"
          ],
          "name": "stdout"
        }
      ]
    },
    {
      "cell_type": "markdown",
      "metadata": {
        "id": "qQWESb2L2DXG"
      },
      "source": [
        "# 3. Read data"
      ]
    },
    {
      "cell_type": "code",
      "metadata": {
        "id": "4NHnKMOvZtFZ",
        "colab": {
          "base_uri": "https://localhost:8080/",
          "height": 221
        },
        "outputId": "01133c60-f316-47cc-a5bb-4fb59431900f"
      },
      "source": [
        "# Read clean sub-data from csv\n",
        "df_sub = pd.read_csv( os.path.join(data_path, 'cleaned_data_jan_20klines.csv') )\n",
        "print('Number of columns: ', len(df_sub.columns))\n",
        "df_sub.tail()"
      ],
      "execution_count": 6,
      "outputs": [
        {
          "output_type": "stream",
          "text": [
            "Number of columns:  15\n"
          ],
          "name": "stdout"
        },
        {
          "output_type": "execute_result",
          "data": {
            "text/html": [
              "<div>\n",
              "<style scoped>\n",
              "    .dataframe tbody tr th:only-of-type {\n",
              "        vertical-align: middle;\n",
              "    }\n",
              "\n",
              "    .dataframe tbody tr th {\n",
              "        vertical-align: top;\n",
              "    }\n",
              "\n",
              "    .dataframe thead th {\n",
              "        text-align: right;\n",
              "    }\n",
              "</style>\n",
              "<table border=\"1\" class=\"dataframe\">\n",
              "  <thead>\n",
              "    <tr style=\"text-align: right;\">\n",
              "      <th></th>\n",
              "      <th>ARR_TIME</th>\n",
              "      <th>CRS_ARR_TIME</th>\n",
              "      <th>TAIL_NUM</th>\n",
              "      <th>DISTANCE</th>\n",
              "      <th>OP_CARRIER_FL_NUM</th>\n",
              "      <th>DEP_TIME</th>\n",
              "      <th>TAXI_OUT</th>\n",
              "      <th>DEST</th>\n",
              "      <th>ORIGIN</th>\n",
              "      <th>TAXI_IN</th>\n",
              "      <th>DAY_OF_MONTH</th>\n",
              "      <th>CARRIER_DELAY</th>\n",
              "      <th>NAS_DELAY</th>\n",
              "      <th>LATE_AIRCRAFT_DELAY</th>\n",
              "      <th>DELAYED</th>\n",
              "    </tr>\n",
              "  </thead>\n",
              "  <tbody>\n",
              "    <tr>\n",
              "      <th>19995</th>\n",
              "      <td>22.42</td>\n",
              "      <td>20.83</td>\n",
              "      <td>695</td>\n",
              "      <td>1855.0</td>\n",
              "      <td>5175</td>\n",
              "      <td>16.73</td>\n",
              "      <td>17.0</td>\n",
              "      <td>180</td>\n",
              "      <td>261</td>\n",
              "      <td>5.0</td>\n",
              "      <td>8</td>\n",
              "      <td>11.0</td>\n",
              "      <td>0.0</td>\n",
              "      <td>84.0</td>\n",
              "      <td>3</td>\n",
              "    </tr>\n",
              "    <tr>\n",
              "      <th>19996</th>\n",
              "      <td>15.53</td>\n",
              "      <td>15.42</td>\n",
              "      <td>3050</td>\n",
              "      <td>1845.0</td>\n",
              "      <td>4738</td>\n",
              "      <td>9.48</td>\n",
              "      <td>31.0</td>\n",
              "      <td>188</td>\n",
              "      <td>261</td>\n",
              "      <td>5.0</td>\n",
              "      <td>8</td>\n",
              "      <td>0.0</td>\n",
              "      <td>0.0</td>\n",
              "      <td>0.0</td>\n",
              "      <td>1</td>\n",
              "    </tr>\n",
              "    <tr>\n",
              "      <th>19997</th>\n",
              "      <td>16.72</td>\n",
              "      <td>16.08</td>\n",
              "      <td>4131</td>\n",
              "      <td>651.0</td>\n",
              "      <td>2498</td>\n",
              "      <td>13.98</td>\n",
              "      <td>16.0</td>\n",
              "      <td>223</td>\n",
              "      <td>261</td>\n",
              "      <td>4.0</td>\n",
              "      <td>8</td>\n",
              "      <td>0.0</td>\n",
              "      <td>0.0</td>\n",
              "      <td>38.0</td>\n",
              "      <td>2</td>\n",
              "    </tr>\n",
              "    <tr>\n",
              "      <th>19998</th>\n",
              "      <td>23.43</td>\n",
              "      <td>21.17</td>\n",
              "      <td>3754</td>\n",
              "      <td>651.0</td>\n",
              "      <td>3226</td>\n",
              "      <td>20.70</td>\n",
              "      <td>14.0</td>\n",
              "      <td>223</td>\n",
              "      <td>261</td>\n",
              "      <td>4.0</td>\n",
              "      <td>8</td>\n",
              "      <td>0.0</td>\n",
              "      <td>0.0</td>\n",
              "      <td>136.0</td>\n",
              "      <td>4</td>\n",
              "    </tr>\n",
              "    <tr>\n",
              "      <th>19999</th>\n",
              "      <td>11.08</td>\n",
              "      <td>11.25</td>\n",
              "      <td>743</td>\n",
              "      <td>651.0</td>\n",
              "      <td>4798</td>\n",
              "      <td>8.35</td>\n",
              "      <td>17.0</td>\n",
              "      <td>223</td>\n",
              "      <td>261</td>\n",
              "      <td>4.0</td>\n",
              "      <td>8</td>\n",
              "      <td>0.0</td>\n",
              "      <td>0.0</td>\n",
              "      <td>0.0</td>\n",
              "      <td>0</td>\n",
              "    </tr>\n",
              "  </tbody>\n",
              "</table>\n",
              "</div>"
            ],
            "text/plain": [
              "       ARR_TIME  CRS_ARR_TIME  ...  LATE_AIRCRAFT_DELAY  DELAYED\n",
              "19995     22.42         20.83  ...                 84.0        3\n",
              "19996     15.53         15.42  ...                  0.0        1\n",
              "19997     16.72         16.08  ...                 38.0        2\n",
              "19998     23.43         21.17  ...                136.0        4\n",
              "19999     11.08         11.25  ...                  0.0        0\n",
              "\n",
              "[5 rows x 15 columns]"
            ]
          },
          "metadata": {
            "tags": []
          },
          "execution_count": 6
        }
      ]
    },
    {
      "cell_type": "code",
      "metadata": {
        "id": "N8L784JI2OEe",
        "colab": {
          "base_uri": "https://localhost:8080/"
        },
        "outputId": "efede339-4d85-4f72-c46f-a95259a5b895"
      },
      "source": [
        "# Checking the null values\n",
        "df_sub.isnull().sum()"
      ],
      "execution_count": 7,
      "outputs": [
        {
          "output_type": "execute_result",
          "data": {
            "text/plain": [
              "ARR_TIME               0\n",
              "CRS_ARR_TIME           0\n",
              "TAIL_NUM               0\n",
              "DISTANCE               0\n",
              "OP_CARRIER_FL_NUM      0\n",
              "DEP_TIME               0\n",
              "TAXI_OUT               0\n",
              "DEST                   0\n",
              "ORIGIN                 0\n",
              "TAXI_IN                0\n",
              "DAY_OF_MONTH           0\n",
              "CARRIER_DELAY          0\n",
              "NAS_DELAY              0\n",
              "LATE_AIRCRAFT_DELAY    0\n",
              "DELAYED                0\n",
              "dtype: int64"
            ]
          },
          "metadata": {
            "tags": []
          },
          "execution_count": 7
        }
      ]
    },
    {
      "cell_type": "code",
      "metadata": {
        "id": "F5Lthnuh_nrk",
        "colab": {
          "base_uri": "https://localhost:8080/"
        },
        "outputId": "a961aaa9-87dd-4676-d5b4-c0d24a1fd07b"
      },
      "source": [
        "df_sub.dtypes"
      ],
      "execution_count": 8,
      "outputs": [
        {
          "output_type": "execute_result",
          "data": {
            "text/plain": [
              "ARR_TIME               float64\n",
              "CRS_ARR_TIME           float64\n",
              "TAIL_NUM                 int64\n",
              "DISTANCE               float64\n",
              "OP_CARRIER_FL_NUM        int64\n",
              "DEP_TIME               float64\n",
              "TAXI_OUT               float64\n",
              "DEST                     int64\n",
              "ORIGIN                   int64\n",
              "TAXI_IN                float64\n",
              "DAY_OF_MONTH             int64\n",
              "CARRIER_DELAY          float64\n",
              "NAS_DELAY              float64\n",
              "LATE_AIRCRAFT_DELAY    float64\n",
              "DELAYED                  int64\n",
              "dtype: object"
            ]
          },
          "metadata": {
            "tags": []
          },
          "execution_count": 8
        }
      ]
    },
    {
      "cell_type": "code",
      "metadata": {
        "id": "lvGpIfLc2c7m",
        "colab": {
          "base_uri": "https://localhost:8080/"
        },
        "outputId": "06b55130-26dd-42c7-81b5-a01071336209"
      },
      "source": [
        "df_sub.columns"
      ],
      "execution_count": 9,
      "outputs": [
        {
          "output_type": "execute_result",
          "data": {
            "text/plain": [
              "Index(['ARR_TIME', 'CRS_ARR_TIME', 'TAIL_NUM', 'DISTANCE', 'OP_CARRIER_FL_NUM',\n",
              "       'DEP_TIME', 'TAXI_OUT', 'DEST', 'ORIGIN', 'TAXI_IN', 'DAY_OF_MONTH',\n",
              "       'CARRIER_DELAY', 'NAS_DELAY', 'LATE_AIRCRAFT_DELAY', 'DELAYED'],\n",
              "      dtype='object')"
            ]
          },
          "metadata": {
            "tags": []
          },
          "execution_count": 9
        }
      ]
    },
    {
      "cell_type": "code",
      "metadata": {
        "id": "7T16wSrJy_Hb",
        "colab": {
          "base_uri": "https://localhost:8080/",
          "height": 204
        },
        "outputId": "499eee9f-6a3c-4cdd-c8f8-47b34fb01248"
      },
      "source": [
        "df_sub.head()"
      ],
      "execution_count": 10,
      "outputs": [
        {
          "output_type": "execute_result",
          "data": {
            "text/html": [
              "<div>\n",
              "<style scoped>\n",
              "    .dataframe tbody tr th:only-of-type {\n",
              "        vertical-align: middle;\n",
              "    }\n",
              "\n",
              "    .dataframe tbody tr th {\n",
              "        vertical-align: top;\n",
              "    }\n",
              "\n",
              "    .dataframe thead th {\n",
              "        text-align: right;\n",
              "    }\n",
              "</style>\n",
              "<table border=\"1\" class=\"dataframe\">\n",
              "  <thead>\n",
              "    <tr style=\"text-align: right;\">\n",
              "      <th></th>\n",
              "      <th>ARR_TIME</th>\n",
              "      <th>CRS_ARR_TIME</th>\n",
              "      <th>TAIL_NUM</th>\n",
              "      <th>DISTANCE</th>\n",
              "      <th>OP_CARRIER_FL_NUM</th>\n",
              "      <th>DEP_TIME</th>\n",
              "      <th>TAXI_OUT</th>\n",
              "      <th>DEST</th>\n",
              "      <th>ORIGIN</th>\n",
              "      <th>TAXI_IN</th>\n",
              "      <th>DAY_OF_MONTH</th>\n",
              "      <th>CARRIER_DELAY</th>\n",
              "      <th>NAS_DELAY</th>\n",
              "      <th>LATE_AIRCRAFT_DELAY</th>\n",
              "      <th>DELAYED</th>\n",
              "    </tr>\n",
              "  </thead>\n",
              "  <tbody>\n",
              "    <tr>\n",
              "      <th>0</th>\n",
              "      <td>10.40</td>\n",
              "      <td>10.3</td>\n",
              "      <td>1373</td>\n",
              "      <td>1126.0</td>\n",
              "      <td>2186</td>\n",
              "      <td>9.22</td>\n",
              "      <td>26.0</td>\n",
              "      <td>234</td>\n",
              "      <td>76</td>\n",
              "      <td>5.0</td>\n",
              "      <td>16</td>\n",
              "      <td>0.0</td>\n",
              "      <td>0.0</td>\n",
              "      <td>0.0</td>\n",
              "      <td>1</td>\n",
              "    </tr>\n",
              "    <tr>\n",
              "      <th>1</th>\n",
              "      <td>10.18</td>\n",
              "      <td>10.3</td>\n",
              "      <td>1258</td>\n",
              "      <td>1126.0</td>\n",
              "      <td>2186</td>\n",
              "      <td>9.07</td>\n",
              "      <td>31.0</td>\n",
              "      <td>234</td>\n",
              "      <td>76</td>\n",
              "      <td>4.0</td>\n",
              "      <td>17</td>\n",
              "      <td>0.0</td>\n",
              "      <td>0.0</td>\n",
              "      <td>0.0</td>\n",
              "      <td>0</td>\n",
              "    </tr>\n",
              "    <tr>\n",
              "      <th>2</th>\n",
              "      <td>10.47</td>\n",
              "      <td>10.3</td>\n",
              "      <td>1252</td>\n",
              "      <td>1126.0</td>\n",
              "      <td>2186</td>\n",
              "      <td>9.13</td>\n",
              "      <td>44.0</td>\n",
              "      <td>234</td>\n",
              "      <td>76</td>\n",
              "      <td>5.0</td>\n",
              "      <td>18</td>\n",
              "      <td>0.0</td>\n",
              "      <td>0.0</td>\n",
              "      <td>0.0</td>\n",
              "      <td>1</td>\n",
              "    </tr>\n",
              "    <tr>\n",
              "      <th>3</th>\n",
              "      <td>10.78</td>\n",
              "      <td>10.3</td>\n",
              "      <td>1477</td>\n",
              "      <td>1126.0</td>\n",
              "      <td>2186</td>\n",
              "      <td>9.08</td>\n",
              "      <td>41.0</td>\n",
              "      <td>234</td>\n",
              "      <td>76</td>\n",
              "      <td>8.0</td>\n",
              "      <td>19</td>\n",
              "      <td>0.0</td>\n",
              "      <td>29.0</td>\n",
              "      <td>0.0</td>\n",
              "      <td>1</td>\n",
              "    </tr>\n",
              "    <tr>\n",
              "      <th>4</th>\n",
              "      <td>10.18</td>\n",
              "      <td>10.3</td>\n",
              "      <td>1505</td>\n",
              "      <td>1126.0</td>\n",
              "      <td>2186</td>\n",
              "      <td>9.05</td>\n",
              "      <td>20.0</td>\n",
              "      <td>234</td>\n",
              "      <td>76</td>\n",
              "      <td>6.0</td>\n",
              "      <td>20</td>\n",
              "      <td>0.0</td>\n",
              "      <td>0.0</td>\n",
              "      <td>0.0</td>\n",
              "      <td>0</td>\n",
              "    </tr>\n",
              "  </tbody>\n",
              "</table>\n",
              "</div>"
            ],
            "text/plain": [
              "   ARR_TIME  CRS_ARR_TIME  TAIL_NUM  ...  NAS_DELAY  LATE_AIRCRAFT_DELAY  DELAYED\n",
              "0     10.40          10.3      1373  ...        0.0                  0.0        1\n",
              "1     10.18          10.3      1258  ...        0.0                  0.0        0\n",
              "2     10.47          10.3      1252  ...        0.0                  0.0        1\n",
              "3     10.78          10.3      1477  ...       29.0                  0.0        1\n",
              "4     10.18          10.3      1505  ...        0.0                  0.0        0\n",
              "\n",
              "[5 rows x 15 columns]"
            ]
          },
          "metadata": {
            "tags": []
          },
          "execution_count": 10
        }
      ]
    },
    {
      "cell_type": "code",
      "metadata": {
        "id": "33MQJXD0I-VV"
      },
      "source": [
        "# Create data and label sets\n",
        "y = df_sub['DELAYED'][:1000]\n",
        "X = df_sub.drop(['DELAYED'], axis=1, inplace=False)[:1000]"
      ],
      "execution_count": 11,
      "outputs": []
    },
    {
      "cell_type": "code",
      "metadata": {
        "id": "cOFHQTvJplNN",
        "colab": {
          "base_uri": "https://localhost:8080/"
        },
        "outputId": "eecd93b3-51fd-4b38-e46d-f1a5b31840e2"
      },
      "source": [
        "print(X.shape)\n",
        "print(y.shape)"
      ],
      "execution_count": 12,
      "outputs": [
        {
          "output_type": "stream",
          "text": [
            "(1000, 14)\n",
            "(1000,)\n"
          ],
          "name": "stdout"
        }
      ]
    },
    {
      "cell_type": "code",
      "metadata": {
        "id": "F-c6wmtSMpX7"
      },
      "source": [
        "# Training and test datasets\n",
        "X_train, X_test, y_train, y_test = train_test_split(X, y, test_size=0.2, random_state=42)\n"
      ],
      "execution_count": 13,
      "outputs": []
    },
    {
      "cell_type": "markdown",
      "metadata": {
        "id": "oQ41rI43xFNc"
      },
      "source": [
        "# 4. Naive Bayes model"
      ]
    },
    {
      "cell_type": "code",
      "metadata": {
        "id": "b3_9BsDrvXz5"
      },
      "source": [
        "# Get score of the GradientBoostingClassifier on the test data\n",
        "def get_model_score(clf, X_train, X_test, y_train, y_test):\n",
        "    # Train the model\n",
        "    # clf = GaussianNB()\n",
        "    clf.fit(X_train, y_train)\n",
        "\n",
        "    # Predict and get score on test data\n",
        "    y_pred = clf.predict(X_test)\n",
        "    score  = accuracy_score(y_test, y_pred)\n",
        "    print('Accuracy: ', score)\n",
        "\n",
        "    return score"
      ],
      "execution_count": 14,
      "outputs": []
    },
    {
      "cell_type": "code",
      "metadata": {
        "colab": {
          "base_uri": "https://localhost:8080/"
        },
        "id": "iU5hw7VmVe6x",
        "outputId": "53e342e4-3ed0-4a02-c629-68e1349db60e"
      },
      "source": [
        "# fit a naive_bayes.BernoulliNB() model to the data\n",
        "model = BernoulliNB()\n",
        "print(); print(model)\n",
        "get_model_score(model, X_train, X_test, y_train, y_test)\n",
        "\n",
        "# fit a naive_bayes.GaussianNB() model to the data\n",
        "model = GaussianNB()\n",
        "print(); print(model)\n",
        "get_model_score(model, X_train, X_test, y_train, y_test)\n",
        "\n",
        "# fit a naive_bayes.MultinomialNB() model to the data\n",
        "model = MultinomialNB()\n",
        "print(); print(model)\n",
        "get_model_score(model, X_train, X_test, y_train, y_test)\n",
        "\n",
        "# summarize the fit of the model\n",
        "# classification_report(expected_y, predicted_y)\n",
        "# confusion_matrix(expected_y, predicted_y)"
      ],
      "execution_count": 15,
      "outputs": [
        {
          "output_type": "stream",
          "text": [
            "\n",
            "BernoulliNB(alpha=1.0, binarize=0.0, class_prior=None, fit_prior=True)\n",
            "Accuracy:  0.73\n",
            "\n",
            "GaussianNB(priors=None, var_smoothing=1e-09)\n",
            "Accuracy:  0.77\n",
            "\n",
            "MultinomialNB(alpha=1.0, class_prior=None, fit_prior=True)\n",
            "Accuracy:  0.53\n"
          ],
          "name": "stdout"
        },
        {
          "output_type": "execute_result",
          "data": {
            "text/plain": [
              "0.53"
            ]
          },
          "metadata": {
            "tags": []
          },
          "execution_count": 15
        }
      ]
    },
    {
      "cell_type": "markdown",
      "metadata": {
        "id": "elvJ5W_RXYW9"
      },
      "source": [
        "**NOTE: Because GaussianNB performs the best, I'll use GaussianNB model for next steps.**\n",
        "\n",
        "BernoulliNB is often used for binary features.\n",
        "\n",
        "MultinomialNB is often used for discrete integer features."
      ]
    },
    {
      "cell_type": "markdown",
      "metadata": {
        "id": "gjyHRuiIHMHg"
      },
      "source": [
        "## 4.1 GaussianNB model and SelectKBest for Feature Selection"
      ]
    },
    {
      "cell_type": "code",
      "metadata": {
        "id": "Lbi9V9LeYmml"
      },
      "source": [
        "# Model\n",
        "classifier = GaussianNB()"
      ],
      "execution_count": 42,
      "outputs": []
    },
    {
      "cell_type": "code",
      "metadata": {
        "colab": {
          "base_uri": "https://localhost:8080/"
        },
        "id": "ZmPRCC5oHYbK",
        "outputId": "56c4ea81-9c15-4b00-fed9-70fc6cf01305"
      },
      "source": [
        "# Number of features in X_train\n",
        "nfeatures = len( X_train.columns )\n",
        "print('Number of features in X_train: ', nfeatures)"
      ],
      "execution_count": 17,
      "outputs": [
        {
          "output_type": "stream",
          "text": [
            "Number of features in X_train:  14\n"
          ],
          "name": "stdout"
        }
      ]
    },
    {
      "cell_type": "code",
      "metadata": {
        "colab": {
          "base_uri": "https://localhost:8080/"
        },
        "id": "ccJKamp2JPlh",
        "outputId": "ee5a7965-0831-47ae-cccd-06fbe7a21407"
      },
      "source": [
        "# SelectKBest for classification\n",
        "from sklearn.feature_selection import SelectKBest, f_classif, chi2, mutual_info_classif\n",
        "\n",
        "# Select 10 features and fit\n",
        "selector    = SelectKBest(f_classif, k = 10)\n",
        "X_train_skb = selector.fit_transform(X_train, y_train)\n",
        "X_test_skb  = selector.transform(X_test)\n",
        "\n",
        "names  = X.columns.values[selector.get_support()]\n",
        "scores = selector.scores_[selector.get_support()]\n",
        "\n",
        "names_scores = list(zip(names, scores))\n",
        "ns_df        = pd.DataFrame(data = names_scores, columns=['Feature_names', 'F_Scores'])\n",
        "\n",
        "# Sort the dataframe\n",
        "ns_df_sorted = ns_df.sort_values(['F_Scores', 'Feature_names'], ascending = [False, True])\n",
        "print('Features selected: ', len(ns_df))\n",
        "print(ns_df_sorted)"
      ],
      "execution_count": 18,
      "outputs": [
        {
          "output_type": "stream",
          "text": [
            "Features selected:  10\n",
            "         Feature_names    F_Scores\n",
            "9  LATE_AIRCRAFT_DELAY  175.953820\n",
            "7        CARRIER_DELAY  104.718385\n",
            "8            NAS_DELAY   75.252374\n",
            "4             TAXI_OUT   30.338138\n",
            "6         DAY_OF_MONTH   11.954327\n",
            "5              TAXI_IN    5.133920\n",
            "3             DEP_TIME    4.156151\n",
            "2             DISTANCE    3.032514\n",
            "0             ARR_TIME    2.534617\n",
            "1         CRS_ARR_TIME    2.091812\n"
          ],
          "name": "stdout"
        }
      ]
    },
    {
      "cell_type": "code",
      "metadata": {
        "colab": {
          "base_uri": "https://localhost:8080/"
        },
        "id": "mhN9fO6TPglU",
        "outputId": "9e595921-7582-4eb5-bacc-a4f60627dfc3"
      },
      "source": [
        "print( 'Shape of transformed X_train: ', X_train_skb.shape )\n",
        "print( 'Shape of transformed X_test: ', X_test_skb.shape )"
      ],
      "execution_count": 19,
      "outputs": [
        {
          "output_type": "stream",
          "text": [
            "Shape of transformed X_train:  (800, 10)\n",
            "Shape of transformed X_test:  (200, 10)\n"
          ],
          "name": "stdout"
        }
      ]
    },
    {
      "cell_type": "code",
      "metadata": {
        "colab": {
          "base_uri": "https://localhost:8080/"
        },
        "id": "4RuyQ6wlPvvL",
        "outputId": "d6f78567-6e51-49a3-f9a8-d524b65494c7"
      },
      "source": [
        "# Get the score of Gradient Boosting Model after the SelectKBest\n",
        "get_model_score(classifier, X_train_skb, X_test_skb, y_train, y_test)"
      ],
      "execution_count": 20,
      "outputs": [
        {
          "output_type": "stream",
          "text": [
            "Accuracy:  0.765\n"
          ],
          "name": "stdout"
        },
        {
          "output_type": "execute_result",
          "data": {
            "text/plain": [
              "0.765"
            ]
          },
          "metadata": {
            "tags": []
          },
          "execution_count": 20
        }
      ]
    },
    {
      "cell_type": "markdown",
      "metadata": {
        "id": "x8AXyv_iQjCV"
      },
      "source": [
        "## 4.2 GaussianNB model and PCA for Feature Selection"
      ]
    },
    {
      "cell_type": "code",
      "metadata": {
        "colab": {
          "base_uri": "https://localhost:8080/"
        },
        "id": "BjCFEbhKQjCV",
        "outputId": "947f2010-26ab-4495-fb3a-bc8bc4c8b89d"
      },
      "source": [
        "# Number of features in X_train\n",
        "nfeatures = len( X_train.columns )\n",
        "print('Number of features in X_train: ', nfeatures)"
      ],
      "execution_count": 21,
      "outputs": [
        {
          "output_type": "stream",
          "text": [
            "Number of features in X_train:  14\n"
          ],
          "name": "stdout"
        }
      ]
    },
    {
      "cell_type": "code",
      "metadata": {
        "colab": {
          "base_uri": "https://localhost:8080/"
        },
        "id": "K1ZGBc6AUNMh",
        "outputId": "0900a0e2-0d89-4211-e533-879a678c0dea"
      },
      "source": [
        "from sklearn.decomposition import PCA\n",
        "\n",
        "pca = PCA(n_components = 10)\n",
        "X_train_pca = pca.fit_transform(X_train)\n",
        "X_test_pca  = pca.transform(X_test)\n",
        "\n",
        "print('Explained variation per principal component (PC):\\n {}'.format(np.round( pca.explained_variance_ratio_, 4) ))"
      ],
      "execution_count": 22,
      "outputs": [
        {
          "output_type": "stream",
          "text": [
            "Explained variation per principal component (PC):\n",
            " [7.215e-01 2.649e-01 7.100e-03 5.500e-03 3.000e-04 2.000e-04 1.000e-04\n",
            " 1.000e-04 1.000e-04 1.000e-04]\n"
          ],
          "name": "stdout"
        }
      ]
    },
    {
      "cell_type": "markdown",
      "metadata": {
        "id": "hA71wK-qW-XG"
      },
      "source": [
        "PC1 explains 72% and PC2 26%. Together, if we keep PC1 and PC2 only, they explain 98% of the total amount of variance in the training dataset."
      ]
    },
    {
      "cell_type": "code",
      "metadata": {
        "colab": {
          "base_uri": "https://localhost:8080/",
          "height": 359
        },
        "id": "8kWqaqCrXDgh",
        "outputId": "42bcfcd9-a135-4d9a-9cac-71bbe20fa3b4"
      },
      "source": [
        "pd.DataFrame(pca.components_, columns=X.columns, index = ['PC-' + str(x) for x in range(1, 11)])"
      ],
      "execution_count": 23,
      "outputs": [
        {
          "output_type": "execute_result",
          "data": {
            "text/html": [
              "<div>\n",
              "<style scoped>\n",
              "    .dataframe tbody tr th:only-of-type {\n",
              "        vertical-align: middle;\n",
              "    }\n",
              "\n",
              "    .dataframe tbody tr th {\n",
              "        vertical-align: top;\n",
              "    }\n",
              "\n",
              "    .dataframe thead th {\n",
              "        text-align: right;\n",
              "    }\n",
              "</style>\n",
              "<table border=\"1\" class=\"dataframe\">\n",
              "  <thead>\n",
              "    <tr style=\"text-align: right;\">\n",
              "      <th></th>\n",
              "      <th>ARR_TIME</th>\n",
              "      <th>CRS_ARR_TIME</th>\n",
              "      <th>TAIL_NUM</th>\n",
              "      <th>DISTANCE</th>\n",
              "      <th>OP_CARRIER_FL_NUM</th>\n",
              "      <th>DEP_TIME</th>\n",
              "      <th>TAXI_OUT</th>\n",
              "      <th>DEST</th>\n",
              "      <th>ORIGIN</th>\n",
              "      <th>TAXI_IN</th>\n",
              "      <th>DAY_OF_MONTH</th>\n",
              "      <th>CARRIER_DELAY</th>\n",
              "      <th>NAS_DELAY</th>\n",
              "      <th>LATE_AIRCRAFT_DELAY</th>\n",
              "    </tr>\n",
              "  </thead>\n",
              "  <tbody>\n",
              "    <tr>\n",
              "      <th>PC-1</th>\n",
              "      <td>0.000090</td>\n",
              "      <td>-0.000049</td>\n",
              "      <td>0.999239</td>\n",
              "      <td>0.037215</td>\n",
              "      <td>0.001617</td>\n",
              "      <td>-0.000005</td>\n",
              "      <td>0.001539</td>\n",
              "      <td>0.004220</td>\n",
              "      <td>0.010370</td>\n",
              "      <td>7.300183e-04</td>\n",
              "      <td>-0.000465</td>\n",
              "      <td>-0.000603</td>\n",
              "      <td>0.001177</td>\n",
              "      <td>0.001715</td>\n",
              "    </tr>\n",
              "    <tr>\n",
              "      <th>PC-2</th>\n",
              "      <td>-0.000406</td>\n",
              "      <td>0.000668</td>\n",
              "      <td>-0.037630</td>\n",
              "      <td>0.998261</td>\n",
              "      <td>0.000423</td>\n",
              "      <td>-0.000951</td>\n",
              "      <td>0.001400</td>\n",
              "      <td>0.034814</td>\n",
              "      <td>0.028593</td>\n",
              "      <td>6.905549e-07</td>\n",
              "      <td>-0.001160</td>\n",
              "      <td>0.000864</td>\n",
              "      <td>0.004730</td>\n",
              "      <td>-0.000673</td>\n",
              "    </tr>\n",
              "    <tr>\n",
              "      <th>PC-3</th>\n",
              "      <td>0.001865</td>\n",
              "      <td>0.005391</td>\n",
              "      <td>0.001178</td>\n",
              "      <td>-0.019970</td>\n",
              "      <td>0.003382</td>\n",
              "      <td>0.010959</td>\n",
              "      <td>0.005970</td>\n",
              "      <td>0.910596</td>\n",
              "      <td>-0.412048</td>\n",
              "      <td>-1.487201e-02</td>\n",
              "      <td>0.000286</td>\n",
              "      <td>0.006791</td>\n",
              "      <td>0.009815</td>\n",
              "      <td>-0.008289</td>\n",
              "    </tr>\n",
              "    <tr>\n",
              "      <th>PC-4</th>\n",
              "      <td>-0.009755</td>\n",
              "      <td>-0.013450</td>\n",
              "      <td>0.009648</td>\n",
              "      <td>0.040746</td>\n",
              "      <td>0.013493</td>\n",
              "      <td>-0.010644</td>\n",
              "      <td>0.016411</td>\n",
              "      <td>-0.410970</td>\n",
              "      <td>-0.910046</td>\n",
              "      <td>-3.451492e-03</td>\n",
              "      <td>0.006692</td>\n",
              "      <td>-0.005409</td>\n",
              "      <td>-0.003140</td>\n",
              "      <td>-0.015178</td>\n",
              "    </tr>\n",
              "    <tr>\n",
              "      <th>PC-5</th>\n",
              "      <td>0.004484</td>\n",
              "      <td>0.020985</td>\n",
              "      <td>-0.001704</td>\n",
              "      <td>0.000133</td>\n",
              "      <td>-0.029813</td>\n",
              "      <td>0.039151</td>\n",
              "      <td>0.076776</td>\n",
              "      <td>-0.002377</td>\n",
              "      <td>-0.017135</td>\n",
              "      <td>7.797558e-03</td>\n",
              "      <td>-0.113850</td>\n",
              "      <td>0.132291</td>\n",
              "      <td>0.150486</td>\n",
              "      <td>0.968376</td>\n",
              "    </tr>\n",
              "    <tr>\n",
              "      <th>PC-6</th>\n",
              "      <td>-0.052519</td>\n",
              "      <td>-0.023743</td>\n",
              "      <td>-0.000996</td>\n",
              "      <td>-0.005000</td>\n",
              "      <td>-0.002010</td>\n",
              "      <td>0.004026</td>\n",
              "      <td>0.394545</td>\n",
              "      <td>-0.010286</td>\n",
              "      <td>0.010564</td>\n",
              "      <td>3.160462e-02</td>\n",
              "      <td>-0.077306</td>\n",
              "      <td>0.287733</td>\n",
              "      <td>0.840789</td>\n",
              "      <td>-0.209897</td>\n",
              "    </tr>\n",
              "    <tr>\n",
              "      <th>PC-7</th>\n",
              "      <td>-0.010169</td>\n",
              "      <td>-0.018451</td>\n",
              "      <td>0.001111</td>\n",
              "      <td>0.000774</td>\n",
              "      <td>0.114447</td>\n",
              "      <td>-0.003635</td>\n",
              "      <td>-0.193672</td>\n",
              "      <td>-0.005650</td>\n",
              "      <td>-0.002761</td>\n",
              "      <td>-3.567262e-02</td>\n",
              "      <td>-0.113429</td>\n",
              "      <td>0.928562</td>\n",
              "      <td>-0.256981</td>\n",
              "      <td>-0.080554</td>\n",
              "    </tr>\n",
              "    <tr>\n",
              "      <th>PC-8</th>\n",
              "      <td>-0.331306</td>\n",
              "      <td>-0.318029</td>\n",
              "      <td>-0.001391</td>\n",
              "      <td>-0.001656</td>\n",
              "      <td>0.761242</td>\n",
              "      <td>-0.309936</td>\n",
              "      <td>-0.187463</td>\n",
              "      <td>0.010437</td>\n",
              "      <td>0.013418</td>\n",
              "      <td>-4.067497e-02</td>\n",
              "      <td>-0.212403</td>\n",
              "      <td>-0.140188</td>\n",
              "      <td>0.101084</td>\n",
              "      <td>0.038315</td>\n",
              "    </tr>\n",
              "    <tr>\n",
              "      <th>PC-9</th>\n",
              "      <td>-0.114970</td>\n",
              "      <td>-0.095271</td>\n",
              "      <td>-0.000613</td>\n",
              "      <td>0.000150</td>\n",
              "      <td>0.229652</td>\n",
              "      <td>-0.098125</td>\n",
              "      <td>0.353636</td>\n",
              "      <td>0.005978</td>\n",
              "      <td>0.015596</td>\n",
              "      <td>-4.506747e-02</td>\n",
              "      <td>0.867287</td>\n",
              "      <td>0.122607</td>\n",
              "      <td>-0.113211</td>\n",
              "      <td>0.089058</td>\n",
              "    </tr>\n",
              "    <tr>\n",
              "      <th>PC-10</th>\n",
              "      <td>0.012151</td>\n",
              "      <td>0.097855</td>\n",
              "      <td>0.001018</td>\n",
              "      <td>0.000355</td>\n",
              "      <td>-0.038931</td>\n",
              "      <td>0.104713</td>\n",
              "      <td>-0.790639</td>\n",
              "      <td>-0.005656</td>\n",
              "      <td>-0.014562</td>\n",
              "      <td>1.106660e-01</td>\n",
              "      <td>0.411031</td>\n",
              "      <td>0.013931</td>\n",
              "      <td>0.411988</td>\n",
              "      <td>0.036313</td>\n",
              "    </tr>\n",
              "  </tbody>\n",
              "</table>\n",
              "</div>"
            ],
            "text/plain": [
              "       ARR_TIME  CRS_ARR_TIME  ...  NAS_DELAY  LATE_AIRCRAFT_DELAY\n",
              "PC-1   0.000090     -0.000049  ...   0.001177             0.001715\n",
              "PC-2  -0.000406      0.000668  ...   0.004730            -0.000673\n",
              "PC-3   0.001865      0.005391  ...   0.009815            -0.008289\n",
              "PC-4  -0.009755     -0.013450  ...  -0.003140            -0.015178\n",
              "PC-5   0.004484      0.020985  ...   0.150486             0.968376\n",
              "PC-6  -0.052519     -0.023743  ...   0.840789            -0.209897\n",
              "PC-7  -0.010169     -0.018451  ...  -0.256981            -0.080554\n",
              "PC-8  -0.331306     -0.318029  ...   0.101084             0.038315\n",
              "PC-9  -0.114970     -0.095271  ...  -0.113211             0.089058\n",
              "PC-10  0.012151      0.097855  ...   0.411988             0.036313\n",
              "\n",
              "[10 rows x 14 columns]"
            ]
          },
          "metadata": {
            "tags": []
          },
          "execution_count": 23
        }
      ]
    },
    {
      "cell_type": "markdown",
      "metadata": {
        "id": "cpFpSawrXEz6"
      },
      "source": [
        "Here, **pca.components_** has shape **[n_components, n_features]**. Looking at the PC1 (First Principal Component) which is the first row: **[0.000090\t-0.000049\t0.999239\t0.037215\t0.001617\t-0.000005\t0.001539\t0.004220\t0.010370\t7.300183e-04\t-0.000465\t-0.000603\t0.001177\t0.001715]** we can conclude that feature TAIL_NUM, DISTANCE are the most important."
      ]
    },
    {
      "cell_type": "code",
      "metadata": {
        "colab": {
          "base_uri": "https://localhost:8080/"
        },
        "id": "Z2tX0dccdcEt",
        "outputId": "d96fc5c6-060e-4b1b-9ffa-632e8be80bf1"
      },
      "source": [
        "print( 'Shape of transformed X_train: ', X_train_pca.shape )\n",
        "print( 'Shape of transformed X_test: ', X_test_pca.shape )"
      ],
      "execution_count": 24,
      "outputs": [
        {
          "output_type": "stream",
          "text": [
            "Shape of transformed X_train:  (800, 10)\n",
            "Shape of transformed X_test:  (200, 10)\n"
          ],
          "name": "stdout"
        }
      ]
    },
    {
      "cell_type": "code",
      "metadata": {
        "colab": {
          "base_uri": "https://localhost:8080/"
        },
        "id": "RDzj7zV1dcEu",
        "outputId": "66d54198-be55-4949-c47f-7931d8484b05"
      },
      "source": [
        "# Get the score of Gradient Boosting Model after the SelectKBest\n",
        "get_model_score(classifier, X_train_pca, X_test_pca, y_train, y_test)"
      ],
      "execution_count": 25,
      "outputs": [
        {
          "output_type": "stream",
          "text": [
            "Accuracy:  0.77\n"
          ],
          "name": "stdout"
        },
        {
          "output_type": "execute_result",
          "data": {
            "text/plain": [
              "0.77"
            ]
          },
          "metadata": {
            "tags": []
          },
          "execution_count": 25
        }
      ]
    },
    {
      "cell_type": "markdown",
      "metadata": {
        "id": "9n2by7Q-1gzS"
      },
      "source": [
        "## 4.3 GaussianNB model and Recursive Feature Elimination (RFE) "
      ]
    },
    {
      "cell_type": "code",
      "metadata": {
        "colab": {
          "base_uri": "https://localhost:8080/"
        },
        "id": "-oOYGosLA8Bq",
        "outputId": "fb8efb8b-513e-46fd-a8d3-06d7595db9a4"
      },
      "source": [
        "# Number of features in X_train\n",
        "nfeatures = len( X_train.columns )\n",
        "print('Number of features in X_train: ', nfeatures)"
      ],
      "execution_count": 26,
      "outputs": [
        {
          "output_type": "stream",
          "text": [
            "Number of features in X_train:  14\n"
          ],
          "name": "stdout"
        }
      ]
    },
    {
      "cell_type": "code",
      "metadata": {
        "id": "JXR_gGzOwjiY",
        "colab": {
          "base_uri": "https://localhost:8080/"
        },
        "outputId": "6c222b1a-d0da-4258-d6ee-fcab5a0ffde8"
      },
      "source": [
        "# RFECV using GradientBoostingClassifier as estimator\n",
        "estimator = GradientBoostingClassifier(n_estimators=100, random_state=0)\n",
        "selector = RFECV(estimator, step=1, cv=5)\n",
        "X_train_rfe = selector.fit_transform(X_train, y_train)\n",
        "X_test_rfe  = selector.transform(X_test)\n",
        "\n",
        "print( 'Supports/features selected [1/0]: ', selector.support_ )\n",
        "print( 'Ranking of the features: ', selector.ranking_ )"
      ],
      "execution_count": 27,
      "outputs": [
        {
          "output_type": "stream",
          "text": [
            "Supports/features selected [1/0]:  [ True False False False False  True False False False False False  True\n",
            "  True  True]\n",
            "Ranking of the features:  [ 1 10  3  7  9  1  2  6  8  4  5  1  1  1]\n"
          ],
          "name": "stdout"
        }
      ]
    },
    {
      "cell_type": "code",
      "metadata": {
        "id": "SP7Je1K0ztFh",
        "colab": {
          "base_uri": "https://localhost:8080/"
        },
        "outputId": "b58c2e39-9714-475c-dd4b-ffc44775e657"
      },
      "source": [
        "print('Number of selected features: ', selector.n_features_)\n",
        "print()\n",
        "print('Grid scores: ', selector.grid_scores_)\n",
        "print()\n",
        "print('Feature importances: ', selector.estimator_.feature_importances_ )"
      ],
      "execution_count": 28,
      "outputs": [
        {
          "output_type": "stream",
          "text": [
            "Number of selected features:  5\n",
            "\n",
            "Grid scores:  [0.65625 0.72625 0.76    0.79875 0.8275  0.82125 0.8125  0.8075  0.79875\n",
            " 0.785   0.79875 0.8025  0.805   0.80375]\n",
            "\n",
            "Feature importances:  [0.29400883 0.12719981 0.13949715 0.26579259 0.17350163]\n"
          ],
          "name": "stdout"
        }
      ]
    },
    {
      "cell_type": "code",
      "metadata": {
        "id": "SoqtAs-843Ob",
        "colab": {
          "base_uri": "https://localhost:8080/"
        },
        "outputId": "827984d6-2866-4870-eb04-c9c98b718a60"
      },
      "source": [
        "# Selected features\n",
        "features = X_train.columns[selector.get_support()]\n",
        "print( features )\n",
        "print( len(features) )"
      ],
      "execution_count": 29,
      "outputs": [
        {
          "output_type": "stream",
          "text": [
            "Index(['ARR_TIME', 'DEP_TIME', 'CARRIER_DELAY', 'NAS_DELAY',\n",
            "       'LATE_AIRCRAFT_DELAY'],\n",
            "      dtype='object')\n",
            "5\n"
          ],
          "name": "stdout"
        }
      ]
    },
    {
      "cell_type": "code",
      "metadata": {
        "id": "9HMCWypp5yTC",
        "colab": {
          "base_uri": "https://localhost:8080/"
        },
        "outputId": "09b22f1f-5f1e-4ac5-8721-3eac6c702280"
      },
      "source": [
        "# Get the score of Gradient Boosting Model after the RFE\n",
        "get_model_score(classifier, X_train_rfe, X_test_rfe, y_train, y_test)"
      ],
      "execution_count": 30,
      "outputs": [
        {
          "output_type": "stream",
          "text": [
            "Accuracy:  0.78\n"
          ],
          "name": "stdout"
        },
        {
          "output_type": "execute_result",
          "data": {
            "text/plain": [
              "0.78"
            ]
          },
          "metadata": {
            "tags": []
          },
          "execution_count": 30
        }
      ]
    },
    {
      "cell_type": "markdown",
      "metadata": {
        "id": "xHXMxGI-Z4p_"
      },
      "source": [
        "The accuracy of the GausianNB model with the RFECV (using GradientBoostingClassifier as estimator) improves just litle (0.78 vs 0.77)"
      ]
    },
    {
      "cell_type": "markdown",
      "metadata": {
        "id": "lXTni8jO3PNF"
      },
      "source": [
        "## 4.4 Get best parameters of GausianNB model with GridSearch and Cross-validation (GridSearchCV)"
      ]
    },
    {
      "cell_type": "markdown",
      "metadata": {
        "id": "H2opDjJGee7s"
      },
      "source": [
        "**Because the score of GausianNB Classifier on the test set with the use of RFE is the best (RFE: 0.78, PCA: 0.77, SelectKBest: 0.765). I'll use RFE for the next steps.**"
      ]
    },
    {
      "cell_type": "markdown",
      "metadata": {
        "id": "G1mE1szq5zz7"
      },
      "source": [
        "### Parameter space"
      ]
    },
    {
      "cell_type": "markdown",
      "metadata": {
        "id": "4wt71s8jgDlk"
      },
      "source": [
        "![download.png](data:image/png;base64,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)"
      ]
    },
    {
      "cell_type": "markdown",
      "metadata": {
        "id": "tCxL7dSygxm-"
      },
      "source": [
        "The prior of the classes [0, 1, 2, 3, 4] is [0.645, 0.238, 0.57, 0.37, 0.23] as shown in the pie chart."
      ]
    },
    {
      "cell_type": "code",
      "metadata": {
        "id": "F6_9_eWl-WmJ"
      },
      "source": [
        "# Parameter space\n",
        "param_grid = {\n",
        "    'priors': [None, [0.645, 0.238, 0.57, 0.37, 0.23]],\n",
        "    'var_smoothing': np.logspace(0,-9, num=100).tolist()\n",
        "    }"
      ],
      "execution_count": 40,
      "outputs": []
    },
    {
      "cell_type": "markdown",
      "metadata": {
        "id": "EtB3_29C5-47"
      },
      "source": [
        "### GridSearchCV"
      ]
    },
    {
      "cell_type": "code",
      "metadata": {
        "id": "un-NidaT5-Su",
        "colab": {
          "base_uri": "https://localhost:8080/"
        },
        "outputId": "a6cc921a-daac-4440-98d1-a5190e7572b7"
      },
      "source": [
        "# GridsearchCV\n",
        "clf = GridSearchCV(classifier, param_grid=param_grid, cv=3, n_jobs=-1)\n",
        "clf.fit(X_train_rfe, y_train)\n",
        "\n",
        "# Get best params\n",
        "print(clf.score(X_train_rfe, y_train))\n",
        "print(clf.best_params_)"
      ],
      "execution_count": 41,
      "outputs": [
        {
          "output_type": "stream",
          "text": [
            "0.77\n",
            "{'priors': None, 'var_smoothing': 0.0657933224657568}\n"
          ],
          "name": "stdout"
        }
      ]
    },
    {
      "cell_type": "code",
      "metadata": {
        "id": "qPF67NJJ-nhR",
        "colab": {
          "base_uri": "https://localhost:8080/"
        },
        "outputId": "36ea4cc2-405c-4441-96d6-9bad5db55b18"
      },
      "source": [
        "# Re-train the model with best parameter from GridSearchCV\n",
        "best_params = clf.best_params_\n",
        "gbc = GaussianNB(priors=best_params['priors'], var_smoothing=best_params['var_smoothing'])\n",
        "gbc.fit(X_train_rfe, y_train)"
      ],
      "execution_count": 43,
      "outputs": [
        {
          "output_type": "execute_result",
          "data": {
            "text/plain": [
              "GaussianNB(priors=None, var_smoothing=0.0657933224657568)"
            ]
          },
          "metadata": {
            "tags": []
          },
          "execution_count": 43
        }
      ]
    },
    {
      "cell_type": "code",
      "metadata": {
        "id": "x6ACdysc-u8P",
        "colab": {
          "base_uri": "https://localhost:8080/"
        },
        "outputId": "207067cc-8e2f-492e-af4d-4406ddf42f94"
      },
      "source": [
        "# Predict and get score using test data\n",
        "pred = gbc.predict(X_test_rfe)\n",
        "# Get the score\n",
        "print(\"Accuracy on test data: \", accuracy_score(y_test, pred))"
      ],
      "execution_count": 44,
      "outputs": [
        {
          "output_type": "stream",
          "text": [
            "Accuracy on test data:  0.795\n"
          ],
          "name": "stdout"
        }
      ]
    },
    {
      "cell_type": "markdown",
      "metadata": {
        "id": "9x3shxO2gIG8"
      },
      "source": [
        "**NOTE: The accuracy improved just a litle bit: from 0.78 (see above) to 0.795.**"
      ]
    },
    {
      "cell_type": "markdown",
      "metadata": {
        "id": "gkSVgbKbiFJ8"
      },
      "source": [
        "### Prediction"
      ]
    },
    {
      "cell_type": "code",
      "metadata": {
        "id": "GYgiRjnA7UZO",
        "colab": {
          "base_uri": "https://localhost:8080/",
          "height": 359
        },
        "outputId": "3cdaaeeb-ac91-4830-c5e6-da672754ea1c"
      },
      "source": [
        "X_new = df_sub.drop(['DELAYED'], axis=1, inplace=False)[8000:8010]\n",
        "X_new"
      ],
      "execution_count": 45,
      "outputs": [
        {
          "output_type": "execute_result",
          "data": {
            "text/html": [
              "<div>\n",
              "<style scoped>\n",
              "    .dataframe tbody tr th:only-of-type {\n",
              "        vertical-align: middle;\n",
              "    }\n",
              "\n",
              "    .dataframe tbody tr th {\n",
              "        vertical-align: top;\n",
              "    }\n",
              "\n",
              "    .dataframe thead th {\n",
              "        text-align: right;\n",
              "    }\n",
              "</style>\n",
              "<table border=\"1\" class=\"dataframe\">\n",
              "  <thead>\n",
              "    <tr style=\"text-align: right;\">\n",
              "      <th></th>\n",
              "      <th>ARR_TIME</th>\n",
              "      <th>CRS_ARR_TIME</th>\n",
              "      <th>TAIL_NUM</th>\n",
              "      <th>DISTANCE</th>\n",
              "      <th>OP_CARRIER_FL_NUM</th>\n",
              "      <th>DEP_TIME</th>\n",
              "      <th>TAXI_OUT</th>\n",
              "      <th>DEST</th>\n",
              "      <th>ORIGIN</th>\n",
              "      <th>TAXI_IN</th>\n",
              "      <th>DAY_OF_MONTH</th>\n",
              "      <th>CARRIER_DELAY</th>\n",
              "      <th>NAS_DELAY</th>\n",
              "      <th>LATE_AIRCRAFT_DELAY</th>\n",
              "    </tr>\n",
              "  </thead>\n",
              "  <tbody>\n",
              "    <tr>\n",
              "      <th>8000</th>\n",
              "      <td>11.67</td>\n",
              "      <td>11.92</td>\n",
              "      <td>4239</td>\n",
              "      <td>545.0</td>\n",
              "      <td>2271</td>\n",
              "      <td>9.93</td>\n",
              "      <td>17.0</td>\n",
              "      <td>17</td>\n",
              "      <td>218</td>\n",
              "      <td>7.0</td>\n",
              "      <td>10</td>\n",
              "      <td>0.0</td>\n",
              "      <td>0.0</td>\n",
              "      <td>0.0</td>\n",
              "    </tr>\n",
              "    <tr>\n",
              "      <th>8001</th>\n",
              "      <td>21.60</td>\n",
              "      <td>21.93</td>\n",
              "      <td>862</td>\n",
              "      <td>502.0</td>\n",
              "      <td>2272</td>\n",
              "      <td>19.90</td>\n",
              "      <td>17.0</td>\n",
              "      <td>167</td>\n",
              "      <td>81</td>\n",
              "      <td>10.0</td>\n",
              "      <td>10</td>\n",
              "      <td>0.0</td>\n",
              "      <td>0.0</td>\n",
              "      <td>0.0</td>\n",
              "    </tr>\n",
              "    <tr>\n",
              "      <th>8002</th>\n",
              "      <td>8.12</td>\n",
              "      <td>8.30</td>\n",
              "      <td>4280</td>\n",
              "      <td>306.0</td>\n",
              "      <td>2273</td>\n",
              "      <td>6.82</td>\n",
              "      <td>13.0</td>\n",
              "      <td>17</td>\n",
              "      <td>119</td>\n",
              "      <td>4.0</td>\n",
              "      <td>10</td>\n",
              "      <td>0.0</td>\n",
              "      <td>0.0</td>\n",
              "      <td>0.0</td>\n",
              "    </tr>\n",
              "    <tr>\n",
              "      <th>8003</th>\n",
              "      <td>23.50</td>\n",
              "      <td>23.73</td>\n",
              "      <td>4294</td>\n",
              "      <td>143.0</td>\n",
              "      <td>2275</td>\n",
              "      <td>22.77</td>\n",
              "      <td>13.0</td>\n",
              "      <td>11</td>\n",
              "      <td>17</td>\n",
              "      <td>5.0</td>\n",
              "      <td>10</td>\n",
              "      <td>0.0</td>\n",
              "      <td>0.0</td>\n",
              "      <td>0.0</td>\n",
              "    </tr>\n",
              "    <tr>\n",
              "      <th>8004</th>\n",
              "      <td>9.45</td>\n",
              "      <td>9.63</td>\n",
              "      <td>4473</td>\n",
              "      <td>950.0</td>\n",
              "      <td>2276</td>\n",
              "      <td>6.85</td>\n",
              "      <td>13.0</td>\n",
              "      <td>167</td>\n",
              "      <td>178</td>\n",
              "      <td>14.0</td>\n",
              "      <td>10</td>\n",
              "      <td>0.0</td>\n",
              "      <td>0.0</td>\n",
              "      <td>0.0</td>\n",
              "    </tr>\n",
              "    <tr>\n",
              "      <th>8005</th>\n",
              "      <td>13.77</td>\n",
              "      <td>13.83</td>\n",
              "      <td>4388</td>\n",
              "      <td>534.0</td>\n",
              "      <td>2277</td>\n",
              "      <td>12.18</td>\n",
              "      <td>13.0</td>\n",
              "      <td>135</td>\n",
              "      <td>17</td>\n",
              "      <td>6.0</td>\n",
              "      <td>10</td>\n",
              "      <td>0.0</td>\n",
              "      <td>0.0</td>\n",
              "      <td>0.0</td>\n",
              "    </tr>\n",
              "    <tr>\n",
              "      <th>8006</th>\n",
              "      <td>16.15</td>\n",
              "      <td>16.53</td>\n",
              "      <td>4388</td>\n",
              "      <td>534.0</td>\n",
              "      <td>2277</td>\n",
              "      <td>14.45</td>\n",
              "      <td>11.0</td>\n",
              "      <td>17</td>\n",
              "      <td>135</td>\n",
              "      <td>6.0</td>\n",
              "      <td>10</td>\n",
              "      <td>0.0</td>\n",
              "      <td>0.0</td>\n",
              "      <td>0.0</td>\n",
              "    </tr>\n",
              "    <tr>\n",
              "      <th>8007</th>\n",
              "      <td>14.63</td>\n",
              "      <td>13.37</td>\n",
              "      <td>4073</td>\n",
              "      <td>297.0</td>\n",
              "      <td>2278</td>\n",
              "      <td>12.40</td>\n",
              "      <td>70.0</td>\n",
              "      <td>200</td>\n",
              "      <td>188</td>\n",
              "      <td>3.0</td>\n",
              "      <td>10</td>\n",
              "      <td>0.0</td>\n",
              "      <td>52.0</td>\n",
              "      <td>24.0</td>\n",
              "    </tr>\n",
              "    <tr>\n",
              "      <th>8008</th>\n",
              "      <td>11.93</td>\n",
              "      <td>11.30</td>\n",
              "      <td>4073</td>\n",
              "      <td>297.0</td>\n",
              "      <td>2278</td>\n",
              "      <td>9.97</td>\n",
              "      <td>61.0</td>\n",
              "      <td>188</td>\n",
              "      <td>200</td>\n",
              "      <td>4.0</td>\n",
              "      <td>10</td>\n",
              "      <td>0.0</td>\n",
              "      <td>38.0</td>\n",
              "      <td>0.0</td>\n",
              "    </tr>\n",
              "    <tr>\n",
              "      <th>8009</th>\n",
              "      <td>20.48</td>\n",
              "      <td>21.00</td>\n",
              "      <td>4460</td>\n",
              "      <td>746.0</td>\n",
              "      <td>2280</td>\n",
              "      <td>18.18</td>\n",
              "      <td>14.0</td>\n",
              "      <td>17</td>\n",
              "      <td>94</td>\n",
              "      <td>9.0</td>\n",
              "      <td>10</td>\n",
              "      <td>0.0</td>\n",
              "      <td>0.0</td>\n",
              "      <td>0.0</td>\n",
              "    </tr>\n",
              "  </tbody>\n",
              "</table>\n",
              "</div>"
            ],
            "text/plain": [
              "      ARR_TIME  CRS_ARR_TIME  ...  NAS_DELAY  LATE_AIRCRAFT_DELAY\n",
              "8000     11.67         11.92  ...        0.0                  0.0\n",
              "8001     21.60         21.93  ...        0.0                  0.0\n",
              "8002      8.12          8.30  ...        0.0                  0.0\n",
              "8003     23.50         23.73  ...        0.0                  0.0\n",
              "8004      9.45          9.63  ...        0.0                  0.0\n",
              "8005     13.77         13.83  ...        0.0                  0.0\n",
              "8006     16.15         16.53  ...        0.0                  0.0\n",
              "8007     14.63         13.37  ...       52.0                 24.0\n",
              "8008     11.93         11.30  ...       38.0                  0.0\n",
              "8009     20.48         21.00  ...        0.0                  0.0\n",
              "\n",
              "[10 rows x 14 columns]"
            ]
          },
          "metadata": {
            "tags": []
          },
          "execution_count": 45
        }
      ]
    },
    {
      "cell_type": "code",
      "metadata": {
        "id": "ontwyEuyFkrj",
        "colab": {
          "base_uri": "https://localhost:8080/"
        },
        "outputId": "cbf7d2f7-3bf6-432e-e458-0d0db2188358"
      },
      "source": [
        "df_sub['DELAYED'][8000:8010]"
      ],
      "execution_count": 46,
      "outputs": [
        {
          "output_type": "execute_result",
          "data": {
            "text/plain": [
              "8000    0\n",
              "8001    0\n",
              "8002    0\n",
              "8003    0\n",
              "8004    0\n",
              "8005    0\n",
              "8006    0\n",
              "8007    3\n",
              "8008    2\n",
              "8009    0\n",
              "Name: DELAYED, dtype: int64"
            ]
          },
          "metadata": {
            "tags": []
          },
          "execution_count": 46
        }
      ]
    },
    {
      "cell_type": "code",
      "metadata": {
        "id": "VSTnCMCpPnpn",
        "colab": {
          "base_uri": "https://localhost:8080/"
        },
        "outputId": "aae6ee91-5cf1-471c-c078-26f11fe88bd9"
      },
      "source": [
        "X_new_rfe = selector.transform(X_new)\n",
        "\n",
        "print(X_new_rfe.shape)\n",
        "X_new_rfe"
      ],
      "execution_count": 47,
      "outputs": [
        {
          "output_type": "stream",
          "text": [
            "(10, 5)\n"
          ],
          "name": "stdout"
        },
        {
          "output_type": "execute_result",
          "data": {
            "text/plain": [
              "array([[11.67,  9.93,  0.  ,  0.  ,  0.  ],\n",
              "       [21.6 , 19.9 ,  0.  ,  0.  ,  0.  ],\n",
              "       [ 8.12,  6.82,  0.  ,  0.  ,  0.  ],\n",
              "       [23.5 , 22.77,  0.  ,  0.  ,  0.  ],\n",
              "       [ 9.45,  6.85,  0.  ,  0.  ,  0.  ],\n",
              "       [13.77, 12.18,  0.  ,  0.  ,  0.  ],\n",
              "       [16.15, 14.45,  0.  ,  0.  ,  0.  ],\n",
              "       [14.63, 12.4 ,  0.  , 52.  , 24.  ],\n",
              "       [11.93,  9.97,  0.  , 38.  ,  0.  ],\n",
              "       [20.48, 18.18,  0.  ,  0.  ,  0.  ]])"
            ]
          },
          "metadata": {
            "tags": []
          },
          "execution_count": 47
        }
      ]
    },
    {
      "cell_type": "code",
      "metadata": {
        "id": "jqHdAxy27xS5",
        "colab": {
          "base_uri": "https://localhost:8080/"
        },
        "outputId": "0307707c-6b55-4572-bfa2-3de1d9e242ca"
      },
      "source": [
        "print('Prediction: ', gbc.predict(X_new_rfe).tolist())\n",
        "print('True labels: ', df_sub['DELAYED'][8000:8010].tolist())"
      ],
      "execution_count": 48,
      "outputs": [
        {
          "output_type": "stream",
          "text": [
            "Prediction:  [0, 0, 0, 0, 0, 0, 0, 2, 2, 0]\n",
            "True labels:  [0, 0, 0, 0, 0, 0, 0, 3, 2, 0]\n"
          ],
          "name": "stdout"
        }
      ]
    },
    {
      "cell_type": "markdown",
      "metadata": {
        "id": "zAAwGm8w5JIg"
      },
      "source": [
        "## 4.5 Get best parameters of GaussianNB model with Hyperopt\n"
      ]
    },
    {
      "cell_type": "markdown",
      "metadata": {
        "id": "K9SoWNjJgOCq"
      },
      "source": [
        "### Parameter space"
      ]
    },
    {
      "cell_type": "code",
      "metadata": {
        "id": "QcJBJBnyxIO7",
        "colab": {
          "base_uri": "https://localhost:8080/"
        },
        "outputId": "86f2e6f5-f626-4466-8d81-854a89ed67ed"
      },
      "source": [
        "# Number of features in X_train\n",
        "nfeatures = len( X_train.columns )\n",
        "print('Number of features in X_train: ', nfeatures)"
      ],
      "execution_count": 49,
      "outputs": [
        {
          "output_type": "stream",
          "text": [
            "Number of features in X_train:  14\n"
          ],
          "name": "stdout"
        }
      ]
    },
    {
      "cell_type": "code",
      "metadata": {
        "id": "_6bWASM4gOCq",
        "colab": {
          "base_uri": "https://localhost:8080/"
        },
        "outputId": "ba67aae0-4411-44a4-8d60-6d8816b2e8a2"
      },
      "source": [
        "# Params space\n",
        "hp_space_clf = {\n",
        "    'clf': {\n",
        "        'priors': hp.choice('priors', [None, [0.645, 0.238, 0.57, 0.37, 0.23]] ),\n",
        "        'var_smoothing': hp.choice('var_smoothing', np.logspace(0,-9, num=100).tolist() )\n",
        "    }\n",
        "}\n",
        "\n",
        "# Draw random sample to see if hyperspace is correctly defined\n",
        "ho_sample(hp_space_clf)"
      ],
      "execution_count": 55,
      "outputs": [
        {
          "output_type": "execute_result",
          "data": {
            "text/plain": [
              "{'clf': {'priors': None, 'var_smoothing': 1.873817422860387e-09}}"
            ]
          },
          "metadata": {
            "tags": []
          },
          "execution_count": 55
        }
      ]
    },
    {
      "cell_type": "markdown",
      "metadata": {
        "id": "eUj_mqjygOCr"
      },
      "source": [
        "### Defining model"
      ]
    },
    {
      "cell_type": "code",
      "metadata": {
        "id": "1SYZyQH6gOCr"
      },
      "source": [
        "def f_clf(hps):\n",
        "    \"\"\"\n",
        "    Constructs estimator\n",
        "    \n",
        "    Parameters:\n",
        "    ----------------\n",
        "    hps : sample point from search space\n",
        "    \n",
        "    Returns:\n",
        "    ----------------\n",
        "    model : sklearn.Pipeline.pipeline with hyperparameters set up as per hps\n",
        "    \"\"\"\n",
        "    \n",
        "    # Assembing pipeline if needed\n",
        "    # model = Pipeline([\n",
        "    #     ('clf', GradientBoostingClassifier(**hps['clf'], random_state=42))\n",
        "    # ])\n",
        "    \n",
        "    model = GaussianNB(**hps['clf'] )\n",
        "    \n",
        "    return model"
      ],
      "execution_count": 57,
      "outputs": []
    },
    {
      "cell_type": "markdown",
      "metadata": {
        "id": "uL4g1i3STghQ"
      },
      "source": [
        "### Defining objective function"
      ]
    },
    {
      "cell_type": "markdown",
      "metadata": {
        "id": "0mtS1gjjTghQ"
      },
      "source": [
        "Define function to minimize. I'll use cross-validation score on train set."
      ]
    },
    {
      "cell_type": "code",
      "metadata": {
        "id": "cVaGGDTlTghQ"
      },
      "source": [
        "def fcn_to_minimize(hps, X, y, ncv=5):\n",
        "    \"\"\"\n",
        "    Target function for optimization\n",
        "    \n",
        "    Parameters:\n",
        "    ----------------\n",
        "    hps : sample point from search space\n",
        "    X : feature matrix\n",
        "    y : target array\n",
        "    ncv : number of folds for cross-validation\n",
        "    \n",
        "    Returns:\n",
        "    ----------------\n",
        "    : target function value (negative mean cross-val score)\n",
        "    \"\"\"\n",
        "    \n",
        "    model = f_clf(hps)\n",
        "\n",
        "    # cv_res = cross_val_score(model, X, y, cv=StratifiedKFold(ncv, shuffle=True, random_state=31), \n",
        "    #                          scoring='roc_auc_ovo_weighted', n_jobs=-1)\n",
        "    \n",
        "    # cv_res = cross_val_score(model, X, y, cv=StratifiedKFold(ncv, shuffle=True, random_state=42), scoring='roc_auc_ovr_weighted', n_jobs=-1)\n",
        "    # cv_res = cross_val_score(model, X, y, cv=3, n_jobs=-1)\n",
        "    cv_res = cross_val_score(model, X, y, cv=StratifiedKFold(ncv, shuffle=True, random_state=42), n_jobs=-1)\n",
        "    if np.any(np.isnan(cv_res) ):\n",
        "      cv_res = np.array( [0.]*ncv )\n",
        "    \n",
        "    acc = cv_res.mean()\n",
        "    \n",
        "    print(cv_res)\n",
        "    print(\"Accuracy: %0.2f (+/- %0.2f)\" % (cv_res.mean(), cv_res.std() * 2))\n",
        "    return {'loss': -acc, 'status': STATUS_OK}"
      ],
      "execution_count": 122,
      "outputs": []
    },
    {
      "cell_type": "markdown",
      "metadata": {
        "id": "ylVUCDpQiAFt"
      },
      "source": [
        "### Running optimization"
      ]
    },
    {
      "cell_type": "markdown",
      "metadata": {
        "id": "5qgI0R9BiAFt"
      },
      "source": [
        "Run optimization for 100 rounds using TPE algorithm (the Tree-structured Parzen Estimator), meaning that we use TPE to suggest next sample values based on previous function evaluations. We'll use `Trials` class objects to keep track of optimization history.\n",
        "\n",
        "**Note**: We're binding `X` and `y` arguments of target function to `X1_train` and `y1_train` respectively, using `functools.partial`, since target function of `fmin` may accept only a search space point."
      ]
    },
    {
      "cell_type": "code",
      "metadata": {
        "id": "ZOqc9I5KiAFt",
        "colab": {
          "base_uri": "https://localhost:8080/"
        },
        "outputId": "dcc4d40c-e327-4ffb-e29f-454b4287cdcf"
      },
      "source": [
        "trials_clf = Trials()\n",
        "best_clf = fmin(partial(fcn_to_minimize, X=X_train_rfe, y=y_train), \n",
        "                 hp_space_clf, algo=tpe.suggest, max_evals=100, \n",
        "                 trials=trials_clf)"
      ],
      "execution_count": 123,
      "outputs": [
        {
          "output_type": "stream",
          "text": [
            "[0. 0. 0. 0. 0.]\n",
            "Accuracy: 0.00 (+/- 0.00)\n",
            "[0.7375  0.76875 0.7125  0.7625  0.75625]\n",
            "Accuracy: 0.75 (+/- 0.04)\n",
            "[0.75    0.76875 0.70625 0.7625  0.75625]\n",
            "Accuracy: 0.75 (+/- 0.04)\n",
            "[0. 0. 0. 0. 0.]\n",
            "Accuracy: 0.00 (+/- 0.00)\n",
            "[0.7375  0.76875 0.7125  0.7625  0.75625]\n",
            "Accuracy: 0.75 (+/- 0.04)\n",
            "[0. 0. 0. 0. 0.]\n",
            "Accuracy: 0.00 (+/- 0.00)\n",
            "[0.74375 0.76875 0.7125  0.7625  0.75625]\n",
            "Accuracy: 0.75 (+/- 0.04)\n",
            "[0.7375  0.76875 0.7125  0.7625  0.75625]\n",
            "Accuracy: 0.75 (+/- 0.04)\n",
            "[0. 0. 0. 0. 0.]\n",
            "Accuracy: 0.00 (+/- 0.00)\n",
            "[0.65    0.63125 0.65    0.6375  0.69375]\n",
            "Accuracy: 0.65 (+/- 0.04)\n",
            "[0.7375  0.76875 0.7125  0.7625  0.75625]\n",
            "Accuracy: 0.75 (+/- 0.04)\n",
            "[0. 0. 0. 0. 0.]\n",
            "Accuracy: 0.00 (+/- 0.00)\n",
            "[0.7375  0.76875 0.70625 0.7625  0.75625]\n",
            "Accuracy: 0.75 (+/- 0.05)\n",
            "[0.75625 0.775   0.73125 0.7625  0.7625 ]\n",
            "Accuracy: 0.76 (+/- 0.03)\n",
            "[0. 0. 0. 0. 0.]\n",
            "Accuracy: 0.00 (+/- 0.00)\n",
            "[0.6375  0.6125  0.6125  0.63125 0.65   ]\n",
            "Accuracy: 0.63 (+/- 0.03)\n",
            "[0.73125 0.76875 0.70625 0.76875 0.75625]\n",
            "Accuracy: 0.75 (+/- 0.05)\n",
            "[0. 0. 0. 0. 0.]\n",
            "Accuracy: 0.00 (+/- 0.00)\n",
            "[0. 0. 0. 0. 0.]\n",
            "Accuracy: 0.00 (+/- 0.00)\n",
            "[0.7375  0.76875 0.7125  0.7625  0.75625]\n",
            "Accuracy: 0.75 (+/- 0.04)\n",
            "[0.75    0.76875 0.70625 0.7625  0.75625]\n",
            "Accuracy: 0.75 (+/- 0.04)\n",
            "[0.75625 0.775   0.73125 0.7625  0.7625 ]\n",
            "Accuracy: 0.76 (+/- 0.03)\n",
            "[0.7375  0.76875 0.71875 0.7625  0.7625 ]\n",
            "Accuracy: 0.75 (+/- 0.04)\n",
            "[0.75    0.76875 0.70625 0.7625  0.75625]\n",
            "Accuracy: 0.75 (+/- 0.04)\n",
            "[0.7375  0.76875 0.7125  0.7625  0.75625]\n",
            "Accuracy: 0.75 (+/- 0.04)\n",
            "[0.7125  0.70625 0.73125 0.75    0.74375]\n",
            "Accuracy: 0.73 (+/- 0.03)\n",
            "[0.75625 0.775   0.73125 0.7625  0.7625 ]\n",
            "Accuracy: 0.76 (+/- 0.03)\n",
            "[0.75625 0.775   0.73125 0.7625  0.7625 ]\n",
            "Accuracy: 0.76 (+/- 0.03)\n",
            "[0.7375  0.76875 0.7125  0.7625  0.75625]\n",
            "Accuracy: 0.75 (+/- 0.04)\n",
            "[0.7375  0.76875 0.7125  0.7625  0.75625]\n",
            "Accuracy: 0.75 (+/- 0.04)\n",
            "[0.7375  0.76875 0.7125  0.7625  0.75625]\n",
            "Accuracy: 0.75 (+/- 0.04)\n",
            "[0.73125 0.76875 0.70625 0.7625  0.75625]\n",
            "Accuracy: 0.74 (+/- 0.05)\n",
            "[0.74375 0.775   0.71875 0.76875 0.7625 ]\n",
            "Accuracy: 0.75 (+/- 0.04)\n",
            "[0.7375  0.76875 0.7125  0.7625  0.75625]\n",
            "Accuracy: 0.75 (+/- 0.04)\n",
            "[0. 0. 0. 0. 0.]\n",
            "Accuracy: 0.00 (+/- 0.00)\n",
            "[0.7375  0.76875 0.7125  0.7625  0.75625]\n",
            "Accuracy: 0.75 (+/- 0.04)\n",
            "[0.7375  0.76875 0.7125  0.7625  0.75625]\n",
            "Accuracy: 0.75 (+/- 0.04)\n",
            "[0. 0. 0. 0. 0.]\n",
            "Accuracy: 0.00 (+/- 0.00)\n",
            "[0.7375  0.76875 0.70625 0.7625  0.75625]\n",
            "Accuracy: 0.75 (+/- 0.05)\n",
            "[0.7375  0.76875 0.70625 0.7625  0.75625]\n",
            "Accuracy: 0.75 (+/- 0.05)\n",
            "[0. 0. 0. 0. 0.]\n",
            "Accuracy: 0.00 (+/- 0.00)\n",
            "[0.7375  0.76875 0.7125  0.7625  0.75625]\n",
            "Accuracy: 0.75 (+/- 0.04)\n",
            "[0.7375  0.76875 0.7125  0.7625  0.75625]\n",
            "Accuracy: 0.75 (+/- 0.04)\n",
            "[0. 0. 0. 0. 0.]\n",
            "Accuracy: 0.00 (+/- 0.00)\n",
            "[0.74375 0.76875 0.70625 0.7625  0.75625]\n",
            "Accuracy: 0.75 (+/- 0.04)\n",
            "[0.7375  0.76875 0.7125  0.7625  0.75625]\n",
            "Accuracy: 0.75 (+/- 0.04)\n",
            "[0. 0. 0. 0. 0.]\n",
            "Accuracy: 0.00 (+/- 0.00)\n",
            "[0.7375  0.76875 0.7125  0.7625  0.75625]\n",
            "Accuracy: 0.75 (+/- 0.04)\n",
            "[0.75    0.75    0.74375 0.75625 0.7625 ]\n",
            "Accuracy: 0.75 (+/- 0.01)\n",
            "[0.7375  0.76875 0.7125  0.7625  0.75625]\n",
            "Accuracy: 0.75 (+/- 0.04)\n",
            "[0. 0. 0. 0. 0.]\n",
            "Accuracy: 0.00 (+/- 0.00)\n",
            "[0.7375  0.76875 0.7125  0.7625  0.75625]\n",
            "Accuracy: 0.75 (+/- 0.04)\n",
            "[0.6375  0.61875 0.61875 0.63125 0.65   ]\n",
            "Accuracy: 0.63 (+/- 0.02)\n",
            "[0.75625 0.775   0.73125 0.7625  0.7625 ]\n",
            "Accuracy: 0.76 (+/- 0.03)\n",
            "[0. 0. 0. 0. 0.]\n",
            "Accuracy: 0.00 (+/- 0.00)\n",
            "[0.7375  0.76875 0.7125  0.7625  0.75625]\n",
            "Accuracy: 0.75 (+/- 0.04)\n",
            "[0.7375  0.76875 0.70625 0.7625  0.75625]\n",
            "Accuracy: 0.75 (+/- 0.05)\n",
            "[0.65625 0.675   0.71875 0.68125 0.7125 ]\n",
            "Accuracy: 0.69 (+/- 0.05)\n",
            "[0. 0. 0. 0. 0.]\n",
            "Accuracy: 0.00 (+/- 0.00)\n",
            "[0.7375  0.76875 0.7125  0.7625  0.75625]\n",
            "Accuracy: 0.75 (+/- 0.04)\n",
            "[0.75625 0.775   0.73125 0.7625  0.7625 ]\n",
            "Accuracy: 0.76 (+/- 0.03)\n",
            "[0.65    0.6625  0.6875  0.66875 0.7    ]\n",
            "Accuracy: 0.67 (+/- 0.04)\n",
            "[0.7375  0.76875 0.7125  0.7625  0.75625]\n",
            "Accuracy: 0.75 (+/- 0.04)\n",
            "[0. 0. 0. 0. 0.]\n",
            "Accuracy: 0.00 (+/- 0.00)\n",
            "[0.7375  0.76875 0.70625 0.76875 0.75625]\n",
            "Accuracy: 0.75 (+/- 0.05)\n",
            "[0.75625 0.775   0.73125 0.7625  0.7625 ]\n",
            "Accuracy: 0.76 (+/- 0.03)\n",
            "[0.7375  0.76875 0.7125  0.7625  0.75625]\n",
            "Accuracy: 0.75 (+/- 0.04)\n",
            "[0.75    0.76875 0.70625 0.7625  0.75625]\n",
            "Accuracy: 0.75 (+/- 0.04)\n",
            "[0.7375  0.76875 0.70625 0.7625  0.75625]\n",
            "Accuracy: 0.75 (+/- 0.05)\n",
            "[0.74375 0.775   0.71875 0.76875 0.7625 ]\n",
            "Accuracy: 0.75 (+/- 0.04)\n",
            "[0.75625 0.775   0.73125 0.7625  0.7625 ]\n",
            "Accuracy: 0.76 (+/- 0.03)\n",
            "[0.7375  0.76875 0.7125  0.7625  0.75625]\n",
            "Accuracy: 0.75 (+/- 0.04)\n",
            "[0.7375  0.76875 0.7125  0.7625  0.75625]\n",
            "Accuracy: 0.75 (+/- 0.04)\n",
            "[0.7375  0.76875 0.7125  0.7625  0.75625]\n",
            "Accuracy: 0.75 (+/- 0.04)\n",
            "[0.7375  0.76875 0.7125  0.7625  0.75625]\n",
            "Accuracy: 0.75 (+/- 0.04)\n",
            "[0.7375  0.76875 0.7125  0.7625  0.75625]\n",
            "Accuracy: 0.75 (+/- 0.04)\n",
            "[0.7375  0.76875 0.7125  0.7625  0.75625]\n",
            "Accuracy: 0.75 (+/- 0.04)\n",
            "[0.75    0.76875 0.70625 0.7625  0.75625]\n",
            "Accuracy: 0.75 (+/- 0.04)\n",
            "[0.7375  0.76875 0.7125  0.7625  0.75625]\n",
            "Accuracy: 0.75 (+/- 0.04)\n",
            "[0. 0. 0. 0. 0.]\n",
            "Accuracy: 0.00 (+/- 0.00)\n",
            "[0.7375  0.76875 0.7125  0.7625  0.75625]\n",
            "Accuracy: 0.75 (+/- 0.04)\n",
            "[0.71875 0.7125  0.725   0.75    0.75625]\n",
            "Accuracy: 0.73 (+/- 0.03)\n",
            "[0.7375  0.76875 0.7125  0.7625  0.75625]\n",
            "Accuracy: 0.75 (+/- 0.04)\n",
            "[0. 0. 0. 0. 0.]\n",
            "Accuracy: 0.00 (+/- 0.00)\n",
            "[0.75625 0.775   0.73125 0.7625  0.7625 ]\n",
            "Accuracy: 0.76 (+/- 0.03)\n",
            "[0.7375  0.76875 0.7125  0.7625  0.75625]\n",
            "Accuracy: 0.75 (+/- 0.04)\n",
            "[0.7375  0.76875 0.7125  0.7625  0.75625]\n",
            "Accuracy: 0.75 (+/- 0.04)\n",
            "[0.7375  0.76875 0.7125  0.7625  0.75625]\n",
            "Accuracy: 0.75 (+/- 0.04)\n",
            "[0. 0. 0. 0. 0.]\n",
            "Accuracy: 0.00 (+/- 0.00)\n",
            "[0.7375  0.76875 0.7125  0.7625  0.75625]\n",
            "Accuracy: 0.75 (+/- 0.04)\n",
            "[0.74375 0.775   0.71875 0.76875 0.7625 ]\n",
            "Accuracy: 0.75 (+/- 0.04)\n",
            "[0.7375  0.76875 0.7125  0.7625  0.75625]\n",
            "Accuracy: 0.75 (+/- 0.04)\n",
            "[0.7375  0.76875 0.7125  0.7625  0.75625]\n",
            "Accuracy: 0.75 (+/- 0.04)\n",
            "[0. 0. 0. 0. 0.]\n",
            "Accuracy: 0.00 (+/- 0.00)\n",
            "[0.7375  0.76875 0.7125  0.7625  0.75625]\n",
            "Accuracy: 0.75 (+/- 0.04)\n",
            "[0.7375  0.76875 0.7125  0.7625  0.75625]\n",
            "Accuracy: 0.75 (+/- 0.04)\n",
            "[0. 0. 0. 0. 0.]\n",
            "Accuracy: 0.00 (+/- 0.00)\n",
            "[0.7375  0.76875 0.70625 0.7625  0.75625]\n",
            "Accuracy: 0.75 (+/- 0.05)\n",
            "[0.7375  0.76875 0.7125  0.7625  0.75625]\n",
            "Accuracy: 0.75 (+/- 0.04)\n",
            "[0.7375  0.76875 0.70625 0.7625  0.75625]\n",
            "Accuracy: 0.75 (+/- 0.05)\n",
            "100%|██████████| 100/100 [00:05<00:00, 19.72it/s, best loss: -0.7575000000000001]\n"
          ],
          "name": "stdout"
        }
      ]
    },
    {
      "cell_type": "code",
      "metadata": {
        "id": "wDTMnBjKiAFt",
        "colab": {
          "base_uri": "https://localhost:8080/"
        },
        "outputId": "65674530-0000-4396-c332-d11ae954df63"
      },
      "source": [
        "# Best parameters from Hyperopt\n",
        "print(space_eval(hp_space_clf, best_clf))\n",
        "\n",
        "print('Best parameters from Hyperopt: \\n')\n",
        "best_clf\n",
        "\n",
        "# NOTE: the hp.choice gives the index of the choice, so for example: max_feature: 1 -> This means the index = 1 in the list of  choices."
      ],
      "execution_count": 125,
      "outputs": [
        {
          "output_type": "stream",
          "text": [
            "{'clf': {'priors': None, 'var_smoothing': 0.0657933224657568}}\n",
            "Best parameters from Hyperopt: \n",
            "\n"
          ],
          "name": "stdout"
        },
        {
          "output_type": "execute_result",
          "data": {
            "text/plain": [
              "{'priors': 0, 'var_smoothing': 13}"
            ]
          },
          "metadata": {
            "tags": []
          },
          "execution_count": 125
        }
      ]
    },
    {
      "cell_type": "markdown",
      "metadata": {
        "id": "MZRRJwB-iRhZ"
      },
      "source": [
        "### Model performance on test set"
      ]
    },
    {
      "cell_type": "code",
      "metadata": {
        "id": "BteFmknTiRhZ",
        "colab": {
          "base_uri": "https://localhost:8080/"
        },
        "outputId": "c819b68e-91ba-4d91-86eb-68afa65e546c"
      },
      "source": [
        "# Building and fitting classifier with best parameters\n",
        "clf = f_clf( space_eval(hp_space_clf, best_clf) ).fit(X_train_rfe, y_train)\n",
        "\n",
        "# Calculating performance on test set\n",
        "predictions = clf.predict(X_test_rfe)\n",
        "\n",
        "print(\"Confusion Matrix:\")\n",
        "print(confusion_matrix(y_test, predictions))\n",
        "\n",
        "print(\"Classification Report:\")\n",
        "print(classification_report(y_test, predictions))\n",
        "\n",
        "print('Best parameters:')\n",
        "print(space_eval(hp_space_clf, best_clf))"
      ],
      "execution_count": 126,
      "outputs": [
        {
          "output_type": "stream",
          "text": [
            "Confusion Matrix:\n",
            "[[124   0   0   0   0]\n",
            " [ 32  17   1   0   0]\n",
            " [  0   4   9   3   0]\n",
            " [  0   0   1   7   0]\n",
            " [  0   0   0   0   2]]\n",
            "Classification Report:\n",
            "              precision    recall  f1-score   support\n",
            "\n",
            "           0       0.79      1.00      0.89       124\n",
            "           1       0.81      0.34      0.48        50\n",
            "           2       0.82      0.56      0.67        16\n",
            "           3       0.70      0.88      0.78         8\n",
            "           4       1.00      1.00      1.00         2\n",
            "\n",
            "    accuracy                           0.80       200\n",
            "   macro avg       0.82      0.76      0.76       200\n",
            "weighted avg       0.80      0.80      0.76       200\n",
            "\n",
            "Best parameters:\n",
            "{'clf': {'priors': None, 'var_smoothing': 0.0657933224657568}}\n"
          ],
          "name": "stdout"
        }
      ]
    },
    {
      "cell_type": "code",
      "metadata": {
        "id": "WSBH_LrH9iKl",
        "colab": {
          "base_uri": "https://localhost:8080/"
        },
        "outputId": "455ec6e9-b4f9-4816-f539-3a4c02c276bc"
      },
      "source": [
        "# Best trial\n",
        "print('Score from Best trial: ', -trials_clf.best_trial['result']['loss'] )"
      ],
      "execution_count": 127,
      "outputs": [
        {
          "output_type": "stream",
          "text": [
            "Score from Best trial:  0.7575000000000001\n"
          ],
          "name": "stdout"
        }
      ]
    },
    {
      "cell_type": "code",
      "metadata": {
        "id": "gYk6hdijDGa3",
        "colab": {
          "base_uri": "https://localhost:8080/"
        },
        "outputId": "f42a3492-d4eb-473b-8183-55091702f0ac"
      },
      "source": [
        "# Accuracy score\n",
        "print('Accuracy score of the model on test set (using predict() ): ', accuracy_score(y_test, predictions) )"
      ],
      "execution_count": 128,
      "outputs": [
        {
          "output_type": "stream",
          "text": [
            "Accuracy score of the model on test set (using predict() ):  0.795\n"
          ],
          "name": "stdout"
        }
      ]
    },
    {
      "cell_type": "code",
      "metadata": {
        "id": "12YQfi5XDfpI",
        "colab": {
          "base_uri": "https://localhost:8080/"
        },
        "outputId": "22f67e44-0aaa-465d-8546-1c19ef20ab21"
      },
      "source": [
        "# Accuracy score using predict_proba\n",
        "pred_prob_y_test = clf.predict_proba(X_test_rfe)\n",
        "preds = np.argmax(pred_prob_y_test, axis=1)\n",
        "\n",
        "print('Accuracy score on test set (using predict_proba() ): ')\n",
        "accuracy_score(y_test, preds)"
      ],
      "execution_count": 129,
      "outputs": [
        {
          "output_type": "stream",
          "text": [
            "Accuracy score on test set (using predict_proba() ): \n"
          ],
          "name": "stdout"
        },
        {
          "output_type": "execute_result",
          "data": {
            "text/plain": [
              "0.795"
            ]
          },
          "metadata": {
            "tags": []
          },
          "execution_count": 129
        }
      ]
    },
    {
      "cell_type": "markdown",
      "metadata": {
        "id": "Zcdrwv4AiRhi"
      },
      "source": [
        "Test set accuracy and cross-validation scores are consistent."
      ]
    },
    {
      "cell_type": "markdown",
      "metadata": {
        "id": "EeWTyH43jX-I"
      },
      "source": [
        "**NOTE: The accuracy score from the use of Hyperopt is equal to that of GridSearchCV (0.795 and 0.795).**"
      ]
    }
  ]
}